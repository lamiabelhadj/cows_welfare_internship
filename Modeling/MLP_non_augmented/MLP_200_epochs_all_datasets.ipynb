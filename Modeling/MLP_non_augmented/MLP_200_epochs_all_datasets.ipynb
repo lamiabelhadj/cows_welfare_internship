{
  "cells": [
    {
      "cell_type": "code",
      "execution_count": 1,
      "id": "8b8a822a",
      "metadata": {
        "id": "8b8a822a"
      },
      "outputs": [
        {
          "name": "stderr",
          "output_type": "stream",
          "text": [
            "c:\\Users\\lamia\\anaconda3\\Lib\\site-packages\\pandas\\core\\arrays\\masked.py:60: UserWarning: Pandas requires version '1.3.6' or newer of 'bottleneck' (version '1.3.5' currently installed).\n",
            "  from pandas.core import (\n"
          ]
        }
      ],
      "source": [
        "import torch\n",
        "import torch.nn as nn\n",
        "import torch.optim as optim\n",
        "import torch.nn.functional as F\n",
        "from torch.utils.data import DataLoader, TensorDataset\n",
        "from sklearn.model_selection import train_test_split\n",
        "from sklearn.preprocessing import StandardScaler\n",
        "from sklearn.metrics import classification_report, confusion_matrix, f1_score, precision_recall_fscore_support\n",
        "from sklearn.utils.class_weight import compute_class_weight\n",
        "import pandas as pd\n",
        "import numpy as np\n",
        "import seaborn as sns\n",
        "import matplotlib.pyplot as plt\n",
        "from tqdm import tqdm\n",
        "import warnings\n",
        "warnings.filterwarnings('ignore')\n",
        "\n",
        "# ===========================\n",
        "# 📌 Preprocessing\n",
        "# ===========================\n",
        "def preprocess_dataset(df, label_cols, drop_cols=None):\n",
        "    df = df.copy()\n",
        "    y = df[label_cols].values.argmax(axis=1)\n",
        "    if drop_cols is None:\n",
        "        drop_cols = []\n",
        "    X = df.drop(columns=label_cols + drop_cols)\n",
        "    scaler = StandardScaler()\n",
        "    X_scaled = scaler.fit_transform(X)\n",
        "    return X_scaled, y, scaler\n",
        "\n",
        "# ===========================\n",
        "# ⚖️ Class Weights\n",
        "# ===========================\n",
        "def compute_class_weights(y, num_classes, method='balanced'):\n",
        "    if method == 'balanced':\n",
        "        weights = compute_class_weight('balanced', classes=np.arange(num_classes), y=y)\n",
        "    elif method == 'inverse':\n",
        "        class_counts = np.bincount(y)\n",
        "        weights = 1. / (class_counts + 1e-5)\n",
        "    else:\n",
        "        weights = np.ones(num_classes)\n",
        "    return torch.tensor(weights, dtype=torch.float32)\n",
        "\n",
        "# ===========================\n",
        "# 🔄 Dataloaders\n",
        "# ===========================\n",
        "def create_dataloaders(X, y, test_size=0.2, val_size=0.1, batch_size=64, random_state=42):\n",
        "    X_train_val, X_test, y_train_val, y_test = train_test_split(\n",
        "        X, y, test_size=test_size, random_state=random_state, stratify=y)\n",
        "    val_relative_size = val_size / (1 - test_size)\n",
        "    X_train, X_val, y_train, y_val = train_test_split(\n",
        "        X_train_val, y_train_val, test_size=val_relative_size, stratify=y_train_val)\n",
        "\n",
        "    def to_tensor_dataset(X, y):\n",
        "        return TensorDataset(torch.tensor(X, dtype=torch.float32), torch.tensor(y, dtype=torch.long))\n",
        "\n",
        "    return (DataLoader(to_tensor_dataset(X_train, y_train), batch_size=batch_size, shuffle=True),\n",
        "            DataLoader(to_tensor_dataset(X_val, y_val), batch_size=batch_size),\n",
        "            DataLoader(to_tensor_dataset(X_test, y_test), batch_size=batch_size))\n",
        "\n",
        "# ===========================\n",
        "# 🧠 MLP Model\n",
        "# ===========================\n",
        "class CowHealthMLP(nn.Module):\n",
        "    def __init__(self, input_dim, hidden_dims=[256, 128, 64], num_classes=6,\n",
        "                 dropout_rates=[0.4, 0.3, 0.2], activation='relu', use_batchnorm=True):\n",
        "        super().__init__()\n",
        "        layers = []\n",
        "        prev_dim = input_dim\n",
        "        for h_dim, dropout in zip(hidden_dims, dropout_rates):\n",
        "            layers.append(nn.Linear(prev_dim, h_dim))\n",
        "            if use_batchnorm:\n",
        "                layers.append(nn.BatchNorm1d(h_dim))\n",
        "            layers.append({'relu': nn.ReLU(), 'leakyrelu': nn.LeakyReLU(0.1), 'gelu': nn.GELU()}[activation])\n",
        "            layers.append(nn.Dropout(dropout))\n",
        "            prev_dim = h_dim\n",
        "        layers.append(nn.Linear(prev_dim, num_classes))\n",
        "        self.model = nn.Sequential(*layers)\n",
        "\n",
        "    def forward(self, x):\n",
        "        return self.model(x)\n",
        "\n",
        "# ===========================\n",
        "# 🔥 Focal Loss (optional)\n",
        "# ===========================\n",
        "class FocalLoss(nn.Module):\n",
        "    def __init__(self, gamma=2.0, weight=None, reduction='mean'):\n",
        "        super(FocalLoss, self).__init__()\n",
        "        self.gamma = gamma\n",
        "        self.weight = weight\n",
        "        self.reduction = reduction\n",
        "\n",
        "    def forward(self, input, target):\n",
        "        log_prob = F.log_softmax(input, dim=1)\n",
        "        prob = torch.exp(log_prob)\n",
        "        focal_weight = (1 - prob).pow(self.gamma)\n",
        "        return F.nll_loss(focal_weight * log_prob, target, weight=self.weight, reduction=self.reduction)\n",
        "\n",
        "# ===========================\n",
        "# 🌡️ Temperature Scaling\n",
        "# ===========================\n",
        "def apply_temperature_scaling(logits, temperature=1.0):\n",
        "    return logits / temperature\n",
        "\n",
        "# ===========================\n",
        "# 🎯 Threshold Tuning\n",
        "# ===========================\n",
        "def find_best_thresholds(probabilities, labels, num_classes):\n",
        "    thresholds = np.linspace(0.1, 0.9, 9)\n",
        "    best_thresholds = np.zeros(num_classes)\n",
        "    for class_idx in range(num_classes):\n",
        "        best_f1, best_thresh = 0, 0.5\n",
        "        for thresh in thresholds:\n",
        "            preds = (np.array(probabilities)[:, class_idx] > thresh).astype(int)\n",
        "            true = (np.array(labels) == class_idx).astype(int)\n",
        "            f1 = f1_score(true, preds)\n",
        "            if f1 > best_f1:\n",
        "                best_f1, best_thresh = f1, thresh\n",
        "        best_thresholds[class_idx] = best_thresh\n",
        "    return best_thresholds\n",
        "\n",
        "# ===========================\n",
        "# 📊 Metric Plots\n",
        "# ===========================\n",
        "def plot_per_class_metrics(all_labels, all_preds, label_names):\n",
        "    precision, recall, f1, _ = precision_recall_fscore_support(all_labels, all_preds, labels=range(len(label_names)))\n",
        "    x = range(len(label_names))\n",
        "    plt.figure(figsize=(12, 5))\n",
        "    width = 0.25\n",
        "    plt.bar([p - width for p in x], precision, width=width, label='Precision')\n",
        "    plt.bar(x, recall, width=width, label='Recall')\n",
        "    plt.bar([p + width for p in x], f1, width=width, label='F1-score')\n",
        "    plt.xticks(ticks=x, labels=label_names, rotation=45, ha='right')\n",
        "    plt.title(\"Per-Class Precision, Recall, and F1-score\")\n",
        "    plt.ylabel(\"Score\")\n",
        "    plt.ylim(0, 1)\n",
        "    plt.grid(True)\n",
        "    plt.legend()\n",
        "    plt.tight_layout()\n",
        "    plt.show()\n",
        "\n",
        "# ===========================\n",
        "# 🧾 Global F1 Scores\n",
        "# ===========================\n",
        "def print_f1_summary(all_labels, all_preds):\n",
        "    macro = f1_score(all_labels, all_preds, average='macro')\n",
        "    weighted = f1_score(all_labels, all_preds, average='weighted')\n",
        "    print(f\"\\n🔍 Macro F1 Score: {macro:.4f}\")\n",
        "    print(f\"🔍 Weighted F1 Score: {weighted:.4f}\")\n",
        "    return macro, weighted\n"
      ]
    },
    {
      "cell_type": "code",
      "execution_count": 2,
      "id": "YzdOMv77113b",
      "metadata": {
        "colab": {
          "base_uri": "https://localhost:8080/",
          "height": 1000
        },
        "id": "YzdOMv77113b",
        "outputId": "8f288b8d-3c74-43fc-828c-fc1744554b63"
      },
      "outputs": [
        {
          "name": "stdout",
          "output_type": "stream",
          "text": [
            "\n",
            "[One-hot distribution (argmax, raw)]\n",
            "OK               88196\n",
            "calving            793\n",
            "lameness           428\n",
            "mastitis           536\n",
            "oestrus           3505\n",
            "other_disease      898\n",
            "Name: count, dtype: int64\n",
            "[One-hot sanity] all_zero=0, multi_hot=0, any_nan=0\n"
          ]
        },
        {
          "name": "stderr",
          "output_type": "stream",
          "text": [
            "Training:  78%|███████▊  | 155/200 [1:00:47<17:38, 23.53s/it]"
          ]
        },
        {
          "name": "stdout",
          "output_type": "stream",
          "text": [
            "\n",
            "Early stopping at epoch 156\n"
          ]
        },
        {
          "name": "stderr",
          "output_type": "stream",
          "text": [
            "\n"
          ]
        },
        {
          "data": {
            "image/png": "[encoded data removed]",
            "text/plain": [
              "<Figure size 1200x500 with 2 Axes>"
            ]
          },
          "metadata": {},
          "output_type": "display_data"
        },
        {
          "name": "stdout",
          "output_type": "stream",
          "text": [
            "✓ Learned temperature on validation: T = 0.678\n",
            "\n",
            "[One-hot distribution (argmax, raw)]\n",
            "OK               9800\n",
            "calving            88\n",
            "lameness           47\n",
            "mastitis           60\n",
            "oestrus           390\n",
            "other_disease     100\n",
            "Name: count, dtype: int64\n",
            "[One-hot sanity] all_zero=0, multi_hot=0, any_nan=0\n",
            "\n",
            "📊 Holdout Classification Report\n",
            "               precision    recall  f1-score   support\n",
            "\n",
            "      oestrus       0.09      0.69      0.16       390\n",
            "      calving       0.12      0.94      0.22        88\n",
            "     lameness       0.07      1.00      0.13        47\n",
            "     mastitis       0.08      0.97      0.14        60\n",
            "other_disease       0.10      0.96      0.18       100\n",
            "           OK       0.98      0.44      0.61      9800\n",
            "\n",
            "     accuracy                           0.47     10485\n",
            "    macro avg       0.24      0.83      0.24     10485\n",
            " weighted avg       0.93      0.47      0.58     10485\n",
            "\n"
          ]
        },
        {
          "data": {
            "image/png": "[encoded data removed]",
            "text/plain": [
              "<Figure size 800x350 with 1 Axes>"
            ]
          },
          "metadata": {},
          "output_type": "display_data"
        },
        {
          "data": {
            "image/png": "[encoded data removed]",
            "text/plain": [
              "<Figure size 600x500 with 2 Axes>"
            ]
          },
          "metadata": {},
          "output_type": "display_data"
        },
        {
          "name": "stdout",
          "output_type": "stream",
          "text": [
            "\n",
            "Summary:\n",
            "  Accuracy      : 0.4654\n",
            "  F1 (macro)    : 0.2395\n",
            "  F1 (weighted) : 0.5805\n",
            "Unique predicted classes on HOLDOUT: [0 1 2 3 4 5]\n"
          ]
        }
      ],
      "source": [
        "# -*- coding: utf-8 -*-\n",
        "# Robust MLP pipeline with label cleaning (NaN + all-zero handling),\n",
        "# target/one-hot auto-detection, feature alignment, focal loss, temp scaling.\n",
        "\n",
        "import os, math, random, warnings\n",
        "from pathlib import Path\n",
        "import numpy as np\n",
        "import pandas as pd\n",
        "\n",
        "import torch\n",
        "import torch.nn as nn\n",
        "import torch.optim as optim\n",
        "from torch.utils.data import DataLoader, TensorDataset\n",
        "\n",
        "from sklearn.model_selection import train_test_split\n",
        "from sklearn.preprocessing import StandardScaler\n",
        "from sklearn.metrics import (classification_report, confusion_matrix,\n",
        "                             f1_score, precision_recall_fscore_support,\n",
        "                             accuracy_score)\n",
        "from sklearn.utils.class_weight import compute_class_weight\n",
        "\n",
        "import matplotlib.pyplot as plt\n",
        "try:\n",
        "    from tqdm import tqdm\n",
        "except Exception:\n",
        "    def tqdm(x, **k): return x\n",
        "\n",
        "warnings.filterwarnings(\"ignore\")\n",
        "\n",
        "# ======================= CONFIG =======================\n",
        "INCLUDE_CALVING = True          # 6 classes with 'calving'; set False for 5 classes (calving rows removed)\n",
        "PREFER_TARGET_COLUMN = True     # use df['target'] if valid (0..C-1)\n",
        "ALL_ZERO_POLICY = \"drop\"        # 'drop' | 'map_to_ok' | 'error'\n",
        "NAN_POLICY = \"drop\"             # 'drop' | 'error'\n",
        "\n",
        "TRAINVAL_PATH = Path(r\"C:/Users/lamia/Downloads/final_selected_dataset1_trainval.csv\")\n",
        "HOLDOUT_PATH  = Path(r\"C:/Users/lamia/Downloads/final_selected_dataset1_holdout.csv\")\n",
        "\n",
        "SEED = 42\n",
        "VAL_SIZE = 0.2\n",
        "\n",
        "HIDDEN_DIMS = [512, 256, 128]\n",
        "DROPOUTS    = [0.5, 0.4, 0.3]\n",
        "ACTIVATION  = 'leakyrelu'\n",
        "USE_BN      = True\n",
        "\n",
        "BATCH_SIZE   = 128\n",
        "LR           = 5e-4\n",
        "WEIGHT_DECAY = 1e-4\n",
        "EPOCHS       = 200\n",
        "PATIENCE     = 30\n",
        "MIN_DELTA    = 1e-3\n",
        "USE_FOCAL    = True\n",
        "LEARN_TEMP   = True\n",
        "\n",
        "# ======================= UTILS =======================\n",
        "def set_seed(seed=42):\n",
        "    random.seed(seed); np.random.seed(seed); torch.manual_seed(seed)\n",
        "    torch.cuda.manual_seed_all(seed)\n",
        "    torch.backends.cudnn.deterministic = True\n",
        "    torch.backends.cudnn.benchmark = False\n",
        "\n",
        "def freeze_label_order(include_calving=True):\n",
        "    if include_calving:\n",
        "        label_cols = ['oestrus','calving','lameness','mastitis','other_disease','OK']\n",
        "    else:\n",
        "        label_cols = ['oestrus','calving','lameness','mastitis','other_disease','OK']\n",
        "    idx2name = {i: c for i, c in enumerate(label_cols)}\n",
        "    name2idx = {c: i for i, c in enumerate(label_cols)}\n",
        "    return label_cols, idx2name, name2idx\n",
        "\n",
        "def optionally_drop_calving(df, include_calving: bool):\n",
        "    df = df.copy()\n",
        "    if include_calving:\n",
        "        return df\n",
        "    if 'calving' in df.columns:\n",
        "        before = len(df)\n",
        "        df = df[df['calving'] == 0].copy()\n",
        "        print(f\"[INFO] Removed {before-len(df)} rows with calving==1 for 5-class setup.\")\n",
        "    return df\n",
        "\n",
        "def _validate_target_column(df, n_classes):\n",
        "    if 'target' not in df.columns:\n",
        "        return False\n",
        "    col = df['target']\n",
        "    if col.isna().any():\n",
        "        return False\n",
        "    vals = col.astype(float)\n",
        "    if not np.all(np.isfinite(vals)): return False\n",
        "    if not np.all(np.equal(vals, np.floor(vals))): return False\n",
        "    vals = vals.astype(int)\n",
        "    if (vals.min() < 0) or (vals.max() >= n_classes): return False\n",
        "    return True\n",
        "\n",
        "def _one_hot_sanity(df, label_cols):\n",
        "    sub = df[label_cols].astype(float)\n",
        "    row_sums = sub.sum(axis=1)\n",
        "    bad_all_zero  = int((row_sums == 0).sum())\n",
        "    bad_multi_hot = int((row_sums > 1.0 + 1e-9).sum())\n",
        "    bad_nans      = int(sub.isna().any(axis=1).sum())\n",
        "    dist = sub.idxmax(axis=1).value_counts(dropna=False).sort_index()\n",
        "    return bad_all_zero, bad_multi_hot, bad_nans, dist\n",
        "\n",
        "def extract_labels(df, label_cols, all_zero_policy=\"drop\", nan_policy=\"drop\", prefer_target=True):\n",
        "    \"\"\"\n",
        "    Returns:\n",
        "      y (np.ndarray[int]),\n",
        "      df_clean (df after cleaning according to policies),\n",
        "      info (dict)\n",
        "    \"\"\"\n",
        "    df = df.copy()\n",
        "    n_classes = len(label_cols)\n",
        "\n",
        "    # Prefer integer target if valid\n",
        "    if prefer_target and _validate_target_column(df, n_classes):\n",
        "        y = df['target'].astype(int).values\n",
        "        return y, df, {\"used\": \"target\"}\n",
        "\n",
        "    # Else use one-hot\n",
        "    for c in label_cols:\n",
        "        if c not in df.columns:\n",
        "            raise ValueError(f\"Missing label column '{c}' in dataframe.\")\n",
        "\n",
        "    bad_zero, bad_multi, bad_nan, dist = _one_hot_sanity(df, label_cols)\n",
        "    print(\"\\n[One-hot distribution (argmax, raw)]\")\n",
        "    print(dist)\n",
        "    print(f\"[One-hot sanity] all_zero={bad_zero}, multi_hot={bad_multi}, any_nan={bad_nan}\")\n",
        "\n",
        "    if bad_multi > 0:\n",
        "        raise ValueError(\"Labels must be strictly one-hot (found multi-hot rows). Please fix source data.\")\n",
        "\n",
        "    # Handle NaNs\n",
        "    if bad_nan > 0:\n",
        "        if nan_policy == \"error\":\n",
        "            raise ValueError(f\"Found {bad_nan} NaN in label columns. Set NAN_POLICY='drop' to drop those rows.\")\n",
        "        elif nan_policy == \"drop\":\n",
        "            before = len(df)\n",
        "            mask = ~df[label_cols].isna().any(axis=1)\n",
        "            df = df.loc[mask].copy()\n",
        "            print(f\"[INFO] Dropped {before-len(df)} rows with NaN in label columns.\")\n",
        "        else:\n",
        "            raise ValueError(\"NAN_POLICY must be 'drop' or 'error'.\")\n",
        "\n",
        "    # Recompute after NaN drop\n",
        "    bad_zero, bad_multi, bad_nan, _ = _one_hot_sanity(df, label_cols)\n",
        "    assert bad_multi == 0 and bad_nan == 0, \"Internal: NaN/multi-hot not resolved.\"\n",
        "\n",
        "    # Handle all-zero rows\n",
        "    if bad_zero > 0:\n",
        "        if all_zero_policy == \"error\":\n",
        "            raise ValueError(f\"Found {bad_zero} all-zero label rows; use ALL_ZERO_POLICY='drop' or 'map_to_ok'.\")\n",
        "        elif all_zero_policy == \"drop\":\n",
        "            before = len(df)\n",
        "            mask = df[label_cols].sum(axis=1) > 0\n",
        "            df = df.loc[mask].copy()\n",
        "            print(f\"[INFO] Dropped {before-len(df)} rows with all-zero labels.\")\n",
        "        elif all_zero_policy == \"map_to_ok\":\n",
        "            if 'OK' not in label_cols:\n",
        "                raise ValueError(\"'map_to_ok' selected but 'OK' not in label_cols.\")\n",
        "            mask_zero = df[label_cols].sum(axis=1) == 0\n",
        "            df.loc[mask_zero, 'OK'] = 1.0\n",
        "            print(f\"[INFO] Mapped {int(mask_zero.sum())} all-zero rows to OK=1.\")\n",
        "        else:\n",
        "            raise ValueError(\"ALL_ZERO_POLICY must be 'drop' | 'map_to_ok' | 'error'.\")\n",
        "\n",
        "    # Final check & y\n",
        "    bad_zero, bad_multi, bad_nan, _ = _one_hot_sanity(df, label_cols)\n",
        "    assert bad_zero == 0 and bad_multi == 0 and bad_nan == 0, \"Internal: labels still invalid after cleaning.\"\n",
        "    y = df[label_cols].astype(float).values.argmax(axis=1)\n",
        "    return y, df, {\"used\": \"one_hot\"}\n",
        "\n",
        "def ensure_feature_alignment(df, feature_names):\n",
        "    missing = [c for c in feature_names if c not in df.columns]\n",
        "    for c in missing:\n",
        "        df[c] = 0.0\n",
        "    return df[feature_names].astype(float)\n",
        "\n",
        "# ======================= MODEL =======================\n",
        "class CowHealthMLP(nn.Module):\n",
        "    def __init__(self, input_dim, hidden_dims, num_classes,\n",
        "                 dropout_rates=None, activation='relu', use_batchnorm=True):\n",
        "        super().__init__()\n",
        "        if dropout_rates is None: dropout_rates = [0.4] * len(hidden_dims)\n",
        "        act_map = {\n",
        "            'relu': nn.ReLU, 'leakyrelu': lambda: nn.LeakyReLU(0.1),\n",
        "            'gelu': nn.GELU, 'elu': nn.ELU\n",
        "        }\n",
        "        Act = act_map.get(activation.lower(), nn.ReLU)\n",
        "\n",
        "        layers = []\n",
        "        prev = input_dim\n",
        "        for h, dr in zip(hidden_dims, dropout_rates):\n",
        "            layers.append(nn.Linear(prev, h))\n",
        "            if use_batchnorm: layers.append(nn.BatchNorm1d(h))\n",
        "            layers.append(Act())\n",
        "            if dr and dr > 0: layers.append(nn.Dropout(dr))\n",
        "            prev = h\n",
        "        layers.append(nn.Linear(prev, num_classes))\n",
        "        self.net = nn.Sequential(*layers)\n",
        "\n",
        "        for m in self.modules():\n",
        "            if isinstance(m, nn.Linear):\n",
        "                nn.init.xavier_uniform_(m.weight)\n",
        "                if m.bias is not None: nn.init.zeros_(m.bias)\n",
        "\n",
        "    def forward(self, x): return self.net(x)\n",
        "\n",
        "class FocalLoss(nn.Module):\n",
        "    def __init__(self, weight=None, gamma=2.0, reduction='mean'):\n",
        "        super().__init__()\n",
        "        self.weight = weight; self.gamma = gamma; self.reduction = reduction\n",
        "    def forward(self, logits, target):\n",
        "        ce = nn.functional.cross_entropy(logits, target, weight=self.weight, reduction='none')\n",
        "        pt = torch.softmax(logits, dim=1).gather(1, target.view(-1,1)).squeeze(1).clamp(1e-6, 1-1e-6)\n",
        "        loss = ((1 - pt) ** self.gamma) * ce\n",
        "        return loss.mean() if self.reduction == 'mean' else loss.sum()\n",
        "\n",
        "class _TempScaler(nn.Module):\n",
        "    def __init__(self, init_T=1.0):\n",
        "        super().__init__()\n",
        "        self.logT = nn.Parameter(torch.tensor([math.log(init_T)], dtype=torch.float32))\n",
        "    def forward(self, logits): return logits / torch.exp(self.logT)\n",
        "    @property\n",
        "    def T(self): return float(torch.exp(self.logT).item())\n",
        "\n",
        "def learn_temperature(model, val_loader, init_T=1.0, max_iter=100, lr=0.01, weight=None):\n",
        "    model.eval()\n",
        "    temp = _TempScaler(init_T)\n",
        "    opt = optim.LBFGS(temp.parameters(), lr=lr, max_iter=max_iter)\n",
        "    loss_fn = nn.CrossEntropyLoss(weight=weight)\n",
        "    with torch.no_grad():\n",
        "        logits_list, labels_list = [], []\n",
        "        for xb, yb in val_loader:\n",
        "            logits_list.append(model(xb))\n",
        "            labels_list.append(yb)\n",
        "        logits = torch.cat(logits_list, 0)\n",
        "        labels = torch.cat(labels_list, 0)\n",
        "    def closure():\n",
        "        opt.zero_grad()\n",
        "        loss = loss_fn(temp(logits), labels)\n",
        "        loss.backward()\n",
        "        return loss\n",
        "    opt.step(closure)\n",
        "    return temp.T\n",
        "\n",
        "# ======================= DATA & TRAIN =======================\n",
        "def split_fit_scaler(df, label_cols, drop_cols=None, val_size=0.2 , random_state=42):\n",
        "    df = df.copy()\n",
        "    y, df_clean, _ = extract_labels(\n",
        "        df, label_cols,\n",
        "        all_zero_policy=ALL_ZERO_POLICY,\n",
        "        nan_policy=NAN_POLICY,\n",
        "        prefer_target=PREFER_TARGET_COLUMN\n",
        "    )\n",
        "\n",
        "    feature_df = df_clean.drop(columns=(drop_cols or []) + label_cols + (['target'] if 'target' in df_clean.columns else []))\n",
        "    feature_names = feature_df.columns.tolist()\n",
        "\n",
        "    X_train, X_val, y_train, y_val = train_test_split(\n",
        "        feature_df.values, y, test_size=val_size, random_state=random_state, stratify=y\n",
        "    )\n",
        "    scaler = StandardScaler().fit(X_train)\n",
        "    X_train = scaler.transform(X_train)\n",
        "    X_val   = scaler.transform(X_val)\n",
        "    return X_train, y_train, X_val, y_val, scaler, feature_names\n",
        "\n",
        "def make_loaders_from_arrays(X_train, y_train, X_val, y_val, batch_size=128):\n",
        "    def td(x, y): return TensorDataset(torch.tensor(x, dtype=torch.float32),\n",
        "                                       torch.tensor(y, dtype=torch.long))\n",
        "    train_loader = DataLoader(td(X_train, y_train), batch_size=batch_size, shuffle=True)\n",
        "    val_loader   = DataLoader(td(X_val,   y_val),   batch_size=batch_size, shuffle=False)\n",
        "    return train_loader, val_loader\n",
        "\n",
        "def class_weights_from_train(y_train, n_classes):\n",
        "    w = compute_class_weight('balanced', classes=np.arange(n_classes), y=y_train)\n",
        "    return torch.tensor(w, dtype=torch.float32)\n",
        "\n",
        "def train_on_trainval(\n",
        "    df_trainval, label_cols, drop_cols=None,\n",
        "    hidden_dims=HIDDEN_DIMS, dropout_rates=DROPOUTS,\n",
        "    activation=ACTIVATION, use_batchnorm=USE_BN,\n",
        "    batch_size=BATCH_SIZE, lr=LR, weight_decay=WEIGHT_DECAY,\n",
        "    epochs=EPOCHS, patience=PATIENCE, min_delta=MIN_DELTA,\n",
        "    use_focal_loss=USE_FOCAL, learn_temp=LEARN_TEMP\n",
        "):\n",
        "    set_seed(SEED)\n",
        "    X_tr, y_tr, X_val, y_val, scaler, feature_names = split_fit_scaler(\n",
        "        df_trainval, label_cols, drop_cols, val_size=VAL_SIZE, random_state=SEED\n",
        "    )\n",
        "    n_classes = len(label_cols)\n",
        "    train_loader, val_loader = make_loaders_from_arrays(X_tr, y_tr, X_val, y_val, batch_size=batch_size)\n",
        "    class_w = class_weights_from_train(y_tr, n_classes)\n",
        "\n",
        "    model = CowHealthMLP(\n",
        "        input_dim=len(feature_names), hidden_dims=hidden_dims, num_classes=n_classes,\n",
        "        dropout_rates=dropout_rates, activation=activation, use_batchnorm=use_batchnorm\n",
        "    )\n",
        "\n",
        "    criterion = FocalLoss(weight=class_w) if use_focal_loss else nn.CrossEntropyLoss(weight=class_w)\n",
        "    optimizer = optim.AdamW(model.parameters(), lr=lr, weight_decay=weight_decay)\n",
        "    scheduler = optim.lr_scheduler.ReduceLROnPlateau(optimizer, 'min', patience=30, factor=0.5)\n",
        "\n",
        "    best_val, best_state = float('inf'), None\n",
        "    train_loss_hist, val_loss_hist, val_f1_hist = [], [], []\n",
        "    epochs_no_improve = 0\n",
        "\n",
        "    for epoch in tqdm(range(epochs), desc=\"Training\"):\n",
        "        model.train()\n",
        "        run_loss = 0.0\n",
        "        for xb, yb in train_loader:\n",
        "            optimizer.zero_grad(set_to_none=True)\n",
        "            out = model(xb)\n",
        "            loss = criterion(out, yb)\n",
        "            loss.backward()\n",
        "            optimizer.step()\n",
        "            run_loss += loss.item() * xb.size(0)\n",
        "        run_loss /= len(train_loader.dataset)\n",
        "        train_loss_hist.append(run_loss)\n",
        "\n",
        "        model.eval()\n",
        "        vloss, vpreds, vlabels = 0.0, [], []\n",
        "        with torch.no_grad():\n",
        "            for xb, yb in val_loader:\n",
        "                out = model(xb)\n",
        "                loss = criterion(out, yb)\n",
        "                vloss += loss.item() * xb.size(0)\n",
        "                vpreds.extend(out.argmax(1).cpu().numpy())\n",
        "                vlabels.extend(yb.cpu().numpy())\n",
        "        vloss /= len(val_loader.dataset)\n",
        "        val_loss_hist.append(vloss)\n",
        "        val_f1 = f1_score(vlabels, vpreds, average='macro')\n",
        "        val_f1_hist.append(val_f1)\n",
        "        scheduler.step(vloss)\n",
        "\n",
        "        uniq = np.unique(vpreds)\n",
        "        if uniq.size == 1:\n",
        "            print(f\"[epoch {epoch+1}] WARNING: only predicted class {uniq[0]} on VAL — check imbalance.\")\n",
        "\n",
        "        if vloss < best_val - min_delta:\n",
        "            best_val, best_state = vloss, model.state_dict()\n",
        "            epochs_no_improve = 0\n",
        "        else:\n",
        "            epochs_no_improve += 1\n",
        "            if epochs_no_improve >= patience:\n",
        "                print(f\"\\nEarly stopping at epoch {epoch+1}\")\n",
        "                break\n",
        "\n",
        "    if best_state is not None:\n",
        "        model.load_state_dict(best_state)\n",
        "\n",
        "    # plots\n",
        "    plt.figure(figsize=(12,5))\n",
        "    plt.subplot(1,2,1); plt.plot(train_loss_hist,label='Train'); plt.plot(val_loss_hist,label='Val')\n",
        "    plt.title('Loss'); plt.grid(); plt.legend()\n",
        "    plt.subplot(1,2,2); plt.plot(val_f1_hist,label='Val F1 (macro)')\n",
        "    plt.title('Val F1 (macro)'); plt.grid(); plt.legend()\n",
        "    plt.tight_layout(); plt.show()\n",
        "\n",
        "    T = 1.0\n",
        "    if learn_temp:\n",
        "        T = learn_temperature(model, val_loader, init_T=1.0, lr=0.01, max_iter=100, weight=class_w)\n",
        "        print(f\"✓ Learned temperature on validation: T = {T:.3f}\")\n",
        "\n",
        "    return model, scaler, T, feature_names\n",
        "\n",
        "# ======================= EVAL =======================\n",
        "def transform_with_scaler(df, label_cols, drop_cols, scaler, feature_names):\n",
        "    df = df.copy()\n",
        "    y, df_clean, _ = extract_labels(\n",
        "        df, label_cols,\n",
        "        all_zero_policy=ALL_ZERO_POLICY,\n",
        "        nan_policy=NAN_POLICY,\n",
        "        prefer_target=PREFER_TARGET_COLUMN\n",
        "    )\n",
        "    feat_df = df_clean.drop(columns=(drop_cols or []) + label_cols + (['target'] if 'target' in df_clean.columns else []))\n",
        "    feat_df = ensure_feature_alignment(feat_df, feature_names)\n",
        "    X = scaler.transform(feat_df.values)\n",
        "    return X, y\n",
        "\n",
        "def plot_per_class_metrics(y_true, y_pred, class_names):\n",
        "    pr, rc, f1, _ = precision_recall_fscore_support(y_true, y_pred, labels=np.arange(len(class_names)))\n",
        "    fig, ax = plt.subplots(1, 1, figsize=(8, 3.5))\n",
        "    table = pd.DataFrame({'precision': pr, 'recall': rc, 'f1': f1}, index=class_names)\n",
        "    ax.axis('off'); ax.table(cellText=np.round(table.values, 4), colLabels=table.columns,\n",
        "                             rowLabels=table.index, loc='center')\n",
        "    ax.set_title(\"Per-class metrics\"); plt.tight_layout(); plt.show()\n",
        "\n",
        "    cm = confusion_matrix(y_true, y_pred, labels=np.arange(len(class_names)))\n",
        "    fig, ax = plt.subplots(figsize=(6, 5))\n",
        "    im = ax.imshow(cm, interpolation='nearest', aspect='auto')\n",
        "    ax.figure.colorbar(im, ax=ax)\n",
        "    ax.set(xticks=np.arange(cm.shape[1]), yticks=np.arange(cm.shape[0]),\n",
        "           xticklabels=class_names, yticklabels=class_names,\n",
        "           ylabel='True label', xlabel='Predicted label', title='Confusion Matrix')\n",
        "    plt.setp(ax.get_xticklabels(), rotation=45, ha=\"right\", rotation_mode=\"anchor\")\n",
        "    for i in range(cm.shape[0]):\n",
        "        for j in range(cm.shape[1]):\n",
        "            ax.text(j, i, cm[i, j],\n",
        "                    ha=\"center\", va=\"center\",\n",
        "                    color=\"white\" if cm[i,j] > cm.max()/2 else \"black\")\n",
        "    plt.tight_layout(); plt.show()\n",
        "\n",
        "def print_f1_summary(y_true, y_pred):\n",
        "    print(\"\\nSummary:\")\n",
        "    print(f\"  Accuracy      : {accuracy_score(y_true, y_pred):.4f}\")\n",
        "    print(f\"  F1 (macro)    : {f1_score(y_true, y_pred, average='macro'):.4f}\")\n",
        "    print(f\"  F1 (weighted) : {f1_score(y_true, y_pred, average='weighted'):.4f}\")\n",
        "\n",
        "def evaluate_on_holdout(model, scaler, df_holdout, label_cols, drop_cols=None,\n",
        "                        feature_names=None, temperature=1.0, batch_size=128):\n",
        "    model.eval()\n",
        "    X_test, y_test = transform_with_scaler(df_holdout, label_cols, drop_cols, scaler, feature_names)\n",
        "    ds = TensorDataset(torch.tensor(X_test, dtype=torch.float32), torch.tensor(y_test, dtype=torch.long))\n",
        "    loader = DataLoader(ds, batch_size=batch_size, shuffle=False)\n",
        "\n",
        "    all_preds, all_probs, all_labels = [], [], []\n",
        "    with torch.no_grad():\n",
        "        for xb, yb in loader:\n",
        "            logits = model(xb) / temperature\n",
        "            probs = torch.softmax(logits, dim=1)\n",
        "            preds = probs.argmax(1)\n",
        "            all_probs.extend(probs.cpu().numpy())\n",
        "            all_preds.extend(preds.cpu().numpy())\n",
        "            all_labels.extend(yb.cpu().numpy())\n",
        "\n",
        "    print(\"\\n📊 Holdout Classification Report\")\n",
        "    print(classification_report(all_labels, all_preds, target_names=label_cols))\n",
        "    plot_per_class_metrics(all_labels, all_preds, label_cols)\n",
        "    print_f1_summary(all_labels, all_preds)\n",
        "    print(\"Unique predicted classes on HOLDOUT:\", np.unique(all_preds))\n",
        "\n",
        "    return {\n",
        "        'predictions': np.array(all_preds),\n",
        "        'labels': np.array(all_labels),\n",
        "        'probabilities': np.array(all_probs),\n",
        "        'confusion_matrix': confusion_matrix(all_labels, all_preds)\n",
        "    }\n",
        "\n",
        "# ======================= MAIN =======================\n",
        "if __name__ == \"__main__\":\n",
        "    set_seed(SEED)\n",
        "\n",
        "    FULL_LABELS, IDX2NAME, NAME2IDX = freeze_label_order(include_calving=INCLUDE_CALVING)\n",
        "\n",
        "    df_trainval = pd.read_csv(TRAINVAL_PATH)\n",
        "    df_holdout  = pd.read_csv(HOLDOUT_PATH)\n",
        "\n",
        "    df_trainval = optionally_drop_calving(df_trainval, INCLUDE_CALVING)\n",
        "    df_holdout  = optionally_drop_calving(df_holdout,  INCLUDE_CALVING)\n",
        "\n",
        "    drop_cols = ['cow','start_time','end_time']\n",
        "    if 'calving' in df_trainval.columns and 'calving' not in drop_cols:\n",
        "        drop_cols.append('calving')\n",
        "\n",
        "    model, scaler, T, feature_names = train_on_trainval(\n",
        "        df_trainval,\n",
        "        label_cols=FULL_LABELS,\n",
        "        drop_cols=drop_cols,\n",
        "        hidden_dims=HIDDEN_DIMS,\n",
        "        dropout_rates=DROPOUTS,\n",
        "        activation=ACTIVATION,\n",
        "        use_batchnorm=USE_BN,\n",
        "        batch_size=BATCH_SIZE,\n",
        "        lr=LR,\n",
        "        weight_decay=WEIGHT_DECAY,\n",
        "        epochs=EPOCHS,\n",
        "        patience=PATIENCE,\n",
        "        min_delta=MIN_DELTA,\n",
        "        use_focal_loss=USE_FOCAL,\n",
        "        learn_temp=LEARN_TEMP\n",
        "    )\n",
        "\n",
        "    _ = evaluate_on_holdout(\n",
        "        model, scaler, df_holdout,\n",
        "        label_cols=FULL_LABELS,\n",
        "        drop_cols=drop_cols,\n",
        "        feature_names=feature_names,\n",
        "        temperature=T,\n",
        "        batch_size=BATCH_SIZE\n",
        "    )\n"
      ]
    },
    {
      "cell_type": "code",
      "execution_count": 3,
      "id": "vDdtSbgECHOH",
      "metadata": {
        "colab": {
          "base_uri": "https://localhost:8080/",
          "height": 1000
        },
        "id": "vDdtSbgECHOH",
        "outputId": "77738116-e735-4cd1-dccf-bd184d6ba28b"
      },
      "outputs": [
        {
          "name": "stderr",
          "output_type": "stream",
          "text": [
            "Training: 100%|██████████| 200/200 [27:41<00:00,  8.31s/it]\n"
          ]
        },
        {
          "data": {
            "image/png": "[encoded data removed]",
            "text/plain": [
              "<Figure size 1200x500 with 2 Axes>"
            ]
          },
          "metadata": {},
          "output_type": "display_data"
        },
        {
          "name": "stdout",
          "output_type": "stream",
          "text": [
            "✓ Learned temperature on validation: T = 0.581\n",
            "\n",
            "📊 Holdout Classification Report\n",
            "               precision    recall  f1-score   support\n",
            "\n",
            "      oestrus       0.16      0.98      0.28        57\n",
            "     lameness       0.24      0.93      0.38       175\n",
            "     mastitis       0.19      0.97      0.32        32\n",
            "other_disease       0.18      0.95      0.30        86\n",
            "           OK       1.00      0.64      0.78      3626\n",
            "\n",
            "     accuracy                           0.67      3976\n",
            "    macro avg       0.35      0.90      0.41      3976\n",
            " weighted avg       0.93      0.67      0.74      3976\n",
            "\n"
          ]
        },
        {
          "data": {
            "image/png": "[encoded data removed]",
            "text/plain": [
              "<Figure size 800x350 with 1 Axes>"
            ]
          },
          "metadata": {},
          "output_type": "display_data"
        },
        {
          "data": {
            "image/png": "[encoded data removed]",
            "text/plain": [
              "<Figure size 600x500 with 2 Axes>"
            ]
          },
          "metadata": {},
          "output_type": "display_data"
        },
        {
          "name": "stdout",
          "output_type": "stream",
          "text": [
            "\n",
            "Summary:\n",
            "  Accuracy      : 0.6685\n",
            "  F1 (macro)    : 0.4135\n",
            "  F1 (weighted) : 0.7417\n",
            "Unique predicted classes on HOLDOUT: [0 1 2 3 4]\n"
          ]
        }
      ],
      "source": [
        "# -*- coding: utf-8 -*-\n",
        "# Robust MLP pipeline with label cleaning (NaN + all-zero handling),\n",
        "# target/one-hot auto-detection, feature alignment, focal loss, temp scaling.\n",
        "\n",
        "import os, math, random, warnings\n",
        "from pathlib import Path\n",
        "import numpy as np\n",
        "import pandas as pd\n",
        "\n",
        "import torch\n",
        "import torch.nn as nn\n",
        "import torch.optim as optim\n",
        "from torch.utils.data import DataLoader, TensorDataset\n",
        "\n",
        "from sklearn.model_selection import train_test_split\n",
        "from sklearn.preprocessing import StandardScaler\n",
        "from sklearn.metrics import (classification_report, confusion_matrix,\n",
        "                             f1_score, precision_recall_fscore_support,\n",
        "                             accuracy_score)\n",
        "from sklearn.utils.class_weight import compute_class_weight\n",
        "\n",
        "import matplotlib.pyplot as plt\n",
        "try:\n",
        "    from tqdm import tqdm\n",
        "except Exception:\n",
        "    def tqdm(x, **k): return x\n",
        "\n",
        "warnings.filterwarnings(\"ignore\")\n",
        "\n",
        "# ======================= CONFIG =======================\n",
        "INCLUDE_CALVING = True          # 6 classes with 'calving'; set False for 5 classes (calving rows removed)\n",
        "PREFER_TARGET_COLUMN = True     # use df['target'] if valid (0..C-1)\n",
        "ALL_ZERO_POLICY = \"drop\"        # 'drop' | 'map_to_ok' | 'error'\n",
        "NAN_POLICY = \"drop\"             # 'drop' | 'error'\n",
        "\n",
        "TRAINVAL_PATH = Path(r\"C:/Users/lamia/Downloads/non_augmented_dataset2_trainval.csv\")\n",
        "HOLDOUT_PATH  = Path(r\"C:/Users/lamia/Downloads/non_augmented_dataset2_holdout.csv\")\n",
        "\n",
        "SEED = 42\n",
        "VAL_SIZE = 0.2\n",
        "\n",
        "HIDDEN_DIMS = [512, 256, 128]\n",
        "DROPOUTS    = [0.5, 0.4, 0.3]\n",
        "ACTIVATION  = 'leakyrelu'\n",
        "USE_BN      = True\n",
        "\n",
        "BATCH_SIZE   = 128\n",
        "LR           = 5e-4\n",
        "WEIGHT_DECAY = 1e-4\n",
        "EPOCHS       = 200\n",
        "PATIENCE     = 30\n",
        "MIN_DELTA    = 1e-3\n",
        "USE_FOCAL    = True\n",
        "LEARN_TEMP   = True\n",
        "\n",
        "# ======================= UTILS =======================\n",
        "def set_seed(seed=42):\n",
        "    random.seed(seed); np.random.seed(seed); torch.manual_seed(seed)\n",
        "    torch.cuda.manual_seed_all(seed)\n",
        "    torch.backends.cudnn.deterministic = True\n",
        "    torch.backends.cudnn.benchmark = False\n",
        "\n",
        "def freeze_label_order(include_calving=True):\n",
        "    if include_calving:\n",
        "        label_cols = ['oestrus','lameness','mastitis','other_disease','OK']\n",
        "    else:\n",
        "        label_cols = ['oestrus','lameness','mastitis','other_disease','OK']\n",
        "    idx2name = {i: c for i, c in enumerate(label_cols)}\n",
        "    name2idx = {c: i for i, c in enumerate(label_cols)}\n",
        "    return label_cols, idx2name, name2idx\n",
        "\n",
        "def optionally_drop_calving(df, include_calving: bool):\n",
        "    df = df.copy()\n",
        "    if include_calving:\n",
        "        return df\n",
        "    if 'calving' in df.columns:\n",
        "        before = len(df)\n",
        "        df = df[df['calving'] == 0].copy()\n",
        "        print(f\"[INFO] Removed {before-len(df)} rows with calving==1 for 5-class setup.\")\n",
        "    return df\n",
        "\n",
        "def _validate_target_column(df, n_classes):\n",
        "    if 'target' not in df.columns:\n",
        "        return False\n",
        "    col = df['target']\n",
        "    if col.isna().any():\n",
        "        return False\n",
        "    vals = col.astype(float)\n",
        "    if not np.all(np.isfinite(vals)): return False\n",
        "    if not np.all(np.equal(vals, np.floor(vals))): return False\n",
        "    vals = vals.astype(int)\n",
        "    if (vals.min() < 0) or (vals.max() >= n_classes): return False\n",
        "    return True\n",
        "\n",
        "def _one_hot_sanity(df, label_cols):\n",
        "    sub = df[label_cols].astype(float)\n",
        "    row_sums = sub.sum(axis=1)\n",
        "    bad_all_zero  = int((row_sums == 0).sum())\n",
        "    bad_multi_hot = int((row_sums > 1.0 + 1e-9).sum())\n",
        "    bad_nans      = int(sub.isna().any(axis=1).sum())\n",
        "    dist = sub.idxmax(axis=1).value_counts(dropna=False).sort_index()\n",
        "    return bad_all_zero, bad_multi_hot, bad_nans, dist\n",
        "\n",
        "def coerce_one_hot_numeric(df, label_cols):\n",
        "    \"\"\"\n",
        "    Try to coerce a possibly stringy 'one-hot' block into numeric 0/1.\n",
        "    Rules per cell:\n",
        "      - numeric -> kept (0/1 expected, but any number allowed until sanity check)\n",
        "      - string equal to its column name (case-insensitive, trimmed) -> 1\n",
        "      - '1','true','yes' -> 1\n",
        "      - '0','false','no','' (empty) -> 0\n",
        "      - otherwise -> NaN (so NaN policy can handle)\n",
        "    \"\"\"\n",
        "    sub = df[label_cols].copy()\n",
        "\n",
        "    # Fast path: already numeric\n",
        "    if np.all(sub.dtypes.apply(lambda t: np.issubdtype(t, np.number))):\n",
        "        return sub.astype(float)\n",
        "\n",
        "    def to01(col_series, col_name):\n",
        "        s = col_series.astype(str).str.strip()\n",
        "        lower = s.str.lower()\n",
        "\n",
        "        is_colname = lower == col_name.lower()\n",
        "        is_one  = lower.isin([\"1\", \"true\", \"yes\", \"y\"])\n",
        "        is_zero = lower.isin([\"0\", \"false\", \"no\", \"n\", \"nan\", \"none\", \"\"])\n",
        "\n",
        "        out = pd.Series(np.nan, index=s.index, dtype=float)\n",
        "        out[is_colname | is_one] = 1.0\n",
        "        out[is_zero]             = 0.0\n",
        "\n",
        "        # If original dtype was numeric for some rows, preserve those values\n",
        "        # (helps when a column is mixed types)\n",
        "        mask_numeric = pd.to_numeric(col_series, errors=\"coerce\").notna()\n",
        "        out.loc[mask_numeric] = pd.to_numeric(col_series.loc[mask_numeric], errors=\"coerce\")\n",
        "\n",
        "        return out\n",
        "\n",
        "    coerced = pd.DataFrame(index=sub.index, columns=label_cols, dtype=float)\n",
        "    for c in label_cols:\n",
        "        coerced[c] = to01(sub[c], c)\n",
        "\n",
        "    return coerced\n",
        "\n",
        "\n",
        "def extract_labels(df, label_cols, class_order=None,\n",
        "                   all_zero_policy=\"drop\", nan_policy=\"drop\", prefer_target=True):\n",
        "    \"\"\"\n",
        "    Supports:\n",
        "      - Single label column (class names or ints)  --> map to ids\n",
        "      - Multi-column one-hot (numeric or stringy)  --> coerce to numeric then argmax\n",
        "      - Optional integer 'target' (0..C-1) if prefer_target=True\n",
        "    \"\"\"\n",
        "    df = df.copy()\n",
        "\n",
        "    # Single label column mode\n",
        "    if len(label_cols) == 1:\n",
        "        col = label_cols[0]\n",
        "        if prefer_target and 'target' in df.columns:\n",
        "            vals = df['target']\n",
        "            if vals.notna().all() and np.equal(vals, np.floor(vals)).all():\n",
        "                vals = vals.astype(int)\n",
        "                if class_order is None or (0 <= vals.min() and vals.max() < len(class_order)):\n",
        "                    return vals.values, df, {\"used\": \"target_single\"}\n",
        "\n",
        "        lab = df[col]\n",
        "        if nan_policy == \"drop\" and lab.isna().any():\n",
        "            before = len(df); df = df[lab.notna()].copy()\n",
        "            print(f\"[INFO] Dropped {before-len(df)} rows with NaN in '{col}'.\")\n",
        "            lab = df[col]\n",
        "        elif lab.isna().any():\n",
        "            raise ValueError(f\"NaN found in '{col}'. Set NAN_POLICY='drop' to drop them.\")\n",
        "\n",
        "        # Map strings to ids using provided class_order\n",
        "        if lab.dtype == object or isinstance(lab.iloc[0], str):\n",
        "            assert class_order is not None, \"Provide class_order to map string labels to ids.\"\n",
        "            name2idx = {n: i for i, n in enumerate(class_order)}\n",
        "            y = lab.astype(str).str.strip().map(name2idx)\n",
        "            if y.isna().any():\n",
        "                unknown = df.loc[y.isna(), col].unique()\n",
        "                raise ValueError(f\"Unknown label names: {unknown}. Update class_order or clean data.\")\n",
        "            return y.values.astype(int), df, {\"used\": \"single_str\"}\n",
        "        else:\n",
        "            return lab.astype(int).values, df, {\"used\": \"single_int\"}\n",
        "\n",
        "    # Multi-column one-hot mode\n",
        "    for c in label_cols:\n",
        "        if c not in df.columns:\n",
        "            raise ValueError(f\"Missing label column '{c}'.\")\n",
        "\n",
        "    # Prefer integer target if valid\n",
        "    if prefer_target and 'target' in df.columns:\n",
        "        col = df['target']\n",
        "        if col.notna().all() and np.equal(col, np.floor(col)).all():\n",
        "            vals = col.astype(int)\n",
        "            if 0 <= vals.min() and vals.max() < len(label_cols):\n",
        "                return vals.values, df, {\"used\": \"target_onehot\"}\n",
        "\n",
        "    # Coerce to numeric 0/1 if needed\n",
        "    sub = coerce_one_hot_numeric(df, label_cols)\n",
        "\n",
        "    # Handle NaNs\n",
        "    if sub.isna().any(axis=1).any():\n",
        "        if nan_policy == \"drop\":\n",
        "            before = len(df)\n",
        "            mask = ~sub.isna().any(axis=1)\n",
        "            df  = df.loc[mask].copy()\n",
        "            sub = sub.loc[mask].copy()\n",
        "            print(f\"[INFO] Dropped {before-len(df)} rows with NaN in label block after coercion.\")\n",
        "        else:\n",
        "            raise ValueError(\"NaN in label columns after coercion. Set NAN_POLICY='drop'.\")\n",
        "\n",
        "    # One-hot sanity\n",
        "    row_sums = sub.sum(axis=1).values\n",
        "    bad_multi = int((row_sums > 1.0 + 1e-9).sum())\n",
        "    bad_zero  = int((row_sums == 0).sum())\n",
        "\n",
        "    if bad_multi > 0:\n",
        "        raise ValueError(\"Found multi-hot rows; labels must be strictly one-hot.\")\n",
        "\n",
        "    if bad_zero > 0:\n",
        "        if all_zero_policy == \"drop\":\n",
        "            before = len(df)\n",
        "            keep = row_sums > 0\n",
        "            df  = df.loc[keep].copy()\n",
        "            sub = sub.loc[keep].copy()\n",
        "            print(f\"[INFO] Dropped {before-len(df)} rows with all-zero labels.\")\n",
        "        elif all_zero_policy == \"map_to_ok\":\n",
        "            if 'OK' not in label_cols:\n",
        "                raise ValueError(\"'map_to_ok' chosen but 'OK' not in label_cols.\")\n",
        "            mask0 = (row_sums == 0)\n",
        "            sub.loc[mask0, 'OK'] = 1.0\n",
        "            print(f\"[INFO] Mapped {int(mask0.sum())} all-zero rows to OK=1.\")\n",
        "        else:\n",
        "            raise ValueError(\"All-zero labels; set ALL_ZERO_POLICY='drop' or 'map_to_ok'.\")\n",
        "\n",
        "    y = sub.values.argmax(axis=1)\n",
        "    return y, df, {\"used\": \"one_hot_coerced\"}\n",
        "\n",
        "def ensure_feature_alignment(df, feature_names):\n",
        "    missing = [c for c in feature_names if c not in df.columns]\n",
        "    for c in missing:\n",
        "        df[c] = 0.0\n",
        "    return df[feature_names].astype(float)\n",
        "\n",
        "# ======================= MODEL =======================\n",
        "class CowHealthMLP(nn.Module):\n",
        "    def __init__(self, input_dim, hidden_dims, num_classes,\n",
        "                 dropout_rates=None, activation='relu', use_batchnorm=True):\n",
        "        super().__init__()\n",
        "        if dropout_rates is None: dropout_rates = [0.4] * len(hidden_dims)\n",
        "        act_map = {\n",
        "            'relu': nn.ReLU, 'leakyrelu': lambda: nn.LeakyReLU(0.1),\n",
        "            'gelu': nn.GELU, 'elu': nn.ELU\n",
        "        }\n",
        "        Act = act_map.get(activation.lower(), nn.ReLU)\n",
        "\n",
        "        layers = []\n",
        "        prev = input_dim\n",
        "        for h, dr in zip(hidden_dims, dropout_rates):\n",
        "            layers.append(nn.Linear(prev, h))\n",
        "            if use_batchnorm: layers.append(nn.BatchNorm1d(h))\n",
        "            layers.append(Act())\n",
        "            if dr and dr > 0: layers.append(nn.Dropout(dr))\n",
        "            prev = h\n",
        "        layers.append(nn.Linear(prev, num_classes))\n",
        "        self.net = nn.Sequential(*layers)\n",
        "\n",
        "        for m in self.modules():\n",
        "            if isinstance(m, nn.Linear):\n",
        "                nn.init.xavier_uniform_(m.weight)\n",
        "                if m.bias is not None: nn.init.zeros_(m.bias)\n",
        "\n",
        "    def forward(self, x): return self.net(x)\n",
        "\n",
        "class FocalLoss(nn.Module):\n",
        "    def __init__(self, weight=None, gamma=2.0, reduction='mean'):\n",
        "        super().__init__()\n",
        "        self.weight = weight; self.gamma = gamma; self.reduction = reduction\n",
        "    def forward(self, logits, target):\n",
        "        ce = nn.functional.cross_entropy(logits, target, weight=self.weight, reduction='none')\n",
        "        pt = torch.softmax(logits, dim=1).gather(1, target.view(-1,1)).squeeze(1).clamp(1e-6, 1-1e-6)\n",
        "        loss = ((1 - pt) ** self.gamma) * ce\n",
        "        return loss.mean() if self.reduction == 'mean' else loss.sum()\n",
        "\n",
        "class _TempScaler(nn.Module):\n",
        "    def __init__(self, init_T=1.0):\n",
        "        super().__init__()\n",
        "        self.logT = nn.Parameter(torch.tensor([math.log(init_T)], dtype=torch.float32))\n",
        "    def forward(self, logits): return logits / torch.exp(self.logT)\n",
        "    @property\n",
        "    def T(self): return float(torch.exp(self.logT).item())\n",
        "\n",
        "def learn_temperature(model, val_loader, init_T=1.0, max_iter=100, lr=0.01, weight=None):\n",
        "    model.eval()\n",
        "    temp = _TempScaler(init_T)\n",
        "    opt = optim.LBFGS(temp.parameters(), lr=lr, max_iter=max_iter)\n",
        "    loss_fn = nn.CrossEntropyLoss(weight=weight)\n",
        "    with torch.no_grad():\n",
        "        logits_list, labels_list = [], []\n",
        "        for xb, yb in val_loader:\n",
        "            logits_list.append(model(xb))\n",
        "            labels_list.append(yb)\n",
        "        logits = torch.cat(logits_list, 0)\n",
        "        labels = torch.cat(labels_list, 0)\n",
        "    def closure():\n",
        "        opt.zero_grad()\n",
        "        loss = loss_fn(temp(logits), labels)\n",
        "        loss.backward()\n",
        "        return loss\n",
        "    opt.step(closure)\n",
        "    return temp.T\n",
        "\n",
        "# ======================= DATA & TRAIN =======================\n",
        "def split_fit_scaler(df, label_cols, drop_cols=None, val_size=0.2, random_state=42):\n",
        "    df = df.copy()\n",
        "    y, df_clean, _ = extract_labels(\n",
        "        df, label_cols,\n",
        "        all_zero_policy=ALL_ZERO_POLICY,\n",
        "        nan_policy=NAN_POLICY,\n",
        "        prefer_target=PREFER_TARGET_COLUMN\n",
        "    )\n",
        "\n",
        "    feature_df = df_clean.drop(columns=(drop_cols or []) + label_cols + (['target'] if 'target' in df_clean.columns else []))\n",
        "    feature_names = feature_df.columns.tolist()\n",
        "\n",
        "    X_train, X_val, y_train, y_val = train_test_split(\n",
        "        feature_df.values, y, test_size=val_size, random_state=random_state, stratify=y\n",
        "    )\n",
        "    scaler = StandardScaler().fit(X_train)\n",
        "    X_train = scaler.transform(X_train)\n",
        "    X_val   = scaler.transform(X_val)\n",
        "    return X_train, y_train, X_val, y_val, scaler, feature_names\n",
        "\n",
        "def make_loaders_from_arrays(X_train, y_train, X_val, y_val, batch_size=128):\n",
        "    def td(x, y): return TensorDataset(torch.tensor(x, dtype=torch.float32),\n",
        "                                       torch.tensor(y, dtype=torch.long))\n",
        "    train_loader = DataLoader(td(X_train, y_train), batch_size=batch_size, shuffle=True)\n",
        "    val_loader   = DataLoader(td(X_val,   y_val),   batch_size=batch_size, shuffle=False)\n",
        "    return train_loader, val_loader\n",
        "\n",
        "def class_weights_from_train(y_train, n_classes):\n",
        "    w = compute_class_weight('balanced', classes=np.arange(n_classes), y=y_train)\n",
        "    return torch.tensor(w, dtype=torch.float32)\n",
        "\n",
        "def train_on_trainval(\n",
        "    df_trainval, label_cols, drop_cols=None,\n",
        "    hidden_dims=HIDDEN_DIMS, dropout_rates=DROPOUTS,\n",
        "    activation=ACTIVATION, use_batchnorm=USE_BN,\n",
        "    batch_size=BATCH_SIZE, lr=LR, weight_decay=WEIGHT_DECAY,\n",
        "    epochs=EPOCHS, patience=PATIENCE, min_delta=MIN_DELTA,\n",
        "    use_focal_loss=USE_FOCAL, learn_temp=LEARN_TEMP\n",
        "):\n",
        "    set_seed(SEED)\n",
        "    X_tr, y_tr, X_val, y_val, scaler, feature_names = split_fit_scaler(\n",
        "        df_trainval, label_cols, drop_cols, val_size=VAL_SIZE, random_state=SEED\n",
        "    )\n",
        "    n_classes = len(label_cols)\n",
        "    train_loader, val_loader = make_loaders_from_arrays(X_tr, y_tr, X_val, y_val, batch_size=batch_size)\n",
        "    class_w = class_weights_from_train(y_tr, n_classes)\n",
        "\n",
        "    model = CowHealthMLP(\n",
        "        input_dim=len(feature_names), hidden_dims=hidden_dims, num_classes=n_classes,\n",
        "        dropout_rates=dropout_rates, activation=activation, use_batchnorm=use_batchnorm\n",
        "    )\n",
        "\n",
        "    criterion = FocalLoss(weight=class_w) if use_focal_loss else nn.CrossEntropyLoss(weight=class_w)\n",
        "    optimizer = optim.AdamW(model.parameters(), lr=lr, weight_decay=weight_decay)\n",
        "    scheduler = optim.lr_scheduler.ReduceLROnPlateau(optimizer, 'min', patience=30, factor=0.5)\n",
        "\n",
        "    best_val, best_state = float('inf'), None\n",
        "    train_loss_hist, val_loss_hist, val_f1_hist = [], [], []\n",
        "    epochs_no_improve = 0\n",
        "\n",
        "    for epoch in tqdm(range(epochs), desc=\"Training\"):\n",
        "        model.train()\n",
        "        run_loss = 0.0\n",
        "        for xb, yb in train_loader:\n",
        "            optimizer.zero_grad(set_to_none=True)\n",
        "            out = model(xb)\n",
        "            loss = criterion(out, yb)\n",
        "            loss.backward()\n",
        "            optimizer.step()\n",
        "            run_loss += loss.item() * xb.size(0)\n",
        "        run_loss /= len(train_loader.dataset)\n",
        "        train_loss_hist.append(run_loss)\n",
        "\n",
        "        model.eval()\n",
        "        vloss, vpreds, vlabels = 0.0, [], []\n",
        "        with torch.no_grad():\n",
        "            for xb, yb in val_loader:\n",
        "                out = model(xb)\n",
        "                loss = criterion(out, yb)\n",
        "                vloss += loss.item() * xb.size(0)\n",
        "                vpreds.extend(out.argmax(1).cpu().numpy())\n",
        "                vlabels.extend(yb.cpu().numpy())\n",
        "        vloss /= len(val_loader.dataset)\n",
        "        val_loss_hist.append(vloss)\n",
        "        val_f1 = f1_score(vlabels, vpreds, average='macro')\n",
        "        val_f1_hist.append(val_f1)\n",
        "        scheduler.step(vloss)\n",
        "\n",
        "        uniq = np.unique(vpreds)\n",
        "        if uniq.size == 1:\n",
        "            print(f\"[epoch {epoch+1}] WARNING: only predicted class {uniq[0]} on VAL — check imbalance.\")\n",
        "\n",
        "        if vloss < best_val - min_delta:\n",
        "            best_val, best_state = vloss, model.state_dict()\n",
        "            epochs_no_improve = 0\n",
        "        else:\n",
        "            epochs_no_improve += 1\n",
        "            if epochs_no_improve >= patience:\n",
        "                print(f\"\\nEarly stopping at epoch {epoch+1}\")\n",
        "                break\n",
        "\n",
        "    if best_state is not None:\n",
        "        model.load_state_dict(best_state)\n",
        "\n",
        "    # plots\n",
        "    plt.figure(figsize=(12,5))\n",
        "    plt.subplot(1,2,1); plt.plot(train_loss_hist,label='Train'); plt.plot(val_loss_hist,label='Val')\n",
        "    plt.title('Loss'); plt.grid(); plt.legend()\n",
        "    plt.subplot(1,2,2); plt.plot(val_f1_hist,label='Val F1 (macro)')\n",
        "    plt.title('Val F1 (macro)'); plt.grid(); plt.legend()\n",
        "    plt.tight_layout(); plt.show()\n",
        "\n",
        "    T = 1.0\n",
        "    if learn_temp:\n",
        "        T = learn_temperature(model, val_loader, init_T=1.0, lr=0.01, max_iter=100, weight=class_w)\n",
        "        print(f\"✓ Learned temperature on validation: T = {T:.3f}\")\n",
        "\n",
        "    return model, scaler, T, feature_names\n",
        "\n",
        "# ======================= EVAL =======================\n",
        "def transform_with_scaler(df, label_cols, drop_cols, scaler, feature_names):\n",
        "    df = df.copy()\n",
        "    y, df_clean, _ = extract_labels(\n",
        "        df, label_cols,\n",
        "        all_zero_policy=ALL_ZERO_POLICY,\n",
        "        nan_policy=NAN_POLICY,\n",
        "        prefer_target=PREFER_TARGET_COLUMN\n",
        "    )\n",
        "    feat_df = df_clean.drop(columns=(drop_cols or []) + label_cols + (['target'] if 'target' in df_clean.columns else []))\n",
        "    feat_df = ensure_feature_alignment(feat_df, feature_names)\n",
        "    X = scaler.transform(feat_df.values)\n",
        "    return X, y\n",
        "\n",
        "def plot_per_class_metrics(y_true, y_pred, class_names):\n",
        "    pr, rc, f1, _ = precision_recall_fscore_support(y_true, y_pred, labels=np.arange(len(class_names)))\n",
        "    fig, ax = plt.subplots(1, 1, figsize=(8, 3.5))\n",
        "    table = pd.DataFrame({'precision': pr, 'recall': rc, 'f1': f1}, index=class_names)\n",
        "    ax.axis('off'); ax.table(cellText=np.round(table.values, 4), colLabels=table.columns,\n",
        "                             rowLabels=table.index, loc='center')\n",
        "    ax.set_title(\"Per-class metrics\"); plt.tight_layout(); plt.show()\n",
        "\n",
        "    cm = confusion_matrix(y_true, y_pred, labels=np.arange(len(class_names)))\n",
        "    fig, ax = plt.subplots(figsize=(6, 5))\n",
        "    im = ax.imshow(cm, interpolation='nearest', aspect='auto')\n",
        "    ax.figure.colorbar(im, ax=ax)\n",
        "    ax.set(xticks=np.arange(cm.shape[1]), yticks=np.arange(cm.shape[0]),\n",
        "           xticklabels=class_names, yticklabels=class_names,\n",
        "           ylabel='True label', xlabel='Predicted label', title='Confusion Matrix')\n",
        "    plt.setp(ax.get_xticklabels(), rotation=45, ha=\"right\", rotation_mode=\"anchor\")\n",
        "    for i in range(cm.shape[0]):\n",
        "        for j in range(cm.shape[1]):\n",
        "            ax.text(j, i, cm[i, j],\n",
        "                    ha=\"center\", va=\"center\",\n",
        "                    color=\"white\" if cm[i,j] > cm.max()/2 else \"black\")\n",
        "    plt.tight_layout(); plt.show()\n",
        "\n",
        "def print_f1_summary(y_true, y_pred):\n",
        "    print(\"\\nSummary:\")\n",
        "    print(f\"  Accuracy      : {accuracy_score(y_true, y_pred):.4f}\")\n",
        "    print(f\"  F1 (macro)    : {f1_score(y_true, y_pred, average='macro'):.4f}\")\n",
        "    print(f\"  F1 (weighted) : {f1_score(y_true, y_pred, average='weighted'):.4f}\")\n",
        "\n",
        "def evaluate_on_holdout(model, scaler, df_holdout, label_cols, drop_cols=None,\n",
        "                        feature_names=None, temperature=1.0, batch_size=128):\n",
        "    model.eval()\n",
        "    X_test, y_test = transform_with_scaler(df_holdout, label_cols, drop_cols, scaler, feature_names)\n",
        "    ds = TensorDataset(torch.tensor(X_test, dtype=torch.float32), torch.tensor(y_test, dtype=torch.long))\n",
        "    loader = DataLoader(ds, batch_size=batch_size, shuffle=False)\n",
        "\n",
        "    all_preds, all_probs, all_labels = [], [], []\n",
        "    with torch.no_grad():\n",
        "        for xb, yb in loader:\n",
        "            logits = model(xb) / temperature\n",
        "            probs = torch.softmax(logits, dim=1)\n",
        "            preds = probs.argmax(1)\n",
        "            all_probs.extend(probs.cpu().numpy())\n",
        "            all_preds.extend(preds.cpu().numpy())\n",
        "            all_labels.extend(yb.cpu().numpy())\n",
        "\n",
        "    print(\"\\n📊 Holdout Classification Report\")\n",
        "    print(classification_report(all_labels, all_preds, target_names=label_cols))\n",
        "    plot_per_class_metrics(all_labels, all_preds, label_cols)\n",
        "    print_f1_summary(all_labels, all_preds)\n",
        "    print(\"Unique predicted classes on HOLDOUT:\", np.unique(all_preds))\n",
        "\n",
        "    return {\n",
        "        'predictions': np.array(all_preds),\n",
        "        'labels': np.array(all_labels),\n",
        "        'probabilities': np.array(all_probs),\n",
        "        'confusion_matrix': confusion_matrix(all_labels, all_preds)\n",
        "    }\n",
        "\n",
        "# ======================= MAIN =======================\n",
        "if __name__ == \"__main__\":\n",
        "    set_seed(SEED)\n",
        "\n",
        "    FULL_LABELS, IDX2NAME, NAME2IDX = freeze_label_order(include_calving=INCLUDE_CALVING)\n",
        "\n",
        "    df_trainval = pd.read_csv(TRAINVAL_PATH)\n",
        "    df_holdout  = pd.read_csv(HOLDOUT_PATH)\n",
        "\n",
        "    df_trainval = optionally_drop_calving(df_trainval, INCLUDE_CALVING)\n",
        "    df_holdout  = optionally_drop_calving(df_holdout,  INCLUDE_CALVING)\n",
        "\n",
        "    drop_cols = ['cow','start_time','end_time']\n",
        "    if 'calving' in df_trainval.columns and 'calving' not in drop_cols:\n",
        "        drop_cols.append('calving')\n",
        "\n",
        "    model, scaler, T, feature_names = train_on_trainval(\n",
        "        df_trainval,\n",
        "        label_cols=FULL_LABELS,\n",
        "        drop_cols=drop_cols,\n",
        "        hidden_dims=HIDDEN_DIMS,\n",
        "        dropout_rates=DROPOUTS,\n",
        "        activation=ACTIVATION,\n",
        "        use_batchnorm=USE_BN,\n",
        "        batch_size=BATCH_SIZE,\n",
        "        lr=LR,\n",
        "        weight_decay=WEIGHT_DECAY,\n",
        "        epochs=EPOCHS,\n",
        "        patience=PATIENCE,\n",
        "        min_delta=MIN_DELTA,\n",
        "        use_focal_loss=USE_FOCAL,\n",
        "        learn_temp=LEARN_TEMP\n",
        "    )\n",
        "\n",
        "    _ = evaluate_on_holdout(\n",
        "        model, scaler, df_holdout,\n",
        "        label_cols=FULL_LABELS,\n",
        "        drop_cols=drop_cols,\n",
        "        feature_names=feature_names,\n",
        "        temperature=T,\n",
        "        batch_size=BATCH_SIZE\n",
        "    )\n"
      ]
    },
    {
      "cell_type": "code",
      "execution_count": 4,
      "id": "NLjkFUOLCRkO",
      "metadata": {
        "colab": {
          "base_uri": "https://localhost:8080/",
          "height": 1000
        },
        "id": "NLjkFUOLCRkO",
        "outputId": "884598f7-a4d0-4145-f93c-0b669b8cd58b"
      },
      "outputs": [
        {
          "name": "stderr",
          "output_type": "stream",
          "text": [
            "Training: 100%|██████████| 200/200 [13:27<00:00,  4.04s/it]\n"
          ]
        },
        {
          "data": {
            "image/png": "[encoded data removed]",
            "text/plain": [
              "<Figure size 1200x500 with 2 Axes>"
            ]
          },
          "metadata": {},
          "output_type": "display_data"
        },
        {
          "name": "stdout",
          "output_type": "stream",
          "text": [
            "✓ Learned temperature on validation: T = 0.424\n",
            "\n",
            "📊 Holdout Classification Report\n",
            "              precision    recall  f1-score   support\n",
            "\n",
            "     oestrus       0.49      0.92      0.64       247\n",
            "          OK       0.99      0.90      0.94      2304\n",
            "\n",
            "    accuracy                           0.90      2551\n",
            "   macro avg       0.74      0.91      0.79      2551\n",
            "weighted avg       0.94      0.90      0.91      2551\n",
            "\n"
          ]
        },
        {
          "data": {
            "image/png": "[encoded data removed]",
            "text/plain": [
              "<Figure size 800x350 with 1 Axes>"
            ]
          },
          "metadata": {},
          "output_type": "display_data"
        },
        {
          "data": {
            "image/png": "[encoded data removed]",
            "text/plain": [
              "<Figure size 600x500 with 2 Axes>"
            ]
          },
          "metadata": {},
          "output_type": "display_data"
        },
        {
          "name": "stdout",
          "output_type": "stream",
          "text": [
            "\n",
            "Summary:\n",
            "  Accuracy      : 0.8985\n",
            "  F1 (macro)    : 0.7889\n",
            "  F1 (weighted) : 0.9115\n",
            "Unique predicted classes on HOLDOUT: [0 1]\n"
          ]
        }
      ],
      "source": [
        "# -*- coding: utf-8 -*-\n",
        "# Robust MLP pipeline with label cleaning (NaN + all-zero handling),\n",
        "# target/one-hot auto-detection, feature alignment, focal loss, temp scaling.\n",
        "\n",
        "import os, math, random, warnings\n",
        "from pathlib import Path\n",
        "import numpy as np\n",
        "import pandas as pd\n",
        "\n",
        "import torch\n",
        "import torch.nn as nn\n",
        "import torch.optim as optim\n",
        "from torch.utils.data import DataLoader, TensorDataset\n",
        "\n",
        "from sklearn.model_selection import train_test_split\n",
        "from sklearn.preprocessing import StandardScaler\n",
        "from sklearn.metrics import (classification_report, confusion_matrix,\n",
        "                             f1_score, precision_recall_fscore_support,\n",
        "                             accuracy_score)\n",
        "from sklearn.utils.class_weight import compute_class_weight\n",
        "\n",
        "import matplotlib.pyplot as plt\n",
        "try:\n",
        "    from tqdm import tqdm\n",
        "except Exception:\n",
        "    def tqdm(x, **k): return x\n",
        "\n",
        "warnings.filterwarnings(\"ignore\")\n",
        "\n",
        "# ======================= CONFIG =======================\n",
        "INCLUDE_CALVING = True          # 6 classes with 'calving'; set False for 5 classes (calving rows removed)\n",
        "PREFER_TARGET_COLUMN = True     # use df['target'] if valid (0..C-1)\n",
        "ALL_ZERO_POLICY = \"drop\"        # 'drop' | 'map_to_ok' | 'error'\n",
        "NAN_POLICY = \"drop\"             # 'drop' | 'error'\n",
        "\n",
        "TRAINVAL_PATH = Path(r\"C:/Users/lamia/Downloads/non_augmented_dataset3_trainval.csv\")\n",
        "HOLDOUT_PATH  = Path(r\"C:/Users/lamia/Downloads/non_augmented_dataset3_holdout.csv\")\n",
        "\n",
        "SEED = 42\n",
        "VAL_SIZE = 0.2\n",
        "\n",
        "HIDDEN_DIMS = [512, 256, 128]\n",
        "DROPOUTS    = [0.5, 0.4, 0.3]\n",
        "ACTIVATION  = 'leakyrelu'\n",
        "USE_BN      = True\n",
        "\n",
        "BATCH_SIZE   = 128\n",
        "LR           = 5e-4\n",
        "WEIGHT_DECAY = 1e-4\n",
        "EPOCHS       = 200\n",
        "PATIENCE     = 30\n",
        "MIN_DELTA    = 1e-3\n",
        "USE_FOCAL    = True\n",
        "LEARN_TEMP   = True\n",
        "\n",
        "# ======================= UTILS =======================\n",
        "def set_seed(seed=42):\n",
        "    random.seed(seed); np.random.seed(seed); torch.manual_seed(seed)\n",
        "    torch.cuda.manual_seed_all(seed)\n",
        "    torch.backends.cudnn.deterministic = True\n",
        "    torch.backends.cudnn.benchmark = False\n",
        "\n",
        "def freeze_label_order(include_calving=True):\n",
        "    if include_calving:\n",
        "        label_cols = ['oestrus','OK']\n",
        "    else:\n",
        "        label_cols = ['oestrus','OK']\n",
        "    idx2name = {i: c for i, c in enumerate(label_cols)}\n",
        "    name2idx = {c: i for i, c in enumerate(label_cols)}\n",
        "    return label_cols, idx2name, name2idx\n",
        "\n",
        "def optionally_drop_calving(df, include_calving: bool):\n",
        "    df = df.copy()\n",
        "    if include_calving:\n",
        "        return df\n",
        "    if 'calving' in df.columns:\n",
        "        before = len(df)\n",
        "        df = df[df['calving'] == 0].copy()\n",
        "        print(f\"[INFO] Removed {before-len(df)} rows with calving==1 for 5-class setup.\")\n",
        "    return df\n",
        "\n",
        "def _validate_target_column(df, n_classes):\n",
        "    if 'target' not in df.columns:\n",
        "        return False\n",
        "    col = df['target']\n",
        "    if col.isna().any():\n",
        "        return False\n",
        "    vals = col.astype(float)\n",
        "    if not np.all(np.isfinite(vals)): return False\n",
        "    if not np.all(np.equal(vals, np.floor(vals))): return False\n",
        "    vals = vals.astype(int)\n",
        "    if (vals.min() < 0) or (vals.max() >= n_classes): return False\n",
        "    return True\n",
        "\n",
        "def _one_hot_sanity(df, label_cols):\n",
        "    sub = df[label_cols].astype(float)\n",
        "    row_sums = sub.sum(axis=1)\n",
        "    bad_all_zero  = int((row_sums == 0).sum())\n",
        "    bad_multi_hot = int((row_sums > 1.0 + 1e-9).sum())\n",
        "    bad_nans      = int(sub.isna().any(axis=1).sum())\n",
        "    dist = sub.idxmax(axis=1).value_counts(dropna=False).sort_index()\n",
        "    return bad_all_zero, bad_multi_hot, bad_nans, dist\n",
        "\n",
        "def coerce_one_hot_numeric(df, label_cols):\n",
        "    \"\"\"\n",
        "    Try to coerce a possibly stringy 'one-hot' block into numeric 0/1.\n",
        "    Rules per cell:\n",
        "      - numeric -> kept (0/1 expected, but any number allowed until sanity check)\n",
        "      - string equal to its column name (case-insensitive, trimmed) -> 1\n",
        "      - '1','true','yes' -> 1\n",
        "      - '0','false','no','' (empty) -> 0\n",
        "      - otherwise -> NaN (so NaN policy can handle)\n",
        "    \"\"\"\n",
        "    sub = df[label_cols].copy()\n",
        "\n",
        "    # Fast path: already numeric\n",
        "    if np.all(sub.dtypes.apply(lambda t: np.issubdtype(t, np.number))):\n",
        "        return sub.astype(float)\n",
        "\n",
        "    def to01(col_series, col_name):\n",
        "        s = col_series.astype(str).str.strip()\n",
        "        lower = s.str.lower()\n",
        "\n",
        "        is_colname = lower == col_name.lower()\n",
        "        is_one  = lower.isin([\"1\", \"true\", \"yes\", \"y\"])\n",
        "        is_zero = lower.isin([\"0\", \"false\", \"no\", \"n\", \"nan\", \"none\", \"\"])\n",
        "\n",
        "        out = pd.Series(np.nan, index=s.index, dtype=float)\n",
        "        out[is_colname | is_one] = 1.0\n",
        "        out[is_zero]             = 0.0\n",
        "\n",
        "        # If original dtype was numeric for some rows, preserve those values\n",
        "        # (helps when a column is mixed types)\n",
        "        mask_numeric = pd.to_numeric(col_series, errors=\"coerce\").notna()\n",
        "        out.loc[mask_numeric] = pd.to_numeric(col_series.loc[mask_numeric], errors=\"coerce\")\n",
        "\n",
        "        return out\n",
        "\n",
        "    coerced = pd.DataFrame(index=sub.index, columns=label_cols, dtype=float)\n",
        "    for c in label_cols:\n",
        "        coerced[c] = to01(sub[c], c)\n",
        "\n",
        "    return coerced\n",
        "\n",
        "\n",
        "def extract_labels(df, label_cols, class_order=None,\n",
        "                   all_zero_policy=\"drop\", nan_policy=\"drop\", prefer_target=True):\n",
        "    \"\"\"\n",
        "    Supports:\n",
        "      - Single label column (class names or ints)  --> map to ids\n",
        "      - Multi-column one-hot (numeric or stringy)  --> coerce to numeric then argmax\n",
        "      - Optional integer 'target' (0..C-1) if prefer_target=True\n",
        "    \"\"\"\n",
        "    df = df.copy()\n",
        "\n",
        "    # Single label column mode\n",
        "    if len(label_cols) == 1:\n",
        "        col = label_cols[0]\n",
        "        if prefer_target and 'target' in df.columns:\n",
        "            vals = df['target']\n",
        "            if vals.notna().all() and np.equal(vals, np.floor(vals)).all():\n",
        "                vals = vals.astype(int)\n",
        "                if class_order is None or (0 <= vals.min() and vals.max() < len(class_order)):\n",
        "                    return vals.values, df, {\"used\": \"target_single\"}\n",
        "\n",
        "        lab = df[col]\n",
        "        if nan_policy == \"drop\" and lab.isna().any():\n",
        "            before = len(df); df = df[lab.notna()].copy()\n",
        "            print(f\"[INFO] Dropped {before-len(df)} rows with NaN in '{col}'.\")\n",
        "            lab = df[col]\n",
        "        elif lab.isna().any():\n",
        "            raise ValueError(f\"NaN found in '{col}'. Set NAN_POLICY='drop' to drop them.\")\n",
        "\n",
        "        # Map strings to ids using provided class_order\n",
        "        if lab.dtype == object or isinstance(lab.iloc[0], str):\n",
        "            assert class_order is not None, \"Provide class_order to map string labels to ids.\"\n",
        "            name2idx = {n: i for i, n in enumerate(class_order)}\n",
        "            y = lab.astype(str).str.strip().map(name2idx)\n",
        "            if y.isna().any():\n",
        "                unknown = df.loc[y.isna(), col].unique()\n",
        "                raise ValueError(f\"Unknown label names: {unknown}. Update class_order or clean data.\")\n",
        "            return y.values.astype(int), df, {\"used\": \"single_str\"}\n",
        "        else:\n",
        "            return lab.astype(int).values, df, {\"used\": \"single_int\"}\n",
        "\n",
        "    # Multi-column one-hot mode\n",
        "    for c in label_cols:\n",
        "        if c not in df.columns:\n",
        "            raise ValueError(f\"Missing label column '{c}'.\")\n",
        "\n",
        "    # Prefer integer target if valid\n",
        "    if prefer_target and 'target' in df.columns:\n",
        "        col = df['target']\n",
        "        if col.notna().all() and np.equal(col, np.floor(col)).all():\n",
        "            vals = col.astype(int)\n",
        "            if 0 <= vals.min() and vals.max() < len(label_cols):\n",
        "                return vals.values, df, {\"used\": \"target_onehot\"}\n",
        "\n",
        "    # Coerce to numeric 0/1 if needed\n",
        "    sub = coerce_one_hot_numeric(df, label_cols)\n",
        "\n",
        "    # Handle NaNs\n",
        "    if sub.isna().any(axis=1).any():\n",
        "        if nan_policy == \"drop\":\n",
        "            before = len(df)\n",
        "            mask = ~sub.isna().any(axis=1)\n",
        "            df  = df.loc[mask].copy()\n",
        "            sub = sub.loc[mask].copy()\n",
        "            print(f\"[INFO] Dropped {before-len(df)} rows with NaN in label block after coercion.\")\n",
        "        else:\n",
        "            raise ValueError(\"NaN in label columns after coercion. Set NAN_POLICY='drop'.\")\n",
        "\n",
        "    # One-hot sanity\n",
        "    row_sums = sub.sum(axis=1).values\n",
        "    bad_multi = int((row_sums > 1.0 + 1e-9).sum())\n",
        "    bad_zero  = int((row_sums == 0).sum())\n",
        "\n",
        "    if bad_multi > 0:\n",
        "        raise ValueError(\"Found multi-hot rows; labels must be strictly one-hot.\")\n",
        "\n",
        "    if bad_zero > 0:\n",
        "        if all_zero_policy == \"drop\":\n",
        "            before = len(df)\n",
        "            keep = row_sums > 0\n",
        "            df  = df.loc[keep].copy()\n",
        "            sub = sub.loc[keep].copy()\n",
        "            print(f\"[INFO] Dropped {before-len(df)} rows with all-zero labels.\")\n",
        "        elif all_zero_policy == \"map_to_ok\":\n",
        "            if 'OK' not in label_cols:\n",
        "                raise ValueError(\"'map_to_ok' chosen but 'OK' not in label_cols.\")\n",
        "            mask0 = (row_sums == 0)\n",
        "            sub.loc[mask0, 'OK'] = 1.0\n",
        "            print(f\"[INFO] Mapped {int(mask0.sum())} all-zero rows to OK=1.\")\n",
        "        else:\n",
        "            raise ValueError(\"All-zero labels; set ALL_ZERO_POLICY='drop' or 'map_to_ok'.\")\n",
        "\n",
        "    y = sub.values.argmax(axis=1)\n",
        "    return y, df, {\"used\": \"one_hot_coerced\"}\n",
        "\n",
        "def ensure_feature_alignment(df, feature_names):\n",
        "    missing = [c for c in feature_names if c not in df.columns]\n",
        "    for c in missing:\n",
        "        df[c] = 0.0\n",
        "    return df[feature_names].astype(float)\n",
        "\n",
        "# ======================= MODEL =======================\n",
        "class CowHealthMLP(nn.Module):\n",
        "    def __init__(self, input_dim, hidden_dims, num_classes,\n",
        "                 dropout_rates=None, activation='relu', use_batchnorm=True):\n",
        "        super().__init__()\n",
        "        if dropout_rates is None: dropout_rates = [0.4] * len(hidden_dims)\n",
        "        act_map = {\n",
        "            'relu': nn.ReLU, 'leakyrelu': lambda: nn.LeakyReLU(0.1),\n",
        "            'gelu': nn.GELU, 'elu': nn.ELU\n",
        "        }\n",
        "        Act = act_map.get(activation.lower(), nn.ReLU)\n",
        "\n",
        "        layers = []\n",
        "        prev = input_dim\n",
        "        for h, dr in zip(hidden_dims, dropout_rates):\n",
        "            layers.append(nn.Linear(prev, h))\n",
        "            if use_batchnorm: layers.append(nn.BatchNorm1d(h))\n",
        "            layers.append(Act())\n",
        "            if dr and dr > 0: layers.append(nn.Dropout(dr))\n",
        "            prev = h\n",
        "        layers.append(nn.Linear(prev, num_classes))\n",
        "        self.net = nn.Sequential(*layers)\n",
        "\n",
        "        for m in self.modules():\n",
        "            if isinstance(m, nn.Linear):\n",
        "                nn.init.xavier_uniform_(m.weight)\n",
        "                if m.bias is not None: nn.init.zeros_(m.bias)\n",
        "\n",
        "    def forward(self, x): return self.net(x)\n",
        "\n",
        "class FocalLoss(nn.Module):\n",
        "    def __init__(self, weight=None, gamma=2.0, reduction='mean'):\n",
        "        super().__init__()\n",
        "        self.weight = weight; self.gamma = gamma; self.reduction = reduction\n",
        "    def forward(self, logits, target):\n",
        "        ce = nn.functional.cross_entropy(logits, target, weight=self.weight, reduction='none')\n",
        "        pt = torch.softmax(logits, dim=1).gather(1, target.view(-1,1)).squeeze(1).clamp(1e-6, 1-1e-6)\n",
        "        loss = ((1 - pt) ** self.gamma) * ce\n",
        "        return loss.mean() if self.reduction == 'mean' else loss.sum()\n",
        "\n",
        "class _TempScaler(nn.Module):\n",
        "    def __init__(self, init_T=1.0):\n",
        "        super().__init__()\n",
        "        self.logT = nn.Parameter(torch.tensor([math.log(init_T)], dtype=torch.float32))\n",
        "    def forward(self, logits): return logits / torch.exp(self.logT)\n",
        "    @property\n",
        "    def T(self): return float(torch.exp(self.logT).item())\n",
        "\n",
        "def learn_temperature(model, val_loader, init_T=1.0, max_iter=100, lr=0.01, weight=None):\n",
        "    model.eval()\n",
        "    temp = _TempScaler(init_T)\n",
        "    opt = optim.LBFGS(temp.parameters(), lr=lr, max_iter=max_iter)\n",
        "    loss_fn = nn.CrossEntropyLoss(weight=weight)\n",
        "    with torch.no_grad():\n",
        "        logits_list, labels_list = [], []\n",
        "        for xb, yb in val_loader:\n",
        "            logits_list.append(model(xb))\n",
        "            labels_list.append(yb)\n",
        "        logits = torch.cat(logits_list, 0)\n",
        "        labels = torch.cat(labels_list, 0)\n",
        "    def closure():\n",
        "        opt.zero_grad()\n",
        "        loss = loss_fn(temp(logits), labels)\n",
        "        loss.backward()\n",
        "        return loss\n",
        "    opt.step(closure)\n",
        "    return temp.T\n",
        "\n",
        "# ======================= DATA & TRAIN =======================\n",
        "def split_fit_scaler(df, label_cols, drop_cols=None, val_size=0.15, random_state=42):\n",
        "    df = df.copy()\n",
        "    y, df_clean, _ = extract_labels(\n",
        "        df, label_cols,\n",
        "        all_zero_policy=ALL_ZERO_POLICY,\n",
        "        nan_policy=NAN_POLICY,\n",
        "        prefer_target=PREFER_TARGET_COLUMN\n",
        "    )\n",
        "\n",
        "    feature_df = df_clean.drop(columns=(drop_cols or []) + label_cols + (['target'] if 'target' in df_clean.columns else []))\n",
        "    feature_names = feature_df.columns.tolist()\n",
        "\n",
        "    X_train, X_val, y_train, y_val = train_test_split(\n",
        "        feature_df.values, y, test_size=val_size, random_state=random_state, stratify=y\n",
        "    )\n",
        "    scaler = StandardScaler().fit(X_train)\n",
        "    X_train = scaler.transform(X_train)\n",
        "    X_val   = scaler.transform(X_val)\n",
        "    return X_train, y_train, X_val, y_val, scaler, feature_names\n",
        "\n",
        "def make_loaders_from_arrays(X_train, y_train, X_val, y_val, batch_size=128):\n",
        "    def td(x, y): return TensorDataset(torch.tensor(x, dtype=torch.float32),\n",
        "                                       torch.tensor(y, dtype=torch.long))\n",
        "    train_loader = DataLoader(td(X_train, y_train), batch_size=batch_size, shuffle=True)\n",
        "    val_loader   = DataLoader(td(X_val,   y_val),   batch_size=batch_size, shuffle=False)\n",
        "    return train_loader, val_loader\n",
        "\n",
        "def class_weights_from_train(y_train, n_classes):\n",
        "    w = compute_class_weight('balanced', classes=np.arange(n_classes), y=y_train)\n",
        "    return torch.tensor(w, dtype=torch.float32)\n",
        "\n",
        "def train_on_trainval(\n",
        "    df_trainval, label_cols, drop_cols=None,\n",
        "    hidden_dims=HIDDEN_DIMS, dropout_rates=DROPOUTS,\n",
        "    activation=ACTIVATION, use_batchnorm=USE_BN,\n",
        "    batch_size=BATCH_SIZE, lr=LR, weight_decay=WEIGHT_DECAY,\n",
        "    epochs=EPOCHS, patience=PATIENCE, min_delta=MIN_DELTA,\n",
        "    use_focal_loss=USE_FOCAL, learn_temp=LEARN_TEMP\n",
        "):\n",
        "    set_seed(SEED)\n",
        "    X_tr, y_tr, X_val, y_val, scaler, feature_names = split_fit_scaler(\n",
        "        df_trainval, label_cols, drop_cols, val_size=VAL_SIZE, random_state=SEED\n",
        "    )\n",
        "    n_classes = len(label_cols)\n",
        "    train_loader, val_loader = make_loaders_from_arrays(X_tr, y_tr, X_val, y_val, batch_size=batch_size)\n",
        "    class_w = class_weights_from_train(y_tr, n_classes)\n",
        "\n",
        "    model = CowHealthMLP(\n",
        "        input_dim=len(feature_names), hidden_dims=hidden_dims, num_classes=n_classes,\n",
        "        dropout_rates=dropout_rates, activation=activation, use_batchnorm=use_batchnorm\n",
        "    )\n",
        "\n",
        "    criterion = FocalLoss(weight=class_w) if use_focal_loss else nn.CrossEntropyLoss(weight=class_w)\n",
        "    optimizer = optim.AdamW(model.parameters(), lr=lr, weight_decay=weight_decay)\n",
        "    scheduler = optim.lr_scheduler.ReduceLROnPlateau(optimizer, 'min', patience=30, factor=0.5)\n",
        "\n",
        "    best_val, best_state = float('inf'), None\n",
        "    train_loss_hist, val_loss_hist, val_f1_hist = [], [], []\n",
        "    epochs_no_improve = 0\n",
        "\n",
        "    for epoch in tqdm(range(epochs), desc=\"Training\"):\n",
        "        model.train()\n",
        "        run_loss = 0.0\n",
        "        for xb, yb in train_loader:\n",
        "            optimizer.zero_grad(set_to_none=True)\n",
        "            out = model(xb)\n",
        "            loss = criterion(out, yb)\n",
        "            loss.backward()\n",
        "            optimizer.step()\n",
        "            run_loss += loss.item() * xb.size(0)\n",
        "        run_loss /= len(train_loader.dataset)\n",
        "        train_loss_hist.append(run_loss)\n",
        "\n",
        "        model.eval()\n",
        "        vloss, vpreds, vlabels = 0.0, [], []\n",
        "        with torch.no_grad():\n",
        "            for xb, yb in val_loader:\n",
        "                out = model(xb)\n",
        "                loss = criterion(out, yb)\n",
        "                vloss += loss.item() * xb.size(0)\n",
        "                vpreds.extend(out.argmax(1).cpu().numpy())\n",
        "                vlabels.extend(yb.cpu().numpy())\n",
        "        vloss /= len(val_loader.dataset)\n",
        "        val_loss_hist.append(vloss)\n",
        "        val_f1 = f1_score(vlabels, vpreds, average='macro')\n",
        "        val_f1_hist.append(val_f1)\n",
        "        scheduler.step(vloss)\n",
        "\n",
        "        uniq = np.unique(vpreds)\n",
        "        if uniq.size == 1:\n",
        "            print(f\"[epoch {epoch+1}] WARNING: only predicted class {uniq[0]} on VAL — check imbalance.\")\n",
        "\n",
        "        if vloss < best_val - min_delta:\n",
        "            best_val, best_state = vloss, model.state_dict()\n",
        "            epochs_no_improve = 0\n",
        "        else:\n",
        "            epochs_no_improve += 1\n",
        "            if epochs_no_improve >= patience:\n",
        "                print(f\"\\nEarly stopping at epoch {epoch+1}\")\n",
        "                break\n",
        "\n",
        "    if best_state is not None:\n",
        "        model.load_state_dict(best_state)\n",
        "\n",
        "    # plots\n",
        "    plt.figure(figsize=(12,5))\n",
        "    plt.subplot(1,2,1); plt.plot(train_loss_hist,label='Train'); plt.plot(val_loss_hist,label='Val')\n",
        "    plt.title('Loss'); plt.grid(); plt.legend()\n",
        "    plt.subplot(1,2,2); plt.plot(val_f1_hist,label='Val F1 (macro)')\n",
        "    plt.title('Val F1 (macro)'); plt.grid(); plt.legend()\n",
        "    plt.tight_layout(); plt.show()\n",
        "\n",
        "    T = 1.0\n",
        "    if learn_temp:\n",
        "        T = learn_temperature(model, val_loader, init_T=1.0, lr=0.01, max_iter=100, weight=class_w)\n",
        "        print(f\"✓ Learned temperature on validation: T = {T:.3f}\")\n",
        "\n",
        "    return model, scaler, T, feature_names\n",
        "\n",
        "# ======================= EVAL =======================\n",
        "def transform_with_scaler(df, label_cols, drop_cols, scaler, feature_names):\n",
        "    df = df.copy()\n",
        "    y, df_clean, _ = extract_labels(\n",
        "        df, label_cols,\n",
        "        all_zero_policy=ALL_ZERO_POLICY,\n",
        "        nan_policy=NAN_POLICY,\n",
        "        prefer_target=PREFER_TARGET_COLUMN\n",
        "    )\n",
        "    feat_df = df_clean.drop(columns=(drop_cols or []) + label_cols + (['target'] if 'target' in df_clean.columns else []))\n",
        "    feat_df = ensure_feature_alignment(feat_df, feature_names)\n",
        "    X = scaler.transform(feat_df.values)\n",
        "    return X, y\n",
        "\n",
        "def plot_per_class_metrics(y_true, y_pred, class_names):\n",
        "    pr, rc, f1, _ = precision_recall_fscore_support(y_true, y_pred, labels=np.arange(len(class_names)))\n",
        "    fig, ax = plt.subplots(1, 1, figsize=(8, 3.5))\n",
        "    table = pd.DataFrame({'precision': pr, 'recall': rc, 'f1': f1}, index=class_names)\n",
        "    ax.axis('off'); ax.table(cellText=np.round(table.values, 4), colLabels=table.columns,\n",
        "                             rowLabels=table.index, loc='center')\n",
        "    ax.set_title(\"Per-class metrics\"); plt.tight_layout(); plt.show()\n",
        "\n",
        "    cm = confusion_matrix(y_true, y_pred, labels=np.arange(len(class_names)))\n",
        "    fig, ax = plt.subplots(figsize=(6, 5))\n",
        "    im = ax.imshow(cm, interpolation='nearest', aspect='auto')\n",
        "    ax.figure.colorbar(im, ax=ax)\n",
        "    ax.set(xticks=np.arange(cm.shape[1]), yticks=np.arange(cm.shape[0]),\n",
        "           xticklabels=class_names, yticklabels=class_names,\n",
        "           ylabel='True label', xlabel='Predicted label', title='Confusion Matrix')\n",
        "    plt.setp(ax.get_xticklabels(), rotation=45, ha=\"right\", rotation_mode=\"anchor\")\n",
        "    for i in range(cm.shape[0]):\n",
        "        for j in range(cm.shape[1]):\n",
        "            ax.text(j, i, cm[i, j],\n",
        "                    ha=\"center\", va=\"center\",\n",
        "                    color=\"white\" if cm[i,j] > cm.max()/2 else \"black\")\n",
        "    plt.tight_layout(); plt.show()\n",
        "\n",
        "def print_f1_summary(y_true, y_pred):\n",
        "    print(\"\\nSummary:\")\n",
        "    print(f\"  Accuracy      : {accuracy_score(y_true, y_pred):.4f}\")\n",
        "    print(f\"  F1 (macro)    : {f1_score(y_true, y_pred, average='macro'):.4f}\")\n",
        "    print(f\"  F1 (weighted) : {f1_score(y_true, y_pred, average='weighted'):.4f}\")\n",
        "\n",
        "def evaluate_on_holdout(model, scaler, df_holdout, label_cols, drop_cols=None,\n",
        "                        feature_names=None, temperature=1.0, batch_size=128):\n",
        "    model.eval()\n",
        "    X_test, y_test = transform_with_scaler(df_holdout, label_cols, drop_cols, scaler, feature_names)\n",
        "    ds = TensorDataset(torch.tensor(X_test, dtype=torch.float32), torch.tensor(y_test, dtype=torch.long))\n",
        "    loader = DataLoader(ds, batch_size=batch_size, shuffle=False)\n",
        "\n",
        "    all_preds, all_probs, all_labels = [], [], []\n",
        "    with torch.no_grad():\n",
        "        for xb, yb in loader:\n",
        "            logits = model(xb) / temperature\n",
        "            probs = torch.softmax(logits, dim=1)\n",
        "            preds = probs.argmax(1)\n",
        "            all_probs.extend(probs.cpu().numpy())\n",
        "            all_preds.extend(preds.cpu().numpy())\n",
        "            all_labels.extend(yb.cpu().numpy())\n",
        "\n",
        "    print(\"\\n📊 Holdout Classification Report\")\n",
        "    print(classification_report(all_labels, all_preds, target_names=label_cols))\n",
        "    plot_per_class_metrics(all_labels, all_preds, label_cols)\n",
        "    print_f1_summary(all_labels, all_preds)\n",
        "    print(\"Unique predicted classes on HOLDOUT:\", np.unique(all_preds))\n",
        "\n",
        "    return {\n",
        "        'predictions': np.array(all_preds),\n",
        "        'labels': np.array(all_labels),\n",
        "        'probabilities': np.array(all_probs),\n",
        "        'confusion_matrix': confusion_matrix(all_labels, all_preds)\n",
        "    }\n",
        "\n",
        "# ======================= MAIN =======================\n",
        "if __name__ == \"__main__\":\n",
        "    set_seed(SEED)\n",
        "\n",
        "    FULL_LABELS, IDX2NAME, NAME2IDX = freeze_label_order(include_calving=INCLUDE_CALVING)\n",
        "\n",
        "    df_trainval = pd.read_csv(TRAINVAL_PATH)\n",
        "    df_holdout  = pd.read_csv(HOLDOUT_PATH)\n",
        "\n",
        "    df_trainval = optionally_drop_calving(df_trainval, INCLUDE_CALVING)\n",
        "    df_holdout  = optionally_drop_calving(df_holdout,  INCLUDE_CALVING)\n",
        "\n",
        "    drop_cols = ['cow','start_time','end_time']\n",
        "    if 'calving' in df_trainval.columns and 'calving' not in drop_cols:\n",
        "        drop_cols.append('calving')\n",
        "\n",
        "    model, scaler, T, feature_names = train_on_trainval(\n",
        "        df_trainval,\n",
        "        label_cols=FULL_LABELS,\n",
        "        drop_cols=drop_cols,\n",
        "        hidden_dims=HIDDEN_DIMS,\n",
        "        dropout_rates=DROPOUTS,\n",
        "        activation=ACTIVATION,\n",
        "        use_batchnorm=USE_BN,\n",
        "        batch_size=BATCH_SIZE,\n",
        "        lr=LR,\n",
        "        weight_decay=WEIGHT_DECAY,\n",
        "        epochs=EPOCHS,\n",
        "        patience=PATIENCE,\n",
        "        min_delta=MIN_DELTA,\n",
        "        use_focal_loss=USE_FOCAL,\n",
        "        learn_temp=LEARN_TEMP\n",
        "    )\n",
        "\n",
        "    _ = evaluate_on_holdout(\n",
        "        model, scaler, df_holdout,\n",
        "        label_cols=FULL_LABELS,\n",
        "        drop_cols=drop_cols,\n",
        "        feature_names=feature_names,\n",
        "        temperature=T,\n",
        "        batch_size=BATCH_SIZE\n",
        "    )\n"
      ]
    },
    {
      "cell_type": "code",
      "execution_count": 5,
      "id": "xmWuc2yvDV25",
      "metadata": {
        "colab": {
          "base_uri": "https://localhost:8080/",
          "height": 1000
        },
        "id": "xmWuc2yvDV25",
        "outputId": "980f971d-88b4-4fe7-f095-eaa4fc1d0739"
      },
      "outputs": [
        {
          "name": "stdout",
          "output_type": "stream",
          "text": [
            "[DEBUG] y_tr distribution: Counter({5: 133396, 1: 1008, 0: 944, 2: 638, 4: 514, 3: 182})\n",
            "[DEBUG] y_val distribution: Counter({5: 23541, 1: 178, 0: 167, 2: 112, 4: 91, 3: 32})\n",
            "[DEBUG] n_features: 23\n",
            "[DEBUG] any NaNs in X_tr/X_val: False False\n"
          ]
        },
        {
          "name": "stderr",
          "output_type": "stream",
          "text": [
            "Training:   0%|          | 0/200 [00:00<?, ?it/s]"
          ]
        },
        {
          "name": "stdout",
          "output_type": "stream",
          "text": [
            "[DEBUG] val logits mean/std per class (first batch): [-4.084 -5.655 -3.438 -6.084 -4.243 -4.063] [1.578 1.363 1.106 1.601 1.147 1.135]\n"
          ]
        },
        {
          "name": "stderr",
          "output_type": "stream",
          "text": [
            "Training:   0%|          | 1/200 [00:12<41:54, 12.64s/it]"
          ]
        },
        {
          "name": "stdout",
          "output_type": "stream",
          "text": [
            "[epoch 001] train_loss=2.7834 | val_loss=0.6424 | val_f1=0.0755\n"
          ]
        },
        {
          "name": "stderr",
          "output_type": "stream",
          "text": [
            "Training:   1%|          | 2/200 [00:25<42:15, 12.81s/it]"
          ]
        },
        {
          "name": "stdout",
          "output_type": "stream",
          "text": [
            "[epoch 002] train_loss=1.7644 | val_loss=0.5736 | val_f1=0.0735\n"
          ]
        },
        {
          "name": "stderr",
          "output_type": "stream",
          "text": [
            "Training:   2%|▏         | 3/200 [00:37<40:52, 12.45s/it]"
          ]
        },
        {
          "name": "stdout",
          "output_type": "stream",
          "text": [
            "[epoch 003] train_loss=1.4773 | val_loss=0.4886 | val_f1=0.1034\n"
          ]
        },
        {
          "name": "stderr",
          "output_type": "stream",
          "text": [
            "Training:   2%|▏         | 4/200 [00:51<42:21, 12.96s/it]"
          ]
        },
        {
          "name": "stdout",
          "output_type": "stream",
          "text": [
            "[epoch 004] train_loss=1.3029 | val_loss=0.4703 | val_f1=0.0989\n"
          ]
        },
        {
          "name": "stderr",
          "output_type": "stream",
          "text": [
            "Training:   2%|▎         | 5/200 [01:04<42:17, 13.01s/it]"
          ]
        },
        {
          "name": "stdout",
          "output_type": "stream",
          "text": [
            "[epoch 005] train_loss=1.1733 | val_loss=0.4388 | val_f1=0.0963\n"
          ]
        },
        {
          "name": "stderr",
          "output_type": "stream",
          "text": [
            "Training:   3%|▎         | 6/200 [01:16<40:46, 12.61s/it]"
          ]
        },
        {
          "name": "stdout",
          "output_type": "stream",
          "text": [
            "[epoch 006] train_loss=1.1018 | val_loss=0.4370 | val_f1=0.1022\n"
          ]
        },
        {
          "name": "stderr",
          "output_type": "stream",
          "text": [
            "Training:   4%|▎         | 7/200 [01:28<40:26, 12.57s/it]"
          ]
        },
        {
          "name": "stdout",
          "output_type": "stream",
          "text": [
            "[epoch 007] train_loss=0.9696 | val_loss=0.4220 | val_f1=0.1127\n"
          ]
        },
        {
          "name": "stderr",
          "output_type": "stream",
          "text": [
            "Training:   4%|▍         | 8/200 [01:41<40:36, 12.69s/it]"
          ]
        },
        {
          "name": "stdout",
          "output_type": "stream",
          "text": [
            "[epoch 008] train_loss=0.9235 | val_loss=0.3753 | val_f1=0.1053\n"
          ]
        },
        {
          "name": "stderr",
          "output_type": "stream",
          "text": [
            "Training:   4%|▍         | 9/200 [01:55<41:51, 13.15s/it]"
          ]
        },
        {
          "name": "stdout",
          "output_type": "stream",
          "text": [
            "[epoch 009] train_loss=0.8491 | val_loss=0.3348 | val_f1=0.1278\n"
          ]
        },
        {
          "name": "stderr",
          "output_type": "stream",
          "text": [
            "Training:   5%|▌         | 10/200 [02:07<40:35, 12.82s/it]"
          ]
        },
        {
          "name": "stdout",
          "output_type": "stream",
          "text": [
            "[epoch 010] train_loss=0.8245 | val_loss=0.3322 | val_f1=0.1240\n"
          ]
        },
        {
          "name": "stderr",
          "output_type": "stream",
          "text": [
            "Training:   6%|▌         | 11/200 [02:20<40:14, 12.77s/it]"
          ]
        },
        {
          "name": "stdout",
          "output_type": "stream",
          "text": [
            "[epoch 011] train_loss=0.7702 | val_loss=0.3499 | val_f1=0.1159\n"
          ]
        },
        {
          "name": "stderr",
          "output_type": "stream",
          "text": [
            "Training:   6%|▌         | 12/200 [02:32<39:15, 12.53s/it]"
          ]
        },
        {
          "name": "stdout",
          "output_type": "stream",
          "text": [
            "[epoch 012] train_loss=0.7195 | val_loss=0.3483 | val_f1=0.1217\n"
          ]
        },
        {
          "name": "stderr",
          "output_type": "stream",
          "text": [
            "Training:   6%|▋         | 13/200 [02:42<36:42, 11.78s/it]"
          ]
        },
        {
          "name": "stdout",
          "output_type": "stream",
          "text": [
            "[epoch 013] train_loss=0.6922 | val_loss=0.3068 | val_f1=0.1327\n"
          ]
        },
        {
          "name": "stderr",
          "output_type": "stream",
          "text": [
            "Training:   7%|▋         | 14/200 [02:51<33:24, 10.78s/it]"
          ]
        },
        {
          "name": "stdout",
          "output_type": "stream",
          "text": [
            "[epoch 014] train_loss=0.6752 | val_loss=0.3275 | val_f1=0.1332\n"
          ]
        },
        {
          "name": "stderr",
          "output_type": "stream",
          "text": [
            "Training:   8%|▊         | 15/200 [02:59<31:18, 10.16s/it]"
          ]
        },
        {
          "name": "stdout",
          "output_type": "stream",
          "text": [
            "[epoch 015] train_loss=0.6535 | val_loss=0.3052 | val_f1=0.1256\n"
          ]
        },
        {
          "name": "stderr",
          "output_type": "stream",
          "text": [
            "Training:   8%|▊         | 16/200 [03:07<28:52,  9.42s/it]"
          ]
        },
        {
          "name": "stdout",
          "output_type": "stream",
          "text": [
            "[epoch 016] train_loss=0.6270 | val_loss=0.2728 | val_f1=0.1322\n"
          ]
        },
        {
          "name": "stderr",
          "output_type": "stream",
          "text": [
            "Training:   8%|▊         | 17/200 [03:15<27:20,  8.97s/it]"
          ]
        },
        {
          "name": "stdout",
          "output_type": "stream",
          "text": [
            "[epoch 017] train_loss=0.5767 | val_loss=0.2614 | val_f1=0.1423\n"
          ]
        },
        {
          "name": "stderr",
          "output_type": "stream",
          "text": [
            "Training:   9%|▉         | 18/200 [03:28<30:37, 10.10s/it]"
          ]
        },
        {
          "name": "stdout",
          "output_type": "stream",
          "text": [
            "[epoch 018] train_loss=0.5580 | val_loss=0.3072 | val_f1=0.1370\n"
          ]
        },
        {
          "name": "stderr",
          "output_type": "stream",
          "text": [
            "Training:  10%|▉         | 19/200 [03:39<31:52, 10.56s/it]"
          ]
        },
        {
          "name": "stdout",
          "output_type": "stream",
          "text": [
            "[epoch 019] train_loss=0.5574 | val_loss=0.2757 | val_f1=0.1444\n"
          ]
        },
        {
          "name": "stderr",
          "output_type": "stream",
          "text": [
            "Training:  10%|█         | 20/200 [03:52<33:58, 11.32s/it]"
          ]
        },
        {
          "name": "stdout",
          "output_type": "stream",
          "text": [
            "[epoch 020] train_loss=0.5171 | val_loss=0.2726 | val_f1=0.1500\n"
          ]
        },
        {
          "name": "stderr",
          "output_type": "stream",
          "text": [
            "Training:  10%|█         | 21/200 [04:05<35:20, 11.85s/it]"
          ]
        },
        {
          "name": "stdout",
          "output_type": "stream",
          "text": [
            "[epoch 021] train_loss=0.5216 | val_loss=0.2561 | val_f1=0.1402\n"
          ]
        },
        {
          "name": "stderr",
          "output_type": "stream",
          "text": [
            "Training:  11%|█         | 22/200 [04:18<35:41, 12.03s/it]"
          ]
        },
        {
          "name": "stdout",
          "output_type": "stream",
          "text": [
            "[epoch 022] train_loss=0.5080 | val_loss=0.2829 | val_f1=0.1417\n"
          ]
        },
        {
          "name": "stderr",
          "output_type": "stream",
          "text": [
            "Training:  12%|█▏        | 23/200 [04:31<36:44, 12.46s/it]"
          ]
        },
        {
          "name": "stdout",
          "output_type": "stream",
          "text": [
            "[epoch 023] train_loss=0.5215 | val_loss=0.2484 | val_f1=0.1454\n"
          ]
        },
        {
          "name": "stderr",
          "output_type": "stream",
          "text": [
            "Training:  12%|█▏        | 24/200 [04:45<37:48, 12.89s/it]"
          ]
        },
        {
          "name": "stdout",
          "output_type": "stream",
          "text": [
            "[epoch 024] train_loss=0.4820 | val_loss=0.2650 | val_f1=0.1444\n"
          ]
        },
        {
          "name": "stderr",
          "output_type": "stream",
          "text": [
            "Training:  12%|█▎        | 25/200 [04:58<37:35, 12.89s/it]"
          ]
        },
        {
          "name": "stdout",
          "output_type": "stream",
          "text": [
            "[epoch 025] train_loss=0.4686 | val_loss=0.2458 | val_f1=0.1557\n"
          ]
        },
        {
          "name": "stderr",
          "output_type": "stream",
          "text": [
            "Training:  13%|█▎        | 26/200 [05:12<38:11, 13.17s/it]"
          ]
        },
        {
          "name": "stdout",
          "output_type": "stream",
          "text": [
            "[epoch 026] train_loss=0.4391 | val_loss=0.2652 | val_f1=0.1584\n"
          ]
        },
        {
          "name": "stderr",
          "output_type": "stream",
          "text": [
            "Training:  14%|█▎        | 27/200 [05:25<37:42, 13.08s/it]"
          ]
        },
        {
          "name": "stdout",
          "output_type": "stream",
          "text": [
            "[epoch 027] train_loss=0.4755 | val_loss=0.2452 | val_f1=0.1536\n"
          ]
        },
        {
          "name": "stderr",
          "output_type": "stream",
          "text": [
            "Training:  14%|█▍        | 28/200 [05:38<37:50, 13.20s/it]"
          ]
        },
        {
          "name": "stdout",
          "output_type": "stream",
          "text": [
            "[epoch 028] train_loss=0.4475 | val_loss=0.2543 | val_f1=0.1542\n"
          ]
        },
        {
          "name": "stderr",
          "output_type": "stream",
          "text": [
            "Training:  14%|█▍        | 29/200 [05:51<36:57, 12.97s/it]"
          ]
        },
        {
          "name": "stdout",
          "output_type": "stream",
          "text": [
            "[epoch 029] train_loss=0.4335 | val_loss=0.2929 | val_f1=0.1556\n"
          ]
        },
        {
          "name": "stderr",
          "output_type": "stream",
          "text": [
            "Training:  15%|█▌        | 30/200 [06:03<36:16, 12.81s/it]"
          ]
        },
        {
          "name": "stdout",
          "output_type": "stream",
          "text": [
            "[epoch 030] train_loss=0.4205 | val_loss=0.2798 | val_f1=0.1595\n"
          ]
        },
        {
          "name": "stderr",
          "output_type": "stream",
          "text": [
            "Training:  16%|█▌        | 31/200 [06:16<35:58, 12.77s/it]"
          ]
        },
        {
          "name": "stdout",
          "output_type": "stream",
          "text": [
            "[epoch 031] train_loss=0.4169 | val_loss=0.2160 | val_f1=0.1635\n"
          ]
        },
        {
          "name": "stderr",
          "output_type": "stream",
          "text": [
            "Training:  16%|█▌        | 32/200 [06:27<34:39, 12.38s/it]"
          ]
        },
        {
          "name": "stdout",
          "output_type": "stream",
          "text": [
            "[epoch 032] train_loss=0.4003 | val_loss=0.2261 | val_f1=0.1639\n"
          ]
        },
        {
          "name": "stderr",
          "output_type": "stream",
          "text": [
            "Training:  16%|█▋        | 33/200 [06:38<33:22, 11.99s/it]"
          ]
        },
        {
          "name": "stdout",
          "output_type": "stream",
          "text": [
            "[epoch 033] train_loss=0.4208 | val_loss=0.2133 | val_f1=0.1577\n"
          ]
        },
        {
          "name": "stderr",
          "output_type": "stream",
          "text": [
            "Training:  17%|█▋        | 34/200 [06:51<33:50, 12.23s/it]"
          ]
        },
        {
          "name": "stdout",
          "output_type": "stream",
          "text": [
            "[epoch 034] train_loss=0.3994 | val_loss=0.2393 | val_f1=0.1623\n"
          ]
        },
        {
          "name": "stderr",
          "output_type": "stream",
          "text": [
            "Training:  18%|█▊        | 35/200 [07:05<34:35, 12.58s/it]"
          ]
        },
        {
          "name": "stdout",
          "output_type": "stream",
          "text": [
            "[epoch 035] train_loss=0.4203 | val_loss=0.2232 | val_f1=0.1656\n"
          ]
        },
        {
          "name": "stderr",
          "output_type": "stream",
          "text": [
            "Training:  18%|█▊        | 36/200 [07:18<35:14, 12.89s/it]"
          ]
        },
        {
          "name": "stdout",
          "output_type": "stream",
          "text": [
            "[epoch 036] train_loss=0.4087 | val_loss=0.2552 | val_f1=0.1571\n"
          ]
        },
        {
          "name": "stderr",
          "output_type": "stream",
          "text": [
            "Training:  18%|█▊        | 37/200 [07:32<35:47, 13.17s/it]"
          ]
        },
        {
          "name": "stdout",
          "output_type": "stream",
          "text": [
            "[epoch 037] train_loss=0.3829 | val_loss=0.2463 | val_f1=0.1584\n"
          ]
        },
        {
          "name": "stderr",
          "output_type": "stream",
          "text": [
            "Training:  19%|█▉        | 38/200 [07:47<36:46, 13.62s/it]"
          ]
        },
        {
          "name": "stdout",
          "output_type": "stream",
          "text": [
            "[epoch 038] train_loss=0.4136 | val_loss=0.2183 | val_f1=0.1630\n"
          ]
        },
        {
          "name": "stderr",
          "output_type": "stream",
          "text": [
            "Training:  20%|█▉        | 39/200 [08:01<36:51, 13.74s/it]"
          ]
        },
        {
          "name": "stdout",
          "output_type": "stream",
          "text": [
            "[epoch 039] train_loss=0.3659 | val_loss=0.2411 | val_f1=0.1600\n"
          ]
        },
        {
          "name": "stderr",
          "output_type": "stream",
          "text": [
            "Training:  20%|██        | 40/200 [08:15<36:51, 13.82s/it]"
          ]
        },
        {
          "name": "stdout",
          "output_type": "stream",
          "text": [
            "[epoch 040] train_loss=0.3711 | val_loss=0.2264 | val_f1=0.1568\n"
          ]
        },
        {
          "name": "stderr",
          "output_type": "stream",
          "text": [
            "Training:  20%|██        | 41/200 [08:28<36:32, 13.79s/it]"
          ]
        },
        {
          "name": "stdout",
          "output_type": "stream",
          "text": [
            "[epoch 041] train_loss=0.3677 | val_loss=0.2529 | val_f1=0.1545\n"
          ]
        },
        {
          "name": "stderr",
          "output_type": "stream",
          "text": [
            "Training:  21%|██        | 42/200 [08:42<36:20, 13.80s/it]"
          ]
        },
        {
          "name": "stdout",
          "output_type": "stream",
          "text": [
            "[epoch 042] train_loss=0.3690 | val_loss=0.2368 | val_f1=0.1652\n"
          ]
        },
        {
          "name": "stderr",
          "output_type": "stream",
          "text": [
            "Training:  22%|██▏       | 43/200 [08:57<36:25, 13.92s/it]"
          ]
        },
        {
          "name": "stdout",
          "output_type": "stream",
          "text": [
            "[epoch 043] train_loss=0.3625 | val_loss=0.2416 | val_f1=0.1589\n"
          ]
        },
        {
          "name": "stderr",
          "output_type": "stream",
          "text": [
            "Training:  22%|██▏       | 44/200 [09:11<36:48, 14.16s/it]"
          ]
        },
        {
          "name": "stdout",
          "output_type": "stream",
          "text": [
            "[epoch 044] train_loss=0.3440 | val_loss=0.2367 | val_f1=0.1605\n"
          ]
        },
        {
          "name": "stderr",
          "output_type": "stream",
          "text": [
            "Training:  22%|██▎       | 45/200 [09:25<36:05, 13.97s/it]"
          ]
        },
        {
          "name": "stdout",
          "output_type": "stream",
          "text": [
            "[epoch 045] train_loss=0.3715 | val_loss=0.2250 | val_f1=0.1603\n"
          ]
        },
        {
          "name": "stderr",
          "output_type": "stream",
          "text": [
            "Training:  23%|██▎       | 46/200 [09:38<35:32, 13.85s/it]"
          ]
        },
        {
          "name": "stdout",
          "output_type": "stream",
          "text": [
            "[epoch 046] train_loss=0.3635 | val_loss=0.2168 | val_f1=0.1746\n"
          ]
        },
        {
          "name": "stderr",
          "output_type": "stream",
          "text": [
            "Training:  24%|██▎       | 47/200 [09:51<34:48, 13.65s/it]"
          ]
        },
        {
          "name": "stdout",
          "output_type": "stream",
          "text": [
            "[epoch 047] train_loss=0.3484 | val_loss=0.2178 | val_f1=0.1693\n"
          ]
        },
        {
          "name": "stderr",
          "output_type": "stream",
          "text": [
            "Training:  24%|██▍       | 48/200 [10:04<33:53, 13.38s/it]"
          ]
        },
        {
          "name": "stdout",
          "output_type": "stream",
          "text": [
            "[epoch 048] train_loss=0.3450 | val_loss=0.2317 | val_f1=0.1660\n"
          ]
        },
        {
          "name": "stderr",
          "output_type": "stream",
          "text": [
            "Training:  24%|██▍       | 49/200 [10:18<33:45, 13.42s/it]"
          ]
        },
        {
          "name": "stdout",
          "output_type": "stream",
          "text": [
            "[epoch 049] train_loss=0.3390 | val_loss=0.2191 | val_f1=0.1758\n"
          ]
        },
        {
          "name": "stderr",
          "output_type": "stream",
          "text": [
            "Training:  25%|██▌       | 50/200 [10:31<33:17, 13.32s/it]"
          ]
        },
        {
          "name": "stdout",
          "output_type": "stream",
          "text": [
            "[epoch 050] train_loss=0.3425 | val_loss=0.2249 | val_f1=0.1732\n"
          ]
        },
        {
          "name": "stderr",
          "output_type": "stream",
          "text": [
            "Training:  26%|██▌       | 51/200 [10:44<33:06, 13.33s/it]"
          ]
        },
        {
          "name": "stdout",
          "output_type": "stream",
          "text": [
            "[epoch 051] train_loss=0.3536 | val_loss=0.2180 | val_f1=0.1740\n"
          ]
        },
        {
          "name": "stderr",
          "output_type": "stream",
          "text": [
            "Training:  26%|██▌       | 52/200 [10:57<32:30, 13.18s/it]"
          ]
        },
        {
          "name": "stdout",
          "output_type": "stream",
          "text": [
            "[epoch 052] train_loss=0.3311 | val_loss=0.2053 | val_f1=0.1767\n"
          ]
        },
        {
          "name": "stderr",
          "output_type": "stream",
          "text": [
            "Training:  26%|██▋       | 53/200 [11:11<32:35, 13.30s/it]"
          ]
        },
        {
          "name": "stdout",
          "output_type": "stream",
          "text": [
            "[epoch 053] train_loss=0.3232 | val_loss=0.2209 | val_f1=0.1758\n"
          ]
        },
        {
          "name": "stderr",
          "output_type": "stream",
          "text": [
            "Training:  27%|██▋       | 54/200 [11:24<32:07, 13.20s/it]"
          ]
        },
        {
          "name": "stdout",
          "output_type": "stream",
          "text": [
            "[epoch 054] train_loss=0.3455 | val_loss=0.2285 | val_f1=0.1807\n"
          ]
        },
        {
          "name": "stderr",
          "output_type": "stream",
          "text": [
            "Training:  28%|██▊       | 55/200 [11:38<33:03, 13.68s/it]"
          ]
        },
        {
          "name": "stdout",
          "output_type": "stream",
          "text": [
            "[epoch 055] train_loss=0.3058 | val_loss=0.2231 | val_f1=0.1761\n"
          ]
        },
        {
          "name": "stderr",
          "output_type": "stream",
          "text": [
            "Training:  28%|██▊       | 56/200 [11:53<33:39, 14.02s/it]"
          ]
        },
        {
          "name": "stdout",
          "output_type": "stream",
          "text": [
            "[epoch 056] train_loss=0.3123 | val_loss=0.1853 | val_f1=0.1796\n"
          ]
        },
        {
          "name": "stderr",
          "output_type": "stream",
          "text": [
            "Training:  28%|██▊       | 57/200 [12:06<32:32, 13.65s/it]"
          ]
        },
        {
          "name": "stdout",
          "output_type": "stream",
          "text": [
            "[epoch 057] train_loss=0.3140 | val_loss=0.2292 | val_f1=0.1893\n"
          ]
        },
        {
          "name": "stderr",
          "output_type": "stream",
          "text": [
            "Training:  29%|██▉       | 58/200 [12:20<32:19, 13.66s/it]"
          ]
        },
        {
          "name": "stdout",
          "output_type": "stream",
          "text": [
            "[epoch 058] train_loss=0.3402 | val_loss=0.1982 | val_f1=0.1828\n"
          ]
        },
        {
          "name": "stderr",
          "output_type": "stream",
          "text": [
            "Training:  30%|██▉       | 59/200 [12:34<32:36, 13.87s/it]"
          ]
        },
        {
          "name": "stdout",
          "output_type": "stream",
          "text": [
            "[epoch 059] train_loss=0.3259 | val_loss=0.2416 | val_f1=0.1727\n"
          ]
        },
        {
          "name": "stderr",
          "output_type": "stream",
          "text": [
            "Training:  30%|███       | 60/200 [12:43<28:38, 12.28s/it]"
          ]
        },
        {
          "name": "stdout",
          "output_type": "stream",
          "text": [
            "[epoch 060] train_loss=0.3201 | val_loss=0.2160 | val_f1=0.1716\n"
          ]
        },
        {
          "name": "stderr",
          "output_type": "stream",
          "text": [
            "Training:  30%|███       | 61/200 [12:55<28:47, 12.43s/it]"
          ]
        },
        {
          "name": "stdout",
          "output_type": "stream",
          "text": [
            "[epoch 061] train_loss=0.3040 | val_loss=0.2023 | val_f1=0.1830\n"
          ]
        },
        {
          "name": "stderr",
          "output_type": "stream",
          "text": [
            "Training:  31%|███       | 62/200 [13:10<29:45, 12.94s/it]"
          ]
        },
        {
          "name": "stdout",
          "output_type": "stream",
          "text": [
            "[epoch 062] train_loss=0.3214 | val_loss=0.2255 | val_f1=0.1755\n"
          ]
        },
        {
          "name": "stderr",
          "output_type": "stream",
          "text": [
            "Training:  32%|███▏      | 63/200 [13:23<30:05, 13.18s/it]"
          ]
        },
        {
          "name": "stdout",
          "output_type": "stream",
          "text": [
            "[epoch 063] train_loss=0.3207 | val_loss=0.2247 | val_f1=0.1806\n"
          ]
        },
        {
          "name": "stderr",
          "output_type": "stream",
          "text": [
            "Training:  32%|███▏      | 64/200 [13:36<29:48, 13.15s/it]"
          ]
        },
        {
          "name": "stdout",
          "output_type": "stream",
          "text": [
            "[epoch 064] train_loss=0.3176 | val_loss=0.2189 | val_f1=0.1783\n"
          ]
        },
        {
          "name": "stderr",
          "output_type": "stream",
          "text": [
            "Training:  32%|███▎      | 65/200 [13:49<29:14, 13.00s/it]"
          ]
        },
        {
          "name": "stdout",
          "output_type": "stream",
          "text": [
            "[epoch 065] train_loss=0.2884 | val_loss=0.2250 | val_f1=0.1822\n"
          ]
        },
        {
          "name": "stderr",
          "output_type": "stream",
          "text": [
            "Training:  33%|███▎      | 66/200 [14:02<28:52, 12.93s/it]"
          ]
        },
        {
          "name": "stdout",
          "output_type": "stream",
          "text": [
            "[epoch 066] train_loss=0.2956 | val_loss=0.2481 | val_f1=0.1845\n"
          ]
        },
        {
          "name": "stderr",
          "output_type": "stream",
          "text": [
            "Training:  34%|███▎      | 67/200 [14:15<28:38, 12.92s/it]"
          ]
        },
        {
          "name": "stdout",
          "output_type": "stream",
          "text": [
            "[epoch 067] train_loss=0.3028 | val_loss=0.2347 | val_f1=0.1853\n"
          ]
        },
        {
          "name": "stderr",
          "output_type": "stream",
          "text": [
            "Training:  34%|███▍      | 68/200 [14:27<28:15, 12.84s/it]"
          ]
        },
        {
          "name": "stdout",
          "output_type": "stream",
          "text": [
            "[epoch 068] train_loss=0.2922 | val_loss=0.2054 | val_f1=0.1704\n"
          ]
        },
        {
          "name": "stderr",
          "output_type": "stream",
          "text": [
            "Training:  34%|███▍      | 69/200 [14:40<28:11, 12.91s/it]"
          ]
        },
        {
          "name": "stdout",
          "output_type": "stream",
          "text": [
            "[epoch 069] train_loss=0.3030 | val_loss=0.2053 | val_f1=0.1790\n"
          ]
        },
        {
          "name": "stderr",
          "output_type": "stream",
          "text": [
            "Training:  35%|███▌      | 70/200 [14:53<27:52, 12.87s/it]"
          ]
        },
        {
          "name": "stdout",
          "output_type": "stream",
          "text": [
            "[epoch 070] train_loss=0.3087 | val_loss=0.1927 | val_f1=0.1915\n"
          ]
        },
        {
          "name": "stderr",
          "output_type": "stream",
          "text": [
            "Training:  36%|███▌      | 71/200 [15:06<27:48, 12.94s/it]"
          ]
        },
        {
          "name": "stdout",
          "output_type": "stream",
          "text": [
            "[epoch 071] train_loss=0.3078 | val_loss=0.2281 | val_f1=0.1803\n"
          ]
        },
        {
          "name": "stderr",
          "output_type": "stream",
          "text": [
            "Training:  36%|███▌      | 72/200 [15:19<27:48, 13.03s/it]"
          ]
        },
        {
          "name": "stdout",
          "output_type": "stream",
          "text": [
            "[epoch 072] train_loss=0.3054 | val_loss=0.1819 | val_f1=0.1926\n"
          ]
        },
        {
          "name": "stderr",
          "output_type": "stream",
          "text": [
            "Training:  36%|███▋      | 73/200 [15:32<27:27, 12.98s/it]"
          ]
        },
        {
          "name": "stdout",
          "output_type": "stream",
          "text": [
            "[epoch 073] train_loss=0.3035 | val_loss=0.2117 | val_f1=0.1817\n"
          ]
        },
        {
          "name": "stderr",
          "output_type": "stream",
          "text": [
            "Training:  37%|███▋      | 74/200 [15:46<27:38, 13.16s/it]"
          ]
        },
        {
          "name": "stdout",
          "output_type": "stream",
          "text": [
            "[epoch 074] train_loss=0.2718 | val_loss=0.1996 | val_f1=0.1950\n"
          ]
        },
        {
          "name": "stderr",
          "output_type": "stream",
          "text": [
            "Training:  38%|███▊      | 75/200 [16:00<27:41, 13.29s/it]"
          ]
        },
        {
          "name": "stdout",
          "output_type": "stream",
          "text": [
            "[epoch 075] train_loss=0.2700 | val_loss=0.2151 | val_f1=0.1808\n"
          ]
        },
        {
          "name": "stderr",
          "output_type": "stream",
          "text": [
            "Training:  38%|███▊      | 76/200 [16:13<27:44, 13.42s/it]"
          ]
        },
        {
          "name": "stdout",
          "output_type": "stream",
          "text": [
            "[epoch 076] train_loss=0.2649 | val_loss=0.2040 | val_f1=0.1876\n"
          ]
        },
        {
          "name": "stderr",
          "output_type": "stream",
          "text": [
            "Training:  38%|███▊      | 77/200 [16:27<27:33, 13.45s/it]"
          ]
        },
        {
          "name": "stdout",
          "output_type": "stream",
          "text": [
            "[epoch 077] train_loss=0.2893 | val_loss=0.2185 | val_f1=0.1874\n"
          ]
        },
        {
          "name": "stderr",
          "output_type": "stream",
          "text": [
            "Training:  39%|███▉      | 78/200 [16:40<27:21, 13.45s/it]"
          ]
        },
        {
          "name": "stdout",
          "output_type": "stream",
          "text": [
            "[epoch 078] train_loss=0.2781 | val_loss=0.2036 | val_f1=0.1936\n"
          ]
        },
        {
          "name": "stderr",
          "output_type": "stream",
          "text": [
            "Training:  40%|███▉      | 79/200 [16:53<26:41, 13.24s/it]"
          ]
        },
        {
          "name": "stdout",
          "output_type": "stream",
          "text": [
            "[epoch 079] train_loss=0.2884 | val_loss=0.1910 | val_f1=0.1878\n"
          ]
        },
        {
          "name": "stderr",
          "output_type": "stream",
          "text": [
            "Training:  40%|████      | 80/200 [17:06<26:26, 13.22s/it]"
          ]
        },
        {
          "name": "stdout",
          "output_type": "stream",
          "text": [
            "[epoch 080] train_loss=0.2782 | val_loss=0.1852 | val_f1=0.1850\n"
          ]
        },
        {
          "name": "stderr",
          "output_type": "stream",
          "text": [
            "Training:  40%|████      | 81/200 [17:19<25:45, 12.99s/it]"
          ]
        },
        {
          "name": "stdout",
          "output_type": "stream",
          "text": [
            "[epoch 081] train_loss=0.2692 | val_loss=0.1918 | val_f1=0.1900\n"
          ]
        },
        {
          "name": "stderr",
          "output_type": "stream",
          "text": [
            "Training:  41%|████      | 82/200 [17:31<25:19, 12.88s/it]"
          ]
        },
        {
          "name": "stdout",
          "output_type": "stream",
          "text": [
            "[epoch 082] train_loss=0.2831 | val_loss=0.2112 | val_f1=0.1843\n"
          ]
        },
        {
          "name": "stderr",
          "output_type": "stream",
          "text": [
            "Training:  42%|████▏     | 83/200 [17:43<24:42, 12.67s/it]"
          ]
        },
        {
          "name": "stdout",
          "output_type": "stream",
          "text": [
            "[epoch 083] train_loss=0.2879 | val_loss=0.2360 | val_f1=0.1802\n"
          ]
        },
        {
          "name": "stderr",
          "output_type": "stream",
          "text": [
            "Training:  42%|████▏     | 84/200 [17:57<24:57, 12.91s/it]"
          ]
        },
        {
          "name": "stdout",
          "output_type": "stream",
          "text": [
            "[epoch 084] train_loss=0.2777 | val_loss=0.2008 | val_f1=0.1969\n"
          ]
        },
        {
          "name": "stderr",
          "output_type": "stream",
          "text": [
            "Training:  42%|████▎     | 85/200 [18:10<25:01, 13.05s/it]"
          ]
        },
        {
          "name": "stdout",
          "output_type": "stream",
          "text": [
            "[epoch 085] train_loss=0.2800 | val_loss=0.2009 | val_f1=0.1906\n"
          ]
        },
        {
          "name": "stderr",
          "output_type": "stream",
          "text": [
            "Training:  43%|████▎     | 86/200 [18:23<24:46, 13.04s/it]"
          ]
        },
        {
          "name": "stdout",
          "output_type": "stream",
          "text": [
            "[epoch 086] train_loss=0.2632 | val_loss=0.2125 | val_f1=0.1957\n"
          ]
        },
        {
          "name": "stderr",
          "output_type": "stream",
          "text": [
            "Training:  44%|████▎     | 87/200 [18:36<24:23, 12.95s/it]"
          ]
        },
        {
          "name": "stdout",
          "output_type": "stream",
          "text": [
            "[epoch 087] train_loss=0.2616 | val_loss=0.1986 | val_f1=0.1839\n"
          ]
        },
        {
          "name": "stderr",
          "output_type": "stream",
          "text": [
            "Training:  44%|████▍     | 88/200 [18:49<24:00, 12.86s/it]"
          ]
        },
        {
          "name": "stdout",
          "output_type": "stream",
          "text": [
            "[epoch 088] train_loss=0.2591 | val_loss=0.1966 | val_f1=0.1908\n"
          ]
        },
        {
          "name": "stderr",
          "output_type": "stream",
          "text": [
            "Training:  44%|████▍     | 89/200 [19:01<23:18, 12.60s/it]"
          ]
        },
        {
          "name": "stdout",
          "output_type": "stream",
          "text": [
            "[epoch 089] train_loss=0.2516 | val_loss=0.2091 | val_f1=0.1951\n"
          ]
        },
        {
          "name": "stderr",
          "output_type": "stream",
          "text": [
            "Training:  45%|████▌     | 90/200 [19:13<22:59, 12.54s/it]"
          ]
        },
        {
          "name": "stdout",
          "output_type": "stream",
          "text": [
            "[epoch 090] train_loss=0.2576 | val_loss=0.1926 | val_f1=0.1939\n"
          ]
        },
        {
          "name": "stderr",
          "output_type": "stream",
          "text": [
            "Training:  46%|████▌     | 91/200 [19:27<23:17, 12.83s/it]"
          ]
        },
        {
          "name": "stdout",
          "output_type": "stream",
          "text": [
            "[epoch 091] train_loss=0.2465 | val_loss=0.2274 | val_f1=0.1829\n"
          ]
        },
        {
          "name": "stderr",
          "output_type": "stream",
          "text": [
            "Training:  46%|████▌     | 92/200 [19:40<23:17, 12.94s/it]"
          ]
        },
        {
          "name": "stdout",
          "output_type": "stream",
          "text": [
            "[epoch 092] train_loss=0.2737 | val_loss=0.1920 | val_f1=0.1925\n"
          ]
        },
        {
          "name": "stderr",
          "output_type": "stream",
          "text": [
            "Training:  46%|████▋     | 93/200 [19:52<22:54, 12.85s/it]"
          ]
        },
        {
          "name": "stdout",
          "output_type": "stream",
          "text": [
            "[epoch 093] train_loss=0.2485 | val_loss=0.1891 | val_f1=0.1967\n"
          ]
        },
        {
          "name": "stderr",
          "output_type": "stream",
          "text": [
            "Training:  47%|████▋     | 94/200 [20:04<22:05, 12.50s/it]"
          ]
        },
        {
          "name": "stdout",
          "output_type": "stream",
          "text": [
            "[epoch 094] train_loss=0.2685 | val_loss=0.1823 | val_f1=0.2034\n"
          ]
        },
        {
          "name": "stderr",
          "output_type": "stream",
          "text": [
            "Training:  48%|████▊     | 95/200 [20:15<21:11, 12.11s/it]"
          ]
        },
        {
          "name": "stdout",
          "output_type": "stream",
          "text": [
            "[epoch 095] train_loss=0.2605 | val_loss=0.2070 | val_f1=0.1910\n"
          ]
        },
        {
          "name": "stderr",
          "output_type": "stream",
          "text": [
            "Training:  48%|████▊     | 96/200 [20:27<20:36, 11.89s/it]"
          ]
        },
        {
          "name": "stdout",
          "output_type": "stream",
          "text": [
            "[epoch 096] train_loss=0.2591 | val_loss=0.1901 | val_f1=0.1891\n"
          ]
        },
        {
          "name": "stderr",
          "output_type": "stream",
          "text": [
            "Training:  48%|████▊     | 97/200 [20:39<20:44, 12.08s/it]"
          ]
        },
        {
          "name": "stdout",
          "output_type": "stream",
          "text": [
            "[epoch 097] train_loss=0.2442 | val_loss=0.1887 | val_f1=0.2026\n"
          ]
        },
        {
          "name": "stderr",
          "output_type": "stream",
          "text": [
            "Training:  49%|████▉     | 98/200 [20:52<20:47, 12.23s/it]"
          ]
        },
        {
          "name": "stdout",
          "output_type": "stream",
          "text": [
            "[epoch 098] train_loss=0.2565 | val_loss=0.1748 | val_f1=0.2037\n"
          ]
        },
        {
          "name": "stderr",
          "output_type": "stream",
          "text": [
            "Training:  50%|████▉     | 99/200 [21:04<20:42, 12.30s/it]"
          ]
        },
        {
          "name": "stdout",
          "output_type": "stream",
          "text": [
            "[epoch 099] train_loss=0.2613 | val_loss=0.2157 | val_f1=0.1905\n"
          ]
        },
        {
          "name": "stderr",
          "output_type": "stream",
          "text": [
            "Training:  50%|█████     | 100/200 [21:21<22:56, 13.76s/it]"
          ]
        },
        {
          "name": "stdout",
          "output_type": "stream",
          "text": [
            "[epoch 100] train_loss=0.2664 | val_loss=0.1766 | val_f1=0.1967\n"
          ]
        },
        {
          "name": "stderr",
          "output_type": "stream",
          "text": [
            "Training:  50%|█████     | 101/200 [22:00<35:07, 21.29s/it]"
          ]
        },
        {
          "name": "stdout",
          "output_type": "stream",
          "text": [
            "[epoch 101] train_loss=0.2620 | val_loss=0.1867 | val_f1=0.2033\n"
          ]
        },
        {
          "name": "stderr",
          "output_type": "stream",
          "text": [
            "Training:  51%|█████     | 102/200 [22:41<44:10, 27.05s/it]"
          ]
        },
        {
          "name": "stdout",
          "output_type": "stream",
          "text": [
            "[epoch 102] train_loss=0.2553 | val_loss=0.2069 | val_f1=0.1967\n"
          ]
        },
        {
          "name": "stderr",
          "output_type": "stream",
          "text": [
            "Training:  52%|█████▏    | 103/200 [23:20<49:29, 30.62s/it]"
          ]
        },
        {
          "name": "stdout",
          "output_type": "stream",
          "text": [
            "[epoch 103] train_loss=0.2478 | val_loss=0.2427 | val_f1=0.2009\n"
          ]
        },
        {
          "name": "stderr",
          "output_type": "stream",
          "text": [
            "Training:  52%|█████▏    | 104/200 [24:01<53:57, 33.72s/it]"
          ]
        },
        {
          "name": "stdout",
          "output_type": "stream",
          "text": [
            "[epoch 104] train_loss=0.2478 | val_loss=0.1763 | val_f1=0.1983\n"
          ]
        },
        {
          "name": "stderr",
          "output_type": "stream",
          "text": [
            "Training:  52%|█████▎    | 105/200 [24:41<56:27, 35.65s/it]"
          ]
        },
        {
          "name": "stdout",
          "output_type": "stream",
          "text": [
            "[epoch 105] train_loss=0.2450 | val_loss=0.1753 | val_f1=0.1974\n"
          ]
        },
        {
          "name": "stderr",
          "output_type": "stream",
          "text": [
            "Training:  53%|█████▎    | 106/200 [25:20<57:27, 36.67s/it]"
          ]
        },
        {
          "name": "stdout",
          "output_type": "stream",
          "text": [
            "[epoch 106] train_loss=0.2727 | val_loss=0.1800 | val_f1=0.1956\n"
          ]
        },
        {
          "name": "stderr",
          "output_type": "stream",
          "text": [
            "Training:  54%|█████▎    | 107/200 [25:58<57:41, 37.22s/it]"
          ]
        },
        {
          "name": "stdout",
          "output_type": "stream",
          "text": [
            "[epoch 107] train_loss=0.2363 | val_loss=0.1820 | val_f1=0.2009\n"
          ]
        },
        {
          "name": "stderr",
          "output_type": "stream",
          "text": [
            "Training:  54%|█████▍    | 108/200 [26:33<55:59, 36.51s/it]"
          ]
        },
        {
          "name": "stdout",
          "output_type": "stream",
          "text": [
            "[epoch 108] train_loss=0.2439 | val_loss=0.1838 | val_f1=0.2039\n"
          ]
        },
        {
          "name": "stderr",
          "output_type": "stream",
          "text": [
            "Training:  55%|█████▍    | 109/200 [27:13<56:50, 37.48s/it]"
          ]
        },
        {
          "name": "stdout",
          "output_type": "stream",
          "text": [
            "[epoch 109] train_loss=0.2365 | val_loss=0.1831 | val_f1=0.2066\n"
          ]
        },
        {
          "name": "stderr",
          "output_type": "stream",
          "text": [
            "Training:  55%|█████▌    | 110/200 [27:51<56:35, 37.73s/it]"
          ]
        },
        {
          "name": "stdout",
          "output_type": "stream",
          "text": [
            "[epoch 110] train_loss=0.2480 | val_loss=0.1752 | val_f1=0.1934\n"
          ]
        },
        {
          "name": "stderr",
          "output_type": "stream",
          "text": [
            "Training:  56%|█████▌    | 111/200 [28:31<57:04, 38.47s/it]"
          ]
        },
        {
          "name": "stdout",
          "output_type": "stream",
          "text": [
            "[epoch 111] train_loss=0.2478 | val_loss=0.1944 | val_f1=0.1970\n"
          ]
        },
        {
          "name": "stderr",
          "output_type": "stream",
          "text": [
            "Training:  56%|█████▌    | 112/200 [29:14<58:01, 39.56s/it]"
          ]
        },
        {
          "name": "stdout",
          "output_type": "stream",
          "text": [
            "[epoch 112] train_loss=0.2348 | val_loss=0.2109 | val_f1=0.1912\n"
          ]
        },
        {
          "name": "stderr",
          "output_type": "stream",
          "text": [
            "Training:  56%|█████▋    | 113/200 [29:58<59:39, 41.15s/it]"
          ]
        },
        {
          "name": "stdout",
          "output_type": "stream",
          "text": [
            "[epoch 113] train_loss=0.2343 | val_loss=0.1837 | val_f1=0.2136\n"
          ]
        },
        {
          "name": "stderr",
          "output_type": "stream",
          "text": [
            "Training:  57%|█████▋    | 114/200 [30:42<1:00:09, 41.97s/it]"
          ]
        },
        {
          "name": "stdout",
          "output_type": "stream",
          "text": [
            "[epoch 114] train_loss=0.2459 | val_loss=0.1887 | val_f1=0.2091\n"
          ]
        },
        {
          "name": "stderr",
          "output_type": "stream",
          "text": [
            "Training:  57%|█████▊    | 115/200 [31:25<59:38, 42.10s/it]  "
          ]
        },
        {
          "name": "stdout",
          "output_type": "stream",
          "text": [
            "[epoch 115] train_loss=0.2532 | val_loss=0.1746 | val_f1=0.2108\n"
          ]
        },
        {
          "name": "stderr",
          "output_type": "stream",
          "text": [
            "Training:  58%|█████▊    | 116/200 [32:07<59:06, 42.22s/it]"
          ]
        },
        {
          "name": "stdout",
          "output_type": "stream",
          "text": [
            "[epoch 116] train_loss=0.2304 | val_loss=0.2040 | val_f1=0.2002\n"
          ]
        },
        {
          "name": "stderr",
          "output_type": "stream",
          "text": [
            "Training:  58%|█████▊    | 117/200 [32:49<58:23, 42.21s/it]"
          ]
        },
        {
          "name": "stdout",
          "output_type": "stream",
          "text": [
            "[epoch 117] train_loss=0.2521 | val_loss=0.2020 | val_f1=0.1963\n"
          ]
        },
        {
          "name": "stderr",
          "output_type": "stream",
          "text": [
            "Training:  59%|█████▉    | 118/200 [33:30<57:01, 41.73s/it]"
          ]
        },
        {
          "name": "stdout",
          "output_type": "stream",
          "text": [
            "[epoch 118] train_loss=0.2415 | val_loss=0.1877 | val_f1=0.2005\n"
          ]
        },
        {
          "name": "stderr",
          "output_type": "stream",
          "text": [
            "Training:  60%|█████▉    | 119/200 [34:12<56:38, 41.95s/it]"
          ]
        },
        {
          "name": "stdout",
          "output_type": "stream",
          "text": [
            "[epoch 119] train_loss=0.2448 | val_loss=0.1901 | val_f1=0.1981\n"
          ]
        },
        {
          "name": "stderr",
          "output_type": "stream",
          "text": [
            "Training:  60%|██████    | 120/200 [34:53<55:24, 41.55s/it]"
          ]
        },
        {
          "name": "stdout",
          "output_type": "stream",
          "text": [
            "[epoch 120] train_loss=0.2497 | val_loss=0.1926 | val_f1=0.1929\n"
          ]
        },
        {
          "name": "stderr",
          "output_type": "stream",
          "text": [
            "Training:  60%|██████    | 121/200 [35:29<52:22, 39.78s/it]"
          ]
        },
        {
          "name": "stdout",
          "output_type": "stream",
          "text": [
            "[epoch 121] train_loss=0.2411 | val_loss=0.1819 | val_f1=0.2060\n"
          ]
        },
        {
          "name": "stderr",
          "output_type": "stream",
          "text": [
            "Training:  61%|██████    | 122/200 [36:07<50:56, 39.18s/it]"
          ]
        },
        {
          "name": "stdout",
          "output_type": "stream",
          "text": [
            "[epoch 122] train_loss=0.2186 | val_loss=0.1838 | val_f1=0.2016\n"
          ]
        },
        {
          "name": "stderr",
          "output_type": "stream",
          "text": [
            "Training:  62%|██████▏   | 123/200 [36:47<50:55, 39.68s/it]"
          ]
        },
        {
          "name": "stdout",
          "output_type": "stream",
          "text": [
            "[epoch 123] train_loss=0.2251 | val_loss=0.2021 | val_f1=0.2031\n"
          ]
        },
        {
          "name": "stderr",
          "output_type": "stream",
          "text": [
            "Training:  62%|██████▏   | 124/200 [37:25<49:29, 39.07s/it]"
          ]
        },
        {
          "name": "stdout",
          "output_type": "stream",
          "text": [
            "[epoch 124] train_loss=0.2473 | val_loss=0.1861 | val_f1=0.1909\n"
          ]
        },
        {
          "name": "stderr",
          "output_type": "stream",
          "text": [
            "Training:  62%|██████▎   | 125/200 [38:04<48:46, 39.02s/it]"
          ]
        },
        {
          "name": "stdout",
          "output_type": "stream",
          "text": [
            "[epoch 125] train_loss=0.2431 | val_loss=0.2017 | val_f1=0.1981\n"
          ]
        },
        {
          "name": "stderr",
          "output_type": "stream",
          "text": [
            "Training:  63%|██████▎   | 126/200 [38:42<47:38, 38.63s/it]"
          ]
        },
        {
          "name": "stdout",
          "output_type": "stream",
          "text": [
            "[epoch 126] train_loss=0.2437 | val_loss=0.1896 | val_f1=0.1996\n"
          ]
        },
        {
          "name": "stderr",
          "output_type": "stream",
          "text": [
            "Training:  64%|██████▎   | 127/200 [39:18<46:20, 38.08s/it]"
          ]
        },
        {
          "name": "stdout",
          "output_type": "stream",
          "text": [
            "[epoch 127] train_loss=0.2404 | val_loss=0.1834 | val_f1=0.2051\n"
          ]
        },
        {
          "name": "stderr",
          "output_type": "stream",
          "text": [
            "Training:  64%|██████▍   | 128/200 [39:56<45:38, 38.03s/it]"
          ]
        },
        {
          "name": "stdout",
          "output_type": "stream",
          "text": [
            "[epoch 128] train_loss=0.2357 | val_loss=0.2397 | val_f1=0.1942\n"
          ]
        },
        {
          "name": "stderr",
          "output_type": "stream",
          "text": [
            "Training:  64%|██████▍   | 129/200 [3:01:31<50:47:15, 2575.15s/it]"
          ]
        },
        {
          "name": "stdout",
          "output_type": "stream",
          "text": [
            "[epoch 129] train_loss=0.2387 | val_loss=0.1763 | val_f1=0.2133\n"
          ]
        },
        {
          "name": "stderr",
          "output_type": "stream",
          "text": [
            "Training:  65%|██████▌   | 130/200 [3:02:14<35:17:57, 1815.39s/it]"
          ]
        },
        {
          "name": "stdout",
          "output_type": "stream",
          "text": [
            "[epoch 130] train_loss=0.2342 | val_loss=0.1914 | val_f1=0.1967\n"
          ]
        },
        {
          "name": "stderr",
          "output_type": "stream",
          "text": [
            "Training:  66%|██████▌   | 131/200 [3:02:52<24:34:31, 1282.19s/it]"
          ]
        },
        {
          "name": "stdout",
          "output_type": "stream",
          "text": [
            "[epoch 131] train_loss=0.2377 | val_loss=0.1902 | val_f1=0.2009\n"
          ]
        },
        {
          "name": "stderr",
          "output_type": "stream",
          "text": [
            "Training:  66%|██████▌   | 132/200 [3:03:32<17:10:39, 909.41s/it] "
          ]
        },
        {
          "name": "stdout",
          "output_type": "stream",
          "text": [
            "[epoch 132] train_loss=0.2295 | val_loss=0.1962 | val_f1=0.2019\n"
          ]
        },
        {
          "name": "stderr",
          "output_type": "stream",
          "text": [
            "Training:  66%|██████▋   | 133/200 [3:04:08<12:02:54, 647.38s/it]"
          ]
        },
        {
          "name": "stdout",
          "output_type": "stream",
          "text": [
            "[epoch 133] train_loss=0.2341 | val_loss=0.1973 | val_f1=0.1990\n"
          ]
        },
        {
          "name": "stderr",
          "output_type": "stream",
          "text": [
            "Training:  67%|██████▋   | 134/200 [3:04:45<8:30:54, 464.47s/it] "
          ]
        },
        {
          "name": "stdout",
          "output_type": "stream",
          "text": [
            "[epoch 134] train_loss=0.2400 | val_loss=0.1919 | val_f1=0.2001\n"
          ]
        },
        {
          "name": "stderr",
          "output_type": "stream",
          "text": [
            "Training:  68%|██████▊   | 135/200 [3:05:23<6:04:21, 336.33s/it]"
          ]
        },
        {
          "name": "stdout",
          "output_type": "stream",
          "text": [
            "[epoch 135] train_loss=0.2232 | val_loss=0.1849 | val_f1=0.2107\n"
          ]
        },
        {
          "name": "stderr",
          "output_type": "stream",
          "text": [
            "Training:  68%|██████▊   | 136/200 [3:05:56<4:21:46, 245.42s/it]"
          ]
        },
        {
          "name": "stdout",
          "output_type": "stream",
          "text": [
            "[epoch 136] train_loss=0.2212 | val_loss=0.2293 | val_f1=0.2080\n"
          ]
        },
        {
          "name": "stderr",
          "output_type": "stream",
          "text": [
            "Training:  68%|██████▊   | 137/200 [3:06:33<3:12:07, 182.97s/it]"
          ]
        },
        {
          "name": "stdout",
          "output_type": "stream",
          "text": [
            "[epoch 137] train_loss=0.2330 | val_loss=0.2262 | val_f1=0.2064\n"
          ]
        },
        {
          "name": "stderr",
          "output_type": "stream",
          "text": [
            "Training:  69%|██████▉   | 138/200 [3:07:10<2:23:46, 139.13s/it]"
          ]
        },
        {
          "name": "stdout",
          "output_type": "stream",
          "text": [
            "[epoch 138] train_loss=0.2429 | val_loss=0.1723 | val_f1=0.2087\n"
          ]
        },
        {
          "name": "stderr",
          "output_type": "stream",
          "text": [
            "Training:  70%|██████▉   | 139/200 [3:07:47<1:50:23, 108.59s/it]"
          ]
        },
        {
          "name": "stdout",
          "output_type": "stream",
          "text": [
            "[epoch 139] train_loss=0.2183 | val_loss=0.1800 | val_f1=0.2201\n"
          ]
        },
        {
          "name": "stderr",
          "output_type": "stream",
          "text": [
            "Training:  70%|███████   | 140/200 [3:08:26<1:27:38, 87.63s/it] "
          ]
        },
        {
          "name": "stdout",
          "output_type": "stream",
          "text": [
            "[epoch 140] train_loss=0.2128 | val_loss=0.1940 | val_f1=0.2064\n"
          ]
        },
        {
          "name": "stderr",
          "output_type": "stream",
          "text": [
            "Training:  70%|███████   | 141/200 [3:09:04<1:11:21, 72.56s/it]"
          ]
        },
        {
          "name": "stdout",
          "output_type": "stream",
          "text": [
            "[epoch 141] train_loss=0.2247 | val_loss=0.2035 | val_f1=0.2077\n"
          ]
        },
        {
          "name": "stderr",
          "output_type": "stream",
          "text": [
            "Training:  71%|███████   | 142/200 [3:09:34<58:02, 60.04s/it]  "
          ]
        },
        {
          "name": "stdout",
          "output_type": "stream",
          "text": [
            "[epoch 142] train_loss=0.2427 | val_loss=0.1904 | val_f1=0.2055\n"
          ]
        },
        {
          "name": "stderr",
          "output_type": "stream",
          "text": [
            "Training:  72%|███████▏  | 143/200 [3:10:11<50:27, 53.12s/it]"
          ]
        },
        {
          "name": "stdout",
          "output_type": "stream",
          "text": [
            "[epoch 143] train_loss=0.2356 | val_loss=0.1861 | val_f1=0.2039\n"
          ]
        },
        {
          "name": "stderr",
          "output_type": "stream",
          "text": [
            "Training:  72%|███████▏  | 144/200 [3:10:46<44:30, 47.70s/it]"
          ]
        },
        {
          "name": "stdout",
          "output_type": "stream",
          "text": [
            "[epoch 144] train_loss=0.2357 | val_loss=0.1849 | val_f1=0.2004\n"
          ]
        },
        {
          "name": "stderr",
          "output_type": "stream",
          "text": [
            "Training:  72%|███████▎  | 145/200 [3:11:22<40:28, 44.16s/it]"
          ]
        },
        {
          "name": "stdout",
          "output_type": "stream",
          "text": [
            "[epoch 145] train_loss=0.2292 | val_loss=0.1760 | val_f1=0.2132\n"
          ]
        },
        {
          "name": "stderr",
          "output_type": "stream",
          "text": [
            "Training:  73%|███████▎  | 146/200 [3:11:57<37:18, 41.45s/it]"
          ]
        },
        {
          "name": "stdout",
          "output_type": "stream",
          "text": [
            "[epoch 146] train_loss=0.2406 | val_loss=0.1835 | val_f1=0.1927\n"
          ]
        },
        {
          "name": "stderr",
          "output_type": "stream",
          "text": [
            "Training:  74%|███████▎  | 147/200 [3:12:32<34:41, 39.27s/it]"
          ]
        },
        {
          "name": "stdout",
          "output_type": "stream",
          "text": [
            "[epoch 147] train_loss=0.2071 | val_loss=0.1911 | val_f1=0.2116\n"
          ]
        },
        {
          "name": "stderr",
          "output_type": "stream",
          "text": [
            "Training:  74%|███████▍  | 148/200 [3:13:08<33:24, 38.55s/it]"
          ]
        },
        {
          "name": "stdout",
          "output_type": "stream",
          "text": [
            "[epoch 148] train_loss=0.2238 | val_loss=0.2059 | val_f1=0.2073\n"
          ]
        },
        {
          "name": "stderr",
          "output_type": "stream",
          "text": [
            "Training:  74%|███████▍  | 149/200 [3:13:42<31:24, 36.95s/it]"
          ]
        },
        {
          "name": "stdout",
          "output_type": "stream",
          "text": [
            "[epoch 149] train_loss=0.2263 | val_loss=0.1825 | val_f1=0.2266\n"
          ]
        },
        {
          "name": "stderr",
          "output_type": "stream",
          "text": [
            "Training:  75%|███████▌  | 150/200 [3:14:20<31:02, 37.24s/it]"
          ]
        },
        {
          "name": "stdout",
          "output_type": "stream",
          "text": [
            "[epoch 150] train_loss=0.2175 | val_loss=0.1858 | val_f1=0.2128\n"
          ]
        },
        {
          "name": "stderr",
          "output_type": "stream",
          "text": [
            "Training:  76%|███████▌  | 151/200 [3:14:54<29:47, 36.48s/it]"
          ]
        },
        {
          "name": "stdout",
          "output_type": "stream",
          "text": [
            "[epoch 151] train_loss=0.2351 | val_loss=0.1881 | val_f1=0.2118\n"
          ]
        },
        {
          "name": "stderr",
          "output_type": "stream",
          "text": [
            "Training:  76%|███████▌  | 152/200 [3:15:31<29:08, 36.42s/it]"
          ]
        },
        {
          "name": "stdout",
          "output_type": "stream",
          "text": [
            "[epoch 152] train_loss=0.2285 | val_loss=0.1755 | val_f1=0.2118\n"
          ]
        },
        {
          "name": "stderr",
          "output_type": "stream",
          "text": [
            "Training:  76%|███████▋  | 153/200 [3:16:06<28:20, 36.18s/it]"
          ]
        },
        {
          "name": "stdout",
          "output_type": "stream",
          "text": [
            "[epoch 153] train_loss=0.2160 | val_loss=0.1775 | val_f1=0.1968\n"
          ]
        },
        {
          "name": "stderr",
          "output_type": "stream",
          "text": [
            "Training:  77%|███████▋  | 154/200 [3:16:40<27:17, 35.60s/it]"
          ]
        },
        {
          "name": "stdout",
          "output_type": "stream",
          "text": [
            "[epoch 154] train_loss=0.2215 | val_loss=0.1837 | val_f1=0.2058\n"
          ]
        },
        {
          "name": "stderr",
          "output_type": "stream",
          "text": [
            "Training:  78%|███████▊  | 155/200 [3:17:13<26:01, 34.71s/it]"
          ]
        },
        {
          "name": "stdout",
          "output_type": "stream",
          "text": [
            "[epoch 155] train_loss=0.2273 | val_loss=0.1935 | val_f1=0.2129\n"
          ]
        },
        {
          "name": "stderr",
          "output_type": "stream",
          "text": [
            "Training:  78%|███████▊  | 156/200 [3:17:40<23:44, 32.37s/it]"
          ]
        },
        {
          "name": "stdout",
          "output_type": "stream",
          "text": [
            "[epoch 156] train_loss=0.2334 | val_loss=0.1807 | val_f1=0.2033\n"
          ]
        },
        {
          "name": "stderr",
          "output_type": "stream",
          "text": [
            "Training:  78%|███████▊  | 157/200 [3:18:09<22:24, 31.26s/it]"
          ]
        },
        {
          "name": "stdout",
          "output_type": "stream",
          "text": [
            "[epoch 157] train_loss=0.2125 | val_loss=0.1677 | val_f1=0.2168\n"
          ]
        },
        {
          "name": "stderr",
          "output_type": "stream",
          "text": [
            "Training:  79%|███████▉  | 158/200 [3:18:39<21:36, 30.87s/it]"
          ]
        },
        {
          "name": "stdout",
          "output_type": "stream",
          "text": [
            "[epoch 158] train_loss=0.2147 | val_loss=0.1647 | val_f1=0.2006\n"
          ]
        },
        {
          "name": "stderr",
          "output_type": "stream",
          "text": [
            "Training:  80%|███████▉  | 159/200 [3:19:04<19:58, 29.24s/it]"
          ]
        },
        {
          "name": "stdout",
          "output_type": "stream",
          "text": [
            "[epoch 159] train_loss=0.2285 | val_loss=0.1730 | val_f1=0.2045\n"
          ]
        },
        {
          "name": "stderr",
          "output_type": "stream",
          "text": [
            "Training:  80%|████████  | 160/200 [3:19:32<19:10, 28.76s/it]"
          ]
        },
        {
          "name": "stdout",
          "output_type": "stream",
          "text": [
            "[epoch 160] train_loss=0.2212 | val_loss=0.1731 | val_f1=0.2098\n"
          ]
        },
        {
          "name": "stderr",
          "output_type": "stream",
          "text": [
            "Training:  80%|████████  | 161/200 [3:20:02<19:01, 29.28s/it]"
          ]
        },
        {
          "name": "stdout",
          "output_type": "stream",
          "text": [
            "[epoch 161] train_loss=0.2136 | val_loss=0.1876 | val_f1=0.2114\n"
          ]
        },
        {
          "name": "stderr",
          "output_type": "stream",
          "text": [
            "Training:  81%|████████  | 162/200 [3:20:29<18:08, 28.64s/it]"
          ]
        },
        {
          "name": "stdout",
          "output_type": "stream",
          "text": [
            "[epoch 162] train_loss=0.2304 | val_loss=0.1880 | val_f1=0.2022\n"
          ]
        },
        {
          "name": "stderr",
          "output_type": "stream",
          "text": [
            "Training:  82%|████████▏ | 163/200 [3:20:59<17:53, 29.02s/it]"
          ]
        },
        {
          "name": "stdout",
          "output_type": "stream",
          "text": [
            "[epoch 163] train_loss=0.2077 | val_loss=0.1803 | val_f1=0.2192\n"
          ]
        },
        {
          "name": "stderr",
          "output_type": "stream",
          "text": [
            "Training:  82%|████████▏ | 164/200 [3:21:27<17:12, 28.67s/it]"
          ]
        },
        {
          "name": "stdout",
          "output_type": "stream",
          "text": [
            "[epoch 164] train_loss=0.2165 | val_loss=0.1746 | val_f1=0.2143\n"
          ]
        },
        {
          "name": "stderr",
          "output_type": "stream",
          "text": [
            "Training:  82%|████████▎ | 165/200 [3:21:58<17:07, 29.34s/it]"
          ]
        },
        {
          "name": "stdout",
          "output_type": "stream",
          "text": [
            "[epoch 165] train_loss=0.2233 | val_loss=0.1605 | val_f1=0.2123\n"
          ]
        },
        {
          "name": "stderr",
          "output_type": "stream",
          "text": [
            "Training:  83%|████████▎ | 166/200 [3:22:27<16:33, 29.21s/it]"
          ]
        },
        {
          "name": "stdout",
          "output_type": "stream",
          "text": [
            "[epoch 166] train_loss=0.2083 | val_loss=0.1569 | val_f1=0.2158\n"
          ]
        },
        {
          "name": "stderr",
          "output_type": "stream",
          "text": [
            "Training:  84%|████████▎ | 167/200 [3:22:52<15:27, 28.12s/it]"
          ]
        },
        {
          "name": "stdout",
          "output_type": "stream",
          "text": [
            "[epoch 167] train_loss=0.2229 | val_loss=0.2019 | val_f1=0.2093\n"
          ]
        },
        {
          "name": "stderr",
          "output_type": "stream",
          "text": [
            "Training:  84%|████████▍ | 168/200 [3:23:23<15:18, 28.70s/it]"
          ]
        },
        {
          "name": "stdout",
          "output_type": "stream",
          "text": [
            "[epoch 168] train_loss=0.2296 | val_loss=0.1799 | val_f1=0.1995\n"
          ]
        },
        {
          "name": "stderr",
          "output_type": "stream",
          "text": [
            "Training:  84%|████████▍ | 169/200 [3:23:48<14:16, 27.63s/it]"
          ]
        },
        {
          "name": "stdout",
          "output_type": "stream",
          "text": [
            "[epoch 169] train_loss=0.2253 | val_loss=0.1728 | val_f1=0.2178\n"
          ]
        },
        {
          "name": "stderr",
          "output_type": "stream",
          "text": [
            "Training:  85%|████████▌ | 170/200 [3:24:20<14:29, 28.97s/it]"
          ]
        },
        {
          "name": "stdout",
          "output_type": "stream",
          "text": [
            "[epoch 170] train_loss=0.2324 | val_loss=0.1985 | val_f1=0.2087\n"
          ]
        },
        {
          "name": "stderr",
          "output_type": "stream",
          "text": [
            "Training:  86%|████████▌ | 171/200 [3:24:46<13:33, 28.04s/it]"
          ]
        },
        {
          "name": "stdout",
          "output_type": "stream",
          "text": [
            "[epoch 171] train_loss=0.2128 | val_loss=0.1801 | val_f1=0.2128\n"
          ]
        },
        {
          "name": "stderr",
          "output_type": "stream",
          "text": [
            "Training:  86%|████████▌ | 172/200 [3:25:13<13:00, 27.86s/it]"
          ]
        },
        {
          "name": "stdout",
          "output_type": "stream",
          "text": [
            "[epoch 172] train_loss=0.2217 | val_loss=0.2137 | val_f1=0.2002\n"
          ]
        },
        {
          "name": "stderr",
          "output_type": "stream",
          "text": [
            "Training:  86%|████████▋ | 173/200 [3:25:38<12:09, 27.01s/it]"
          ]
        },
        {
          "name": "stdout",
          "output_type": "stream",
          "text": [
            "[epoch 173] train_loss=0.2087 | val_loss=0.2162 | val_f1=0.2164\n"
          ]
        },
        {
          "name": "stderr",
          "output_type": "stream",
          "text": [
            "Training:  87%|████████▋ | 174/200 [3:26:01<11:09, 25.76s/it]"
          ]
        },
        {
          "name": "stdout",
          "output_type": "stream",
          "text": [
            "[epoch 174] train_loss=0.2091 | val_loss=0.1765 | val_f1=0.2134\n"
          ]
        },
        {
          "name": "stderr",
          "output_type": "stream",
          "text": [
            "Training:  88%|████████▊ | 175/200 [3:26:31<11:15, 27.01s/it]"
          ]
        },
        {
          "name": "stdout",
          "output_type": "stream",
          "text": [
            "[epoch 175] train_loss=0.2098 | val_loss=0.1851 | val_f1=0.2118\n"
          ]
        },
        {
          "name": "stderr",
          "output_type": "stream",
          "text": [
            "Training:  88%|████████▊ | 176/200 [3:26:52<10:06, 25.28s/it]"
          ]
        },
        {
          "name": "stdout",
          "output_type": "stream",
          "text": [
            "[epoch 176] train_loss=0.2061 | val_loss=0.2070 | val_f1=0.2183\n"
          ]
        },
        {
          "name": "stderr",
          "output_type": "stream",
          "text": [
            "Training:  88%|████████▊ | 177/200 [3:27:19<09:53, 25.81s/it]"
          ]
        },
        {
          "name": "stdout",
          "output_type": "stream",
          "text": [
            "[epoch 177] train_loss=0.2003 | val_loss=0.1890 | val_f1=0.2166\n"
          ]
        },
        {
          "name": "stderr",
          "output_type": "stream",
          "text": [
            "Training:  89%|████████▉ | 178/200 [3:27:42<09:09, 24.96s/it]"
          ]
        },
        {
          "name": "stdout",
          "output_type": "stream",
          "text": [
            "[epoch 178] train_loss=0.2047 | val_loss=0.1802 | val_f1=0.2111\n"
          ]
        },
        {
          "name": "stderr",
          "output_type": "stream",
          "text": [
            "Training:  89%|████████▉ | 178/200 [3:28:07<25:43, 70.16s/it]"
          ]
        },
        {
          "name": "stdout",
          "output_type": "stream",
          "text": [
            "[epoch 179] train_loss=0.2083 | val_loss=0.1833 | val_f1=0.2097\n",
            "\n",
            "Early stopping at epoch 179 (no F1 improvement for 30 epochs)\n"
          ]
        },
        {
          "name": "stderr",
          "output_type": "stream",
          "text": [
            "\n"
          ]
        },
        {
          "data": {
            "image/png": "[encoded data removed]",
            "text/plain": [
              "<Figure size 1200x500 with 2 Axes>"
            ]
          },
          "metadata": {},
          "output_type": "display_data"
        },
        {
          "name": "stdout",
          "output_type": "stream",
          "text": [
            "✓ Learned temperature on validation: T = 0.997\n",
            "\n",
            "📊 Holdout Classification Report\n",
            "               precision    recall  f1-score   support\n",
            "\n",
            "      oestrus       0.03      0.98      0.06       124\n",
            "      calving       0.15      0.99      0.26       132\n",
            "     lameness       0.04      0.96      0.07        83\n",
            "     mastitis       0.05      1.00      0.09        24\n",
            "other_disease       0.05      0.99      0.09        67\n",
            "           OK       1.00      0.54      0.70     17438\n",
            "\n",
            "     accuracy                           0.55     17868\n",
            "    macro avg       0.22      0.91      0.21     17868\n",
            " weighted avg       0.98      0.55      0.69     17868\n",
            "\n"
          ]
        },
        {
          "data": {
            "image/png": "[encoded data removed]",
            "text/plain": [
              "<Figure size 800x350 with 1 Axes>"
            ]
          },
          "metadata": {},
          "output_type": "display_data"
        },
        {
          "data": {
            "image/png": "[encoded data removed]",
            "text/plain": [
              "<Figure size 600x500 with 2 Axes>"
            ]
          },
          "metadata": {},
          "output_type": "display_data"
        },
        {
          "name": "stdout",
          "output_type": "stream",
          "text": [
            "\n",
            "Summary:\n",
            "  Accuracy      : 0.5505\n",
            "  F1 (macro)    : 0.2138\n",
            "  F1 (weighted) : 0.6874\n",
            "Unique predicted classes on HOLDOUT: [0 1 2 3 4 5]\n"
          ]
        }
      ],
      "source": [
        "# -*- coding: utf-8 -*-\n",
        "# Robust MLP pipeline with label cleaning (NaN + all-zero handling),\n",
        "# target/one-hot auto-detection, feature alignment, focal loss, temp scaling,\n",
        "# balanced sampler, prior bias init, early stopping on macro-F1,\n",
        "# and NaN/Inf-safe imputation + scaling.\n",
        "\n",
        "import os, math, random, warnings\n",
        "from pathlib import Path\n",
        "import numpy as np\n",
        "import pandas as pd\n",
        "\n",
        "import torch\n",
        "import torch.nn as nn\n",
        "import torch.optim as optim\n",
        "from torch.utils.data import DataLoader, TensorDataset, WeightedRandomSampler\n",
        "\n",
        "from sklearn.model_selection import train_test_split\n",
        "from sklearn.preprocessing import StandardScaler\n",
        "from sklearn.impute import SimpleImputer\n",
        "from sklearn.metrics import (classification_report, confusion_matrix,\n",
        "                             f1_score, precision_recall_fscore_support,\n",
        "                             accuracy_score)\n",
        "from sklearn.utils.class_weight import compute_class_weight\n",
        "\n",
        "import matplotlib.pyplot as plt\n",
        "try:\n",
        "    from tqdm import tqdm\n",
        "except Exception:\n",
        "    def tqdm(x, **k): return x\n",
        "\n",
        "warnings.filterwarnings(\"ignore\")\n",
        "\n",
        "# ======================= CONFIG =======================\n",
        "INCLUDE_CALVING = True          # 6 classes with 'calving'; False -> 5 classes (rows with calving==1 removed)\n",
        "PREFER_TARGET_COLUMN = True     # use df['target'] if valid (0..C-1)\n",
        "ALL_ZERO_POLICY = \"drop\"        # 'drop' | 'map_to_ok' | 'error'\n",
        "NAN_POLICY = \"drop\"             # 'drop' | 'error'\n",
        "DROP_CONSTANT_FEATURES = True   # drop zero-variance columns (based on TRAIN after imputation)\n",
        "\n",
        "TRAINVAL_PATH = Path(r\"C:/Users/lamia/Downloads/non_augmented_dataset4_trainval.csv\")\n",
        "HOLDOUT_PATH  = Path(r\"C:/Users/lamia/Downloads/non_augmented_dataset4_holdout.csv\")\n",
        "\n",
        "SEED = 42\n",
        "VAL_SIZE = 0.15\n",
        "\n",
        "HIDDEN_DIMS = [512, 256, 128]\n",
        "DROPOUTS    = [0.35, 0.30, 0.25]   # lighter than before\n",
        "ACTIVATION  = 'leakyrelu'\n",
        "USE_BN      = True\n",
        "\n",
        "BATCH_SIZE   = 128                 # smaller batch -> more gradient noise\n",
        "LR           = 1e-3                # higher LR for better exploration\n",
        "WEIGHT_DECAY = 1e-4\n",
        "EPOCHS       = 200\n",
        "PATIENCE     = 30\n",
        "MIN_DELTA    = 1e-3\n",
        "USE_FOCAL    = True\n",
        "FOCAL_GAMMA  = 1.2                 # was 2.0\n",
        "LEARN_TEMP   = True\n",
        "\n",
        "SAMPLER_MAX_RATIO = 4.0            # clip minority upweighting to <= 4x majority for stability\n",
        "\n",
        "# ======================= UTILS =======================\n",
        "def set_seed(seed=42):\n",
        "    random.seed(seed); np.random.seed(seed); torch.manual_seed(seed)\n",
        "    torch.cuda.manual_seed_all(seed)\n",
        "    torch.backends.cudnn.deterministic = True\n",
        "    torch.backends.cudnn.benchmark = False\n",
        "\n",
        "def freeze_label_order(include_calving=True):\n",
        "    if include_calving:\n",
        "        label_cols = ['oestrus','calving','lameness','mastitis','other_disease','OK']\n",
        "    else:\n",
        "        # 5-class list WITHOUT 'calving'\n",
        "        label_cols = ['oestrus','lameness','mastitis','other_disease','OK']\n",
        "    idx2name = {i: c for i, c in enumerate(label_cols)}\n",
        "    name2idx = {c: i for i, c in enumerate(label_cols)}\n",
        "    return label_cols, idx2name, name2idx\n",
        "\n",
        "def optionally_drop_calving(df, include_calving: bool):\n",
        "    df = df.copy()\n",
        "    if include_calving:\n",
        "        return df\n",
        "    if 'calving' in df.columns:\n",
        "        before = len(df)\n",
        "        df = df[df['calving'] == 0].copy()\n",
        "        print(f\"[INFO] Removed {before-len(df)} rows with calving==1 for 5-class setup.\")\n",
        "    return df\n",
        "\n",
        "def _one_hot_sanity(df, label_cols):\n",
        "    sub = df[label_cols].astype(float)\n",
        "    row_sums = sub.sum(axis=1)\n",
        "    bad_all_zero  = int((row_sums == 0).sum())\n",
        "    bad_multi_hot = int((row_sums > 1.0 + 1e-9).sum())\n",
        "    bad_nans      = int(sub.isna().any(axis=1).sum())\n",
        "    dist = sub.idxmax(axis=1).value_counts(dropna=False).sort_index()\n",
        "    return bad_all_zero, bad_multi_hot, bad_nans, dist\n",
        "\n",
        "def coerce_one_hot_numeric(df, label_cols):\n",
        "    sub = df[label_cols].copy()\n",
        "    if np.all(sub.dtypes.apply(lambda t: np.issubdtype(t, np.number))):\n",
        "        return sub.astype(float)\n",
        "\n",
        "    def to01(col_series, col_name):\n",
        "        s = col_series.astype(str).str.strip()\n",
        "        lower = s.str.lower()\n",
        "        is_colname = lower == col_name.lower()\n",
        "        is_one  = lower.isin([\"1\", \"true\", \"yes\", \"y\"])\n",
        "        is_zero = lower.isin([\"0\", \"false\", \"no\", \"n\", \"nan\", \"none\", \"\"])\n",
        "        out = pd.Series(np.nan, index=s.index, dtype=float)\n",
        "        out[is_colname | is_one] = 1.0\n",
        "        out[is_zero]             = 0.0\n",
        "        mask_numeric = pd.to_numeric(col_series, errors=\"coerce\").notna()\n",
        "        out.loc[mask_numeric] = pd.to_numeric(col_series.loc[mask_numeric], errors=\"coerce\")\n",
        "        return out\n",
        "\n",
        "    coerced = pd.DataFrame(index=sub.index, columns=label_cols, dtype=float)\n",
        "    for c in label_cols:\n",
        "        coerced[c] = to01(sub[c], c)\n",
        "    return coerced\n",
        "\n",
        "def extract_labels(df, label_cols, class_order=None,\n",
        "                   all_zero_policy=\"drop\", nan_policy=\"drop\", prefer_target=True):\n",
        "    df = df.copy()\n",
        "\n",
        "    # Single label column mode\n",
        "    if len(label_cols) == 1:\n",
        "        col = label_cols[0]\n",
        "        if prefer_target and 'target' in df.columns:\n",
        "            vals = df['target']\n",
        "            if vals.notna().all() and np.equal(vals, np.floor(vals)).all():\n",
        "                vals = vals.astype(int)\n",
        "                if class_order is None or (0 <= vals.min() and vals.max() < len(class_order)):\n",
        "                    return vals.values, df, {\"used\": \"target_single\"}\n",
        "        lab = df[col]\n",
        "        if nan_policy == \"drop\" and lab.isna().any():\n",
        "            before = len(df); df = df[lab.notna()].copy()\n",
        "            print(f\"[INFO] Dropped {before-len(df)} rows with NaN in '{col}'.\")\n",
        "            lab = df[col]\n",
        "        elif lab.isna().any():\n",
        "            raise ValueError(f\"NaN found in '{col}'. Set NAN_POLICY='drop' to drop them.\")\n",
        "        if lab.dtype == object or isinstance(lab.iloc[0], str):\n",
        "            assert class_order is not None, \"Provide class_order to map string labels to ids.\"\n",
        "            name2idx = {n: i for i, n in enumerate(class_order)}\n",
        "            y = lab.astype(str).str.strip().map(name2idx)\n",
        "            if y.isna().any():\n",
        "                unknown = df.loc[y.isna(), col].unique()\n",
        "                raise ValueError(f\"Unknown label names: {unknown}. Update class_order or clean data.\")\n",
        "            return y.values.astype(int), df, {\"used\": \"single_str\"}\n",
        "        else:\n",
        "            return lab.astype(int).values, df, {\"used\": \"single_int\"}\n",
        "\n",
        "    # Multi-column one-hot mode\n",
        "    for c in label_cols:\n",
        "        if c not in df.columns:\n",
        "            raise ValueError(f\"Missing label column '{c}'.\")\n",
        "\n",
        "    if prefer_target and 'target' in df.columns:\n",
        "        col = df['target']\n",
        "        if col.notna().all() and np.equal(col, np.floor(col)).all():\n",
        "            vals = col.astype(int)\n",
        "            if 0 <= vals.min() and vals.max() < len(label_cols):\n",
        "                return vals.values, df, {\"used\": \"target_onehot\"}\n",
        "\n",
        "    sub = coerce_one_hot_numeric(df, label_cols)\n",
        "\n",
        "    # Handle NaNs in label block\n",
        "    if sub.isna().any(axis=1).any():\n",
        "        if nan_policy == \"drop\":\n",
        "            before = len(df)\n",
        "            mask = ~sub.isna().any(axis=1)\n",
        "            df  = df.loc[mask].copy()\n",
        "            sub = sub.loc[mask].copy()\n",
        "            print(f\"[INFO] Dropped {before-len(df)} rows with NaN in label block after coercion.\")\n",
        "        else:\n",
        "            raise ValueError(\"NaN in label columns after coercion. Set NAN_POLICY='drop'.\")\n",
        "\n",
        "    # One-hot sanity\n",
        "    bad_all_zero, bad_multi_hot, bad_nans, dist = _one_hot_sanity(df.assign(**sub), label_cols)\n",
        "    if bad_multi_hot > 0:\n",
        "        raise ValueError(\"Found multi-hot rows; labels must be strictly one-hot.\")\n",
        "\n",
        "    if bad_all_zero > 0:\n",
        "        if all_zero_policy == \"drop\":\n",
        "            before = len(df)\n",
        "            row_sums = sub.sum(axis=1).values\n",
        "            keep = row_sums > 0\n",
        "            df  = df.loc[keep].copy()\n",
        "            sub = sub.loc[keep].copy()\n",
        "            print(f\"[INFO] Dropped {before-len(df)} rows with all-zero labels.\")\n",
        "        elif all_zero_policy == \"map_to_ok\":\n",
        "            if 'OK' not in label_cols:\n",
        "                raise ValueError(\"'map_to_ok' chosen but 'OK' not in label_cols.\")\n",
        "            row_sums = sub.sum(axis=1).values\n",
        "            mask0 = (row_sums == 0)\n",
        "            sub.loc[mask0, 'OK'] = 1.0\n",
        "            print(f\"[INFO] Mapped {int(mask0.sum())} all-zero rows to OK=1.\")\n",
        "        else:\n",
        "            raise ValueError(\"All-zero labels; set ALL_ZERO_POLICY='drop' or 'map_to_ok'.\")\n",
        "\n",
        "    y = sub.values.argmax(axis=1)\n",
        "    return y, df, {\"used\": \"one_hot_coerced\"}\n",
        "\n",
        "def ensure_feature_alignment(df, feature_names):\n",
        "    missing = [c for c in feature_names if c not in df.columns]\n",
        "    for c in missing:\n",
        "        df[c] = 0.0\n",
        "    return df[feature_names].astype(float)\n",
        "\n",
        "# ======================= MODEL =======================\n",
        "class CowHealthMLP(nn.Module):\n",
        "    def __init__(self, input_dim, hidden_dims, num_classes,\n",
        "                 dropout_rates=None, activation='relu', use_batchnorm=True):\n",
        "        super().__init__()\n",
        "        if dropout_rates is None: dropout_rates = [0.4] * len(hidden_dims)\n",
        "        act_map = {\n",
        "            'relu': nn.ReLU, 'leakyrelu': lambda: nn.LeakyReLU(0.1),\n",
        "            'gelu': nn.GELU, 'elu': nn.ELU\n",
        "        }\n",
        "        Act = act_map.get(activation.lower(), nn.ReLU)\n",
        "\n",
        "        layers = []\n",
        "        prev = input_dim\n",
        "        for h, dr in zip(hidden_dims, dropout_rates):\n",
        "            layers.append(nn.Linear(prev, h))\n",
        "            if use_batchnorm: layers.append(nn.BatchNorm1d(h))\n",
        "            layers.append(Act())\n",
        "            if dr and dr > 0: layers.append(nn.Dropout(dr))\n",
        "            prev = h\n",
        "        layers.append(nn.Linear(prev, num_classes))\n",
        "        self.net = nn.Sequential(*layers)\n",
        "\n",
        "        for m in self.modules():\n",
        "            if isinstance(m, nn.Linear):\n",
        "                nn.init.xavier_uniform_(m.weight)\n",
        "                if m.bias is not None: nn.init.zeros_(m.bias)\n",
        "\n",
        "    def forward(self, x): return self.net(x)\n",
        "\n",
        "class FocalLoss(nn.Module):\n",
        "    def __init__(self, weight=None, gamma=FOCAL_GAMMA, reduction='mean'):\n",
        "        super().__init__()\n",
        "        self.weight = weight; self.gamma = gamma; self.reduction = reduction\n",
        "    def forward(self, logits, target):\n",
        "        ce = nn.functional.cross_entropy(logits, target, weight=self.weight, reduction='none')\n",
        "        pt = torch.softmax(logits, dim=1).gather(1, target.view(-1,1)).squeeze(1).clamp(1e-6, 1-1e-6)\n",
        "        loss = ((1 - pt) ** self.gamma) * ce\n",
        "        return loss.mean() if self.reduction == 'mean' else loss.sum()\n",
        "\n",
        "class _TempScaler(nn.Module):\n",
        "    def __init__(self, init_T=1.0):\n",
        "        super().__init__()\n",
        "        self.logT = nn.Parameter(torch.tensor([math.log(init_T)], dtype=torch.float32))\n",
        "    def forward(self, logits): return logits / torch.exp(self.logT)\n",
        "    @property\n",
        "    def T(self): return float(torch.exp(self.logT).item())\n",
        "\n",
        "def learn_temperature(model, val_loader, init_T=1.0, max_iter=100, lr=0.01, weight=None):\n",
        "    model.eval()\n",
        "    temp = _TempScaler(init_T)\n",
        "    opt = optim.LBFGS(temp.parameters(), lr=lr, max_iter=max_iter)\n",
        "    loss_fn = nn.CrossEntropyLoss(weight=weight)\n",
        "    with torch.no_grad():\n",
        "        logits_list, labels_list = [], []\n",
        "        for xb, yb in val_loader:\n",
        "            logits_list.append(model(xb))\n",
        "            labels_list.append(yb)\n",
        "        logits = torch.cat(logits_list, 0)\n",
        "        labels = torch.cat(labels_list, 0)\n",
        "    def closure():\n",
        "        opt.zero_grad()\n",
        "        loss = loss_fn(temp(logits), labels)\n",
        "        loss.backward()\n",
        "        return loss\n",
        "    opt.step(closure)\n",
        "    return temp.T\n",
        "\n",
        "# ======================= DATA & TRAIN =======================\n",
        "def split_fit_scaler(df, label_cols, drop_cols=None, val_size=0.15, random_state=42):\n",
        "    \"\"\"Impute (median) + scale features; return imputer, scaler, and kept feature_names.\"\"\"\n",
        "    df = df.copy()\n",
        "    y, df_clean, _ = extract_labels(\n",
        "        df, label_cols,\n",
        "        all_zero_policy=ALL_ZERO_POLICY,\n",
        "        nan_policy=NAN_POLICY,\n",
        "        prefer_target=PREFER_TARGET_COLUMN\n",
        "    )\n",
        "\n",
        "    # Build raw features and replace infinities\n",
        "    feature_df = df_clean.drop(columns=(drop_cols or []) + label_cols + (['target'] if 'target' in df_clean.columns else []))\n",
        "    feature_df = feature_df.replace([np.inf, -np.inf], np.nan)\n",
        "\n",
        "    # Train/val split on raw features (keep columns consistent)\n",
        "    X_train_raw, X_val_raw, y_train, y_val = train_test_split(\n",
        "        feature_df.values, y, test_size=val_size, random_state=random_state, stratify=y\n",
        "    )\n",
        "\n",
        "    # Impute missing values (fit on train)\n",
        "    imputer = SimpleImputer(strategy=\"median\")\n",
        "    X_train_imp = imputer.fit_transform(X_train_raw)\n",
        "    X_val_imp   = imputer.transform(X_val_raw)\n",
        "\n",
        "    # Optionally drop constant features after imputation (based on TRAIN)\n",
        "    if DROP_CONSTANT_FEATURES:\n",
        "        std = X_train_imp.std(axis=0, ddof=0)\n",
        "        keep_mask = std > 0\n",
        "        dropped = int((~keep_mask).sum())\n",
        "        if dropped:\n",
        "            print(f\"[INFO] Dropped {dropped} constant feature(s) after imputation.\")\n",
        "        X_train_imp = X_train_imp[:, keep_mask]\n",
        "        X_val_imp   = X_val_imp[:, keep_mask]\n",
        "        orig_cols = feature_df.columns.tolist()\n",
        "        feature_names = [c for c, k in zip(orig_cols, keep_mask) if k]\n",
        "    else:\n",
        "        feature_names = feature_df.columns.tolist()\n",
        "\n",
        "    # Scale (fit on train)\n",
        "    scaler = StandardScaler().fit(X_train_imp)\n",
        "    X_train = scaler.transform(X_train_imp)\n",
        "    X_val   = scaler.transform(X_val_imp)\n",
        "\n",
        "    # Final sanity checks\n",
        "    if np.isnan(X_train).any() or np.isinf(X_train).any():\n",
        "        raise ValueError(\"NaNs/Infs remain in X_train after imputation+scaling.\")\n",
        "    if np.isnan(X_val).any() or np.isinf(X_val).any():\n",
        "        raise ValueError(\"NaNs/Infs remain in X_val after imputation+scaling.\")\n",
        "\n",
        "    return X_train, y_train, X_val, y_val, imputer, scaler, feature_names\n",
        "\n",
        "def transform_with_scaler(df, label_cols, drop_cols, imputer, scaler, feature_names):\n",
        "    \"\"\"Apply the SAME imputer+scaler to new data; align features to training columns.\"\"\"\n",
        "    df = df.copy()\n",
        "    y, df_clean, _ = extract_labels(\n",
        "        df, label_cols,\n",
        "        all_zero_policy=ALL_ZERO_POLICY,\n",
        "        nan_policy=NAN_POLICY,\n",
        "        prefer_target=PREFER_TARGET_COLUMN\n",
        "    )\n",
        "    feat_df = df_clean.drop(columns=(drop_cols or []) + label_cols + (['target'] if 'target' in df_clean.columns else []))\n",
        "\n",
        "    # Align columns to feature_names (add missing as zeros)\n",
        "    missing = [c for c in feature_names if c not in feat_df.columns]\n",
        "    for c in missing:\n",
        "        feat_df[c] = 0.0\n",
        "    feat_df = feat_df[feature_names]\n",
        "\n",
        "    # Replace infinities, then impute+scale with the SAME transformers\n",
        "    feat_df = feat_df.replace([np.inf, -np.inf], np.nan)\n",
        "    X_imp = imputer.transform(feat_df.values)\n",
        "    X     = scaler.transform(X_imp)\n",
        "\n",
        "    if np.isnan(X).any() or np.isinf(X).any():\n",
        "        raise ValueError(\"NaNs/Infs remain in transformed features after imputation+scaling.\")\n",
        "\n",
        "    return X, y\n",
        "\n",
        "def make_loaders_from_arrays(X_train, y_train, X_val, y_val, batch_size=128):\n",
        "    xtr = torch.tensor(X_train, dtype=torch.float32)\n",
        "    ytr = torch.tensor(y_train, dtype=torch.long)\n",
        "    xva = torch.tensor(X_val, dtype=torch.float32)\n",
        "    yva = torch.tensor(y_val, dtype=torch.long)\n",
        "\n",
        "    # Balanced, clipped sampler\n",
        "    counts = np.bincount(y_train, minlength=len(np.unique(y_train)))\n",
        "    inv = 1.0 / np.clip(counts, 1, None)\n",
        "    inv = inv / inv.min()\n",
        "    inv = np.minimum(inv, SAMPLER_MAX_RATIO)  # clip ratio\n",
        "    weights = inv[y_train]\n",
        "    sampler = WeightedRandomSampler(weights, num_samples=len(weights), replacement=True)\n",
        "\n",
        "    train_ds = TensorDataset(xtr, ytr)\n",
        "    val_ds   = TensorDataset(xva, yva)\n",
        "    train_loader = DataLoader(train_ds, batch_size=batch_size, sampler=sampler)\n",
        "    val_loader   = DataLoader(val_ds,   batch_size=batch_size, shuffle=False)\n",
        "    return train_loader, val_loader\n",
        "\n",
        "def class_weights_from_train(y_train, n_classes):\n",
        "    w = compute_class_weight('balanced', classes=np.arange(n_classes), y=y_train)\n",
        "    return torch.tensor(w, dtype=torch.float32)\n",
        "\n",
        "def init_final_bias_with_priors(model: nn.Module, y_train: np.ndarray, n_classes: int):\n",
        "    priors = np.bincount(y_train, minlength=n_classes).astype(np.float32)\n",
        "    priors = np.clip(priors / priors.sum(), 1e-6, 1.0)\n",
        "    last = None\n",
        "    for m in model.modules():\n",
        "        if isinstance(m, nn.Linear):\n",
        "            last = m\n",
        "    if last is not None and last.bias is not None:\n",
        "        with torch.no_grad():\n",
        "            last.bias.copy_(torch.tensor(np.log(priors), dtype=torch.float32))\n",
        "\n",
        "def train_on_trainval(\n",
        "    df_trainval, label_cols, drop_cols=None,\n",
        "    hidden_dims=HIDDEN_DIMS, dropout_rates=DROPOUTS,\n",
        "    activation=ACTIVATION, use_batchnorm=USE_BN,\n",
        "    batch_size=BATCH_SIZE, lr=LR, weight_decay=WEIGHT_DECAY,\n",
        "    epochs=EPOCHS, patience=PATIENCE, min_delta=MIN_DELTA,\n",
        "    use_focal_loss=USE_FOCAL, learn_temp=LEARN_TEMP\n",
        "):\n",
        "    set_seed(SEED)\n",
        "    X_tr, y_tr, X_val, y_val, imputer, scaler, feature_names = split_fit_scaler(\n",
        "        df_trainval, label_cols, drop_cols, val_size=VAL_SIZE, random_state=SEED\n",
        "    )\n",
        "\n",
        "    # Debug: label distributions & feature sanity\n",
        "    import collections\n",
        "    print(\"[DEBUG] y_tr distribution:\", collections.Counter(y_tr))\n",
        "    print(\"[DEBUG] y_val distribution:\", collections.Counter(y_val))\n",
        "    print(\"[DEBUG] n_features:\", len(feature_names))\n",
        "    print(\"[DEBUG] any NaNs in X_tr/X_val:\", np.isnan(X_tr).any(), np.isnan(X_val).any())\n",
        "\n",
        "    n_classes = len(label_cols)\n",
        "    train_loader, val_loader = make_loaders_from_arrays(X_tr, y_tr, X_val, y_val, batch_size=batch_size)\n",
        "    class_w = class_weights_from_train(y_tr, n_classes)\n",
        "\n",
        "    model = CowHealthMLP(\n",
        "        input_dim=len(feature_names), hidden_dims=hidden_dims, num_classes=n_classes,\n",
        "        dropout_rates=dropout_rates, activation=activation, use_batchnorm=use_batchnorm\n",
        "    )\n",
        "\n",
        "    # Init final bias to log-priors to avoid early argmax ties -> class 0\n",
        "    init_final_bias_with_priors(model, y_tr, n_classes)\n",
        "\n",
        "    criterion = FocalLoss(weight=class_w) if use_focal_loss else nn.CrossEntropyLoss(weight=class_w)\n",
        "    optimizer = optim.AdamW(model.parameters(), lr=lr, weight_decay=weight_decay)\n",
        "    scheduler = optim.lr_scheduler.ReduceLROnPlateau(optimizer, 'min', patience=30, factor=0.5)\n",
        "\n",
        "    best_f1, best_state = -1.0, None\n",
        "    train_loss_hist, val_loss_hist, val_f1_hist = [], [], []\n",
        "    epochs_no_improve = 0\n",
        "\n",
        "    for epoch in tqdm(range(epochs), desc=\"Training\"):\n",
        "        model.train()\n",
        "        run_loss = 0.0\n",
        "        for xb, yb in train_loader:\n",
        "            optimizer.zero_grad(set_to_none=True)\n",
        "            out = model(xb)\n",
        "            loss = criterion(out, yb)\n",
        "            loss.backward()\n",
        "            optimizer.step()\n",
        "            run_loss += loss.item() * xb.size(0)\n",
        "        run_loss /= len(train_loader.dataset)\n",
        "        train_loss_hist.append(run_loss)\n",
        "\n",
        "        # ===== Validation =====\n",
        "        model.eval()\n",
        "        vloss, vpreds, vlabels = 0.0, [], []\n",
        "        with torch.no_grad():\n",
        "            for i, (xb, yb) in enumerate(val_loader):\n",
        "                out = model(xb)\n",
        "                # one-batch logits debug\n",
        "                if epoch == 0 and i == 0:\n",
        "                    z = out.cpu().numpy()\n",
        "                    print(\"[DEBUG] val logits mean/std per class (first batch):\",\n",
        "                          np.round(z.mean(0), 3), np.round(z.std(0), 3))\n",
        "                loss = criterion(out, yb)\n",
        "                vloss += loss.item() * xb.size(0)\n",
        "                vpreds.extend(out.argmax(1).cpu().numpy())\n",
        "                vlabels.extend(yb.cpu().numpy())\n",
        "        vloss /= len(val_loader.dataset)\n",
        "        val_loss_hist.append(vloss)\n",
        "        val_f1 = f1_score(vlabels, vpreds, average='macro')\n",
        "        val_f1_hist.append(val_f1)\n",
        "        scheduler.step(vloss)  # keep scheduler keyed to loss; ES on F1\n",
        "\n",
        "        uniq = np.unique(vpreds)\n",
        "        if uniq.size == 1:\n",
        "            print(f\"[epoch {epoch+1}] WARNING: only predicted class {uniq[0]} on VAL — check imbalance / logits.\")\n",
        "\n",
        "        print(f\"[epoch {epoch+1:03d}] train_loss={run_loss:.4f} | val_loss={vloss:.4f} | val_f1={val_f1:.4f}\")\n",
        "\n",
        "        # ===== Early stopping on macro-F1 =====\n",
        "        if val_f1 > best_f1 + 1e-4:\n",
        "            best_f1, best_state = val_f1, model.state_dict()\n",
        "            epochs_no_improve = 0\n",
        "        else:\n",
        "            epochs_no_improve += 1\n",
        "            if epochs_no_improve >= patience:\n",
        "                print(f\"\\nEarly stopping at epoch {epoch+1} (no F1 improvement for {patience} epochs)\")\n",
        "                break\n",
        "\n",
        "    if best_state is not None:\n",
        "        model.load_state_dict(best_state)\n",
        "\n",
        "    # plots\n",
        "    plt.figure(figsize=(12,5))\n",
        "    plt.subplot(1,2,1); plt.plot(train_loss_hist,label='Train'); plt.plot(val_loss_hist,label='Val')\n",
        "    plt.title('Loss'); plt.grid(); plt.legend()\n",
        "    plt.subplot(1,2,2); plt.plot(val_f1_hist,label='Val F1 (macro)')\n",
        "    plt.title('Val F1 (macro)'); plt.grid(); plt.legend()\n",
        "    plt.tight_layout(); plt.show()\n",
        "\n",
        "    T = 1.0\n",
        "    if LEARN_TEMP:\n",
        "        T = learn_temperature(model, val_loader, init_T=1.0, lr=0.01, max_iter=100, weight=class_w)\n",
        "        print(f\"✓ Learned temperature on validation: T = {T:.3f}\")\n",
        "\n",
        "    return model, (imputer, scaler), T, feature_names\n",
        "\n",
        "# ======================= EVAL =======================\n",
        "def plot_per_class_metrics(y_true, y_pred, class_names):\n",
        "    pr, rc, f1, _ = precision_recall_fscore_support(y_true, y_pred, labels=np.arange(len(class_names)))\n",
        "    fig, ax = plt.subplots(1, 1, figsize=(8, 3.5))\n",
        "    table = pd.DataFrame({'precision': pr, 'recall': rc, 'f1': f1}, index=class_names)\n",
        "    ax.axis('off'); ax.table(cellText=np.round(table.values, 4), colLabels=table.columns,\n",
        "                             rowLabels=table.index, loc='center')\n",
        "    ax.set_title(\"Per-class metrics\"); plt.tight_layout(); plt.show()\n",
        "\n",
        "    cm = confusion_matrix(y_true, y_pred, labels=np.arange(len(class_names)))\n",
        "    fig, ax = plt.subplots(figsize=(6, 5))\n",
        "    im = ax.imshow(cm, interpolation='nearest', aspect='auto')\n",
        "    ax.figure.colorbar(im, ax=ax)\n",
        "    ax.set(xticks=np.arange(cm.shape[1]), yticks=np.arange(cm.shape[0]),\n",
        "           xticklabels=class_names, yticklabels=class_names,\n",
        "           ylabel='True label', xlabel='Predicted label', title='Confusion Matrix')\n",
        "    plt.setp(ax.get_xticklabels(), rotation=45, ha=\"right\", rotation_mode=\"anchor\")\n",
        "    for i in range(cm.shape[0]):\n",
        "        for j in range(cm.shape[1]):\n",
        "            ax.text(j, i, cm[i, j],\n",
        "                    ha=\"center\", va=\"center\",\n",
        "                    color=\"white\" if cm[i,j] > cm.max()/2 else \"black\")\n",
        "    plt.tight_layout(); plt.show()\n",
        "\n",
        "def print_f1_summary(y_true, y_pred):\n",
        "    print(\"\\nSummary:\")\n",
        "    print(f\"  Accuracy      : {accuracy_score(y_true, y_pred):.4f}\")\n",
        "    print(f\"  F1 (macro)    : {f1_score(y_true, y_pred, average='macro'):.4f}\")\n",
        "    print(f\"  F1 (weighted) : {f1_score(y_true, y_pred, average='weighted'):.4f}\")\n",
        "\n",
        "def evaluate_on_holdout(model, imputer, scaler, df_holdout, label_cols, drop_cols=None,\n",
        "                        feature_names=None, temperature=1.0, batch_size=128):\n",
        "    model.eval()\n",
        "    # Rebuild features from holdout using the SAME imputer+scaler and training feature order\n",
        "    # We need the same label extraction and drop logic used for train\n",
        "    y, df_clean, _ = extract_labels(\n",
        "        df_holdout.copy(), label_cols,\n",
        "        all_zero_policy=ALL_ZERO_POLICY,\n",
        "        nan_policy=NAN_POLICY,\n",
        "        prefer_target=PREFER_TARGET_COLUMN\n",
        "    )\n",
        "    feat_df = df_clean.drop(columns=(drop_cols or []) + label_cols + (['target'] if 'target' in df_clean.columns else []))\n",
        "    missing = [c for c in feature_names if c not in feat_df.columns]\n",
        "    for c in missing:\n",
        "        feat_df[c] = 0.0\n",
        "    feat_df = feat_df[feature_names]\n",
        "    feat_df = feat_df.replace([np.inf, -np.inf], np.nan)\n",
        "    X_imp = imputer.transform(feat_df.values)\n",
        "    X_test = scaler.transform(X_imp)\n",
        "\n",
        "    ds = TensorDataset(torch.tensor(X_test, dtype=torch.float32), torch.tensor(y, dtype=torch.long))\n",
        "    loader = DataLoader(ds, batch_size=batch_size, shuffle=False)\n",
        "\n",
        "    all_preds, all_probs, all_labels = [], [], []\n",
        "    with torch.no_grad():\n",
        "        for xb, yb in loader:\n",
        "            logits = model(xb) / temperature\n",
        "            probs = torch.softmax(logits, dim=1)\n",
        "            preds = probs.argmax(1)\n",
        "            all_probs.extend(probs.cpu().numpy())\n",
        "            all_preds.extend(preds.cpu().numpy())\n",
        "            all_labels.extend(yb.cpu().numpy())\n",
        "\n",
        "    print(\"\\n📊 Holdout Classification Report\")\n",
        "    print(classification_report(all_labels, all_preds, target_names=label_cols))\n",
        "    plot_per_class_metrics(all_labels, all_preds, label_cols)\n",
        "    print_f1_summary(all_labels, all_preds)\n",
        "    print(\"Unique predicted classes on HOLDOUT:\", np.unique(all_preds))\n",
        "\n",
        "    return {\n",
        "        'predictions': np.array(all_preds),\n",
        "        'labels': np.array(all_labels),\n",
        "        'probabilities': np.array(all_probs),\n",
        "        'confusion_matrix': confusion_matrix(all_labels, all_preds)\n",
        "    }\n",
        "\n",
        "# ======================= MAIN =======================\n",
        "if __name__ == \"__main__\":\n",
        "    set_seed(SEED)\n",
        "\n",
        "    FULL_LABELS, IDX2NAME, NAME2IDX = freeze_label_order(include_calving=INCLUDE_CALVING)\n",
        "\n",
        "    df_trainval = pd.read_csv(TRAINVAL_PATH)\n",
        "    df_holdout  = pd.read_csv(HOLDOUT_PATH)\n",
        "\n",
        "    df_trainval = optionally_drop_calving(df_trainval, INCLUDE_CALVING)\n",
        "    df_holdout  = optionally_drop_calving(df_holdout,  INCLUDE_CALVING)\n",
        "\n",
        "    drop_cols = ['cow','start_time','end_time']\n",
        "    # Keep 'calving' in drop_cols to avoid leakage when INCLUDE_CALVING=True?\n",
        "    if 'calving' in df_trainval.columns and 'calving' not in drop_cols:\n",
        "        drop_cols.append('calving')\n",
        "\n",
        "    model, (imputer, scaler), T, feature_names = train_on_trainval(\n",
        "        df_trainval,\n",
        "        label_cols=FULL_LABELS,\n",
        "        drop_cols=drop_cols,\n",
        "        hidden_dims=HIDDEN_DIMS,\n",
        "        dropout_rates=DROPOUTS,\n",
        "        activation=ACTIVATION,\n",
        "        use_batchnorm=USE_BN,\n",
        "        batch_size=BATCH_SIZE,\n",
        "        lr=LR,\n",
        "        weight_decay=WEIGHT_DECAY,\n",
        "        epochs=EPOCHS,\n",
        "        patience=PATIENCE,\n",
        "        min_delta=MIN_DELTA,\n",
        "        use_focal_loss=USE_FOCAL,\n",
        "        learn_temp=LEARN_TEMP\n",
        "    )\n",
        "\n",
        "    _ = evaluate_on_holdout(\n",
        "        model, imputer, scaler, df_holdout,\n",
        "        label_cols=FULL_LABELS,\n",
        "        drop_cols=drop_cols,\n",
        "        feature_names=feature_names,\n",
        "        temperature=T,\n",
        "        batch_size=BATCH_SIZE\n",
        "    )\n"
      ]
    }
  ],
  "metadata": {
    "colab": {
      "provenance": []
    },
    "kernelspec": {
      "display_name": "base",
      "language": "python",
      "name": "python3"
    },
    "language_info": {
      "codemirror_mode": {
        "name": "ipython",
        "version": 3
      },
      "file_extension": ".py",
      "mimetype": "text/x-python",
      "name": "python",
      "nbconvert_exporter": "python",
      "pygments_lexer": "ipython3",
      "version": "3.11.5"
    }
  },
  "nbformat": 4,
  "nbformat_minor": 5
}
