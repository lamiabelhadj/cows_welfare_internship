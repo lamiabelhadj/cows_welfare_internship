{
  "cells": [
    {
      "cell_type": "code",
      "execution_count": 1,
      "id": "8b8a822a",
      "metadata": {
        "id": "8b8a822a"
      },
      "outputs": [],
      "source": [
        "import torch\n",
        "import torch.nn as nn\n",
        "import torch.optim as optim\n",
        "import torch.nn.functional as F\n",
        "from torch.utils.data import DataLoader, TensorDataset\n",
        "from sklearn.model_selection import train_test_split\n",
        "from sklearn.preprocessing import StandardScaler\n",
        "from sklearn.metrics import classification_report, confusion_matrix, f1_score, precision_recall_fscore_support\n",
        "from sklearn.utils.class_weight import compute_class_weight\n",
        "import pandas as pd\n",
        "import numpy as np\n",
        "import seaborn as sns\n",
        "import matplotlib.pyplot as plt\n",
        "from tqdm import tqdm\n",
        "import warnings\n",
        "warnings.filterwarnings('ignore')\n",
        "\n",
        "# ===========================\n",
        "# 📌 Preprocessing\n",
        "# ===========================\n",
        "def preprocess_dataset(df, label_cols, drop_cols=None):\n",
        "    df = df.copy()\n",
        "    y = df[label_cols].values.argmax(axis=1)\n",
        "    if drop_cols is None:\n",
        "        drop_cols = []\n",
        "    X = df.drop(columns=label_cols + drop_cols)\n",
        "    scaler = StandardScaler()\n",
        "    X_scaled = scaler.fit_transform(X)\n",
        "    return X_scaled, y, scaler\n",
        "\n",
        "# ===========================\n",
        "# ⚖️ Class Weights\n",
        "# ===========================\n",
        "def compute_class_weights(y, num_classes, method='balanced'):\n",
        "    if method == 'balanced':\n",
        "        weights = compute_class_weight('balanced', classes=np.arange(num_classes), y=y)\n",
        "    elif method == 'inverse':\n",
        "        class_counts = np.bincount(y)\n",
        "        weights = 1. / (class_counts + 1e-5)\n",
        "    else:\n",
        "        weights = np.ones(num_classes)\n",
        "    return torch.tensor(weights, dtype=torch.float32)\n",
        "\n",
        "# ===========================\n",
        "# 🔄 Dataloaders\n",
        "# ===========================\n",
        "def create_dataloaders(X, y, test_size=0.2, val_size=0.1, batch_size=64, random_state=42):\n",
        "    X_train_val, X_test, y_train_val, y_test = train_test_split(\n",
        "        X, y, test_size=test_size, random_state=random_state, stratify=y)\n",
        "    val_relative_size = val_size / (1 - test_size)\n",
        "    X_train, X_val, y_train, y_val = train_test_split(\n",
        "        X_train_val, y_train_val, test_size=val_relative_size, stratify=y_train_val)\n",
        "\n",
        "    def to_tensor_dataset(X, y):\n",
        "        return TensorDataset(torch.tensor(X, dtype=torch.float32), torch.tensor(y, dtype=torch.long))\n",
        "\n",
        "    return (DataLoader(to_tensor_dataset(X_train, y_train), batch_size=batch_size, shuffle=True),\n",
        "            DataLoader(to_tensor_dataset(X_val, y_val), batch_size=batch_size),\n",
        "            DataLoader(to_tensor_dataset(X_test, y_test), batch_size=batch_size))\n",
        "\n",
        "# ===========================\n",
        "# 🧠 MLP Model\n",
        "# ===========================\n",
        "class CowHealthMLP(nn.Module):\n",
        "    def __init__(self, input_dim, hidden_dims=[256, 128, 64], num_classes=6,\n",
        "                 dropout_rates=[0.4, 0.3, 0.2], activation='relu', use_batchnorm=True):\n",
        "        super().__init__()\n",
        "        layers = []\n",
        "        prev_dim = input_dim\n",
        "        for h_dim, dropout in zip(hidden_dims, dropout_rates):\n",
        "            layers.append(nn.Linear(prev_dim, h_dim))\n",
        "            if use_batchnorm:\n",
        "                layers.append(nn.BatchNorm1d(h_dim))\n",
        "            layers.append({'relu': nn.ReLU(), 'leakyrelu': nn.LeakyReLU(0.1), 'gelu': nn.GELU()}[activation])\n",
        "            layers.append(nn.Dropout(dropout))\n",
        "            prev_dim = h_dim\n",
        "        layers.append(nn.Linear(prev_dim, num_classes))\n",
        "        self.model = nn.Sequential(*layers)\n",
        "\n",
        "    def forward(self, x):\n",
        "        return self.model(x)\n",
        "\n",
        "# ===========================\n",
        "# 🔥 Focal Loss (optional)\n",
        "# ===========================\n",
        "class FocalLoss(nn.Module):\n",
        "    def __init__(self, gamma=2.0, weight=None, reduction='mean'):\n",
        "        super(FocalLoss, self).__init__()\n",
        "        self.gamma = gamma\n",
        "        self.weight = weight\n",
        "        self.reduction = reduction\n",
        "\n",
        "    def forward(self, input, target):\n",
        "        log_prob = F.log_softmax(input, dim=1)\n",
        "        prob = torch.exp(log_prob)\n",
        "        focal_weight = (1 - prob).pow(self.gamma)\n",
        "        return F.nll_loss(focal_weight * log_prob, target, weight=self.weight, reduction=self.reduction)\n",
        "\n",
        "# ===========================\n",
        "# 🌡️ Temperature Scaling\n",
        "# ===========================\n",
        "def apply_temperature_scaling(logits, temperature=1.0):\n",
        "    return logits / temperature\n",
        "\n",
        "# ===========================\n",
        "# 🎯 Threshold Tuning\n",
        "# ===========================\n",
        "def find_best_thresholds(probabilities, labels, num_classes):\n",
        "    thresholds = np.linspace(0.1, 0.9, 9)\n",
        "    best_thresholds = np.zeros(num_classes)\n",
        "    for class_idx in range(num_classes):\n",
        "        best_f1, best_thresh = 0, 0.5\n",
        "        for thresh in thresholds:\n",
        "            preds = (np.array(probabilities)[:, class_idx] > thresh).astype(int)\n",
        "            true = (np.array(labels) == class_idx).astype(int)\n",
        "            f1 = f1_score(true, preds)\n",
        "            if f1 > best_f1:\n",
        "                best_f1, best_thresh = f1, thresh\n",
        "        best_thresholds[class_idx] = best_thresh\n",
        "    return best_thresholds\n",
        "\n",
        "# ===========================\n",
        "# 📊 Metric Plots\n",
        "# ===========================\n",
        "def plot_per_class_metrics(all_labels, all_preds, label_names):\n",
        "    precision, recall, f1, _ = precision_recall_fscore_support(all_labels, all_preds, labels=range(len(label_names)))\n",
        "    x = range(len(label_names))\n",
        "    plt.figure(figsize=(12, 5))\n",
        "    width = 0.25\n",
        "    plt.bar([p - width for p in x], precision, width=width, label='Precision')\n",
        "    plt.bar(x, recall, width=width, label='Recall')\n",
        "    plt.bar([p + width for p in x], f1, width=width, label='F1-score')\n",
        "    plt.xticks(ticks=x, labels=label_names, rotation=45, ha='right')\n",
        "    plt.title(\"Per-Class Precision, Recall, and F1-score\")\n",
        "    plt.ylabel(\"Score\")\n",
        "    plt.ylim(0, 1)\n",
        "    plt.grid(True)\n",
        "    plt.legend()\n",
        "    plt.tight_layout()\n",
        "    plt.show()\n",
        "\n",
        "# ===========================\n",
        "# 🧾 Global F1 Scores\n",
        "# ===========================\n",
        "def print_f1_summary(all_labels, all_preds):\n",
        "    macro = f1_score(all_labels, all_preds, average='macro')\n",
        "    weighted = f1_score(all_labels, all_preds, average='weighted')\n",
        "    print(f\"\\n🔍 Macro F1 Score: {macro:.4f}\")\n",
        "    print(f\"🔍 Weighted F1 Score: {weighted:.4f}\")\n",
        "    return macro, weighted\n"
      ]
    },
    {
      "cell_type": "code",
      "execution_count": null,
      "id": "YzdOMv77113b",
      "metadata": {
        "colab": {
          "base_uri": "https://localhost:8080/",
          "height": 1000
        },
        "id": "YzdOMv77113b",
        "outputId": "8f288b8d-3c74-43fc-828c-fc1744554b63"
      },
      "outputs": [
        {
          "name": "stdout",
          "output_type": "stream",
          "text": [
            "\n",
            "[One-hot distribution (argmax, raw)]\n",
            "OK               88196\n",
            "calving            793\n",
            "lameness           428\n",
            "mastitis           536\n",
            "oestrus           3505\n",
            "other_disease      898\n",
            "Name: count, dtype: int64\n",
            "[One-hot sanity] all_zero=0, multi_hot=0, any_nan=0\n"
          ]
        },
        {
          "name": "stderr",
          "output_type": "stream",
          "text": [
            "Training:  78%|███████▊  | 155/200 [1:00:47<17:38, 23.53s/it]"
          ]
        },
        {
          "name": "stdout",
          "output_type": "stream",
          "text": [
            "\n",
            "Early stopping at epoch 156\n"
          ]
        },
        {
          "name": "stderr",
          "output_type": "stream",
          "text": [
            "\n"
          ]
        },
        {
          "data": {
            "image/png": "[encoded data removed]",
            "text/plain": [
              "<Figure size 1200x500 with 2 Axes>"
            ]
          },
          "metadata": {},
          "output_type": "display_data"
        },
        {
          "name": "stdout",
          "output_type": "stream",
          "text": [
            "✓ Learned temperature on validation: T = 0.678\n",
            "\n",
            "[One-hot distribution (argmax, raw)]\n",
            "OK               9800\n",
            "calving            88\n",
            "lameness           47\n",
            "mastitis           60\n",
            "oestrus           390\n",
            "other_disease     100\n",
            "Name: count, dtype: int64\n",
            "[One-hot sanity] all_zero=0, multi_hot=0, any_nan=0\n",
            "\n",
            "📊 Holdout Classification Report\n",
            "               precision    recall  f1-score   support\n",
            "\n",
            "      oestrus       0.09      0.69      0.16       390\n",
            "      calving       0.12      0.94      0.22        88\n",
            "     lameness       0.07      1.00      0.13        47\n",
            "     mastitis       0.08      0.97      0.14        60\n",
            "other_disease       0.10      0.96      0.18       100\n",
            "           OK       0.98      0.44      0.61      9800\n",
            "\n",
            "     accuracy                           0.47     10485\n",
            "    macro avg       0.24      0.83      0.24     10485\n",
            " weighted avg       0.93      0.47      0.58     10485\n",
            "\n"
          ]
        },
        {
          "data": {
            "image/png": "[encoded data removed]",
            "text/plain": [
              "<Figure size 800x350 with 1 Axes>"
            ]
          },
          "metadata": {},
          "output_type": "display_data"
        },
        {
          "data": {
            "image/png": "[encoded data removed]",
            "text/plain": [
              "<Figure size 600x500 with 2 Axes>"
            ]
          },
          "metadata": {},
          "output_type": "display_data"
        },
        {
          "name": "stdout",
          "output_type": "stream",
          "text": [
            "\n",
            "Summary:\n",
            "  Accuracy      : 0.4654\n",
            "  F1 (macro)    : 0.2395\n",
            "  F1 (weighted) : 0.5805\n",
            "Unique predicted classes on HOLDOUT: [0 1 2 3 4 5]\n"
          ]
        }
      ],
      "source": [
        "# -*- coding: utf-8 -*-\n",
        "# Robust MLP pipeline with label cleaning (NaN + all-zero handling),\n",
        "# target/one-hot auto-detection, feature alignment, focal loss, temp scaling.\n",
        "\n",
        "import os, math, random, warnings\n",
        "from pathlib import Path\n",
        "import numpy as np\n",
        "import pandas as pd\n",
        "\n",
        "import torch\n",
        "import torch.nn as nn\n",
        "import torch.optim as optim\n",
        "from torch.utils.data import DataLoader, TensorDataset\n",
        "\n",
        "from sklearn.model_selection import train_test_split\n",
        "from sklearn.preprocessing import StandardScaler\n",
        "from sklearn.metrics import (classification_report, confusion_matrix,\n",
        "                             f1_score, precision_recall_fscore_support,\n",
        "                             accuracy_score)\n",
        "from sklearn.utils.class_weight import compute_class_weight\n",
        "\n",
        "import matplotlib.pyplot as plt\n",
        "try:\n",
        "    from tqdm import tqdm\n",
        "except Exception:\n",
        "    def tqdm(x, **k): return x\n",
        "\n",
        "warnings.filterwarnings(\"ignore\")\n",
        "\n",
        "# ======================= CONFIG =======================\n",
        "INCLUDE_CALVING = True          # 6 classes with 'calving'; set False for 5 classes (calving rows removed)\n",
        "PREFER_TARGET_COLUMN = True     # use df['target'] if valid (0..C-1)\n",
        "ALL_ZERO_POLICY = \"drop\"        # 'drop' | 'map_to_ok' | 'error'\n",
        "NAN_POLICY = \"drop\"             # 'drop' | 'error'\n",
        "\n",
        "TRAINVAL_PATH = Path(r\"C:/Users/lamia/Downloads/final_selected_dataset1_trainval.csv\")\n",
        "HOLDOUT_PATH  = Path(r\"C:/Users/lamia/Downloads/final_selected_dataset1_holdout.csv\")\n",
        "\n",
        "SEED = 42\n",
        "VAL_SIZE = 0.2\n",
        "\n",
        "HIDDEN_DIMS = [512, 256, 128]\n",
        "DROPOUTS    = [0.5, 0.4, 0.3]\n",
        "ACTIVATION  = 'leakyrelu'\n",
        "USE_BN      = True\n",
        "\n",
        "BATCH_SIZE   = 128\n",
        "LR           = 5e-4\n",
        "WEIGHT_DECAY = 1e-4\n",
        "EPOCHS       = 200\n",
        "PATIENCE     = 30\n",
        "MIN_DELTA    = 1e-3\n",
        "USE_FOCAL    = True\n",
        "LEARN_TEMP   = True\n",
        "\n",
        "# ======================= UTILS =======================\n",
        "def set_seed(seed=42):\n",
        "    random.seed(seed); np.random.seed(seed); torch.manual_seed(seed)\n",
        "    torch.cuda.manual_seed_all(seed)\n",
        "    torch.backends.cudnn.deterministic = True\n",
        "    torch.backends.cudnn.benchmark = False\n",
        "\n",
        "def freeze_label_order(include_calving=True):\n",
        "    if include_calving:\n",
        "        label_cols = ['oestrus','calving','lameness','mastitis','other_disease','OK']\n",
        "    else:\n",
        "        label_cols = ['oestrus','calving','lameness','mastitis','other_disease','OK']\n",
        "    idx2name = {i: c for i, c in enumerate(label_cols)}\n",
        "    name2idx = {c: i for i, c in enumerate(label_cols)}\n",
        "    return label_cols, idx2name, name2idx\n",
        "\n",
        "def optionally_drop_calving(df, include_calving: bool):\n",
        "    df = df.copy()\n",
        "    if include_calving:\n",
        "        return df\n",
        "    if 'calving' in df.columns:\n",
        "        before = len(df)\n",
        "        df = df[df['calving'] == 0].copy()\n",
        "        print(f\"[INFO] Removed {before-len(df)} rows with calving==1 for 5-class setup.\")\n",
        "    return df\n",
        "\n",
        "def _validate_target_column(df, n_classes):\n",
        "    if 'target' not in df.columns:\n",
        "        return False\n",
        "    col = df['target']\n",
        "    if col.isna().any():\n",
        "        return False\n",
        "    vals = col.astype(float)\n",
        "    if not np.all(np.isfinite(vals)): return False\n",
        "    if not np.all(np.equal(vals, np.floor(vals))): return False\n",
        "    vals = vals.astype(int)\n",
        "    if (vals.min() < 0) or (vals.max() >= n_classes): return False\n",
        "    return True\n",
        "\n",
        "def _one_hot_sanity(df, label_cols):\n",
        "    sub = df[label_cols].astype(float)\n",
        "    row_sums = sub.sum(axis=1)\n",
        "    bad_all_zero  = int((row_sums == 0).sum())\n",
        "    bad_multi_hot = int((row_sums > 1.0 + 1e-9).sum())\n",
        "    bad_nans      = int(sub.isna().any(axis=1).sum())\n",
        "    dist = sub.idxmax(axis=1).value_counts(dropna=False).sort_index()\n",
        "    return bad_all_zero, bad_multi_hot, bad_nans, dist\n",
        "\n",
        "def extract_labels(df, label_cols, all_zero_policy=\"drop\", nan_policy=\"drop\", prefer_target=True):\n",
        "    \"\"\"\n",
        "    Returns:\n",
        "      y (np.ndarray[int]),\n",
        "      df_clean (df after cleaning according to policies),\n",
        "      info (dict)\n",
        "    \"\"\"\n",
        "    df = df.copy()\n",
        "    n_classes = len(label_cols)\n",
        "\n",
        "    # Prefer integer target if valid\n",
        "    if prefer_target and _validate_target_column(df, n_classes):\n",
        "        y = df['target'].astype(int).values\n",
        "        return y, df, {\"used\": \"target\"}\n",
        "\n",
        "    # Else use one-hot\n",
        "    for c in label_cols:\n",
        "        if c not in df.columns:\n",
        "            raise ValueError(f\"Missing label column '{c}' in dataframe.\")\n",
        "\n",
        "    bad_zero, bad_multi, bad_nan, dist = _one_hot_sanity(df, label_cols)\n",
        "    print(\"\\n[One-hot distribution (argmax, raw)]\")\n",
        "    print(dist)\n",
        "    print(f\"[One-hot sanity] all_zero={bad_zero}, multi_hot={bad_multi}, any_nan={bad_nan}\")\n",
        "\n",
        "    if bad_multi > 0:\n",
        "        raise ValueError(\"Labels must be strictly one-hot (found multi-hot rows). Please fix source data.\")\n",
        "\n",
        "    # Handle NaNs\n",
        "    if bad_nan > 0:\n",
        "        if nan_policy == \"error\":\n",
        "            raise ValueError(f\"Found {bad_nan} NaN in label columns. Set NAN_POLICY='drop' to drop those rows.\")\n",
        "        elif nan_policy == \"drop\":\n",
        "            before = len(df)\n",
        "            mask = ~df[label_cols].isna().any(axis=1)\n",
        "            df = df.loc[mask].copy()\n",
        "            print(f\"[INFO] Dropped {before-len(df)} rows with NaN in label columns.\")\n",
        "        else:\n",
        "            raise ValueError(\"NAN_POLICY must be 'drop' or 'error'.\")\n",
        "\n",
        "    # Recompute after NaN drop\n",
        "    bad_zero, bad_multi, bad_nan, _ = _one_hot_sanity(df, label_cols)\n",
        "    assert bad_multi == 0 and bad_nan == 0, \"Internal: NaN/multi-hot not resolved.\"\n",
        "\n",
        "    # Handle all-zero rows\n",
        "    if bad_zero > 0:\n",
        "        if all_zero_policy == \"error\":\n",
        "            raise ValueError(f\"Found {bad_zero} all-zero label rows; use ALL_ZERO_POLICY='drop' or 'map_to_ok'.\")\n",
        "        elif all_zero_policy == \"drop\":\n",
        "            before = len(df)\n",
        "            mask = df[label_cols].sum(axis=1) > 0\n",
        "            df = df.loc[mask].copy()\n",
        "            print(f\"[INFO] Dropped {before-len(df)} rows with all-zero labels.\")\n",
        "        elif all_zero_policy == \"map_to_ok\":\n",
        "            if 'OK' not in label_cols:\n",
        "                raise ValueError(\"'map_to_ok' selected but 'OK' not in label_cols.\")\n",
        "            mask_zero = df[label_cols].sum(axis=1) == 0\n",
        "            df.loc[mask_zero, 'OK'] = 1.0\n",
        "            print(f\"[INFO] Mapped {int(mask_zero.sum())} all-zero rows to OK=1.\")\n",
        "        else:\n",
        "            raise ValueError(\"ALL_ZERO_POLICY must be 'drop' | 'map_to_ok' | 'error'.\")\n",
        "\n",
        "    # Final check & y\n",
        "    bad_zero, bad_multi, bad_nan, _ = _one_hot_sanity(df, label_cols)\n",
        "    assert bad_zero == 0 and bad_multi == 0 and bad_nan == 0, \"Internal: labels still invalid after cleaning.\"\n",
        "    y = df[label_cols].astype(float).values.argmax(axis=1)\n",
        "    return y, df, {\"used\": \"one_hot\"}\n",
        "\n",
        "def ensure_feature_alignment(df, feature_names):\n",
        "    missing = [c for c in feature_names if c not in df.columns]\n",
        "    for c in missing:\n",
        "        df[c] = 0.0\n",
        "    return df[feature_names].astype(float)\n",
        "\n",
        "# ======================= MODEL =======================\n",
        "class CowHealthMLP(nn.Module):\n",
        "    def __init__(self, input_dim, hidden_dims, num_classes,\n",
        "                 dropout_rates=None, activation='relu', use_batchnorm=True):\n",
        "        super().__init__()\n",
        "        if dropout_rates is None: dropout_rates = [0.4] * len(hidden_dims)\n",
        "        act_map = {\n",
        "            'relu': nn.ReLU, 'leakyrelu': lambda: nn.LeakyReLU(0.1),\n",
        "            'gelu': nn.GELU, 'elu': nn.ELU\n",
        "        }\n",
        "        Act = act_map.get(activation.lower(), nn.ReLU)\n",
        "\n",
        "        layers = []\n",
        "        prev = input_dim\n",
        "        for h, dr in zip(hidden_dims, dropout_rates):\n",
        "            layers.append(nn.Linear(prev, h))\n",
        "            if use_batchnorm: layers.append(nn.BatchNorm1d(h))\n",
        "            layers.append(Act())\n",
        "            if dr and dr > 0: layers.append(nn.Dropout(dr))\n",
        "            prev = h\n",
        "        layers.append(nn.Linear(prev, num_classes))\n",
        "        self.net = nn.Sequential(*layers)\n",
        "\n",
        "        for m in self.modules():\n",
        "            if isinstance(m, nn.Linear):\n",
        "                nn.init.xavier_uniform_(m.weight)\n",
        "                if m.bias is not None: nn.init.zeros_(m.bias)\n",
        "\n",
        "    def forward(self, x): return self.net(x)\n",
        "\n",
        "class FocalLoss(nn.Module):\n",
        "    def __init__(self, weight=None, gamma=2.0, reduction='mean'):\n",
        "        super().__init__()\n",
        "        self.weight = weight; self.gamma = gamma; self.reduction = reduction\n",
        "    def forward(self, logits, target):\n",
        "        ce = nn.functional.cross_entropy(logits, target, weight=self.weight, reduction='none')\n",
        "        pt = torch.softmax(logits, dim=1).gather(1, target.view(-1,1)).squeeze(1).clamp(1e-6, 1-1e-6)\n",
        "        loss = ((1 - pt) ** self.gamma) * ce\n",
        "        return loss.mean() if self.reduction == 'mean' else loss.sum()\n",
        "\n",
        "class _TempScaler(nn.Module):\n",
        "    def __init__(self, init_T=1.0):\n",
        "        super().__init__()\n",
        "        self.logT = nn.Parameter(torch.tensor([math.log(init_T)], dtype=torch.float32))\n",
        "    def forward(self, logits): return logits / torch.exp(self.logT)\n",
        "    @property\n",
        "    def T(self): return float(torch.exp(self.logT).item())\n",
        "\n",
        "def learn_temperature(model, val_loader, init_T=1.0, max_iter=100, lr=0.01, weight=None):\n",
        "    model.eval()\n",
        "    temp = _TempScaler(init_T)\n",
        "    opt = optim.LBFGS(temp.parameters(), lr=lr, max_iter=max_iter)\n",
        "    loss_fn = nn.CrossEntropyLoss(weight=weight)\n",
        "    with torch.no_grad():\n",
        "        logits_list, labels_list = [], []\n",
        "        for xb, yb in val_loader:\n",
        "            logits_list.append(model(xb))\n",
        "            labels_list.append(yb)\n",
        "        logits = torch.cat(logits_list, 0)\n",
        "        labels = torch.cat(labels_list, 0)\n",
        "    def closure():\n",
        "        opt.zero_grad()\n",
        "        loss = loss_fn(temp(logits), labels)\n",
        "        loss.backward()\n",
        "        return loss\n",
        "    opt.step(closure)\n",
        "    return temp.T\n",
        "\n",
        "# ======================= DATA & TRAIN =======================\n",
        "def split_fit_scaler(df, label_cols, drop_cols=None, val_size=0.2 , random_state=42):\n",
        "    df = df.copy()\n",
        "    y, df_clean, _ = extract_labels(\n",
        "        df, label_cols,\n",
        "        all_zero_policy=ALL_ZERO_POLICY,\n",
        "        nan_policy=NAN_POLICY,\n",
        "        prefer_target=PREFER_TARGET_COLUMN\n",
        "    )\n",
        "\n",
        "    feature_df = df_clean.drop(columns=(drop_cols or []) + label_cols + (['target'] if 'target' in df_clean.columns else []))\n",
        "    feature_names = feature_df.columns.tolist()\n",
        "\n",
        "    X_train, X_val, y_train, y_val = train_test_split(\n",
        "        feature_df.values, y, test_size=val_size, random_state=random_state, stratify=y\n",
        "    )\n",
        "    scaler = StandardScaler().fit(X_train)\n",
        "    X_train = scaler.transform(X_train)\n",
        "    X_val   = scaler.transform(X_val)\n",
        "    return X_train, y_train, X_val, y_val, scaler, feature_names\n",
        "\n",
        "def make_loaders_from_arrays(X_train, y_train, X_val, y_val, batch_size=128):\n",
        "    def td(x, y): return TensorDataset(torch.tensor(x, dtype=torch.float32),\n",
        "                                       torch.tensor(y, dtype=torch.long))\n",
        "    train_loader = DataLoader(td(X_train, y_train), batch_size=batch_size, shuffle=True)\n",
        "    val_loader   = DataLoader(td(X_val,   y_val),   batch_size=batch_size, shuffle=False)\n",
        "    return train_loader, val_loader\n",
        "\n",
        "def class_weights_from_train(y_train, n_classes):\n",
        "    w = compute_class_weight('balanced', classes=np.arange(n_classes), y=y_train)\n",
        "    return torch.tensor(w, dtype=torch.float32)\n",
        "\n",
        "def train_on_trainval(\n",
        "    df_trainval, label_cols, drop_cols=None,\n",
        "    hidden_dims=HIDDEN_DIMS, dropout_rates=DROPOUTS,\n",
        "    activation=ACTIVATION, use_batchnorm=USE_BN,\n",
        "    batch_size=BATCH_SIZE, lr=LR, weight_decay=WEIGHT_DECAY,\n",
        "    epochs=EPOCHS, patience=PATIENCE, min_delta=MIN_DELTA,\n",
        "    use_focal_loss=USE_FOCAL, learn_temp=LEARN_TEMP\n",
        "):\n",
        "    set_seed(SEED)\n",
        "    X_tr, y_tr, X_val, y_val, scaler, feature_names = split_fit_scaler(\n",
        "        df_trainval, label_cols, drop_cols, val_size=VAL_SIZE, random_state=SEED\n",
        "    )\n",
        "    n_classes = len(label_cols)\n",
        "    train_loader, val_loader = make_loaders_from_arrays(X_tr, y_tr, X_val, y_val, batch_size=batch_size)\n",
        "    class_w = class_weights_from_train(y_tr, n_classes)\n",
        "\n",
        "    model = CowHealthMLP(\n",
        "        input_dim=len(feature_names), hidden_dims=hidden_dims, num_classes=n_classes,\n",
        "        dropout_rates=dropout_rates, activation=activation, use_batchnorm=use_batchnorm\n",
        "    )\n",
        "\n",
        "    criterion = FocalLoss(weight=class_w) if use_focal_loss else nn.CrossEntropyLoss(weight=class_w)\n",
        "    optimizer = optim.AdamW(model.parameters(), lr=lr, weight_decay=weight_decay)\n",
        "    scheduler = optim.lr_scheduler.ReduceLROnPlateau(optimizer, 'min', patience=30, factor=0.5)\n",
        "\n",
        "    best_val, best_state = float('inf'), None\n",
        "    train_loss_hist, val_loss_hist, val_f1_hist = [], [], []\n",
        "    epochs_no_improve = 0\n",
        "\n",
        "    for epoch in tqdm(range(epochs), desc=\"Training\"):\n",
        "        model.train()\n",
        "        run_loss = 0.0\n",
        "        for xb, yb in train_loader:\n",
        "            optimizer.zero_grad(set_to_none=True)\n",
        "            out = model(xb)\n",
        "            loss = criterion(out, yb)\n",
        "            loss.backward()\n",
        "            optimizer.step()\n",
        "            run_loss += loss.item() * xb.size(0)\n",
        "        run_loss /= len(train_loader.dataset)\n",
        "        train_loss_hist.append(run_loss)\n",
        "\n",
        "        model.eval()\n",
        "        vloss, vpreds, vlabels = 0.0, [], []\n",
        "        with torch.no_grad():\n",
        "            for xb, yb in val_loader:\n",
        "                out = model(xb)\n",
        "                loss = criterion(out, yb)\n",
        "                vloss += loss.item() * xb.size(0)\n",
        "                vpreds.extend(out.argmax(1).cpu().numpy())\n",
        "                vlabels.extend(yb.cpu().numpy())\n",
        "        vloss /= len(val_loader.dataset)\n",
        "        val_loss_hist.append(vloss)\n",
        "        val_f1 = f1_score(vlabels, vpreds, average='macro')\n",
        "        val_f1_hist.append(val_f1)\n",
        "        scheduler.step(vloss)\n",
        "\n",
        "        uniq = np.unique(vpreds)\n",
        "        if uniq.size == 1:\n",
        "            print(f\"[epoch {epoch+1}] WARNING: only predicted class {uniq[0]} on VAL — check imbalance.\")\n",
        "\n",
        "        if vloss < best_val - min_delta:\n",
        "            best_val, best_state = vloss, model.state_dict()\n",
        "            epochs_no_improve = 0\n",
        "        else:\n",
        "            epochs_no_improve += 1\n",
        "            if epochs_no_improve >= patience:\n",
        "                print(f\"\\nEarly stopping at epoch {epoch+1}\")\n",
        "                break\n",
        "\n",
        "    if best_state is not None:\n",
        "        model.load_state_dict(best_state)\n",
        "\n",
        "    # plots\n",
        "    plt.figure(figsize=(12,5))\n",
        "    plt.subplot(1,2,1); plt.plot(train_loss_hist,label='Train'); plt.plot(val_loss_hist,label='Val')\n",
        "    plt.title('Loss'); plt.grid(); plt.legend()\n",
        "    plt.subplot(1,2,2); plt.plot(val_f1_hist,label='Val F1 (macro)')\n",
        "    plt.title('Val F1 (macro)'); plt.grid(); plt.legend()\n",
        "    plt.tight_layout(); plt.show()\n",
        "\n",
        "    T = 1.0\n",
        "    if learn_temp:\n",
        "        T = learn_temperature(model, val_loader, init_T=1.0, lr=0.01, max_iter=100, weight=class_w)\n",
        "        print(f\"✓ Learned temperature on validation: T = {T:.3f}\")\n",
        "\n",
        "    return model, scaler, T, feature_names\n",
        "\n",
        "# ======================= EVAL =======================\n",
        "def transform_with_scaler(df, label_cols, drop_cols, scaler, feature_names):\n",
        "    df = df.copy()\n",
        "    y, df_clean, _ = extract_labels(\n",
        "        df, label_cols,\n",
        "        all_zero_policy=ALL_ZERO_POLICY,\n",
        "        nan_policy=NAN_POLICY,\n",
        "        prefer_target=PREFER_TARGET_COLUMN\n",
        "    )\n",
        "    feat_df = df_clean.drop(columns=(drop_cols or []) + label_cols + (['target'] if 'target' in df_clean.columns else []))\n",
        "    feat_df = ensure_feature_alignment(feat_df, feature_names)\n",
        "    X = scaler.transform(feat_df.values)\n",
        "    return X, y\n",
        "\n",
        "def plot_per_class_metrics(y_true, y_pred, class_names):\n",
        "    pr, rc, f1, _ = precision_recall_fscore_support(y_true, y_pred, labels=np.arange(len(class_names)))\n",
        "    fig, ax = plt.subplots(1, 1, figsize=(8, 3.5))\n",
        "    table = pd.DataFrame({'precision': pr, 'recall': rc, 'f1': f1}, index=class_names)\n",
        "    ax.axis('off'); ax.table(cellText=np.round(table.values, 4), colLabels=table.columns,\n",
        "                             rowLabels=table.index, loc='center')\n",
        "    ax.set_title(\"Per-class metrics\"); plt.tight_layout(); plt.show()\n",
        "\n",
        "    cm = confusion_matrix(y_true, y_pred, labels=np.arange(len(class_names)))\n",
        "    fig, ax = plt.subplots(figsize=(6, 5))\n",
        "    im = ax.imshow(cm, interpolation='nearest', aspect='auto')\n",
        "    ax.figure.colorbar(im, ax=ax)\n",
        "    ax.set(xticks=np.arange(cm.shape[1]), yticks=np.arange(cm.shape[0]),\n",
        "           xticklabels=class_names, yticklabels=class_names,\n",
        "           ylabel='True label', xlabel='Predicted label', title='Confusion Matrix')\n",
        "    plt.setp(ax.get_xticklabels(), rotation=45, ha=\"right\", rotation_mode=\"anchor\")\n",
        "    for i in range(cm.shape[0]):\n",
        "        for j in range(cm.shape[1]):\n",
        "            ax.text(j, i, cm[i, j],\n",
        "                    ha=\"center\", va=\"center\",\n",
        "                    color=\"white\" if cm[i,j] > cm.max()/2 else \"black\")\n",
        "    plt.tight_layout(); plt.show()\n",
        "\n",
        "def print_f1_summary(y_true, y_pred):\n",
        "    print(\"\\nSummary:\")\n",
        "    print(f\"  Accuracy      : {accuracy_score(y_true, y_pred):.4f}\")\n",
        "    print(f\"  F1 (macro)    : {f1_score(y_true, y_pred, average='macro'):.4f}\")\n",
        "    print(f\"  F1 (weighted) : {f1_score(y_true, y_pred, average='weighted'):.4f}\")\n",
        "\n",
        "def evaluate_on_holdout(model, scaler, df_holdout, label_cols, drop_cols=None,\n",
        "                        feature_names=None, temperature=1.0, batch_size=128):\n",
        "    model.eval()\n",
        "    X_test, y_test = transform_with_scaler(df_holdout, label_cols, drop_cols, scaler, feature_names)\n",
        "    ds = TensorDataset(torch.tensor(X_test, dtype=torch.float32), torch.tensor(y_test, dtype=torch.long))\n",
        "    loader = DataLoader(ds, batch_size=batch_size, shuffle=False)\n",
        "\n",
        "    all_preds, all_probs, all_labels = [], [], []\n",
        "    with torch.no_grad():\n",
        "        for xb, yb in loader:\n",
        "            logits = model(xb) / temperature\n",
        "            probs = torch.softmax(logits, dim=1)\n",
        "            preds = probs.argmax(1)\n",
        "            all_probs.extend(probs.cpu().numpy())\n",
        "            all_preds.extend(preds.cpu().numpy())\n",
        "            all_labels.extend(yb.cpu().numpy())\n",
        "\n",
        "    print(\"\\n📊 Holdout Classification Report\")\n",
        "    print(classification_report(all_labels, all_preds, target_names=label_cols))\n",
        "    plot_per_class_metrics(all_labels, all_preds, label_cols)\n",
        "    print_f1_summary(all_labels, all_preds)\n",
        "    print(\"Unique predicted classes on HOLDOUT:\", np.unique(all_preds))\n",
        "\n",
        "    return {\n",
        "        'predictions': np.array(all_preds),\n",
        "        'labels': np.array(all_labels),\n",
        "        'probabilities': np.array(all_probs),\n",
        "        'confusion_matrix': confusion_matrix(all_labels, all_preds)\n",
        "    }\n",
        "\n",
        "# ======================= MAIN =======================\n",
        "if __name__ == \"__main__\":\n",
        "    set_seed(SEED)\n",
        "\n",
        "    FULL_LABELS, IDX2NAME, NAME2IDX = freeze_label_order(include_calving=INCLUDE_CALVING)\n",
        "\n",
        "    df_trainval = pd.read_csv(TRAINVAL_PATH)\n",
        "    df_holdout  = pd.read_csv(HOLDOUT_PATH)\n",
        "\n",
        "    df_trainval = optionally_drop_calving(df_trainval, INCLUDE_CALVING)\n",
        "    df_holdout  = optionally_drop_calving(df_holdout,  INCLUDE_CALVING)\n",
        "\n",
        "    drop_cols = ['cow','start_time','end_time']\n",
        "    if 'calving' in df_trainval.columns and 'calving' not in drop_cols:\n",
        "        drop_cols.append('calving')\n",
        "\n",
        "    model, scaler, T, feature_names = train_on_trainval(\n",
        "        df_trainval,\n",
        "        label_cols=FULL_LABELS,\n",
        "        drop_cols=drop_cols,\n",
        "        hidden_dims=HIDDEN_DIMS,\n",
        "        dropout_rates=DROPOUTS,\n",
        "        activation=ACTIVATION,\n",
        "        use_batchnorm=USE_BN,\n",
        "        batch_size=BATCH_SIZE,\n",
        "        lr=LR,\n",
        "        weight_decay=WEIGHT_DECAY,\n",
        "        epochs=EPOCHS,\n",
        "        patience=PATIENCE,\n",
        "        min_delta=MIN_DELTA,\n",
        "        use_focal_loss=USE_FOCAL,\n",
        "        learn_temp=LEARN_TEMP\n",
        "    )\n",
        "\n",
        "    _ = evaluate_on_holdout(\n",
        "        model, scaler, df_holdout,\n",
        "        label_cols=FULL_LABELS,\n",
        "        drop_cols=drop_cols,\n",
        "        feature_names=feature_names,\n",
        "        temperature=T,\n",
        "        batch_size=BATCH_SIZE\n",
        "    )\n"
      ]
    },
    {
      "cell_type": "code",
      "execution_count": null,
      "id": "vDdtSbgECHOH",
      "metadata": {
        "colab": {
          "base_uri": "https://localhost:8080/",
          "height": 1000
        },
        "id": "vDdtSbgECHOH",
        "outputId": "77738116-e735-4cd1-dccf-bd184d6ba28b"
      },
      "outputs": [
        {
          "name": "stderr",
          "output_type": "stream",
          "text": [
            "Training: 100%|██████████| 200/200 [27:41<00:00,  8.31s/it]\n"
          ]
        },
        {
          "data": {
            "image/png": "[encoded data removed]",
            "text/plain": [
              "<Figure size 1200x500 with 2 Axes>"
            ]
          },
          "metadata": {},
          "output_type": "display_data"
        },
        {
          "name": "stdout",
          "output_type": "stream",
          "text": [
            "✓ Learned temperature on validation: T = 0.581\n",
            "\n",
            "📊 Holdout Classification Report\n",
            "               precision    recall  f1-score   support\n",
            "\n",
            "      oestrus       0.16      0.98      0.28        57\n",
            "     lameness       0.24      0.93      0.38       175\n",
            "     mastitis       0.19      0.97      0.32        32\n",
            "other_disease       0.18      0.95      0.30        86\n",
            "           OK       1.00      0.64      0.78      3626\n",
            "\n",
            "     accuracy                           0.67      3976\n",
            "    macro avg       0.35      0.90      0.41      3976\n",
            " weighted avg       0.93      0.67      0.74      3976\n",
            "\n"
          ]
        },
        {
          "data": {
            "image/png": "[encoded data removed]",
            "text/plain": [
              "<Figure size 800x350 with 1 Axes>"
            ]
          },
          "metadata": {},
          "output_type": "display_data"
        },
        {
          "data": {
            "image/png": "[encoded data removed]",
            "text/plain": [
              "<Figure size 600x500 with 2 Axes>"
            ]
          },
          "metadata": {},
          "output_type": "display_data"
        },
        {
          "name": "stdout",
          "output_type": "stream",
          "text": [
            "\n",
            "Summary:\n",
            "  Accuracy      : 0.6685\n",
            "  F1 (macro)    : 0.4135\n",
            "  F1 (weighted) : 0.7417\n",
            "Unique predicted classes on HOLDOUT: [0 1 2 3 4]\n"
          ]
        }
      ],
      "source": [
        "# -*- coding: utf-8 -*-\n",
        "# Robust MLP pipeline with label cleaning (NaN + all-zero handling),\n",
        "# target/one-hot auto-detection, feature alignment, focal loss, temp scaling.\n",
        "\n",
        "import os, math, random, warnings\n",
        "from pathlib import Path\n",
        "import numpy as np\n",
        "import pandas as pd\n",
        "\n",
        "import torch\n",
        "import torch.nn as nn\n",
        "import torch.optim as optim\n",
        "from torch.utils.data import DataLoader, TensorDataset\n",
        "\n",
        "from sklearn.model_selection import train_test_split\n",
        "from sklearn.preprocessing import StandardScaler\n",
        "from sklearn.metrics import (classification_report, confusion_matrix,\n",
        "                             f1_score, precision_recall_fscore_support,\n",
        "                             accuracy_score)\n",
        "from sklearn.utils.class_weight import compute_class_weight\n",
        "\n",
        "import matplotlib.pyplot as plt\n",
        "try:\n",
        "    from tqdm import tqdm\n",
        "except Exception:\n",
        "    def tqdm(x, **k): return x\n",
        "\n",
        "warnings.filterwarnings(\"ignore\")\n",
        "\n",
        "# ======================= CONFIG =======================\n",
        "INCLUDE_CALVING = True          # 6 classes with 'calving'; set False for 5 classes (calving rows removed)\n",
        "PREFER_TARGET_COLUMN = True     # use df['target'] if valid (0..C-1)\n",
        "ALL_ZERO_POLICY = \"drop\"        # 'drop' | 'map_to_ok' | 'error'\n",
        "NAN_POLICY = \"drop\"             # 'drop' | 'error'\n",
        "\n",
        "TRAINVAL_PATH = Path(r\"C:/Users/lamia/Downloads/non_augmented_dataset2_trainval.csv\")\n",
        "HOLDOUT_PATH  = Path(r\"C:/Users/lamia/Downloads/non_augmented_dataset2_holdout.csv\")\n",
        "\n",
        "SEED = 42\n",
        "VAL_SIZE = 0.2\n",
        "\n",
        "HIDDEN_DIMS = [512, 256, 128]\n",
        "DROPOUTS    = [0.5, 0.4, 0.3]\n",
        "ACTIVATION  = 'leakyrelu'\n",
        "USE_BN      = True\n",
        "\n",
        "BATCH_SIZE   = 128\n",
        "LR           = 5e-4\n",
        "WEIGHT_DECAY = 1e-4\n",
        "EPOCHS       = 200\n",
        "PATIENCE     = 30\n",
        "MIN_DELTA    = 1e-3\n",
        "USE_FOCAL    = True\n",
        "LEARN_TEMP   = True\n",
        "\n",
        "# ======================= UTILS =======================\n",
        "def set_seed(seed=42):\n",
        "    random.seed(seed); np.random.seed(seed); torch.manual_seed(seed)\n",
        "    torch.cuda.manual_seed_all(seed)\n",
        "    torch.backends.cudnn.deterministic = True\n",
        "    torch.backends.cudnn.benchmark = False\n",
        "\n",
        "def freeze_label_order(include_calving=True):\n",
        "    if include_calving:\n",
        "        label_cols = ['oestrus','lameness','mastitis','other_disease','OK']\n",
        "    else:\n",
        "        label_cols = ['oestrus','lameness','mastitis','other_disease','OK']\n",
        "    idx2name = {i: c for i, c in enumerate(label_cols)}\n",
        "    name2idx = {c: i for i, c in enumerate(label_cols)}\n",
        "    return label_cols, idx2name, name2idx\n",
        "\n",
        "def optionally_drop_calving(df, include_calving: bool):\n",
        "    df = df.copy()\n",
        "    if include_calving:\n",
        "        return df\n",
        "    if 'calving' in df.columns:\n",
        "        before = len(df)\n",
        "        df = df[df['calving'] == 0].copy()\n",
        "        print(f\"[INFO] Removed {before-len(df)} rows with calving==1 for 5-class setup.\")\n",
        "    return df\n",
        "\n",
        "def _validate_target_column(df, n_classes):\n",
        "    if 'target' not in df.columns:\n",
        "        return False\n",
        "    col = df['target']\n",
        "    if col.isna().any():\n",
        "        return False\n",
        "    vals = col.astype(float)\n",
        "    if not np.all(np.isfinite(vals)): return False\n",
        "    if not np.all(np.equal(vals, np.floor(vals))): return False\n",
        "    vals = vals.astype(int)\n",
        "    if (vals.min() < 0) or (vals.max() >= n_classes): return False\n",
        "    return True\n",
        "\n",
        "def _one_hot_sanity(df, label_cols):\n",
        "    sub = df[label_cols].astype(float)\n",
        "    row_sums = sub.sum(axis=1)\n",
        "    bad_all_zero  = int((row_sums == 0).sum())\n",
        "    bad_multi_hot = int((row_sums > 1.0 + 1e-9).sum())\n",
        "    bad_nans      = int(sub.isna().any(axis=1).sum())\n",
        "    dist = sub.idxmax(axis=1).value_counts(dropna=False).sort_index()\n",
        "    return bad_all_zero, bad_multi_hot, bad_nans, dist\n",
        "\n",
        "def coerce_one_hot_numeric(df, label_cols):\n",
        "    \"\"\"\n",
        "    Try to coerce a possibly stringy 'one-hot' block into numeric 0/1.\n",
        "    Rules per cell:\n",
        "      - numeric -> kept (0/1 expected, but any number allowed until sanity check)\n",
        "      - string equal to its column name (case-insensitive, trimmed) -> 1\n",
        "      - '1','true','yes' -> 1\n",
        "      - '0','false','no','' (empty) -> 0\n",
        "      - otherwise -> NaN (so NaN policy can handle)\n",
        "    \"\"\"\n",
        "    sub = df[label_cols].copy()\n",
        "\n",
        "    # Fast path: already numeric\n",
        "    if np.all(sub.dtypes.apply(lambda t: np.issubdtype(t, np.number))):\n",
        "        return sub.astype(float)\n",
        "\n",
        "    def to01(col_series, col_name):\n",
        "        s = col_series.astype(str).str.strip()\n",
        "        lower = s.str.lower()\n",
        "\n",
        "        is_colname = lower == col_name.lower()\n",
        "        is_one  = lower.isin([\"1\", \"true\", \"yes\", \"y\"])\n",
        "        is_zero = lower.isin([\"0\", \"false\", \"no\", \"n\", \"nan\", \"none\", \"\"])\n",
        "\n",
        "        out = pd.Series(np.nan, index=s.index, dtype=float)\n",
        "        out[is_colname | is_one] = 1.0\n",
        "        out[is_zero]             = 0.0\n",
        "\n",
        "        # If original dtype was numeric for some rows, preserve those values\n",
        "        # (helps when a column is mixed types)\n",
        "        mask_numeric = pd.to_numeric(col_series, errors=\"coerce\").notna()\n",
        "        out.loc[mask_numeric] = pd.to_numeric(col_series.loc[mask_numeric], errors=\"coerce\")\n",
        "\n",
        "        return out\n",
        "\n",
        "    coerced = pd.DataFrame(index=sub.index, columns=label_cols, dtype=float)\n",
        "    for c in label_cols:\n",
        "        coerced[c] = to01(sub[c], c)\n",
        "\n",
        "    return coerced\n",
        "\n",
        "\n",
        "def extract_labels(df, label_cols, class_order=None,\n",
        "                   all_zero_policy=\"drop\", nan_policy=\"drop\", prefer_target=True):\n",
        "    \"\"\"\n",
        "    Supports:\n",
        "      - Single label column (class names or ints)  --> map to ids\n",
        "      - Multi-column one-hot (numeric or stringy)  --> coerce to numeric then argmax\n",
        "      - Optional integer 'target' (0..C-1) if prefer_target=True\n",
        "    \"\"\"\n",
        "    df = df.copy()\n",
        "\n",
        "    # Single label column mode\n",
        "    if len(label_cols) == 1:\n",
        "        col = label_cols[0]\n",
        "        if prefer_target and 'target' in df.columns:\n",
        "            vals = df['target']\n",
        "            if vals.notna().all() and np.equal(vals, np.floor(vals)).all():\n",
        "                vals = vals.astype(int)\n",
        "                if class_order is None or (0 <= vals.min() and vals.max() < len(class_order)):\n",
        "                    return vals.values, df, {\"used\": \"target_single\"}\n",
        "\n",
        "        lab = df[col]\n",
        "        if nan_policy == \"drop\" and lab.isna().any():\n",
        "            before = len(df); df = df[lab.notna()].copy()\n",
        "            print(f\"[INFO] Dropped {before-len(df)} rows with NaN in '{col}'.\")\n",
        "            lab = df[col]\n",
        "        elif lab.isna().any():\n",
        "            raise ValueError(f\"NaN found in '{col}'. Set NAN_POLICY='drop' to drop them.\")\n",
        "\n",
        "        # Map strings to ids using provided class_order\n",
        "        if lab.dtype == object or isinstance(lab.iloc[0], str):\n",
        "            assert class_order is not None, \"Provide class_order to map string labels to ids.\"\n",
        "            name2idx = {n: i for i, n in enumerate(class_order)}\n",
        "            y = lab.astype(str).str.strip().map(name2idx)\n",
        "            if y.isna().any():\n",
        "                unknown = df.loc[y.isna(), col].unique()\n",
        "                raise ValueError(f\"Unknown label names: {unknown}. Update class_order or clean data.\")\n",
        "            return y.values.astype(int), df, {\"used\": \"single_str\"}\n",
        "        else:\n",
        "            return lab.astype(int).values, df, {\"used\": \"single_int\"}\n",
        "\n",
        "    # Multi-column one-hot mode\n",
        "    for c in label_cols:\n",
        "        if c not in df.columns:\n",
        "            raise ValueError(f\"Missing label column '{c}'.\")\n",
        "\n",
        "    # Prefer integer target if valid\n",
        "    if prefer_target and 'target' in df.columns:\n",
        "        col = df['target']\n",
        "        if col.notna().all() and np.equal(col, np.floor(col)).all():\n",
        "            vals = col.astype(int)\n",
        "            if 0 <= vals.min() and vals.max() < len(label_cols):\n",
        "                return vals.values, df, {\"used\": \"target_onehot\"}\n",
        "\n",
        "    # Coerce to numeric 0/1 if needed\n",
        "    sub = coerce_one_hot_numeric(df, label_cols)\n",
        "\n",
        "    # Handle NaNs\n",
        "    if sub.isna().any(axis=1).any():\n",
        "        if nan_policy == \"drop\":\n",
        "            before = len(df)\n",
        "            mask = ~sub.isna().any(axis=1)\n",
        "            df  = df.loc[mask].copy()\n",
        "            sub = sub.loc[mask].copy()\n",
        "            print(f\"[INFO] Dropped {before-len(df)} rows with NaN in label block after coercion.\")\n",
        "        else:\n",
        "            raise ValueError(\"NaN in label columns after coercion. Set NAN_POLICY='drop'.\")\n",
        "\n",
        "    # One-hot sanity\n",
        "    row_sums = sub.sum(axis=1).values\n",
        "    bad_multi = int((row_sums > 1.0 + 1e-9).sum())\n",
        "    bad_zero  = int((row_sums == 0).sum())\n",
        "\n",
        "    if bad_multi > 0:\n",
        "        raise ValueError(\"Found multi-hot rows; labels must be strictly one-hot.\")\n",
        "\n",
        "    if bad_zero > 0:\n",
        "        if all_zero_policy == \"drop\":\n",
        "            before = len(df)\n",
        "            keep = row_sums > 0\n",
        "            df  = df.loc[keep].copy()\n",
        "            sub = sub.loc[keep].copy()\n",
        "            print(f\"[INFO] Dropped {before-len(df)} rows with all-zero labels.\")\n",
        "        elif all_zero_policy == \"map_to_ok\":\n",
        "            if 'OK' not in label_cols:\n",
        "                raise ValueError(\"'map_to_ok' chosen but 'OK' not in label_cols.\")\n",
        "            mask0 = (row_sums == 0)\n",
        "            sub.loc[mask0, 'OK'] = 1.0\n",
        "            print(f\"[INFO] Mapped {int(mask0.sum())} all-zero rows to OK=1.\")\n",
        "        else:\n",
        "            raise ValueError(\"All-zero labels; set ALL_ZERO_POLICY='drop' or 'map_to_ok'.\")\n",
        "\n",
        "    y = sub.values.argmax(axis=1)\n",
        "    return y, df, {\"used\": \"one_hot_coerced\"}\n",
        "\n",
        "def ensure_feature_alignment(df, feature_names):\n",
        "    missing = [c for c in feature_names if c not in df.columns]\n",
        "    for c in missing:\n",
        "        df[c] = 0.0\n",
        "    return df[feature_names].astype(float)\n",
        "\n",
        "# ======================= MODEL =======================\n",
        "class CowHealthMLP(nn.Module):\n",
        "    def __init__(self, input_dim, hidden_dims, num_classes,\n",
        "                 dropout_rates=None, activation='relu', use_batchnorm=True):\n",
        "        super().__init__()\n",
        "        if dropout_rates is None: dropout_rates = [0.4] * len(hidden_dims)\n",
        "        act_map = {\n",
        "            'relu': nn.ReLU, 'leakyrelu': lambda: nn.LeakyReLU(0.1),\n",
        "            'gelu': nn.GELU, 'elu': nn.ELU\n",
        "        }\n",
        "        Act = act_map.get(activation.lower(), nn.ReLU)\n",
        "\n",
        "        layers = []\n",
        "        prev = input_dim\n",
        "        for h, dr in zip(hidden_dims, dropout_rates):\n",
        "            layers.append(nn.Linear(prev, h))\n",
        "            if use_batchnorm: layers.append(nn.BatchNorm1d(h))\n",
        "            layers.append(Act())\n",
        "            if dr and dr > 0: layers.append(nn.Dropout(dr))\n",
        "            prev = h\n",
        "        layers.append(nn.Linear(prev, num_classes))\n",
        "        self.net = nn.Sequential(*layers)\n",
        "\n",
        "        for m in self.modules():\n",
        "            if isinstance(m, nn.Linear):\n",
        "                nn.init.xavier_uniform_(m.weight)\n",
        "                if m.bias is not None: nn.init.zeros_(m.bias)\n",
        "\n",
        "    def forward(self, x): return self.net(x)\n",
        "\n",
        "class FocalLoss(nn.Module):\n",
        "    def __init__(self, weight=None, gamma=2.0, reduction='mean'):\n",
        "        super().__init__()\n",
        "        self.weight = weight; self.gamma = gamma; self.reduction = reduction\n",
        "    def forward(self, logits, target):\n",
        "        ce = nn.functional.cross_entropy(logits, target, weight=self.weight, reduction='none')\n",
        "        pt = torch.softmax(logits, dim=1).gather(1, target.view(-1,1)).squeeze(1).clamp(1e-6, 1-1e-6)\n",
        "        loss = ((1 - pt) ** self.gamma) * ce\n",
        "        return loss.mean() if self.reduction == 'mean' else loss.sum()\n",
        "\n",
        "class _TempScaler(nn.Module):\n",
        "    def __init__(self, init_T=1.0):\n",
        "        super().__init__()\n",
        "        self.logT = nn.Parameter(torch.tensor([math.log(init_T)], dtype=torch.float32))\n",
        "    def forward(self, logits): return logits / torch.exp(self.logT)\n",
        "    @property\n",
        "    def T(self): return float(torch.exp(self.logT).item())\n",
        "\n",
        "def learn_temperature(model, val_loader, init_T=1.0, max_iter=100, lr=0.01, weight=None):\n",
        "    model.eval()\n",
        "    temp = _TempScaler(init_T)\n",
        "    opt = optim.LBFGS(temp.parameters(), lr=lr, max_iter=max_iter)\n",
        "    loss_fn = nn.CrossEntropyLoss(weight=weight)\n",
        "    with torch.no_grad():\n",
        "        logits_list, labels_list = [], []\n",
        "        for xb, yb in val_loader:\n",
        "            logits_list.append(model(xb))\n",
        "            labels_list.append(yb)\n",
        "        logits = torch.cat(logits_list, 0)\n",
        "        labels = torch.cat(labels_list, 0)\n",
        "    def closure():\n",
        "        opt.zero_grad()\n",
        "        loss = loss_fn(temp(logits), labels)\n",
        "        loss.backward()\n",
        "        return loss\n",
        "    opt.step(closure)\n",
        "    return temp.T\n",
        "\n",
        "# ======================= DATA & TRAIN =======================\n",
        "def split_fit_scaler(df, label_cols, drop_cols=None, val_size=0.2, random_state=42):\n",
        "    df = df.copy()\n",
        "    y, df_clean, _ = extract_labels(\n",
        "        df, label_cols,\n",
        "        all_zero_policy=ALL_ZERO_POLICY,\n",
        "        nan_policy=NAN_POLICY,\n",
        "        prefer_target=PREFER_TARGET_COLUMN\n",
        "    )\n",
        "\n",
        "    feature_df = df_clean.drop(columns=(drop_cols or []) + label_cols + (['target'] if 'target' in df_clean.columns else []))\n",
        "    feature_names = feature_df.columns.tolist()\n",
        "\n",
        "    X_train, X_val, y_train, y_val = train_test_split(\n",
        "        feature_df.values, y, test_size=val_size, random_state=random_state, stratify=y\n",
        "    )\n",
        "    scaler = StandardScaler().fit(X_train)\n",
        "    X_train = scaler.transform(X_train)\n",
        "    X_val   = scaler.transform(X_val)\n",
        "    return X_train, y_train, X_val, y_val, scaler, feature_names\n",
        "\n",
        "def make_loaders_from_arrays(X_train, y_train, X_val, y_val, batch_size=128):\n",
        "    def td(x, y): return TensorDataset(torch.tensor(x, dtype=torch.float32),\n",
        "                                       torch.tensor(y, dtype=torch.long))\n",
        "    train_loader = DataLoader(td(X_train, y_train), batch_size=batch_size, shuffle=True)\n",
        "    val_loader   = DataLoader(td(X_val,   y_val),   batch_size=batch_size, shuffle=False)\n",
        "    return train_loader, val_loader\n",
        "\n",
        "def class_weights_from_train(y_train, n_classes):\n",
        "    w = compute_class_weight('balanced', classes=np.arange(n_classes), y=y_train)\n",
        "    return torch.tensor(w, dtype=torch.float32)\n",
        "\n",
        "def train_on_trainval(\n",
        "    df_trainval, label_cols, drop_cols=None,\n",
        "    hidden_dims=HIDDEN_DIMS, dropout_rates=DROPOUTS,\n",
        "    activation=ACTIVATION, use_batchnorm=USE_BN,\n",
        "    batch_size=BATCH_SIZE, lr=LR, weight_decay=WEIGHT_DECAY,\n",
        "    epochs=EPOCHS, patience=PATIENCE, min_delta=MIN_DELTA,\n",
        "    use_focal_loss=USE_FOCAL, learn_temp=LEARN_TEMP\n",
        "):\n",
        "    set_seed(SEED)\n",
        "    X_tr, y_tr, X_val, y_val, scaler, feature_names = split_fit_scaler(\n",
        "        df_trainval, label_cols, drop_cols, val_size=VAL_SIZE, random_state=SEED\n",
        "    )\n",
        "    n_classes = len(label_cols)\n",
        "    train_loader, val_loader = make_loaders_from_arrays(X_tr, y_tr, X_val, y_val, batch_size=batch_size)\n",
        "    class_w = class_weights_from_train(y_tr, n_classes)\n",
        "\n",
        "    model = CowHealthMLP(\n",
        "        input_dim=len(feature_names), hidden_dims=hidden_dims, num_classes=n_classes,\n",
        "        dropout_rates=dropout_rates, activation=activation, use_batchnorm=use_batchnorm\n",
        "    )\n",
        "\n",
        "    criterion = FocalLoss(weight=class_w) if use_focal_loss else nn.CrossEntropyLoss(weight=class_w)\n",
        "    optimizer = optim.AdamW(model.parameters(), lr=lr, weight_decay=weight_decay)\n",
        "    scheduler = optim.lr_scheduler.ReduceLROnPlateau(optimizer, 'min', patience=30, factor=0.5)\n",
        "\n",
        "    best_val, best_state = float('inf'), None\n",
        "    train_loss_hist, val_loss_hist, val_f1_hist = [], [], []\n",
        "    epochs_no_improve = 0\n",
        "\n",
        "    for epoch in tqdm(range(epochs), desc=\"Training\"):\n",
        "        model.train()\n",
        "        run_loss = 0.0\n",
        "        for xb, yb in train_loader:\n",
        "            optimizer.zero_grad(set_to_none=True)\n",
        "            out = model(xb)\n",
        "            loss = criterion(out, yb)\n",
        "            loss.backward()\n",
        "            optimizer.step()\n",
        "            run_loss += loss.item() * xb.size(0)\n",
        "        run_loss /= len(train_loader.dataset)\n",
        "        train_loss_hist.append(run_loss)\n",
        "\n",
        "        model.eval()\n",
        "        vloss, vpreds, vlabels = 0.0, [], []\n",
        "        with torch.no_grad():\n",
        "            for xb, yb in val_loader:\n",
        "                out = model(xb)\n",
        "                loss = criterion(out, yb)\n",
        "                vloss += loss.item() * xb.size(0)\n",
        "                vpreds.extend(out.argmax(1).cpu().numpy())\n",
        "                vlabels.extend(yb.cpu().numpy())\n",
        "        vloss /= len(val_loader.dataset)\n",
        "        val_loss_hist.append(vloss)\n",
        "        val_f1 = f1_score(vlabels, vpreds, average='macro')\n",
        "        val_f1_hist.append(val_f1)\n",
        "        scheduler.step(vloss)\n",
        "\n",
        "        uniq = np.unique(vpreds)\n",
        "        if uniq.size == 1:\n",
        "            print(f\"[epoch {epoch+1}] WARNING: only predicted class {uniq[0]} on VAL — check imbalance.\")\n",
        "\n",
        "        if vloss < best_val - min_delta:\n",
        "            best_val, best_state = vloss, model.state_dict()\n",
        "            epochs_no_improve = 0\n",
        "        else:\n",
        "            epochs_no_improve += 1\n",
        "            if epochs_no_improve >= patience:\n",
        "                print(f\"\\nEarly stopping at epoch {epoch+1}\")\n",
        "                break\n",
        "\n",
        "    if best_state is not None:\n",
        "        model.load_state_dict(best_state)\n",
        "\n",
        "    # plots\n",
        "    plt.figure(figsize=(12,5))\n",
        "    plt.subplot(1,2,1); plt.plot(train_loss_hist,label='Train'); plt.plot(val_loss_hist,label='Val')\n",
        "    plt.title('Loss'); plt.grid(); plt.legend()\n",
        "    plt.subplot(1,2,2); plt.plot(val_f1_hist,label='Val F1 (macro)')\n",
        "    plt.title('Val F1 (macro)'); plt.grid(); plt.legend()\n",
        "    plt.tight_layout(); plt.show()\n",
        "\n",
        "    T = 1.0\n",
        "    if learn_temp:\n",
        "        T = learn_temperature(model, val_loader, init_T=1.0, lr=0.01, max_iter=100, weight=class_w)\n",
        "        print(f\"✓ Learned temperature on validation: T = {T:.3f}\")\n",
        "\n",
        "    return model, scaler, T, feature_names\n",
        "\n",
        "# ======================= EVAL =======================\n",
        "def transform_with_scaler(df, label_cols, drop_cols, scaler, feature_names):\n",
        "    df = df.copy()\n",
        "    y, df_clean, _ = extract_labels(\n",
        "        df, label_cols,\n",
        "        all_zero_policy=ALL_ZERO_POLICY,\n",
        "        nan_policy=NAN_POLICY,\n",
        "        prefer_target=PREFER_TARGET_COLUMN\n",
        "    )\n",
        "    feat_df = df_clean.drop(columns=(drop_cols or []) + label_cols + (['target'] if 'target' in df_clean.columns else []))\n",
        "    feat_df = ensure_feature_alignment(feat_df, feature_names)\n",
        "    X = scaler.transform(feat_df.values)\n",
        "    return X, y\n",
        "\n",
        "def plot_per_class_metrics(y_true, y_pred, class_names):\n",
        "    pr, rc, f1, _ = precision_recall_fscore_support(y_true, y_pred, labels=np.arange(len(class_names)))\n",
        "    fig, ax = plt.subplots(1, 1, figsize=(8, 3.5))\n",
        "    table = pd.DataFrame({'precision': pr, 'recall': rc, 'f1': f1}, index=class_names)\n",
        "    ax.axis('off'); ax.table(cellText=np.round(table.values, 4), colLabels=table.columns,\n",
        "                             rowLabels=table.index, loc='center')\n",
        "    ax.set_title(\"Per-class metrics\"); plt.tight_layout(); plt.show()\n",
        "\n",
        "    cm = confusion_matrix(y_true, y_pred, labels=np.arange(len(class_names)))\n",
        "    fig, ax = plt.subplots(figsize=(6, 5))\n",
        "    im = ax.imshow(cm, interpolation='nearest', aspect='auto')\n",
        "    ax.figure.colorbar(im, ax=ax)\n",
        "    ax.set(xticks=np.arange(cm.shape[1]), yticks=np.arange(cm.shape[0]),\n",
        "           xticklabels=class_names, yticklabels=class_names,\n",
        "           ylabel='True label', xlabel='Predicted label', title='Confusion Matrix')\n",
        "    plt.setp(ax.get_xticklabels(), rotation=45, ha=\"right\", rotation_mode=\"anchor\")\n",
        "    for i in range(cm.shape[0]):\n",
        "        for j in range(cm.shape[1]):\n",
        "            ax.text(j, i, cm[i, j],\n",
        "                    ha=\"center\", va=\"center\",\n",
        "                    color=\"white\" if cm[i,j] > cm.max()/2 else \"black\")\n",
        "    plt.tight_layout(); plt.show()\n",
        "\n",
        "def print_f1_summary(y_true, y_pred):\n",
        "    print(\"\\nSummary:\")\n",
        "    print(f\"  Accuracy      : {accuracy_score(y_true, y_pred):.4f}\")\n",
        "    print(f\"  F1 (macro)    : {f1_score(y_true, y_pred, average='macro'):.4f}\")\n",
        "    print(f\"  F1 (weighted) : {f1_score(y_true, y_pred, average='weighted'):.4f}\")\n",
        "\n",
        "def evaluate_on_holdout(model, scaler, df_holdout, label_cols, drop_cols=None,\n",
        "                        feature_names=None, temperature=1.0, batch_size=128):\n",
        "    model.eval()\n",
        "    X_test, y_test = transform_with_scaler(df_holdout, label_cols, drop_cols, scaler, feature_names)\n",
        "    ds = TensorDataset(torch.tensor(X_test, dtype=torch.float32), torch.tensor(y_test, dtype=torch.long))\n",
        "    loader = DataLoader(ds, batch_size=batch_size, shuffle=False)\n",
        "\n",
        "    all_preds, all_probs, all_labels = [], [], []\n",
        "    with torch.no_grad():\n",
        "        for xb, yb in loader:\n",
        "            logits = model(xb) / temperature\n",
        "            probs = torch.softmax(logits, dim=1)\n",
        "            preds = probs.argmax(1)\n",
        "            all_probs.extend(probs.cpu().numpy())\n",
        "            all_preds.extend(preds.cpu().numpy())\n",
        "            all_labels.extend(yb.cpu().numpy())\n",
        "\n",
        "    print(\"\\n📊 Holdout Classification Report\")\n",
        "    print(classification_report(all_labels, all_preds, target_names=label_cols))\n",
        "    plot_per_class_metrics(all_labels, all_preds, label_cols)\n",
        "    print_f1_summary(all_labels, all_preds)\n",
        "    print(\"Unique predicted classes on HOLDOUT:\", np.unique(all_preds))\n",
        "\n",
        "    return {\n",
        "        'predictions': np.array(all_preds),\n",
        "        'labels': np.array(all_labels),\n",
        "        'probabilities': np.array(all_probs),\n",
        "        'confusion_matrix': confusion_matrix(all_labels, all_preds)\n",
        "    }\n",
        "\n",
        "# ======================= MAIN =======================\n",
        "if __name__ == \"__main__\":\n",
        "    set_seed(SEED)\n",
        "\n",
        "    FULL_LABELS, IDX2NAME, NAME2IDX = freeze_label_order(include_calving=INCLUDE_CALVING)\n",
        "\n",
        "    df_trainval = pd.read_csv(TRAINVAL_PATH)\n",
        "    df_holdout  = pd.read_csv(HOLDOUT_PATH)\n",
        "\n",
        "    df_trainval = optionally_drop_calving(df_trainval, INCLUDE_CALVING)\n",
        "    df_holdout  = optionally_drop_calving(df_holdout,  INCLUDE_CALVING)\n",
        "\n",
        "    drop_cols = ['cow','start_time','end_time']\n",
        "    if 'calving' in df_trainval.columns and 'calving' not in drop_cols:\n",
        "        drop_cols.append('calving')\n",
        "\n",
        "    model, scaler, T, feature_names = train_on_trainval(\n",
        "        df_trainval,\n",
        "        label_cols=FULL_LABELS,\n",
        "        drop_cols=drop_cols,\n",
        "        hidden_dims=HIDDEN_DIMS,\n",
        "        dropout_rates=DROPOUTS,\n",
        "        activation=ACTIVATION,\n",
        "        use_batchnorm=USE_BN,\n",
        "        batch_size=BATCH_SIZE,\n",
        "        lr=LR,\n",
        "        weight_decay=WEIGHT_DECAY,\n",
        "        epochs=EPOCHS,\n",
        "        patience=PATIENCE,\n",
        "        min_delta=MIN_DELTA,\n",
        "        use_focal_loss=USE_FOCAL,\n",
        "        learn_temp=LEARN_TEMP\n",
        "    )\n",
        "\n",
        "    _ = evaluate_on_holdout(\n",
        "        model, scaler, df_holdout,\n",
        "        label_cols=FULL_LABELS,\n",
        "        drop_cols=drop_cols,\n",
        "        feature_names=feature_names,\n",
        "        temperature=T,\n",
        "        batch_size=BATCH_SIZE\n",
        "    )\n"
      ]
    },
    {
      "cell_type": "code",
      "execution_count": null,
      "id": "NLjkFUOLCRkO",
      "metadata": {
        "colab": {
          "base_uri": "https://localhost:8080/",
          "height": 1000
        },
        "id": "NLjkFUOLCRkO",
        "outputId": "884598f7-a4d0-4145-f93c-0b669b8cd58b"
      },
      "outputs": [
        {
          "name": "stderr",
          "output_type": "stream",
          "text": [
            "Training: 100%|██████████| 200/200 [13:27<00:00,  4.04s/it]\n"
          ]
        },
        {
          "data": {
            "image/png": "[encoded data removed]",
            "text/plain": [
              "<Figure size 1200x500 with 2 Axes>"
            ]
          },
          "metadata": {},
          "output_type": "display_data"
        },
        {
          "name": "stdout",
          "output_type": "stream",
          "text": [
            "✓ Learned temperature on validation: T = 0.424\n",
            "\n",
            "📊 Holdout Classification Report\n",
            "              precision    recall  f1-score   support\n",
            "\n",
            "     oestrus       0.49      0.92      0.64       247\n",
            "          OK       0.99      0.90      0.94      2304\n",
            "\n",
            "    accuracy                           0.90      2551\n",
            "   macro avg       0.74      0.91      0.79      2551\n",
            "weighted avg       0.94      0.90      0.91      2551\n",
            "\n"
          ]
        },
        {
          "data": {
            "image/png": "[encoded data removed]",
            "text/plain": [
              "<Figure size 800x350 with 1 Axes>"
            ]
          },
          "metadata": {},
          "output_type": "display_data"
        },
        {
          "data": {
            "image/png": "[encoded data removed]",
            "text/plain": [
              "<Figure size 600x500 with 2 Axes>"
            ]
          },
          "metadata": {},
          "output_type": "display_data"
        },
        {
          "name": "stdout",
          "output_type": "stream",
          "text": [
            "\n",
            "Summary:\n",
            "  Accuracy      : 0.8985\n",
            "  F1 (macro)    : 0.7889\n",
            "  F1 (weighted) : 0.9115\n",
            "Unique predicted classes on HOLDOUT: [0 1]\n"
          ]
        }
      ],
      "source": [
        "# -*- coding: utf-8 -*-\n",
        "# Robust MLP pipeline with label cleaning (NaN + all-zero handling),\n",
        "# target/one-hot auto-detection, feature alignment, focal loss, temp scaling.\n",
        "\n",
        "import os, math, random, warnings\n",
        "from pathlib import Path\n",
        "import numpy as np\n",
        "import pandas as pd\n",
        "\n",
        "import torch\n",
        "import torch.nn as nn\n",
        "import torch.optim as optim\n",
        "from torch.utils.data import DataLoader, TensorDataset\n",
        "\n",
        "from sklearn.model_selection import train_test_split\n",
        "from sklearn.preprocessing import StandardScaler\n",
        "from sklearn.metrics import (classification_report, confusion_matrix,\n",
        "                             f1_score, precision_recall_fscore_support,\n",
        "                             accuracy_score)\n",
        "from sklearn.utils.class_weight import compute_class_weight\n",
        "\n",
        "import matplotlib.pyplot as plt\n",
        "try:\n",
        "    from tqdm import tqdm\n",
        "except Exception:\n",
        "    def tqdm(x, **k): return x\n",
        "\n",
        "warnings.filterwarnings(\"ignore\")\n",
        "\n",
        "# ======================= CONFIG =======================\n",
        "INCLUDE_CALVING = True          # 6 classes with 'calving'; set False for 5 classes (calving rows removed)\n",
        "PREFER_TARGET_COLUMN = True     # use df['target'] if valid (0..C-1)\n",
        "ALL_ZERO_POLICY = \"drop\"        # 'drop' | 'map_to_ok' | 'error'\n",
        "NAN_POLICY = \"drop\"             # 'drop' | 'error'\n",
        "\n",
        "TRAINVAL_PATH = Path(r\"C:/Users/lamia/Downloads/non_augmented_dataset3_trainval.csv\")\n",
        "HOLDOUT_PATH  = Path(r\"C:/Users/lamia/Downloads/non_augmented_dataset3_holdout.csv\")\n",
        "\n",
        "SEED = 42\n",
        "VAL_SIZE = 0.2\n",
        "\n",
        "HIDDEN_DIMS = [512, 256, 128]\n",
        "DROPOUTS    = [0.5, 0.4, 0.3]\n",
        "ACTIVATION  = 'leakyrelu'\n",
        "USE_BN      = True\n",
        "\n",
        "BATCH_SIZE   = 128\n",
        "LR           = 5e-4\n",
        "WEIGHT_DECAY = 1e-4\n",
        "EPOCHS       = 200\n",
        "PATIENCE     = 30\n",
        "MIN_DELTA    = 1e-3\n",
        "USE_FOCAL    = True\n",
        "LEARN_TEMP   = True\n",
        "\n",
        "# ======================= UTILS =======================\n",
        "def set_seed(seed=42):\n",
        "    random.seed(seed); np.random.seed(seed); torch.manual_seed(seed)\n",
        "    torch.cuda.manual_seed_all(seed)\n",
        "    torch.backends.cudnn.deterministic = True\n",
        "    torch.backends.cudnn.benchmark = False\n",
        "\n",
        "def freeze_label_order(include_calving=True):\n",
        "    if include_calving:\n",
        "        label_cols = ['oestrus','OK']\n",
        "    else:\n",
        "        label_cols = ['oestrus','OK']\n",
        "    idx2name = {i: c for i, c in enumerate(label_cols)}\n",
        "    name2idx = {c: i for i, c in enumerate(label_cols)}\n",
        "    return label_cols, idx2name, name2idx\n",
        "\n",
        "def optionally_drop_calving(df, include_calving: bool):\n",
        "    df = df.copy()\n",
        "    if include_calving:\n",
        "        return df\n",
        "    if 'calving' in df.columns:\n",
        "        before = len(df)\n",
        "        df = df[df['calving'] == 0].copy()\n",
        "        print(f\"[INFO] Removed {before-len(df)} rows with calving==1 for 5-class setup.\")\n",
        "    return df\n",
        "\n",
        "def _validate_target_column(df, n_classes):\n",
        "    if 'target' not in df.columns:\n",
        "        return False\n",
        "    col = df['target']\n",
        "    if col.isna().any():\n",
        "        return False\n",
        "    vals = col.astype(float)\n",
        "    if not np.all(np.isfinite(vals)): return False\n",
        "    if not np.all(np.equal(vals, np.floor(vals))): return False\n",
        "    vals = vals.astype(int)\n",
        "    if (vals.min() < 0) or (vals.max() >= n_classes): return False\n",
        "    return True\n",
        "\n",
        "def _one_hot_sanity(df, label_cols):\n",
        "    sub = df[label_cols].astype(float)\n",
        "    row_sums = sub.sum(axis=1)\n",
        "    bad_all_zero  = int((row_sums == 0).sum())\n",
        "    bad_multi_hot = int((row_sums > 1.0 + 1e-9).sum())\n",
        "    bad_nans      = int(sub.isna().any(axis=1).sum())\n",
        "    dist = sub.idxmax(axis=1).value_counts(dropna=False).sort_index()\n",
        "    return bad_all_zero, bad_multi_hot, bad_nans, dist\n",
        "\n",
        "def coerce_one_hot_numeric(df, label_cols):\n",
        "    \"\"\"\n",
        "    Try to coerce a possibly stringy 'one-hot' block into numeric 0/1.\n",
        "    Rules per cell:\n",
        "      - numeric -> kept (0/1 expected, but any number allowed until sanity check)\n",
        "      - string equal to its column name (case-insensitive, trimmed) -> 1\n",
        "      - '1','true','yes' -> 1\n",
        "      - '0','false','no','' (empty) -> 0\n",
        "      - otherwise -> NaN (so NaN policy can handle)\n",
        "    \"\"\"\n",
        "    sub = df[label_cols].copy()\n",
        "\n",
        "    # Fast path: already numeric\n",
        "    if np.all(sub.dtypes.apply(lambda t: np.issubdtype(t, np.number))):\n",
        "        return sub.astype(float)\n",
        "\n",
        "    def to01(col_series, col_name):\n",
        "        s = col_series.astype(str).str.strip()\n",
        "        lower = s.str.lower()\n",
        "\n",
        "        is_colname = lower == col_name.lower()\n",
        "        is_one  = lower.isin([\"1\", \"true\", \"yes\", \"y\"])\n",
        "        is_zero = lower.isin([\"0\", \"false\", \"no\", \"n\", \"nan\", \"none\", \"\"])\n",
        "\n",
        "        out = pd.Series(np.nan, index=s.index, dtype=float)\n",
        "        out[is_colname | is_one] = 1.0\n",
        "        out[is_zero]             = 0.0\n",
        "\n",
        "        # If original dtype was numeric for some rows, preserve those values\n",
        "        # (helps when a column is mixed types)\n",
        "        mask_numeric = pd.to_numeric(col_series, errors=\"coerce\").notna()\n",
        "        out.loc[mask_numeric] = pd.to_numeric(col_series.loc[mask_numeric], errors=\"coerce\")\n",
        "\n",
        "        return out\n",
        "\n",
        "    coerced = pd.DataFrame(index=sub.index, columns=label_cols, dtype=float)\n",
        "    for c in label_cols:\n",
        "        coerced[c] = to01(sub[c], c)\n",
        "\n",
        "    return coerced\n",
        "\n",
        "\n",
        "def extract_labels(df, label_cols, class_order=None,\n",
        "                   all_zero_policy=\"drop\", nan_policy=\"drop\", prefer_target=True):\n",
        "    \"\"\"\n",
        "    Supports:\n",
        "      - Single label column (class names or ints)  --> map to ids\n",
        "      - Multi-column one-hot (numeric or stringy)  --> coerce to numeric then argmax\n",
        "      - Optional integer 'target' (0..C-1) if prefer_target=True\n",
        "    \"\"\"\n",
        "    df = df.copy()\n",
        "\n",
        "    # Single label column mode\n",
        "    if len(label_cols) == 1:\n",
        "        col = label_cols[0]\n",
        "        if prefer_target and 'target' in df.columns:\n",
        "            vals = df['target']\n",
        "            if vals.notna().all() and np.equal(vals, np.floor(vals)).all():\n",
        "                vals = vals.astype(int)\n",
        "                if class_order is None or (0 <= vals.min() and vals.max() < len(class_order)):\n",
        "                    return vals.values, df, {\"used\": \"target_single\"}\n",
        "\n",
        "        lab = df[col]\n",
        "        if nan_policy == \"drop\" and lab.isna().any():\n",
        "            before = len(df); df = df[lab.notna()].copy()\n",
        "            print(f\"[INFO] Dropped {before-len(df)} rows with NaN in '{col}'.\")\n",
        "            lab = df[col]\n",
        "        elif lab.isna().any():\n",
        "            raise ValueError(f\"NaN found in '{col}'. Set NAN_POLICY='drop' to drop them.\")\n",
        "\n",
        "        # Map strings to ids using provided class_order\n",
        "        if lab.dtype == object or isinstance(lab.iloc[0], str):\n",
        "            assert class_order is not None, \"Provide class_order to map string labels to ids.\"\n",
        "            name2idx = {n: i for i, n in enumerate(class_order)}\n",
        "            y = lab.astype(str).str.strip().map(name2idx)\n",
        "            if y.isna().any():\n",
        "                unknown = df.loc[y.isna(), col].unique()\n",
        "                raise ValueError(f\"Unknown label names: {unknown}. Update class_order or clean data.\")\n",
        "            return y.values.astype(int), df, {\"used\": \"single_str\"}\n",
        "        else:\n",
        "            return lab.astype(int).values, df, {\"used\": \"single_int\"}\n",
        "\n",
        "    # Multi-column one-hot mode\n",
        "    for c in label_cols:\n",
        "        if c not in df.columns:\n",
        "            raise ValueError(f\"Missing label column '{c}'.\")\n",
        "\n",
        "    # Prefer integer target if valid\n",
        "    if prefer_target and 'target' in df.columns:\n",
        "        col = df['target']\n",
        "        if col.notna().all() and np.equal(col, np.floor(col)).all():\n",
        "            vals = col.astype(int)\n",
        "            if 0 <= vals.min() and vals.max() < len(label_cols):\n",
        "                return vals.values, df, {\"used\": \"target_onehot\"}\n",
        "\n",
        "    # Coerce to numeric 0/1 if needed\n",
        "    sub = coerce_one_hot_numeric(df, label_cols)\n",
        "\n",
        "    # Handle NaNs\n",
        "    if sub.isna().any(axis=1).any():\n",
        "        if nan_policy == \"drop\":\n",
        "            before = len(df)\n",
        "            mask = ~sub.isna().any(axis=1)\n",
        "            df  = df.loc[mask].copy()\n",
        "            sub = sub.loc[mask].copy()\n",
        "            print(f\"[INFO] Dropped {before-len(df)} rows with NaN in label block after coercion.\")\n",
        "        else:\n",
        "            raise ValueError(\"NaN in label columns after coercion. Set NAN_POLICY='drop'.\")\n",
        "\n",
        "    # One-hot sanity\n",
        "    row_sums = sub.sum(axis=1).values\n",
        "    bad_multi = int((row_sums > 1.0 + 1e-9).sum())\n",
        "    bad_zero  = int((row_sums == 0).sum())\n",
        "\n",
        "    if bad_multi > 0:\n",
        "        raise ValueError(\"Found multi-hot rows; labels must be strictly one-hot.\")\n",
        "\n",
        "    if bad_zero > 0:\n",
        "        if all_zero_policy == \"drop\":\n",
        "            before = len(df)\n",
        "            keep = row_sums > 0\n",
        "            df  = df.loc[keep].copy()\n",
        "            sub = sub.loc[keep].copy()\n",
        "            print(f\"[INFO] Dropped {before-len(df)} rows with all-zero labels.\")\n",
        "        elif all_zero_policy == \"map_to_ok\":\n",
        "            if 'OK' not in label_cols:\n",
        "                raise ValueError(\"'map_to_ok' chosen but 'OK' not in label_cols.\")\n",
        "            mask0 = (row_sums == 0)\n",
        "            sub.loc[mask0, 'OK'] = 1.0\n",
        "            print(f\"[INFO] Mapped {int(mask0.sum())} all-zero rows to OK=1.\")\n",
        "        else:\n",
        "            raise ValueError(\"All-zero labels; set ALL_ZERO_POLICY='drop' or 'map_to_ok'.\")\n",
        "\n",
        "    y = sub.values.argmax(axis=1)\n",
        "    return y, df, {\"used\": \"one_hot_coerced\"}\n",
        "\n",
        "def ensure_feature_alignment(df, feature_names):\n",
        "    missing = [c for c in feature_names if c not in df.columns]\n",
        "    for c in missing:\n",
        "        df[c] = 0.0\n",
        "    return df[feature_names].astype(float)\n",
        "\n",
        "# ======================= MODEL =======================\n",
        "class CowHealthMLP(nn.Module):\n",
        "    def __init__(self, input_dim, hidden_dims, num_classes,\n",
        "                 dropout_rates=None, activation='relu', use_batchnorm=True):\n",
        "        super().__init__()\n",
        "        if dropout_rates is None: dropout_rates = [0.4] * len(hidden_dims)\n",
        "        act_map = {\n",
        "            'relu': nn.ReLU, 'leakyrelu': lambda: nn.LeakyReLU(0.1),\n",
        "            'gelu': nn.GELU, 'elu': nn.ELU\n",
        "        }\n",
        "        Act = act_map.get(activation.lower(), nn.ReLU)\n",
        "\n",
        "        layers = []\n",
        "        prev = input_dim\n",
        "        for h, dr in zip(hidden_dims, dropout_rates):\n",
        "            layers.append(nn.Linear(prev, h))\n",
        "            if use_batchnorm: layers.append(nn.BatchNorm1d(h))\n",
        "            layers.append(Act())\n",
        "            if dr and dr > 0: layers.append(nn.Dropout(dr))\n",
        "            prev = h\n",
        "        layers.append(nn.Linear(prev, num_classes))\n",
        "        self.net = nn.Sequential(*layers)\n",
        "\n",
        "        for m in self.modules():\n",
        "            if isinstance(m, nn.Linear):\n",
        "                nn.init.xavier_uniform_(m.weight)\n",
        "                if m.bias is not None: nn.init.zeros_(m.bias)\n",
        "\n",
        "    def forward(self, x): return self.net(x)\n",
        "\n",
        "class FocalLoss(nn.Module):\n",
        "    def __init__(self, weight=None, gamma=2.0, reduction='mean'):\n",
        "        super().__init__()\n",
        "        self.weight = weight; self.gamma = gamma; self.reduction = reduction\n",
        "    def forward(self, logits, target):\n",
        "        ce = nn.functional.cross_entropy(logits, target, weight=self.weight, reduction='none')\n",
        "        pt = torch.softmax(logits, dim=1).gather(1, target.view(-1,1)).squeeze(1).clamp(1e-6, 1-1e-6)\n",
        "        loss = ((1 - pt) ** self.gamma) * ce\n",
        "        return loss.mean() if self.reduction == 'mean' else loss.sum()\n",
        "\n",
        "class _TempScaler(nn.Module):\n",
        "    def __init__(self, init_T=1.0):\n",
        "        super().__init__()\n",
        "        self.logT = nn.Parameter(torch.tensor([math.log(init_T)], dtype=torch.float32))\n",
        "    def forward(self, logits): return logits / torch.exp(self.logT)\n",
        "    @property\n",
        "    def T(self): return float(torch.exp(self.logT).item())\n",
        "\n",
        "def learn_temperature(model, val_loader, init_T=1.0, max_iter=100, lr=0.01, weight=None):\n",
        "    model.eval()\n",
        "    temp = _TempScaler(init_T)\n",
        "    opt = optim.LBFGS(temp.parameters(), lr=lr, max_iter=max_iter)\n",
        "    loss_fn = nn.CrossEntropyLoss(weight=weight)\n",
        "    with torch.no_grad():\n",
        "        logits_list, labels_list = [], []\n",
        "        for xb, yb in val_loader:\n",
        "            logits_list.append(model(xb))\n",
        "            labels_list.append(yb)\n",
        "        logits = torch.cat(logits_list, 0)\n",
        "        labels = torch.cat(labels_list, 0)\n",
        "    def closure():\n",
        "        opt.zero_grad()\n",
        "        loss = loss_fn(temp(logits), labels)\n",
        "        loss.backward()\n",
        "        return loss\n",
        "    opt.step(closure)\n",
        "    return temp.T\n",
        "\n",
        "# ======================= DATA & TRAIN =======================\n",
        "def split_fit_scaler(df, label_cols, drop_cols=None, val_size=0.15, random_state=42):\n",
        "    df = df.copy()\n",
        "    y, df_clean, _ = extract_labels(\n",
        "        df, label_cols,\n",
        "        all_zero_policy=ALL_ZERO_POLICY,\n",
        "        nan_policy=NAN_POLICY,\n",
        "        prefer_target=PREFER_TARGET_COLUMN\n",
        "    )\n",
        "\n",
        "    feature_df = df_clean.drop(columns=(drop_cols or []) + label_cols + (['target'] if 'target' in df_clean.columns else []))\n",
        "    feature_names = feature_df.columns.tolist()\n",
        "\n",
        "    X_train, X_val, y_train, y_val = train_test_split(\n",
        "        feature_df.values, y, test_size=val_size, random_state=random_state, stratify=y\n",
        "    )\n",
        "    scaler = StandardScaler().fit(X_train)\n",
        "    X_train = scaler.transform(X_train)\n",
        "    X_val   = scaler.transform(X_val)\n",
        "    return X_train, y_train, X_val, y_val, scaler, feature_names\n",
        "\n",
        "def make_loaders_from_arrays(X_train, y_train, X_val, y_val, batch_size=128):\n",
        "    def td(x, y): return TensorDataset(torch.tensor(x, dtype=torch.float32),\n",
        "                                       torch.tensor(y, dtype=torch.long))\n",
        "    train_loader = DataLoader(td(X_train, y_train), batch_size=batch_size, shuffle=True)\n",
        "    val_loader   = DataLoader(td(X_val,   y_val),   batch_size=batch_size, shuffle=False)\n",
        "    return train_loader, val_loader\n",
        "\n",
        "def class_weights_from_train(y_train, n_classes):\n",
        "    w = compute_class_weight('balanced', classes=np.arange(n_classes), y=y_train)\n",
        "    return torch.tensor(w, dtype=torch.float32)\n",
        "\n",
        "def train_on_trainval(\n",
        "    df_trainval, label_cols, drop_cols=None,\n",
        "    hidden_dims=HIDDEN_DIMS, dropout_rates=DROPOUTS,\n",
        "    activation=ACTIVATION, use_batchnorm=USE_BN,\n",
        "    batch_size=BATCH_SIZE, lr=LR, weight_decay=WEIGHT_DECAY,\n",
        "    epochs=EPOCHS, patience=PATIENCE, min_delta=MIN_DELTA,\n",
        "    use_focal_loss=USE_FOCAL, learn_temp=LEARN_TEMP\n",
        "):\n",
        "    set_seed(SEED)\n",
        "    X_tr, y_tr, X_val, y_val, scaler, feature_names = split_fit_scaler(\n",
        "        df_trainval, label_cols, drop_cols, val_size=VAL_SIZE, random_state=SEED\n",
        "    )\n",
        "    n_classes = len(label_cols)\n",
        "    train_loader, val_loader = make_loaders_from_arrays(X_tr, y_tr, X_val, y_val, batch_size=batch_size)\n",
        "    class_w = class_weights_from_train(y_tr, n_classes)\n",
        "\n",
        "    model = CowHealthMLP(\n",
        "        input_dim=len(feature_names), hidden_dims=hidden_dims, num_classes=n_classes,\n",
        "        dropout_rates=dropout_rates, activation=activation, use_batchnorm=use_batchnorm\n",
        "    )\n",
        "\n",
        "    criterion = FocalLoss(weight=class_w) if use_focal_loss else nn.CrossEntropyLoss(weight=class_w)\n",
        "    optimizer = optim.AdamW(model.parameters(), lr=lr, weight_decay=weight_decay)\n",
        "    scheduler = optim.lr_scheduler.ReduceLROnPlateau(optimizer, 'min', patience=30, factor=0.5)\n",
        "\n",
        "    best_val, best_state = float('inf'), None\n",
        "    train_loss_hist, val_loss_hist, val_f1_hist = [], [], []\n",
        "    epochs_no_improve = 0\n",
        "\n",
        "    for epoch in tqdm(range(epochs), desc=\"Training\"):\n",
        "        model.train()\n",
        "        run_loss = 0.0\n",
        "        for xb, yb in train_loader:\n",
        "            optimizer.zero_grad(set_to_none=True)\n",
        "            out = model(xb)\n",
        "            loss = criterion(out, yb)\n",
        "            loss.backward()\n",
        "            optimizer.step()\n",
        "            run_loss += loss.item() * xb.size(0)\n",
        "        run_loss /= len(train_loader.dataset)\n",
        "        train_loss_hist.append(run_loss)\n",
        "\n",
        "        model.eval()\n",
        "        vloss, vpreds, vlabels = 0.0, [], []\n",
        "        with torch.no_grad():\n",
        "            for xb, yb in val_loader:\n",
        "                out = model(xb)\n",
        "                loss = criterion(out, yb)\n",
        "                vloss += loss.item() * xb.size(0)\n",
        "                vpreds.extend(out.argmax(1).cpu().numpy())\n",
        "                vlabels.extend(yb.cpu().numpy())\n",
        "        vloss /= len(val_loader.dataset)\n",
        "        val_loss_hist.append(vloss)\n",
        "        val_f1 = f1_score(vlabels, vpreds, average='macro')\n",
        "        val_f1_hist.append(val_f1)\n",
        "        scheduler.step(vloss)\n",
        "\n",
        "        uniq = np.unique(vpreds)\n",
        "        if uniq.size == 1:\n",
        "            print(f\"[epoch {epoch+1}] WARNING: only predicted class {uniq[0]} on VAL — check imbalance.\")\n",
        "\n",
        "        if vloss < best_val - min_delta:\n",
        "            best_val, best_state = vloss, model.state_dict()\n",
        "            epochs_no_improve = 0\n",
        "        else:\n",
        "            epochs_no_improve += 1\n",
        "            if epochs_no_improve >= patience:\n",
        "                print(f\"\\nEarly stopping at epoch {epoch+1}\")\n",
        "                break\n",
        "\n",
        "    if best_state is not None:\n",
        "        model.load_state_dict(best_state)\n",
        "\n",
        "    # plots\n",
        "    plt.figure(figsize=(12,5))\n",
        "    plt.subplot(1,2,1); plt.plot(train_loss_hist,label='Train'); plt.plot(val_loss_hist,label='Val')\n",
        "    plt.title('Loss'); plt.grid(); plt.legend()\n",
        "    plt.subplot(1,2,2); plt.plot(val_f1_hist,label='Val F1 (macro)')\n",
        "    plt.title('Val F1 (macro)'); plt.grid(); plt.legend()\n",
        "    plt.tight_layout(); plt.show()\n",
        "\n",
        "    T = 1.0\n",
        "    if learn_temp:\n",
        "        T = learn_temperature(model, val_loader, init_T=1.0, lr=0.01, max_iter=100, weight=class_w)\n",
        "        print(f\"✓ Learned temperature on validation: T = {T:.3f}\")\n",
        "\n",
        "    return model, scaler, T, feature_names\n",
        "\n",
        "# ======================= EVAL =======================\n",
        "def transform_with_scaler(df, label_cols, drop_cols, scaler, feature_names):\n",
        "    df = df.copy()\n",
        "    y, df_clean, _ = extract_labels(\n",
        "        df, label_cols,\n",
        "        all_zero_policy=ALL_ZERO_POLICY,\n",
        "        nan_policy=NAN_POLICY,\n",
        "        prefer_target=PREFER_TARGET_COLUMN\n",
        "    )\n",
        "    feat_df = df_clean.drop(columns=(drop_cols or []) + label_cols + (['target'] if 'target' in df_clean.columns else []))\n",
        "    feat_df = ensure_feature_alignment(feat_df, feature_names)\n",
        "    X = scaler.transform(feat_df.values)\n",
        "    return X, y\n",
        "\n",
        "def plot_per_class_metrics(y_true, y_pred, class_names):\n",
        "    pr, rc, f1, _ = precision_recall_fscore_support(y_true, y_pred, labels=np.arange(len(class_names)))\n",
        "    fig, ax = plt.subplots(1, 1, figsize=(8, 3.5))\n",
        "    table = pd.DataFrame({'precision': pr, 'recall': rc, 'f1': f1}, index=class_names)\n",
        "    ax.axis('off'); ax.table(cellText=np.round(table.values, 4), colLabels=table.columns,\n",
        "                             rowLabels=table.index, loc='center')\n",
        "    ax.set_title(\"Per-class metrics\"); plt.tight_layout(); plt.show()\n",
        "\n",
        "    cm = confusion_matrix(y_true, y_pred, labels=np.arange(len(class_names)))\n",
        "    fig, ax = plt.subplots(figsize=(6, 5))\n",
        "    im = ax.imshow(cm, interpolation='nearest', aspect='auto')\n",
        "    ax.figure.colorbar(im, ax=ax)\n",
        "    ax.set(xticks=np.arange(cm.shape[1]), yticks=np.arange(cm.shape[0]),\n",
        "           xticklabels=class_names, yticklabels=class_names,\n",
        "           ylabel='True label', xlabel='Predicted label', title='Confusion Matrix')\n",
        "    plt.setp(ax.get_xticklabels(), rotation=45, ha=\"right\", rotation_mode=\"anchor\")\n",
        "    for i in range(cm.shape[0]):\n",
        "        for j in range(cm.shape[1]):\n",
        "            ax.text(j, i, cm[i, j],\n",
        "                    ha=\"center\", va=\"center\",\n",
        "                    color=\"white\" if cm[i,j] > cm.max()/2 else \"black\")\n",
        "    plt.tight_layout(); plt.show()\n",
        "\n",
        "def print_f1_summary(y_true, y_pred):\n",
        "    print(\"\\nSummary:\")\n",
        "    print(f\"  Accuracy      : {accuracy_score(y_true, y_pred):.4f}\")\n",
        "    print(f\"  F1 (macro)    : {f1_score(y_true, y_pred, average='macro'):.4f}\")\n",
        "    print(f\"  F1 (weighted) : {f1_score(y_true, y_pred, average='weighted'):.4f}\")\n",
        "\n",
        "def evaluate_on_holdout(model, scaler, df_holdout, label_cols, drop_cols=None,\n",
        "                        feature_names=None, temperature=1.0, batch_size=128):\n",
        "    model.eval()\n",
        "    X_test, y_test = transform_with_scaler(df_holdout, label_cols, drop_cols, scaler, feature_names)\n",
        "    ds = TensorDataset(torch.tensor(X_test, dtype=torch.float32), torch.tensor(y_test, dtype=torch.long))\n",
        "    loader = DataLoader(ds, batch_size=batch_size, shuffle=False)\n",
        "\n",
        "    all_preds, all_probs, all_labels = [], [], []\n",
        "    with torch.no_grad():\n",
        "        for xb, yb in loader:\n",
        "            logits = model(xb) / temperature\n",
        "            probs = torch.softmax(logits, dim=1)\n",
        "            preds = probs.argmax(1)\n",
        "            all_probs.extend(probs.cpu().numpy())\n",
        "            all_preds.extend(preds.cpu().numpy())\n",
        "            all_labels.extend(yb.cpu().numpy())\n",
        "\n",
        "    print(\"\\n📊 Holdout Classification Report\")\n",
        "    print(classification_report(all_labels, all_preds, target_names=label_cols))\n",
        "    plot_per_class_metrics(all_labels, all_preds, label_cols)\n",
        "    print_f1_summary(all_labels, all_preds)\n",
        "    print(\"Unique predicted classes on HOLDOUT:\", np.unique(all_preds))\n",
        "\n",
        "    return {\n",
        "        'predictions': np.array(all_preds),\n",
        "        'labels': np.array(all_labels),\n",
        "        'probabilities': np.array(all_probs),\n",
        "        'confusion_matrix': confusion_matrix(all_labels, all_preds)\n",
        "    }\n",
        "\n",
        "# ======================= MAIN =======================\n",
        "if __name__ == \"__main__\":\n",
        "    set_seed(SEED)\n",
        "\n",
        "    FULL_LABELS, IDX2NAME, NAME2IDX = freeze_label_order(include_calving=INCLUDE_CALVING)\n",
        "\n",
        "    df_trainval = pd.read_csv(TRAINVAL_PATH)\n",
        "    df_holdout  = pd.read_csv(HOLDOUT_PATH)\n",
        "\n",
        "    df_trainval = optionally_drop_calving(df_trainval, INCLUDE_CALVING)\n",
        "    df_holdout  = optionally_drop_calving(df_holdout,  INCLUDE_CALVING)\n",
        "\n",
        "    drop_cols = ['cow','start_time','end_time']\n",
        "    if 'calving' in df_trainval.columns and 'calving' not in drop_cols:\n",
        "        drop_cols.append('calving')\n",
        "\n",
        "    model, scaler, T, feature_names = train_on_trainval(\n",
        "        df_trainval,\n",
        "        label_cols=FULL_LABELS,\n",
        "        drop_cols=drop_cols,\n",
        "        hidden_dims=HIDDEN_DIMS,\n",
        "        dropout_rates=DROPOUTS,\n",
        "        activation=ACTIVATION,\n",
        "        use_batchnorm=USE_BN,\n",
        "        batch_size=BATCH_SIZE,\n",
        "        lr=LR,\n",
        "        weight_decay=WEIGHT_DECAY,\n",
        "        epochs=EPOCHS,\n",
        "        patience=PATIENCE,\n",
        "        min_delta=MIN_DELTA,\n",
        "        use_focal_loss=USE_FOCAL,\n",
        "        learn_temp=LEARN_TEMP\n",
        "    )\n",
        "\n",
        "    _ = evaluate_on_holdout(\n",
        "        model, scaler, df_holdout,\n",
        "        label_cols=FULL_LABELS,\n",
        "        drop_cols=drop_cols,\n",
        "        feature_names=feature_names,\n",
        "        temperature=T,\n",
        "        batch_size=BATCH_SIZE\n",
        "    )\n"
      ]
    },
    {
      "cell_type": "code",
      "execution_count": 4,
      "id": "xmWuc2yvDV25",
      "metadata": {
        "colab": {
          "base_uri": "https://localhost:8080/",
          "height": 1000
        },
        "id": "xmWuc2yvDV25",
        "outputId": "d788f02f-4669-4757-d7b6-9bb0fd95bdfa"
      },
      "outputs": [
        {
          "output_type": "stream",
          "name": "stdout",
          "text": [
            "[DEBUG] y_tr distribution: Counter({np.int64(5): 133396, np.int64(1): 1008, np.int64(0): 944, np.int64(2): 638, np.int64(4): 514, np.int64(3): 182})\n",
            "[DEBUG] y_val distribution: Counter({np.int64(5): 23541, np.int64(1): 178, np.int64(0): 167, np.int64(2): 112, np.int64(4): 91, np.int64(3): 32})\n",
            "[DEBUG] n_features: 23\n",
            "[DEBUG] any NaNs in X_tr/X_val: False False\n"
          ]
        },
        {
          "output_type": "stream",
          "name": "stderr",
          "text": [
            "\rTraining:   0%|          | 0/200 [00:00<?, ?it/s]"
          ]
        },
        {
          "output_type": "stream",
          "name": "stdout",
          "text": [
            "[DEBUG] val logits mean/std per class (first batch): [-4.057 -5.586 -3.446 -6.094 -4.244 -4.056] [1.54  1.449 1.109 1.672 1.267 1.194]\n"
          ]
        },
        {
          "output_type": "stream",
          "name": "stderr",
          "text": [
            "\rTraining:   0%|          | 1/200 [00:13<44:37, 13.45s/it]"
          ]
        },
        {
          "output_type": "stream",
          "name": "stdout",
          "text": [
            "[epoch 001] train_loss=2.7859 | val_loss=0.6711 | val_f1=0.0675\n"
          ]
        },
        {
          "output_type": "stream",
          "name": "stderr",
          "text": [
            "\rTraining:   1%|          | 2/200 [00:25<42:30, 12.88s/it]"
          ]
        },
        {
          "output_type": "stream",
          "name": "stdout",
          "text": [
            "[epoch 002] train_loss=1.7611 | val_loss=0.5587 | val_f1=0.0791\n"
          ]
        },
        {
          "output_type": "stream",
          "name": "stderr",
          "text": [
            "\rTraining:   2%|▏         | 3/200 [00:38<41:36, 12.67s/it]"
          ]
        },
        {
          "output_type": "stream",
          "name": "stdout",
          "text": [
            "[epoch 003] train_loss=1.4747 | val_loss=0.4917 | val_f1=0.1022\n"
          ]
        },
        {
          "output_type": "stream",
          "name": "stderr",
          "text": [
            "\rTraining:   2%|▏         | 4/200 [00:50<40:59, 12.55s/it]"
          ]
        },
        {
          "output_type": "stream",
          "name": "stdout",
          "text": [
            "[epoch 004] train_loss=1.3124 | val_loss=0.4497 | val_f1=0.1000\n"
          ]
        },
        {
          "output_type": "stream",
          "name": "stderr",
          "text": [
            "\rTraining:   2%|▎         | 5/200 [01:03<41:00, 12.62s/it]"
          ]
        },
        {
          "output_type": "stream",
          "name": "stdout",
          "text": [
            "[epoch 005] train_loss=1.1512 | val_loss=0.4419 | val_f1=0.0940\n"
          ]
        },
        {
          "output_type": "stream",
          "name": "stderr",
          "text": [
            "\rTraining:   3%|▎         | 6/200 [01:15<40:32, 12.54s/it]"
          ]
        },
        {
          "output_type": "stream",
          "name": "stdout",
          "text": [
            "[epoch 006] train_loss=1.1013 | val_loss=0.4214 | val_f1=0.1055\n"
          ]
        },
        {
          "output_type": "stream",
          "name": "stderr",
          "text": [
            "\rTraining:   4%|▎         | 7/200 [01:28<40:03, 12.45s/it]"
          ]
        },
        {
          "output_type": "stream",
          "name": "stdout",
          "text": [
            "[epoch 007] train_loss=0.9884 | val_loss=0.4021 | val_f1=0.1132\n"
          ]
        },
        {
          "output_type": "stream",
          "name": "stderr",
          "text": [
            "\rTraining:   4%|▍         | 8/200 [01:40<39:44, 12.42s/it]"
          ]
        },
        {
          "output_type": "stream",
          "name": "stdout",
          "text": [
            "[epoch 008] train_loss=0.9145 | val_loss=0.3669 | val_f1=0.1161\n"
          ]
        },
        {
          "output_type": "stream",
          "name": "stderr",
          "text": [
            "\rTraining:   4%|▍         | 9/200 [01:52<39:34, 12.43s/it]"
          ]
        },
        {
          "output_type": "stream",
          "name": "stdout",
          "text": [
            "[epoch 009] train_loss=0.8826 | val_loss=0.3518 | val_f1=0.1277\n"
          ]
        },
        {
          "output_type": "stream",
          "name": "stderr",
          "text": [
            "\rTraining:   5%|▌         | 10/200 [02:05<39:22, 12.44s/it]"
          ]
        },
        {
          "output_type": "stream",
          "name": "stdout",
          "text": [
            "[epoch 010] train_loss=0.8106 | val_loss=0.3500 | val_f1=0.1256\n"
          ]
        },
        {
          "output_type": "stream",
          "name": "stderr",
          "text": [
            "\rTraining:   6%|▌         | 11/200 [02:17<38:56, 12.36s/it]"
          ]
        },
        {
          "output_type": "stream",
          "name": "stdout",
          "text": [
            "[epoch 011] train_loss=0.7640 | val_loss=0.3524 | val_f1=0.1271\n"
          ]
        },
        {
          "output_type": "stream",
          "name": "stderr",
          "text": [
            "\rTraining:   6%|▌         | 12/200 [02:29<38:47, 12.38s/it]"
          ]
        },
        {
          "output_type": "stream",
          "name": "stdout",
          "text": [
            "[epoch 012] train_loss=0.7053 | val_loss=0.3392 | val_f1=0.1238\n"
          ]
        },
        {
          "output_type": "stream",
          "name": "stderr",
          "text": [
            "\rTraining:   6%|▋         | 13/200 [02:42<38:35, 12.38s/it]"
          ]
        },
        {
          "output_type": "stream",
          "name": "stdout",
          "text": [
            "[epoch 013] train_loss=0.7093 | val_loss=0.3260 | val_f1=0.1331\n"
          ]
        },
        {
          "output_type": "stream",
          "name": "stderr",
          "text": [
            "\rTraining:   7%|▋         | 14/200 [02:54<38:11, 12.32s/it]"
          ]
        },
        {
          "output_type": "stream",
          "name": "stdout",
          "text": [
            "[epoch 014] train_loss=0.6938 | val_loss=0.3166 | val_f1=0.1249\n"
          ]
        },
        {
          "output_type": "stream",
          "name": "stderr",
          "text": [
            "\rTraining:   8%|▊         | 15/200 [03:06<38:00, 12.33s/it]"
          ]
        },
        {
          "output_type": "stream",
          "name": "stdout",
          "text": [
            "[epoch 015] train_loss=0.6306 | val_loss=0.2969 | val_f1=0.1283\n"
          ]
        },
        {
          "output_type": "stream",
          "name": "stderr",
          "text": [
            "\rTraining:   8%|▊         | 16/200 [03:19<37:43, 12.30s/it]"
          ]
        },
        {
          "output_type": "stream",
          "name": "stdout",
          "text": [
            "[epoch 016] train_loss=0.6268 | val_loss=0.2742 | val_f1=0.1356\n"
          ]
        },
        {
          "output_type": "stream",
          "name": "stderr",
          "text": [
            "\rTraining:   8%|▊         | 17/200 [03:31<37:19, 12.24s/it]"
          ]
        },
        {
          "output_type": "stream",
          "name": "stdout",
          "text": [
            "[epoch 017] train_loss=0.5773 | val_loss=0.2683 | val_f1=0.1421\n"
          ]
        },
        {
          "output_type": "stream",
          "name": "stderr",
          "text": [
            "\rTraining:   9%|▉         | 18/200 [03:43<37:16, 12.29s/it]"
          ]
        },
        {
          "output_type": "stream",
          "name": "stdout",
          "text": [
            "[epoch 018] train_loss=0.5600 | val_loss=0.2525 | val_f1=0.1451\n"
          ]
        },
        {
          "output_type": "stream",
          "name": "stderr",
          "text": [
            "\rTraining:  10%|▉         | 19/200 [03:55<37:05, 12.29s/it]"
          ]
        },
        {
          "output_type": "stream",
          "name": "stdout",
          "text": [
            "[epoch 019] train_loss=0.5735 | val_loss=0.2627 | val_f1=0.1511\n"
          ]
        },
        {
          "output_type": "stream",
          "name": "stderr",
          "text": [
            "\rTraining:  10%|█         | 20/200 [04:08<36:46, 12.26s/it]"
          ]
        },
        {
          "output_type": "stream",
          "name": "stdout",
          "text": [
            "[epoch 020] train_loss=0.5115 | val_loss=0.2950 | val_f1=0.1550\n"
          ]
        },
        {
          "output_type": "stream",
          "name": "stderr",
          "text": [
            "\rTraining:  10%|█         | 21/200 [04:20<36:33, 12.25s/it]"
          ]
        },
        {
          "output_type": "stream",
          "name": "stdout",
          "text": [
            "[epoch 021] train_loss=0.5212 | val_loss=0.2872 | val_f1=0.1382\n"
          ]
        },
        {
          "output_type": "stream",
          "name": "stderr",
          "text": [
            "\rTraining:  11%|█         | 22/200 [04:32<36:28, 12.29s/it]"
          ]
        },
        {
          "output_type": "stream",
          "name": "stdout",
          "text": [
            "[epoch 022] train_loss=0.5482 | val_loss=0.2545 | val_f1=0.1506\n"
          ]
        },
        {
          "output_type": "stream",
          "name": "stderr",
          "text": [
            "\rTraining:  12%|█▏        | 23/200 [04:44<36:12, 12.27s/it]"
          ]
        },
        {
          "output_type": "stream",
          "name": "stdout",
          "text": [
            "[epoch 023] train_loss=0.4867 | val_loss=0.2504 | val_f1=0.1460\n"
          ]
        },
        {
          "output_type": "stream",
          "name": "stderr",
          "text": [
            "\rTraining:  12%|█▏        | 24/200 [04:57<35:53, 12.24s/it]"
          ]
        },
        {
          "output_type": "stream",
          "name": "stdout",
          "text": [
            "[epoch 024] train_loss=0.5014 | val_loss=0.2525 | val_f1=0.1485\n"
          ]
        },
        {
          "output_type": "stream",
          "name": "stderr",
          "text": [
            "\rTraining:  12%|█▎        | 25/200 [05:09<35:41, 12.24s/it]"
          ]
        },
        {
          "output_type": "stream",
          "name": "stdout",
          "text": [
            "[epoch 025] train_loss=0.4652 | val_loss=0.2365 | val_f1=0.1686\n"
          ]
        },
        {
          "output_type": "stream",
          "name": "stderr",
          "text": [
            "\rTraining:  13%|█▎        | 26/200 [05:22<36:26, 12.57s/it]"
          ]
        },
        {
          "output_type": "stream",
          "name": "stdout",
          "text": [
            "[epoch 026] train_loss=0.4493 | val_loss=0.2269 | val_f1=0.1631\n"
          ]
        },
        {
          "output_type": "stream",
          "name": "stderr",
          "text": [
            "\rTraining:  14%|█▎        | 27/200 [05:34<35:43, 12.39s/it]"
          ]
        },
        {
          "output_type": "stream",
          "name": "stdout",
          "text": [
            "[epoch 027] train_loss=0.4683 | val_loss=0.2443 | val_f1=0.1538\n"
          ]
        },
        {
          "output_type": "stream",
          "name": "stderr",
          "text": [
            "\rTraining:  14%|█▍        | 28/200 [05:46<35:26, 12.36s/it]"
          ]
        },
        {
          "output_type": "stream",
          "name": "stdout",
          "text": [
            "[epoch 028] train_loss=0.4497 | val_loss=0.2528 | val_f1=0.1567\n"
          ]
        },
        {
          "output_type": "stream",
          "name": "stderr",
          "text": [
            "\rTraining:  14%|█▍        | 29/200 [05:59<35:16, 12.38s/it]"
          ]
        },
        {
          "output_type": "stream",
          "name": "stdout",
          "text": [
            "[epoch 029] train_loss=0.4719 | val_loss=0.2528 | val_f1=0.1535\n"
          ]
        },
        {
          "output_type": "stream",
          "name": "stderr",
          "text": [
            "\rTraining:  15%|█▌        | 30/200 [06:11<34:55, 12.33s/it]"
          ]
        },
        {
          "output_type": "stream",
          "name": "stdout",
          "text": [
            "[epoch 030] train_loss=0.4265 | val_loss=0.2429 | val_f1=0.1669\n"
          ]
        },
        {
          "output_type": "stream",
          "name": "stderr",
          "text": [
            "\rTraining:  16%|█▌        | 31/200 [06:23<34:31, 12.26s/it]"
          ]
        },
        {
          "output_type": "stream",
          "name": "stdout",
          "text": [
            "[epoch 031] train_loss=0.4344 | val_loss=0.2158 | val_f1=0.1640\n"
          ]
        },
        {
          "output_type": "stream",
          "name": "stderr",
          "text": [
            "\rTraining:  16%|█▌        | 32/200 [06:35<34:13, 12.22s/it]"
          ]
        },
        {
          "output_type": "stream",
          "name": "stdout",
          "text": [
            "[epoch 032] train_loss=0.4178 | val_loss=0.2280 | val_f1=0.1681\n"
          ]
        },
        {
          "output_type": "stream",
          "name": "stderr",
          "text": [
            "\rTraining:  16%|█▋        | 33/200 [06:47<33:45, 12.13s/it]"
          ]
        },
        {
          "output_type": "stream",
          "name": "stdout",
          "text": [
            "[epoch 033] train_loss=0.4222 | val_loss=0.2064 | val_f1=0.1622\n"
          ]
        },
        {
          "output_type": "stream",
          "name": "stderr",
          "text": [
            "\rTraining:  17%|█▋        | 34/200 [06:59<33:14, 12.02s/it]"
          ]
        },
        {
          "output_type": "stream",
          "name": "stdout",
          "text": [
            "[epoch 034] train_loss=0.4005 | val_loss=0.2283 | val_f1=0.1646\n"
          ]
        },
        {
          "output_type": "stream",
          "name": "stderr",
          "text": [
            "\rTraining:  18%|█▊        | 35/200 [07:11<32:58, 11.99s/it]"
          ]
        },
        {
          "output_type": "stream",
          "name": "stdout",
          "text": [
            "[epoch 035] train_loss=0.4196 | val_loss=0.2242 | val_f1=0.1596\n"
          ]
        },
        {
          "output_type": "stream",
          "name": "stderr",
          "text": [
            "\rTraining:  18%|█▊        | 36/200 [07:23<32:39, 11.95s/it]"
          ]
        },
        {
          "output_type": "stream",
          "name": "stdout",
          "text": [
            "[epoch 036] train_loss=0.4142 | val_loss=0.2485 | val_f1=0.1548\n"
          ]
        },
        {
          "output_type": "stream",
          "name": "stderr",
          "text": [
            "\rTraining:  18%|█▊        | 37/200 [07:35<32:33, 11.98s/it]"
          ]
        },
        {
          "output_type": "stream",
          "name": "stdout",
          "text": [
            "[epoch 037] train_loss=0.3846 | val_loss=0.2250 | val_f1=0.1688\n"
          ]
        },
        {
          "output_type": "stream",
          "name": "stderr",
          "text": [
            "\rTraining:  19%|█▉        | 38/200 [07:47<32:21, 11.98s/it]"
          ]
        },
        {
          "output_type": "stream",
          "name": "stdout",
          "text": [
            "[epoch 038] train_loss=0.4019 | val_loss=0.2136 | val_f1=0.1621\n"
          ]
        },
        {
          "output_type": "stream",
          "name": "stderr",
          "text": [
            "\rTraining:  20%|█▉        | 39/200 [07:59<32:05, 11.96s/it]"
          ]
        },
        {
          "output_type": "stream",
          "name": "stdout",
          "text": [
            "[epoch 039] train_loss=0.3902 | val_loss=0.2471 | val_f1=0.1567\n"
          ]
        },
        {
          "output_type": "stream",
          "name": "stderr",
          "text": [
            "\rTraining:  20%|██        | 40/200 [08:11<31:56, 11.98s/it]"
          ]
        },
        {
          "output_type": "stream",
          "name": "stdout",
          "text": [
            "[epoch 040] train_loss=0.3712 | val_loss=0.2374 | val_f1=0.1672\n"
          ]
        },
        {
          "output_type": "stream",
          "name": "stderr",
          "text": [
            "\rTraining:  20%|██        | 41/200 [08:23<31:43, 11.97s/it]"
          ]
        },
        {
          "output_type": "stream",
          "name": "stdout",
          "text": [
            "[epoch 041] train_loss=0.3591 | val_loss=0.2154 | val_f1=0.1686\n"
          ]
        },
        {
          "output_type": "stream",
          "name": "stderr",
          "text": [
            "\rTraining:  21%|██        | 42/200 [08:35<31:31, 11.97s/it]"
          ]
        },
        {
          "output_type": "stream",
          "name": "stdout",
          "text": [
            "[epoch 042] train_loss=0.3656 | val_loss=0.2126 | val_f1=0.1710\n"
          ]
        },
        {
          "output_type": "stream",
          "name": "stderr",
          "text": [
            "\rTraining:  22%|██▏       | 43/200 [08:47<31:16, 11.96s/it]"
          ]
        },
        {
          "output_type": "stream",
          "name": "stdout",
          "text": [
            "[epoch 043] train_loss=0.3624 | val_loss=0.2889 | val_f1=0.1681\n"
          ]
        },
        {
          "output_type": "stream",
          "name": "stderr",
          "text": [
            "\rTraining:  22%|██▏       | 44/200 [08:58<31:01, 11.93s/it]"
          ]
        },
        {
          "output_type": "stream",
          "name": "stdout",
          "text": [
            "[epoch 044] train_loss=0.3515 | val_loss=0.2409 | val_f1=0.1590\n"
          ]
        },
        {
          "output_type": "stream",
          "name": "stderr",
          "text": [
            "\rTraining:  22%|██▎       | 45/200 [09:10<30:50, 11.94s/it]"
          ]
        },
        {
          "output_type": "stream",
          "name": "stdout",
          "text": [
            "[epoch 045] train_loss=0.3482 | val_loss=0.2085 | val_f1=0.1686\n"
          ]
        },
        {
          "output_type": "stream",
          "name": "stderr",
          "text": [
            "\rTraining:  23%|██▎       | 46/200 [09:22<30:43, 11.97s/it]"
          ]
        },
        {
          "output_type": "stream",
          "name": "stdout",
          "text": [
            "[epoch 046] train_loss=0.3584 | val_loss=0.2150 | val_f1=0.1707\n"
          ]
        },
        {
          "output_type": "stream",
          "name": "stderr",
          "text": [
            "\rTraining:  24%|██▎       | 47/200 [09:34<30:31, 11.97s/it]"
          ]
        },
        {
          "output_type": "stream",
          "name": "stdout",
          "text": [
            "[epoch 047] train_loss=0.3495 | val_loss=0.2264 | val_f1=0.1697\n"
          ]
        },
        {
          "output_type": "stream",
          "name": "stderr",
          "text": [
            "\rTraining:  24%|██▍       | 48/200 [09:47<30:24, 12.01s/it]"
          ]
        },
        {
          "output_type": "stream",
          "name": "stdout",
          "text": [
            "[epoch 048] train_loss=0.3406 | val_loss=0.1976 | val_f1=0.1773\n"
          ]
        },
        {
          "output_type": "stream",
          "name": "stderr",
          "text": [
            "\rTraining:  24%|██▍       | 49/200 [09:59<30:14, 12.02s/it]"
          ]
        },
        {
          "output_type": "stream",
          "name": "stdout",
          "text": [
            "[epoch 049] train_loss=0.3689 | val_loss=0.2058 | val_f1=0.1750\n"
          ]
        },
        {
          "output_type": "stream",
          "name": "stderr",
          "text": [
            "\rTraining:  25%|██▌       | 50/200 [10:11<30:06, 12.05s/it]"
          ]
        },
        {
          "output_type": "stream",
          "name": "stdout",
          "text": [
            "[epoch 050] train_loss=0.3367 | val_loss=0.2254 | val_f1=0.1753\n"
          ]
        },
        {
          "output_type": "stream",
          "name": "stderr",
          "text": [
            "\rTraining:  26%|██▌       | 51/200 [10:24<30:47, 12.40s/it]"
          ]
        },
        {
          "output_type": "stream",
          "name": "stdout",
          "text": [
            "[epoch 051] train_loss=0.3374 | val_loss=0.2100 | val_f1=0.1764\n"
          ]
        },
        {
          "output_type": "stream",
          "name": "stderr",
          "text": [
            "\rTraining:  26%|██▌       | 52/200 [10:36<30:25, 12.34s/it]"
          ]
        },
        {
          "output_type": "stream",
          "name": "stdout",
          "text": [
            "[epoch 052] train_loss=0.3367 | val_loss=0.2027 | val_f1=0.1777\n"
          ]
        },
        {
          "output_type": "stream",
          "name": "stderr",
          "text": [
            "\rTraining:  26%|██▋       | 53/200 [10:48<30:07, 12.29s/it]"
          ]
        },
        {
          "output_type": "stream",
          "name": "stdout",
          "text": [
            "[epoch 053] train_loss=0.3462 | val_loss=0.2166 | val_f1=0.1680\n"
          ]
        },
        {
          "output_type": "stream",
          "name": "stderr",
          "text": [
            "\rTraining:  27%|██▋       | 54/200 [11:01<29:53, 12.29s/it]"
          ]
        },
        {
          "output_type": "stream",
          "name": "stdout",
          "text": [
            "[epoch 054] train_loss=0.3450 | val_loss=0.2112 | val_f1=0.1797\n"
          ]
        },
        {
          "output_type": "stream",
          "name": "stderr",
          "text": [
            "\rTraining:  28%|██▊       | 55/200 [11:13<29:37, 12.26s/it]"
          ]
        },
        {
          "output_type": "stream",
          "name": "stdout",
          "text": [
            "[epoch 055] train_loss=0.3238 | val_loss=0.2157 | val_f1=0.1804\n"
          ]
        },
        {
          "output_type": "stream",
          "name": "stderr",
          "text": [
            "\rTraining:  28%|██▊       | 56/200 [11:25<29:23, 12.24s/it]"
          ]
        },
        {
          "output_type": "stream",
          "name": "stdout",
          "text": [
            "[epoch 056] train_loss=0.3508 | val_loss=0.1892 | val_f1=0.1780\n"
          ]
        },
        {
          "output_type": "stream",
          "name": "stderr",
          "text": [
            "\rTraining:  28%|██▊       | 57/200 [11:37<29:02, 12.19s/it]"
          ]
        },
        {
          "output_type": "stream",
          "name": "stdout",
          "text": [
            "[epoch 057] train_loss=0.3284 | val_loss=0.1980 | val_f1=0.1905\n"
          ]
        },
        {
          "output_type": "stream",
          "name": "stderr",
          "text": [
            "\rTraining:  29%|██▉       | 58/200 [11:49<28:48, 12.18s/it]"
          ]
        },
        {
          "output_type": "stream",
          "name": "stdout",
          "text": [
            "[epoch 058] train_loss=0.3036 | val_loss=0.2356 | val_f1=0.1845\n"
          ]
        },
        {
          "output_type": "stream",
          "name": "stderr",
          "text": [
            "\rTraining:  30%|██▉       | 59/200 [12:01<28:29, 12.12s/it]"
          ]
        },
        {
          "output_type": "stream",
          "name": "stdout",
          "text": [
            "[epoch 059] train_loss=0.3198 | val_loss=0.2376 | val_f1=0.1776\n"
          ]
        },
        {
          "output_type": "stream",
          "name": "stderr",
          "text": [
            "\rTraining:  30%|███       | 60/200 [12:13<28:22, 12.16s/it]"
          ]
        },
        {
          "output_type": "stream",
          "name": "stdout",
          "text": [
            "[epoch 060] train_loss=0.3384 | val_loss=0.2072 | val_f1=0.1679\n"
          ]
        },
        {
          "output_type": "stream",
          "name": "stderr",
          "text": [
            "\rTraining:  30%|███       | 61/200 [12:26<28:11, 12.17s/it]"
          ]
        },
        {
          "output_type": "stream",
          "name": "stdout",
          "text": [
            "[epoch 061] train_loss=0.3201 | val_loss=0.1978 | val_f1=0.1783\n"
          ]
        },
        {
          "output_type": "stream",
          "name": "stderr",
          "text": [
            "\rTraining:  31%|███       | 62/200 [12:38<27:54, 12.13s/it]"
          ]
        },
        {
          "output_type": "stream",
          "name": "stdout",
          "text": [
            "[epoch 062] train_loss=0.3058 | val_loss=0.1920 | val_f1=0.1802\n"
          ]
        },
        {
          "output_type": "stream",
          "name": "stderr",
          "text": [
            "\rTraining:  32%|███▏      | 63/200 [12:50<27:37, 12.10s/it]"
          ]
        },
        {
          "output_type": "stream",
          "name": "stdout",
          "text": [
            "[epoch 063] train_loss=0.3118 | val_loss=0.2034 | val_f1=0.1866\n"
          ]
        },
        {
          "output_type": "stream",
          "name": "stderr",
          "text": [
            "\rTraining:  32%|███▏      | 64/200 [13:02<27:20, 12.06s/it]"
          ]
        },
        {
          "output_type": "stream",
          "name": "stdout",
          "text": [
            "[epoch 064] train_loss=0.3175 | val_loss=0.1995 | val_f1=0.1783\n"
          ]
        },
        {
          "output_type": "stream",
          "name": "stderr",
          "text": [
            "\rTraining:  32%|███▎      | 65/200 [13:14<27:04, 12.04s/it]"
          ]
        },
        {
          "output_type": "stream",
          "name": "stdout",
          "text": [
            "[epoch 065] train_loss=0.2962 | val_loss=0.2297 | val_f1=0.1841\n"
          ]
        },
        {
          "output_type": "stream",
          "name": "stderr",
          "text": [
            "\rTraining:  33%|███▎      | 66/200 [13:26<26:56, 12.06s/it]"
          ]
        },
        {
          "output_type": "stream",
          "name": "stdout",
          "text": [
            "[epoch 066] train_loss=0.2931 | val_loss=0.2129 | val_f1=0.1841\n"
          ]
        },
        {
          "output_type": "stream",
          "name": "stderr",
          "text": [
            "\rTraining:  34%|███▎      | 67/200 [13:38<26:44, 12.06s/it]"
          ]
        },
        {
          "output_type": "stream",
          "name": "stdout",
          "text": [
            "[epoch 067] train_loss=0.3101 | val_loss=0.1867 | val_f1=0.1853\n"
          ]
        },
        {
          "output_type": "stream",
          "name": "stderr",
          "text": [
            "\rTraining:  34%|███▍      | 68/200 [13:50<26:30, 12.05s/it]"
          ]
        },
        {
          "output_type": "stream",
          "name": "stdout",
          "text": [
            "[epoch 068] train_loss=0.2964 | val_loss=0.1949 | val_f1=0.1842\n"
          ]
        },
        {
          "output_type": "stream",
          "name": "stderr",
          "text": [
            "\rTraining:  34%|███▍      | 69/200 [14:02<26:19, 12.06s/it]"
          ]
        },
        {
          "output_type": "stream",
          "name": "stdout",
          "text": [
            "[epoch 069] train_loss=0.2911 | val_loss=0.1957 | val_f1=0.1787\n"
          ]
        },
        {
          "output_type": "stream",
          "name": "stderr",
          "text": [
            "\rTraining:  35%|███▌      | 70/200 [14:14<26:10, 12.08s/it]"
          ]
        },
        {
          "output_type": "stream",
          "name": "stdout",
          "text": [
            "[epoch 070] train_loss=0.3113 | val_loss=0.2082 | val_f1=0.2008\n"
          ]
        },
        {
          "output_type": "stream",
          "name": "stderr",
          "text": [
            "\rTraining:  36%|███▌      | 71/200 [14:26<26:02, 12.11s/it]"
          ]
        },
        {
          "output_type": "stream",
          "name": "stdout",
          "text": [
            "[epoch 071] train_loss=0.2983 | val_loss=0.2109 | val_f1=0.1839\n"
          ]
        },
        {
          "output_type": "stream",
          "name": "stderr",
          "text": [
            "\rTraining:  36%|███▌      | 72/200 [14:38<25:48, 12.10s/it]"
          ]
        },
        {
          "output_type": "stream",
          "name": "stdout",
          "text": [
            "[epoch 072] train_loss=0.2920 | val_loss=0.2184 | val_f1=0.1942\n"
          ]
        },
        {
          "output_type": "stream",
          "name": "stderr",
          "text": [
            "\rTraining:  36%|███▋      | 73/200 [14:50<25:29, 12.04s/it]"
          ]
        },
        {
          "output_type": "stream",
          "name": "stdout",
          "text": [
            "[epoch 073] train_loss=0.2799 | val_loss=0.2228 | val_f1=0.1792\n"
          ]
        },
        {
          "output_type": "stream",
          "name": "stderr",
          "text": [
            "\rTraining:  37%|███▋      | 74/200 [15:02<25:13, 12.01s/it]"
          ]
        },
        {
          "output_type": "stream",
          "name": "stdout",
          "text": [
            "[epoch 074] train_loss=0.2892 | val_loss=0.2203 | val_f1=0.1939\n"
          ]
        },
        {
          "output_type": "stream",
          "name": "stderr",
          "text": [
            "\rTraining:  38%|███▊      | 75/200 [15:14<25:05, 12.05s/it]"
          ]
        },
        {
          "output_type": "stream",
          "name": "stdout",
          "text": [
            "[epoch 075] train_loss=0.2860 | val_loss=0.2186 | val_f1=0.1853\n"
          ]
        },
        {
          "output_type": "stream",
          "name": "stderr",
          "text": [
            "\rTraining:  38%|███▊      | 76/200 [15:26<24:52, 12.04s/it]"
          ]
        },
        {
          "output_type": "stream",
          "name": "stdout",
          "text": [
            "[epoch 076] train_loss=0.2714 | val_loss=0.2092 | val_f1=0.1878\n"
          ]
        },
        {
          "output_type": "stream",
          "name": "stderr",
          "text": [
            "\rTraining:  38%|███▊      | 77/200 [15:38<24:34, 11.99s/it]"
          ]
        },
        {
          "output_type": "stream",
          "name": "stdout",
          "text": [
            "[epoch 077] train_loss=0.3017 | val_loss=0.1995 | val_f1=0.1920\n"
          ]
        },
        {
          "output_type": "stream",
          "name": "stderr",
          "text": [
            "\rTraining:  39%|███▉      | 78/200 [15:50<24:20, 11.97s/it]"
          ]
        },
        {
          "output_type": "stream",
          "name": "stdout",
          "text": [
            "[epoch 078] train_loss=0.2886 | val_loss=0.2124 | val_f1=0.1814\n"
          ]
        },
        {
          "output_type": "stream",
          "name": "stderr",
          "text": [
            "\rTraining:  40%|███▉      | 79/200 [16:02<24:06, 11.96s/it]"
          ]
        },
        {
          "output_type": "stream",
          "name": "stdout",
          "text": [
            "[epoch 079] train_loss=0.2644 | val_loss=0.2044 | val_f1=0.1972\n"
          ]
        },
        {
          "output_type": "stream",
          "name": "stderr",
          "text": [
            "\rTraining:  40%|████      | 80/200 [16:15<24:34, 12.29s/it]"
          ]
        },
        {
          "output_type": "stream",
          "name": "stdout",
          "text": [
            "[epoch 080] train_loss=0.2938 | val_loss=0.1823 | val_f1=0.1986\n"
          ]
        },
        {
          "output_type": "stream",
          "name": "stderr",
          "text": [
            "\rTraining:  40%|████      | 81/200 [16:27<24:01, 12.12s/it]"
          ]
        },
        {
          "output_type": "stream",
          "name": "stdout",
          "text": [
            "[epoch 081] train_loss=0.2922 | val_loss=0.2020 | val_f1=0.1836\n"
          ]
        },
        {
          "output_type": "stream",
          "name": "stderr",
          "text": [
            "\rTraining:  41%|████      | 82/200 [16:39<23:37, 12.02s/it]"
          ]
        },
        {
          "output_type": "stream",
          "name": "stdout",
          "text": [
            "[epoch 082] train_loss=0.2782 | val_loss=0.2308 | val_f1=0.1906\n"
          ]
        },
        {
          "output_type": "stream",
          "name": "stderr",
          "text": [
            "\rTraining:  42%|████▏     | 83/200 [16:50<23:13, 11.91s/it]"
          ]
        },
        {
          "output_type": "stream",
          "name": "stdout",
          "text": [
            "[epoch 083] train_loss=0.2799 | val_loss=0.2034 | val_f1=0.1911\n"
          ]
        },
        {
          "output_type": "stream",
          "name": "stderr",
          "text": [
            "\rTraining:  42%|████▏     | 84/200 [17:02<22:59, 11.90s/it]"
          ]
        },
        {
          "output_type": "stream",
          "name": "stdout",
          "text": [
            "[epoch 084] train_loss=0.2674 | val_loss=0.2038 | val_f1=0.1874\n"
          ]
        },
        {
          "output_type": "stream",
          "name": "stderr",
          "text": [
            "\rTraining:  42%|████▎     | 85/200 [17:14<22:51, 11.93s/it]"
          ]
        },
        {
          "output_type": "stream",
          "name": "stdout",
          "text": [
            "[epoch 085] train_loss=0.2817 | val_loss=0.2018 | val_f1=0.1990\n"
          ]
        },
        {
          "output_type": "stream",
          "name": "stderr",
          "text": [
            "\rTraining:  43%|████▎     | 86/200 [17:26<22:40, 11.93s/it]"
          ]
        },
        {
          "output_type": "stream",
          "name": "stdout",
          "text": [
            "[epoch 086] train_loss=0.2777 | val_loss=0.2113 | val_f1=0.1941\n"
          ]
        },
        {
          "output_type": "stream",
          "name": "stderr",
          "text": [
            "\rTraining:  44%|████▎     | 87/200 [17:38<22:28, 11.93s/it]"
          ]
        },
        {
          "output_type": "stream",
          "name": "stdout",
          "text": [
            "[epoch 087] train_loss=0.2685 | val_loss=0.2016 | val_f1=0.1878\n"
          ]
        },
        {
          "output_type": "stream",
          "name": "stderr",
          "text": [
            "\rTraining:  44%|████▍     | 88/200 [17:50<22:21, 11.98s/it]"
          ]
        },
        {
          "output_type": "stream",
          "name": "stdout",
          "text": [
            "[epoch 088] train_loss=0.2659 | val_loss=0.2080 | val_f1=0.1870\n"
          ]
        },
        {
          "output_type": "stream",
          "name": "stderr",
          "text": [
            "\rTraining:  44%|████▍     | 89/200 [18:02<22:11, 12.00s/it]"
          ]
        },
        {
          "output_type": "stream",
          "name": "stdout",
          "text": [
            "[epoch 089] train_loss=0.2695 | val_loss=0.2277 | val_f1=0.1898\n"
          ]
        },
        {
          "output_type": "stream",
          "name": "stderr",
          "text": [
            "\rTraining:  45%|████▌     | 90/200 [18:14<22:02, 12.02s/it]"
          ]
        },
        {
          "output_type": "stream",
          "name": "stdout",
          "text": [
            "[epoch 090] train_loss=0.2732 | val_loss=0.1891 | val_f1=0.1936\n"
          ]
        },
        {
          "output_type": "stream",
          "name": "stderr",
          "text": [
            "\rTraining:  46%|████▌     | 91/200 [18:26<21:50, 12.02s/it]"
          ]
        },
        {
          "output_type": "stream",
          "name": "stdout",
          "text": [
            "[epoch 091] train_loss=0.2576 | val_loss=0.2114 | val_f1=0.1957\n"
          ]
        },
        {
          "output_type": "stream",
          "name": "stderr",
          "text": [
            "\rTraining:  46%|████▌     | 92/200 [18:38<21:41, 12.05s/it]"
          ]
        },
        {
          "output_type": "stream",
          "name": "stdout",
          "text": [
            "[epoch 092] train_loss=0.2553 | val_loss=0.1902 | val_f1=0.1980\n"
          ]
        },
        {
          "output_type": "stream",
          "name": "stderr",
          "text": [
            "\rTraining:  46%|████▋     | 93/200 [18:50<21:28, 12.05s/it]"
          ]
        },
        {
          "output_type": "stream",
          "name": "stdout",
          "text": [
            "[epoch 093] train_loss=0.2633 | val_loss=0.2051 | val_f1=0.1950\n"
          ]
        },
        {
          "output_type": "stream",
          "name": "stderr",
          "text": [
            "\rTraining:  47%|████▋     | 94/200 [19:02<21:17, 12.05s/it]"
          ]
        },
        {
          "output_type": "stream",
          "name": "stdout",
          "text": [
            "[epoch 094] train_loss=0.2636 | val_loss=0.1899 | val_f1=0.1979\n"
          ]
        },
        {
          "output_type": "stream",
          "name": "stderr",
          "text": [
            "\rTraining:  48%|████▊     | 95/200 [19:15<21:08, 12.08s/it]"
          ]
        },
        {
          "output_type": "stream",
          "name": "stdout",
          "text": [
            "[epoch 095] train_loss=0.2682 | val_loss=0.2038 | val_f1=0.1935\n"
          ]
        },
        {
          "output_type": "stream",
          "name": "stderr",
          "text": [
            "\rTraining:  48%|████▊     | 96/200 [19:27<20:57, 12.09s/it]"
          ]
        },
        {
          "output_type": "stream",
          "name": "stdout",
          "text": [
            "[epoch 096] train_loss=0.2557 | val_loss=0.1966 | val_f1=0.1933\n"
          ]
        },
        {
          "output_type": "stream",
          "name": "stderr",
          "text": [
            "\rTraining:  48%|████▊     | 97/200 [19:39<20:44, 12.09s/it]"
          ]
        },
        {
          "output_type": "stream",
          "name": "stdout",
          "text": [
            "[epoch 097] train_loss=0.2741 | val_loss=0.1961 | val_f1=0.1923\n"
          ]
        },
        {
          "output_type": "stream",
          "name": "stderr",
          "text": [
            "\rTraining:  49%|████▉     | 98/200 [19:51<20:23, 12.00s/it]"
          ]
        },
        {
          "output_type": "stream",
          "name": "stdout",
          "text": [
            "[epoch 098] train_loss=0.2559 | val_loss=0.1751 | val_f1=0.2098\n"
          ]
        },
        {
          "output_type": "stream",
          "name": "stderr",
          "text": [
            "\rTraining:  50%|████▉     | 99/200 [20:03<20:11, 11.99s/it]"
          ]
        },
        {
          "output_type": "stream",
          "name": "stdout",
          "text": [
            "[epoch 099] train_loss=0.2669 | val_loss=0.2162 | val_f1=0.1754\n"
          ]
        },
        {
          "output_type": "stream",
          "name": "stderr",
          "text": [
            "\rTraining:  50%|█████     | 100/200 [20:15<20:00, 12.01s/it]"
          ]
        },
        {
          "output_type": "stream",
          "name": "stdout",
          "text": [
            "[epoch 100] train_loss=0.2635 | val_loss=0.1897 | val_f1=0.1913\n"
          ]
        },
        {
          "output_type": "stream",
          "name": "stderr",
          "text": [
            "\rTraining:  50%|█████     | 101/200 [20:27<19:47, 11.99s/it]"
          ]
        },
        {
          "output_type": "stream",
          "name": "stdout",
          "text": [
            "[epoch 101] train_loss=0.2546 | val_loss=0.1814 | val_f1=0.2062\n"
          ]
        },
        {
          "output_type": "stream",
          "name": "stderr",
          "text": [
            "\rTraining:  51%|█████     | 102/200 [20:39<19:35, 12.00s/it]"
          ]
        },
        {
          "output_type": "stream",
          "name": "stdout",
          "text": [
            "[epoch 102] train_loss=0.2759 | val_loss=0.1976 | val_f1=0.1942\n"
          ]
        },
        {
          "output_type": "stream",
          "name": "stderr",
          "text": [
            "\rTraining:  52%|█████▏    | 103/200 [20:50<19:22, 11.99s/it]"
          ]
        },
        {
          "output_type": "stream",
          "name": "stdout",
          "text": [
            "[epoch 103] train_loss=0.2487 | val_loss=0.1782 | val_f1=0.2088\n"
          ]
        },
        {
          "output_type": "stream",
          "name": "stderr",
          "text": [
            "\rTraining:  52%|█████▏    | 104/200 [21:03<19:24, 12.13s/it]"
          ]
        },
        {
          "output_type": "stream",
          "name": "stdout",
          "text": [
            "[epoch 104] train_loss=0.2653 | val_loss=0.1913 | val_f1=0.2036\n"
          ]
        },
        {
          "output_type": "stream",
          "name": "stderr",
          "text": [
            "\rTraining:  52%|█████▎    | 105/200 [21:17<19:59, 12.63s/it]"
          ]
        },
        {
          "output_type": "stream",
          "name": "stdout",
          "text": [
            "[epoch 105] train_loss=0.2517 | val_loss=0.1768 | val_f1=0.2085\n"
          ]
        },
        {
          "output_type": "stream",
          "name": "stderr",
          "text": [
            "\rTraining:  53%|█████▎    | 106/200 [21:29<19:42, 12.58s/it]"
          ]
        },
        {
          "output_type": "stream",
          "name": "stdout",
          "text": [
            "[epoch 106] train_loss=0.2746 | val_loss=0.1889 | val_f1=0.1954\n"
          ]
        },
        {
          "output_type": "stream",
          "name": "stderr",
          "text": [
            "\rTraining:  54%|█████▎    | 107/200 [21:42<19:28, 12.57s/it]"
          ]
        },
        {
          "output_type": "stream",
          "name": "stdout",
          "text": [
            "[epoch 107] train_loss=0.2436 | val_loss=0.1949 | val_f1=0.2045\n"
          ]
        },
        {
          "output_type": "stream",
          "name": "stderr",
          "text": [
            "\rTraining:  54%|█████▍    | 108/200 [21:54<19:18, 12.59s/it]"
          ]
        },
        {
          "output_type": "stream",
          "name": "stdout",
          "text": [
            "[epoch 108] train_loss=0.2507 | val_loss=0.1972 | val_f1=0.1969\n"
          ]
        },
        {
          "output_type": "stream",
          "name": "stderr",
          "text": [
            "\rTraining:  55%|█████▍    | 109/200 [22:07<18:59, 12.52s/it]"
          ]
        },
        {
          "output_type": "stream",
          "name": "stdout",
          "text": [
            "[epoch 109] train_loss=0.2435 | val_loss=0.1799 | val_f1=0.2165\n"
          ]
        },
        {
          "output_type": "stream",
          "name": "stderr",
          "text": [
            "\rTraining:  55%|█████▌    | 110/200 [22:19<18:37, 12.42s/it]"
          ]
        },
        {
          "output_type": "stream",
          "name": "stdout",
          "text": [
            "[epoch 110] train_loss=0.2532 | val_loss=0.1891 | val_f1=0.2009\n"
          ]
        },
        {
          "output_type": "stream",
          "name": "stderr",
          "text": [
            "\rTraining:  56%|█████▌    | 111/200 [22:31<18:17, 12.33s/it]"
          ]
        },
        {
          "output_type": "stream",
          "name": "stdout",
          "text": [
            "[epoch 111] train_loss=0.2456 | val_loss=0.2107 | val_f1=0.1896\n"
          ]
        },
        {
          "output_type": "stream",
          "name": "stderr",
          "text": [
            "\rTraining:  56%|█████▌    | 112/200 [22:43<17:57, 12.25s/it]"
          ]
        },
        {
          "output_type": "stream",
          "name": "stdout",
          "text": [
            "[epoch 112] train_loss=0.2395 | val_loss=0.1828 | val_f1=0.2014\n"
          ]
        },
        {
          "output_type": "stream",
          "name": "stderr",
          "text": [
            "\rTraining:  56%|█████▋    | 113/200 [22:56<17:49, 12.30s/it]"
          ]
        },
        {
          "output_type": "stream",
          "name": "stdout",
          "text": [
            "[epoch 113] train_loss=0.2459 | val_loss=0.1754 | val_f1=0.2096\n"
          ]
        },
        {
          "output_type": "stream",
          "name": "stderr",
          "text": [
            "\rTraining:  57%|█████▋    | 114/200 [23:08<17:37, 12.29s/it]"
          ]
        },
        {
          "output_type": "stream",
          "name": "stdout",
          "text": [
            "[epoch 114] train_loss=0.2684 | val_loss=0.1667 | val_f1=0.2035\n"
          ]
        },
        {
          "output_type": "stream",
          "name": "stderr",
          "text": [
            "\rTraining:  57%|█████▊    | 115/200 [23:20<17:25, 12.31s/it]"
          ]
        },
        {
          "output_type": "stream",
          "name": "stdout",
          "text": [
            "[epoch 115] train_loss=0.2466 | val_loss=0.1910 | val_f1=0.2099\n"
          ]
        },
        {
          "output_type": "stream",
          "name": "stderr",
          "text": [
            "\rTraining:  58%|█████▊    | 116/200 [23:32<17:14, 12.31s/it]"
          ]
        },
        {
          "output_type": "stream",
          "name": "stdout",
          "text": [
            "[epoch 116] train_loss=0.2425 | val_loss=0.2069 | val_f1=0.1992\n"
          ]
        },
        {
          "output_type": "stream",
          "name": "stderr",
          "text": [
            "\rTraining:  58%|█████▊    | 117/200 [23:45<16:59, 12.28s/it]"
          ]
        },
        {
          "output_type": "stream",
          "name": "stdout",
          "text": [
            "[epoch 117] train_loss=0.2505 | val_loss=0.2047 | val_f1=0.1917\n"
          ]
        },
        {
          "output_type": "stream",
          "name": "stderr",
          "text": [
            "\rTraining:  59%|█████▉    | 118/200 [23:57<16:44, 12.26s/it]"
          ]
        },
        {
          "output_type": "stream",
          "name": "stdout",
          "text": [
            "[epoch 118] train_loss=0.2410 | val_loss=0.1854 | val_f1=0.2010\n"
          ]
        },
        {
          "output_type": "stream",
          "name": "stderr",
          "text": [
            "\rTraining:  60%|█████▉    | 119/200 [24:09<16:31, 12.24s/it]"
          ]
        },
        {
          "output_type": "stream",
          "name": "stdout",
          "text": [
            "[epoch 119] train_loss=0.2489 | val_loss=0.1863 | val_f1=0.2078\n"
          ]
        },
        {
          "output_type": "stream",
          "name": "stderr",
          "text": [
            "\rTraining:  60%|██████    | 120/200 [24:21<16:15, 12.19s/it]"
          ]
        },
        {
          "output_type": "stream",
          "name": "stdout",
          "text": [
            "[epoch 120] train_loss=0.2431 | val_loss=0.2183 | val_f1=0.1928\n"
          ]
        },
        {
          "output_type": "stream",
          "name": "stderr",
          "text": [
            "\rTraining:  60%|██████    | 121/200 [24:34<16:07, 12.24s/it]"
          ]
        },
        {
          "output_type": "stream",
          "name": "stdout",
          "text": [
            "[epoch 121] train_loss=0.2261 | val_loss=0.1756 | val_f1=0.2067\n"
          ]
        },
        {
          "output_type": "stream",
          "name": "stderr",
          "text": [
            "\rTraining:  61%|██████    | 122/200 [24:46<15:58, 12.28s/it]"
          ]
        },
        {
          "output_type": "stream",
          "name": "stdout",
          "text": [
            "[epoch 122] train_loss=0.2439 | val_loss=0.1723 | val_f1=0.2053\n"
          ]
        },
        {
          "output_type": "stream",
          "name": "stderr",
          "text": [
            "\rTraining:  62%|██████▏   | 123/200 [24:58<15:47, 12.30s/it]"
          ]
        },
        {
          "output_type": "stream",
          "name": "stdout",
          "text": [
            "[epoch 123] train_loss=0.2383 | val_loss=0.1937 | val_f1=0.2112\n"
          ]
        },
        {
          "output_type": "stream",
          "name": "stderr",
          "text": [
            "\rTraining:  62%|██████▏   | 124/200 [25:11<15:41, 12.38s/it]"
          ]
        },
        {
          "output_type": "stream",
          "name": "stdout",
          "text": [
            "[epoch 124] train_loss=0.2320 | val_loss=0.1929 | val_f1=0.2070\n"
          ]
        },
        {
          "output_type": "stream",
          "name": "stderr",
          "text": [
            "\rTraining:  62%|██████▎   | 125/200 [25:24<15:49, 12.66s/it]"
          ]
        },
        {
          "output_type": "stream",
          "name": "stdout",
          "text": [
            "[epoch 125] train_loss=0.2455 | val_loss=0.2013 | val_f1=0.2014\n"
          ]
        },
        {
          "output_type": "stream",
          "name": "stderr",
          "text": [
            "\rTraining:  63%|██████▎   | 126/200 [25:37<15:43, 12.75s/it]"
          ]
        },
        {
          "output_type": "stream",
          "name": "stdout",
          "text": [
            "[epoch 126] train_loss=0.2228 | val_loss=0.1936 | val_f1=0.2131\n"
          ]
        },
        {
          "output_type": "stream",
          "name": "stderr",
          "text": [
            "\rTraining:  64%|██████▎   | 127/200 [25:50<15:34, 12.80s/it]"
          ]
        },
        {
          "output_type": "stream",
          "name": "stdout",
          "text": [
            "[epoch 127] train_loss=0.2362 | val_loss=0.2107 | val_f1=0.2032\n"
          ]
        },
        {
          "output_type": "stream",
          "name": "stderr",
          "text": [
            "\rTraining:  64%|██████▍   | 128/200 [26:03<15:28, 12.89s/it]"
          ]
        },
        {
          "output_type": "stream",
          "name": "stdout",
          "text": [
            "[epoch 128] train_loss=0.2329 | val_loss=0.2033 | val_f1=0.2026\n"
          ]
        },
        {
          "output_type": "stream",
          "name": "stderr",
          "text": [
            "\rTraining:  64%|██████▍   | 129/200 [26:17<15:32, 13.13s/it]"
          ]
        },
        {
          "output_type": "stream",
          "name": "stdout",
          "text": [
            "[epoch 129] train_loss=0.2295 | val_loss=0.1802 | val_f1=0.2091\n"
          ]
        },
        {
          "output_type": "stream",
          "name": "stderr",
          "text": [
            "\rTraining:  65%|██████▌   | 130/200 [26:29<15:04, 12.92s/it]"
          ]
        },
        {
          "output_type": "stream",
          "name": "stdout",
          "text": [
            "[epoch 130] train_loss=0.2372 | val_loss=0.2145 | val_f1=0.2035\n"
          ]
        },
        {
          "output_type": "stream",
          "name": "stderr",
          "text": [
            "\rTraining:  66%|██████▌   | 131/200 [26:42<14:46, 12.85s/it]"
          ]
        },
        {
          "output_type": "stream",
          "name": "stdout",
          "text": [
            "[epoch 131] train_loss=0.2213 | val_loss=0.1876 | val_f1=0.2064\n"
          ]
        },
        {
          "output_type": "stream",
          "name": "stderr",
          "text": [
            "\rTraining:  66%|██████▌   | 132/200 [26:54<14:26, 12.74s/it]"
          ]
        },
        {
          "output_type": "stream",
          "name": "stdout",
          "text": [
            "[epoch 132] train_loss=0.2478 | val_loss=0.2068 | val_f1=0.1877\n"
          ]
        },
        {
          "output_type": "stream",
          "name": "stderr",
          "text": [
            "\rTraining:  66%|██████▋   | 133/200 [27:07<14:06, 12.63s/it]"
          ]
        },
        {
          "output_type": "stream",
          "name": "stdout",
          "text": [
            "[epoch 133] train_loss=0.2315 | val_loss=0.2001 | val_f1=0.2112\n"
          ]
        },
        {
          "output_type": "stream",
          "name": "stderr",
          "text": [
            "\rTraining:  67%|██████▋   | 134/200 [27:19<13:51, 12.60s/it]"
          ]
        },
        {
          "output_type": "stream",
          "name": "stdout",
          "text": [
            "[epoch 134] train_loss=0.2386 | val_loss=0.1758 | val_f1=0.1978\n"
          ]
        },
        {
          "output_type": "stream",
          "name": "stderr",
          "text": [
            "\rTraining:  68%|██████▊   | 135/200 [27:32<13:33, 12.51s/it]"
          ]
        },
        {
          "output_type": "stream",
          "name": "stdout",
          "text": [
            "[epoch 135] train_loss=0.2332 | val_loss=0.1854 | val_f1=0.2036\n"
          ]
        },
        {
          "output_type": "stream",
          "name": "stderr",
          "text": [
            "\rTraining:  68%|██████▊   | 136/200 [27:44<13:16, 12.45s/it]"
          ]
        },
        {
          "output_type": "stream",
          "name": "stdout",
          "text": [
            "[epoch 136] train_loss=0.2226 | val_loss=0.1917 | val_f1=0.2046\n"
          ]
        },
        {
          "output_type": "stream",
          "name": "stderr",
          "text": [
            "\rTraining:  68%|██████▊   | 137/200 [27:56<12:59, 12.38s/it]"
          ]
        },
        {
          "output_type": "stream",
          "name": "stdout",
          "text": [
            "[epoch 137] train_loss=0.2355 | val_loss=0.1844 | val_f1=0.2082\n"
          ]
        },
        {
          "output_type": "stream",
          "name": "stderr",
          "text": [
            "\rTraining:  69%|██████▉   | 138/200 [28:08<12:44, 12.32s/it]"
          ]
        },
        {
          "output_type": "stream",
          "name": "stdout",
          "text": [
            "[epoch 138] train_loss=0.2162 | val_loss=0.2236 | val_f1=0.2002\n"
          ]
        },
        {
          "output_type": "stream",
          "name": "stderr",
          "text": [
            "\rTraining:  70%|██████▉   | 139/200 [28:21<12:29, 12.29s/it]"
          ]
        },
        {
          "output_type": "stream",
          "name": "stdout",
          "text": [
            "[epoch 139] train_loss=0.2366 | val_loss=0.1863 | val_f1=0.2215\n"
          ]
        },
        {
          "output_type": "stream",
          "name": "stderr",
          "text": [
            "\rTraining:  70%|███████   | 140/200 [28:33<12:17, 12.30s/it]"
          ]
        },
        {
          "output_type": "stream",
          "name": "stdout",
          "text": [
            "[epoch 140] train_loss=0.2161 | val_loss=0.1973 | val_f1=0.2125\n"
          ]
        },
        {
          "output_type": "stream",
          "name": "stderr",
          "text": [
            "\rTraining:  70%|███████   | 141/200 [28:45<12:03, 12.27s/it]"
          ]
        },
        {
          "output_type": "stream",
          "name": "stdout",
          "text": [
            "[epoch 141] train_loss=0.2241 | val_loss=0.2373 | val_f1=0.2118\n"
          ]
        },
        {
          "output_type": "stream",
          "name": "stderr",
          "text": [
            "\rTraining:  71%|███████   | 142/200 [28:57<11:50, 12.25s/it]"
          ]
        },
        {
          "output_type": "stream",
          "name": "stdout",
          "text": [
            "[epoch 142] train_loss=0.2349 | val_loss=0.2158 | val_f1=0.2142\n"
          ]
        },
        {
          "output_type": "stream",
          "name": "stderr",
          "text": [
            "\rTraining:  72%|███████▏  | 143/200 [29:09<11:36, 12.22s/it]"
          ]
        },
        {
          "output_type": "stream",
          "name": "stdout",
          "text": [
            "[epoch 143] train_loss=0.2237 | val_loss=0.2193 | val_f1=0.2120\n"
          ]
        },
        {
          "output_type": "stream",
          "name": "stderr",
          "text": [
            "\rTraining:  72%|███████▏  | 144/200 [29:22<11:26, 12.25s/it]"
          ]
        },
        {
          "output_type": "stream",
          "name": "stdout",
          "text": [
            "[epoch 144] train_loss=0.2321 | val_loss=0.2238 | val_f1=0.1983\n"
          ]
        },
        {
          "output_type": "stream",
          "name": "stderr",
          "text": [
            "\rTraining:  72%|███████▎  | 145/200 [29:34<11:17, 12.31s/it]"
          ]
        },
        {
          "output_type": "stream",
          "name": "stdout",
          "text": [
            "[epoch 145] train_loss=0.2293 | val_loss=0.1785 | val_f1=0.2194\n"
          ]
        },
        {
          "output_type": "stream",
          "name": "stderr",
          "text": [
            "\rTraining:  73%|███████▎  | 146/200 [29:46<11:04, 12.30s/it]"
          ]
        },
        {
          "output_type": "stream",
          "name": "stdout",
          "text": [
            "[epoch 146] train_loss=0.2047 | val_loss=0.1678 | val_f1=0.2130\n"
          ]
        },
        {
          "output_type": "stream",
          "name": "stderr",
          "text": [
            "\rTraining:  74%|███████▎  | 147/200 [29:59<10:52, 12.31s/it]"
          ]
        },
        {
          "output_type": "stream",
          "name": "stdout",
          "text": [
            "[epoch 147] train_loss=0.1821 | val_loss=0.1818 | val_f1=0.2183\n"
          ]
        },
        {
          "output_type": "stream",
          "name": "stderr",
          "text": [
            "\rTraining:  74%|███████▍  | 148/200 [30:11<10:38, 12.28s/it]"
          ]
        },
        {
          "output_type": "stream",
          "name": "stdout",
          "text": [
            "[epoch 148] train_loss=0.1877 | val_loss=0.1781 | val_f1=0.2243\n"
          ]
        },
        {
          "output_type": "stream",
          "name": "stderr",
          "text": [
            "\rTraining:  74%|███████▍  | 149/200 [30:23<10:24, 12.25s/it]"
          ]
        },
        {
          "output_type": "stream",
          "name": "stdout",
          "text": [
            "[epoch 149] train_loss=0.1857 | val_loss=0.1937 | val_f1=0.2221\n"
          ]
        },
        {
          "output_type": "stream",
          "name": "stderr",
          "text": [
            "\rTraining:  75%|███████▌  | 150/200 [30:35<10:12, 12.24s/it]"
          ]
        },
        {
          "output_type": "stream",
          "name": "stdout",
          "text": [
            "[epoch 150] train_loss=0.1959 | val_loss=0.1747 | val_f1=0.2238\n"
          ]
        },
        {
          "output_type": "stream",
          "name": "stderr",
          "text": [
            "\rTraining:  76%|███████▌  | 151/200 [30:48<09:59, 12.24s/it]"
          ]
        },
        {
          "output_type": "stream",
          "name": "stdout",
          "text": [
            "[epoch 151] train_loss=0.1883 | val_loss=0.1833 | val_f1=0.2248\n"
          ]
        },
        {
          "output_type": "stream",
          "name": "stderr",
          "text": [
            "\rTraining:  76%|███████▌  | 152/200 [31:00<09:49, 12.28s/it]"
          ]
        },
        {
          "output_type": "stream",
          "name": "stdout",
          "text": [
            "[epoch 152] train_loss=0.1794 | val_loss=0.1824 | val_f1=0.2255\n"
          ]
        },
        {
          "output_type": "stream",
          "name": "stderr",
          "text": [
            "\rTraining:  76%|███████▋  | 153/200 [31:13<09:49, 12.55s/it]"
          ]
        },
        {
          "output_type": "stream",
          "name": "stdout",
          "text": [
            "[epoch 153] train_loss=0.1811 | val_loss=0.1643 | val_f1=0.2185\n"
          ]
        },
        {
          "output_type": "stream",
          "name": "stderr",
          "text": [
            "\rTraining:  77%|███████▋  | 154/200 [31:25<09:33, 12.47s/it]"
          ]
        },
        {
          "output_type": "stream",
          "name": "stdout",
          "text": [
            "[epoch 154] train_loss=0.1954 | val_loss=0.1746 | val_f1=0.2159\n"
          ]
        },
        {
          "output_type": "stream",
          "name": "stderr",
          "text": [
            "\rTraining:  78%|███████▊  | 155/200 [31:38<09:18, 12.42s/it]"
          ]
        },
        {
          "output_type": "stream",
          "name": "stdout",
          "text": [
            "[epoch 155] train_loss=0.1712 | val_loss=0.1707 | val_f1=0.2317\n"
          ]
        },
        {
          "output_type": "stream",
          "name": "stderr",
          "text": [
            "\rTraining:  78%|███████▊  | 156/200 [31:50<09:04, 12.37s/it]"
          ]
        },
        {
          "output_type": "stream",
          "name": "stdout",
          "text": [
            "[epoch 156] train_loss=0.1774 | val_loss=0.1911 | val_f1=0.2250\n"
          ]
        },
        {
          "output_type": "stream",
          "name": "stderr",
          "text": [
            "\rTraining:  78%|███████▊  | 157/200 [32:02<08:50, 12.34s/it]"
          ]
        },
        {
          "output_type": "stream",
          "name": "stdout",
          "text": [
            "[epoch 157] train_loss=0.1852 | val_loss=0.1833 | val_f1=0.2167\n"
          ]
        },
        {
          "output_type": "stream",
          "name": "stderr",
          "text": [
            "\rTraining:  79%|███████▉  | 158/200 [32:15<08:38, 12.34s/it]"
          ]
        },
        {
          "output_type": "stream",
          "name": "stdout",
          "text": [
            "[epoch 158] train_loss=0.1815 | val_loss=0.1814 | val_f1=0.2220\n"
          ]
        },
        {
          "output_type": "stream",
          "name": "stderr",
          "text": [
            "\rTraining:  80%|███████▉  | 159/200 [32:27<08:25, 12.33s/it]"
          ]
        },
        {
          "output_type": "stream",
          "name": "stdout",
          "text": [
            "[epoch 159] train_loss=0.1829 | val_loss=0.1807 | val_f1=0.2187\n"
          ]
        },
        {
          "output_type": "stream",
          "name": "stderr",
          "text": [
            "\rTraining:  80%|████████  | 160/200 [32:39<08:12, 12.31s/it]"
          ]
        },
        {
          "output_type": "stream",
          "name": "stdout",
          "text": [
            "[epoch 160] train_loss=0.1857 | val_loss=0.1658 | val_f1=0.2335\n"
          ]
        },
        {
          "output_type": "stream",
          "name": "stderr",
          "text": [
            "\rTraining:  80%|████████  | 161/200 [32:51<07:59, 12.29s/it]"
          ]
        },
        {
          "output_type": "stream",
          "name": "stdout",
          "text": [
            "[epoch 161] train_loss=0.1782 | val_loss=0.1824 | val_f1=0.2267\n"
          ]
        },
        {
          "output_type": "stream",
          "name": "stderr",
          "text": [
            "\rTraining:  81%|████████  | 162/200 [33:04<07:47, 12.31s/it]"
          ]
        },
        {
          "output_type": "stream",
          "name": "stdout",
          "text": [
            "[epoch 162] train_loss=0.1775 | val_loss=0.1879 | val_f1=0.2303\n"
          ]
        },
        {
          "output_type": "stream",
          "name": "stderr",
          "text": [
            "\rTraining:  82%|████████▏ | 163/200 [33:16<07:36, 12.34s/it]"
          ]
        },
        {
          "output_type": "stream",
          "name": "stdout",
          "text": [
            "[epoch 163] train_loss=0.1892 | val_loss=0.1740 | val_f1=0.2214\n"
          ]
        },
        {
          "output_type": "stream",
          "name": "stderr",
          "text": [
            "\rTraining:  82%|████████▏ | 164/200 [33:28<07:21, 12.28s/it]"
          ]
        },
        {
          "output_type": "stream",
          "name": "stdout",
          "text": [
            "[epoch 164] train_loss=0.1814 | val_loss=0.1757 | val_f1=0.2309\n"
          ]
        },
        {
          "output_type": "stream",
          "name": "stderr",
          "text": [
            "\rTraining:  82%|████████▎ | 165/200 [33:41<07:09, 12.26s/it]"
          ]
        },
        {
          "output_type": "stream",
          "name": "stdout",
          "text": [
            "[epoch 165] train_loss=0.1867 | val_loss=0.1648 | val_f1=0.2249\n"
          ]
        },
        {
          "output_type": "stream",
          "name": "stderr",
          "text": [
            "\rTraining:  83%|████████▎ | 166/200 [33:53<06:56, 12.24s/it]"
          ]
        },
        {
          "output_type": "stream",
          "name": "stdout",
          "text": [
            "[epoch 166] train_loss=0.1743 | val_loss=0.1633 | val_f1=0.2334\n"
          ]
        },
        {
          "output_type": "stream",
          "name": "stderr",
          "text": [
            "\rTraining:  84%|████████▎ | 167/200 [34:05<06:48, 12.37s/it]"
          ]
        },
        {
          "output_type": "stream",
          "name": "stdout",
          "text": [
            "[epoch 167] train_loss=0.1737 | val_loss=0.1694 | val_f1=0.2220\n"
          ]
        },
        {
          "output_type": "stream",
          "name": "stderr",
          "text": [
            "\rTraining:  84%|████████▍ | 168/200 [34:18<06:37, 12.42s/it]"
          ]
        },
        {
          "output_type": "stream",
          "name": "stdout",
          "text": [
            "[epoch 168] train_loss=0.1754 | val_loss=0.1743 | val_f1=0.2224\n"
          ]
        },
        {
          "output_type": "stream",
          "name": "stderr",
          "text": [
            "\rTraining:  84%|████████▍ | 169/200 [34:31<06:29, 12.58s/it]"
          ]
        },
        {
          "output_type": "stream",
          "name": "stdout",
          "text": [
            "[epoch 169] train_loss=0.1801 | val_loss=0.1718 | val_f1=0.2301\n"
          ]
        },
        {
          "output_type": "stream",
          "name": "stderr",
          "text": [
            "\rTraining:  85%|████████▌ | 170/200 [34:44<06:19, 12.65s/it]"
          ]
        },
        {
          "output_type": "stream",
          "name": "stdout",
          "text": [
            "[epoch 170] train_loss=0.1803 | val_loss=0.1879 | val_f1=0.2286\n"
          ]
        },
        {
          "output_type": "stream",
          "name": "stderr",
          "text": [
            "\rTraining:  86%|████████▌ | 171/200 [34:56<06:06, 12.63s/it]"
          ]
        },
        {
          "output_type": "stream",
          "name": "stdout",
          "text": [
            "[epoch 171] train_loss=0.1755 | val_loss=0.1763 | val_f1=0.2270\n"
          ]
        },
        {
          "output_type": "stream",
          "name": "stderr",
          "text": [
            "\rTraining:  86%|████████▌ | 172/200 [35:09<05:52, 12.57s/it]"
          ]
        },
        {
          "output_type": "stream",
          "name": "stdout",
          "text": [
            "[epoch 172] train_loss=0.1779 | val_loss=0.1732 | val_f1=0.2252\n"
          ]
        },
        {
          "output_type": "stream",
          "name": "stderr",
          "text": [
            "\rTraining:  86%|████████▋ | 173/200 [35:21<05:39, 12.58s/it]"
          ]
        },
        {
          "output_type": "stream",
          "name": "stdout",
          "text": [
            "[epoch 173] train_loss=0.1759 | val_loss=0.2049 | val_f1=0.2197\n"
          ]
        },
        {
          "output_type": "stream",
          "name": "stderr",
          "text": [
            "\rTraining:  87%|████████▋ | 174/200 [35:34<05:26, 12.56s/it]"
          ]
        },
        {
          "output_type": "stream",
          "name": "stdout",
          "text": [
            "[epoch 174] train_loss=0.1732 | val_loss=0.1846 | val_f1=0.2219\n"
          ]
        },
        {
          "output_type": "stream",
          "name": "stderr",
          "text": [
            "\rTraining:  88%|████████▊ | 175/200 [35:46<05:13, 12.52s/it]"
          ]
        },
        {
          "output_type": "stream",
          "name": "stdout",
          "text": [
            "[epoch 175] train_loss=0.1782 | val_loss=0.1577 | val_f1=0.2273\n"
          ]
        },
        {
          "output_type": "stream",
          "name": "stderr",
          "text": [
            "\rTraining:  88%|████████▊ | 176/200 [35:59<05:00, 12.53s/it]"
          ]
        },
        {
          "output_type": "stream",
          "name": "stdout",
          "text": [
            "[epoch 176] train_loss=0.1772 | val_loss=0.1791 | val_f1=0.2266\n"
          ]
        },
        {
          "output_type": "stream",
          "name": "stderr",
          "text": [
            "\rTraining:  88%|████████▊ | 177/200 [36:12<04:49, 12.59s/it]"
          ]
        },
        {
          "output_type": "stream",
          "name": "stdout",
          "text": [
            "[epoch 177] train_loss=0.1751 | val_loss=0.1780 | val_f1=0.2251\n"
          ]
        },
        {
          "output_type": "stream",
          "name": "stderr",
          "text": [
            "\rTraining:  89%|████████▉ | 178/200 [36:24<04:37, 12.60s/it]"
          ]
        },
        {
          "output_type": "stream",
          "name": "stdout",
          "text": [
            "[epoch 178] train_loss=0.1761 | val_loss=0.1705 | val_f1=0.2339\n"
          ]
        },
        {
          "output_type": "stream",
          "name": "stderr",
          "text": [
            "\rTraining:  90%|████████▉ | 179/200 [36:37<04:23, 12.53s/it]"
          ]
        },
        {
          "output_type": "stream",
          "name": "stdout",
          "text": [
            "[epoch 179] train_loss=0.1735 | val_loss=0.1836 | val_f1=0.2299\n"
          ]
        },
        {
          "output_type": "stream",
          "name": "stderr",
          "text": [
            "\rTraining:  90%|█████████ | 180/200 [36:49<04:08, 12.43s/it]"
          ]
        },
        {
          "output_type": "stream",
          "name": "stdout",
          "text": [
            "[epoch 180] train_loss=0.1714 | val_loss=0.1619 | val_f1=0.2304\n"
          ]
        },
        {
          "output_type": "stream",
          "name": "stderr",
          "text": [
            "\rTraining:  90%|█████████ | 181/200 [37:01<03:54, 12.36s/it]"
          ]
        },
        {
          "output_type": "stream",
          "name": "stdout",
          "text": [
            "[epoch 181] train_loss=0.1688 | val_loss=0.1746 | val_f1=0.2269\n"
          ]
        },
        {
          "output_type": "stream",
          "name": "stderr",
          "text": [
            "\rTraining:  91%|█████████ | 182/200 [37:13<03:41, 12.29s/it]"
          ]
        },
        {
          "output_type": "stream",
          "name": "stdout",
          "text": [
            "[epoch 182] train_loss=0.1788 | val_loss=0.1809 | val_f1=0.2267\n"
          ]
        },
        {
          "output_type": "stream",
          "name": "stderr",
          "text": [
            "\rTraining:  92%|█████████▏| 183/200 [37:25<03:27, 12.22s/it]"
          ]
        },
        {
          "output_type": "stream",
          "name": "stdout",
          "text": [
            "[epoch 183] train_loss=0.1683 | val_loss=0.1755 | val_f1=0.2324\n"
          ]
        },
        {
          "output_type": "stream",
          "name": "stderr",
          "text": [
            "\rTraining:  92%|█████████▏| 184/200 [37:37<03:14, 12.18s/it]"
          ]
        },
        {
          "output_type": "stream",
          "name": "stdout",
          "text": [
            "[epoch 184] train_loss=0.1744 | val_loss=0.1855 | val_f1=0.2259\n"
          ]
        },
        {
          "output_type": "stream",
          "name": "stderr",
          "text": [
            "\rTraining:  92%|█████████▎| 185/200 [37:49<03:02, 12.18s/it]"
          ]
        },
        {
          "output_type": "stream",
          "name": "stdout",
          "text": [
            "[epoch 185] train_loss=0.1710 | val_loss=0.1856 | val_f1=0.2281\n"
          ]
        },
        {
          "output_type": "stream",
          "name": "stderr",
          "text": [
            "\rTraining:  93%|█████████▎| 186/200 [38:02<02:51, 12.22s/it]"
          ]
        },
        {
          "output_type": "stream",
          "name": "stdout",
          "text": [
            "[epoch 186] train_loss=0.1683 | val_loss=0.1799 | val_f1=0.2211\n"
          ]
        },
        {
          "output_type": "stream",
          "name": "stderr",
          "text": [
            "\rTraining:  94%|█████████▎| 187/200 [38:14<02:38, 12.22s/it]"
          ]
        },
        {
          "output_type": "stream",
          "name": "stdout",
          "text": [
            "[epoch 187] train_loss=0.1699 | val_loss=0.1774 | val_f1=0.2393\n"
          ]
        },
        {
          "output_type": "stream",
          "name": "stderr",
          "text": [
            "\rTraining:  94%|█████████▍| 188/200 [38:26<02:26, 12.21s/it]"
          ]
        },
        {
          "output_type": "stream",
          "name": "stdout",
          "text": [
            "[epoch 188] train_loss=0.1784 | val_loss=0.1663 | val_f1=0.2248\n"
          ]
        },
        {
          "output_type": "stream",
          "name": "stderr",
          "text": [
            "\rTraining:  94%|█████████▍| 189/200 [38:38<02:14, 12.21s/it]"
          ]
        },
        {
          "output_type": "stream",
          "name": "stdout",
          "text": [
            "[epoch 189] train_loss=0.1802 | val_loss=0.1871 | val_f1=0.2357\n"
          ]
        },
        {
          "output_type": "stream",
          "name": "stderr",
          "text": [
            "\rTraining:  95%|█████████▌| 190/200 [38:51<02:02, 12.22s/it]"
          ]
        },
        {
          "output_type": "stream",
          "name": "stdout",
          "text": [
            "[epoch 190] train_loss=0.1767 | val_loss=0.1998 | val_f1=0.2286\n"
          ]
        },
        {
          "output_type": "stream",
          "name": "stderr",
          "text": [
            "\rTraining:  96%|█████████▌| 191/200 [39:03<01:50, 12.25s/it]"
          ]
        },
        {
          "output_type": "stream",
          "name": "stdout",
          "text": [
            "[epoch 191] train_loss=0.1757 | val_loss=0.1691 | val_f1=0.2310\n"
          ]
        },
        {
          "output_type": "stream",
          "name": "stderr",
          "text": [
            "\rTraining:  96%|█████████▌| 192/200 [39:15<01:38, 12.31s/it]"
          ]
        },
        {
          "output_type": "stream",
          "name": "stdout",
          "text": [
            "[epoch 192] train_loss=0.1788 | val_loss=0.1596 | val_f1=0.2331\n"
          ]
        },
        {
          "output_type": "stream",
          "name": "stderr",
          "text": [
            "\rTraining:  96%|█████████▋| 193/200 [39:28<01:26, 12.32s/it]"
          ]
        },
        {
          "output_type": "stream",
          "name": "stdout",
          "text": [
            "[epoch 193] train_loss=0.1679 | val_loss=0.1899 | val_f1=0.2250\n"
          ]
        },
        {
          "output_type": "stream",
          "name": "stderr",
          "text": [
            "\rTraining:  97%|█████████▋| 194/200 [39:40<01:14, 12.35s/it]"
          ]
        },
        {
          "output_type": "stream",
          "name": "stdout",
          "text": [
            "[epoch 194] train_loss=0.1598 | val_loss=0.1761 | val_f1=0.2355\n"
          ]
        },
        {
          "output_type": "stream",
          "name": "stderr",
          "text": [
            "\rTraining:  98%|█████████▊| 195/200 [39:53<01:01, 12.36s/it]"
          ]
        },
        {
          "output_type": "stream",
          "name": "stdout",
          "text": [
            "[epoch 195] train_loss=0.1777 | val_loss=0.1751 | val_f1=0.2237\n"
          ]
        },
        {
          "output_type": "stream",
          "name": "stderr",
          "text": [
            "\rTraining:  98%|█████████▊| 196/200 [40:05<00:49, 12.32s/it]"
          ]
        },
        {
          "output_type": "stream",
          "name": "stdout",
          "text": [
            "[epoch 196] train_loss=0.1842 | val_loss=0.1860 | val_f1=0.2261\n"
          ]
        },
        {
          "output_type": "stream",
          "name": "stderr",
          "text": [
            "\rTraining:  98%|█████████▊| 197/200 [40:17<00:36, 12.29s/it]"
          ]
        },
        {
          "output_type": "stream",
          "name": "stdout",
          "text": [
            "[epoch 197] train_loss=0.1609 | val_loss=0.1870 | val_f1=0.2448\n"
          ]
        },
        {
          "output_type": "stream",
          "name": "stderr",
          "text": [
            "\rTraining:  99%|█████████▉| 198/200 [40:29<00:24, 12.27s/it]"
          ]
        },
        {
          "output_type": "stream",
          "name": "stdout",
          "text": [
            "[epoch 198] train_loss=0.1835 | val_loss=0.1857 | val_f1=0.2328\n"
          ]
        },
        {
          "output_type": "stream",
          "name": "stderr",
          "text": [
            "\rTraining: 100%|█████████▉| 199/200 [40:42<00:12, 12.28s/it]"
          ]
        },
        {
          "output_type": "stream",
          "name": "stdout",
          "text": [
            "[epoch 199] train_loss=0.1620 | val_loss=0.1664 | val_f1=0.2350\n"
          ]
        },
        {
          "output_type": "stream",
          "name": "stderr",
          "text": [
            "Training: 100%|██████████| 200/200 [40:54<00:00, 12.27s/it]"
          ]
        },
        {
          "output_type": "stream",
          "name": "stdout",
          "text": [
            "[epoch 200] train_loss=0.1753 | val_loss=0.1728 | val_f1=0.2374\n"
          ]
        },
        {
          "output_type": "stream",
          "name": "stderr",
          "text": [
            "\n"
          ]
        },
        {
          "output_type": "display_data",
          "data": {
            "text/plain": [
              "<Figure size 1200x500 with 2 Axes>"
            ],
            "image/png": "[encoded data removed]"
          },
          "metadata": {}
        },
        {
          "output_type": "stream",
          "name": "stdout",
          "text": [
            "✓ Learned temperature on validation: T = 0.975\n",
            "\n",
            "📊 Holdout Classification Report\n",
            "               precision    recall  f1-score   support\n",
            "\n",
            "      oestrus       0.04      0.97      0.07       124\n",
            "      calving       0.17      0.99      0.29       132\n",
            "     lameness       0.04      0.96      0.07        83\n",
            "     mastitis       0.08      1.00      0.14        24\n",
            "other_disease       0.06      0.96      0.12        67\n",
            "           OK       1.00      0.60      0.75     17438\n",
            "\n",
            "     accuracy                           0.61     17868\n",
            "    macro avg       0.23      0.91      0.24     17868\n",
            " weighted avg       0.98      0.61      0.73     17868\n",
            "\n"
          ]
        },
        {
          "output_type": "display_data",
          "data": {
            "text/plain": [
              "<Figure size 800x350 with 1 Axes>"
            ],
            "image/png": "[encoded data removed]"
          },
          "metadata": {}
        },
        {
          "output_type": "display_data",
          "data": {
            "text/plain": [
              "<Figure size 600x500 with 2 Axes>"
            ],
            "image/png": "[encoded data removed]"
          },
          "metadata": {}
        },
        {
          "output_type": "stream",
          "name": "stdout",
          "text": [
            "\n",
            "Summary:\n",
            "  Accuracy      : 0.6081\n",
            "  F1 (macro)    : 0.2402\n",
            "  F1 (weighted) : 0.7347\n",
            "Unique predicted classes on HOLDOUT: [0 1 2 3 4 5]\n"
          ]
        }
      ],
      "source": [
        "# -*- coding: utf-8 -*-\n",
        "# Robust MLP pipeline with label cleaning (NaN + all-zero handling),\n",
        "# target/one-hot auto-detection, feature alignment, focal loss, temp scaling,\n",
        "# balanced sampler, prior bias init, early stopping on macro-F1,\n",
        "# and NaN/Inf-safe imputation + scaling.\n",
        "\n",
        "import os, math, random, warnings\n",
        "from pathlib import Path\n",
        "import numpy as np\n",
        "import pandas as pd\n",
        "\n",
        "import torch\n",
        "import torch.nn as nn\n",
        "import torch.optim as optim\n",
        "from torch.utils.data import DataLoader, TensorDataset, WeightedRandomSampler\n",
        "\n",
        "from sklearn.model_selection import train_test_split\n",
        "from sklearn.preprocessing import StandardScaler\n",
        "from sklearn.impute import SimpleImputer\n",
        "from sklearn.metrics import (classification_report, confusion_matrix,\n",
        "                             f1_score, precision_recall_fscore_support,\n",
        "                             accuracy_score)\n",
        "from sklearn.utils.class_weight import compute_class_weight\n",
        "\n",
        "import matplotlib.pyplot as plt\n",
        "try:\n",
        "    from tqdm import tqdm\n",
        "except Exception:\n",
        "    def tqdm(x, **k): return x\n",
        "\n",
        "warnings.filterwarnings(\"ignore\")\n",
        "\n",
        "# ======================= CONFIG =======================\n",
        "INCLUDE_CALVING = True          # 6 classes with 'calving'; False -> 5 classes (rows with calving==1 removed)\n",
        "PREFER_TARGET_COLUMN = True     # use df['target'] if valid (0..C-1)\n",
        "ALL_ZERO_POLICY = \"drop\"        # 'drop' | 'map_to_ok' | 'error'\n",
        "NAN_POLICY = \"drop\"             # 'drop' | 'error'\n",
        "DROP_CONSTANT_FEATURES = True   # drop zero-variance columns (based on TRAIN after imputation)\n",
        "\n",
        "TRAINVAL_PATH = Path(r\"non_augmented_dataset4_trainval.csv\")\n",
        "HOLDOUT_PATH  = Path(r\"non_augmented_dataset4_holdout.csv\")\n",
        "\n",
        "SEED = 42\n",
        "VAL_SIZE = 0.15\n",
        "\n",
        "HIDDEN_DIMS = [512, 256, 128]\n",
        "DROPOUTS    = [0.35, 0.30, 0.25]   # lighter than before\n",
        "ACTIVATION  = 'leakyrelu'\n",
        "USE_BN      = True\n",
        "\n",
        "BATCH_SIZE   = 128                 # smaller batch -> more gradient noise\n",
        "LR           = 1e-3                # higher LR for better exploration\n",
        "WEIGHT_DECAY = 1e-4\n",
        "EPOCHS       = 200\n",
        "PATIENCE     = 30\n",
        "MIN_DELTA    = 1e-3\n",
        "USE_FOCAL    = True\n",
        "FOCAL_GAMMA  = 1.2                 # was 2.0\n",
        "LEARN_TEMP   = True\n",
        "\n",
        "SAMPLER_MAX_RATIO = 4.0            # clip minority upweighting to <= 4x majority for stability\n",
        "\n",
        "# ======================= UTILS =======================\n",
        "def set_seed(seed=42):\n",
        "    random.seed(seed); np.random.seed(seed); torch.manual_seed(seed)\n",
        "    torch.cuda.manual_seed_all(seed)\n",
        "    torch.backends.cudnn.deterministic = True\n",
        "    torch.backends.cudnn.benchmark = False\n",
        "\n",
        "def freeze_label_order(include_calving=True):\n",
        "    if include_calving:\n",
        "        label_cols = ['oestrus','calving','lameness','mastitis','other_disease','OK']\n",
        "    else:\n",
        "        # 5-class list WITHOUT 'calving'\n",
        "        label_cols = ['oestrus','lameness','mastitis','other_disease','OK']\n",
        "    idx2name = {i: c for i, c in enumerate(label_cols)}\n",
        "    name2idx = {c: i for i, c in enumerate(label_cols)}\n",
        "    return label_cols, idx2name, name2idx\n",
        "\n",
        "def optionally_drop_calving(df, include_calving: bool):\n",
        "    df = df.copy()\n",
        "    if include_calving:\n",
        "        return df\n",
        "    if 'calving' in df.columns:\n",
        "        before = len(df)\n",
        "        df = df[df['calving'] == 0].copy()\n",
        "        print(f\"[INFO] Removed {before-len(df)} rows with calving==1 for 5-class setup.\")\n",
        "    return df\n",
        "\n",
        "def _one_hot_sanity(df, label_cols):\n",
        "    sub = df[label_cols].astype(float)\n",
        "    row_sums = sub.sum(axis=1)\n",
        "    bad_all_zero  = int((row_sums == 0).sum())\n",
        "    bad_multi_hot = int((row_sums > 1.0 + 1e-9).sum())\n",
        "    bad_nans      = int(sub.isna().any(axis=1).sum())\n",
        "    dist = sub.idxmax(axis=1).value_counts(dropna=False).sort_index()\n",
        "    return bad_all_zero, bad_multi_hot, bad_nans, dist\n",
        "\n",
        "def coerce_one_hot_numeric(df, label_cols):\n",
        "    sub = df[label_cols].copy()\n",
        "    if np.all(sub.dtypes.apply(lambda t: np.issubdtype(t, np.number))):\n",
        "        return sub.astype(float)\n",
        "\n",
        "    def to01(col_series, col_name):\n",
        "        s = col_series.astype(str).str.strip()\n",
        "        lower = s.str.lower()\n",
        "        is_colname = lower == col_name.lower()\n",
        "        is_one  = lower.isin([\"1\", \"true\", \"yes\", \"y\"])\n",
        "        is_zero = lower.isin([\"0\", \"false\", \"no\", \"n\", \"nan\", \"none\", \"\"])\n",
        "        out = pd.Series(np.nan, index=s.index, dtype=float)\n",
        "        out[is_colname | is_one] = 1.0\n",
        "        out[is_zero]             = 0.0\n",
        "        mask_numeric = pd.to_numeric(col_series, errors=\"coerce\").notna()\n",
        "        out.loc[mask_numeric] = pd.to_numeric(col_series.loc[mask_numeric], errors=\"coerce\")\n",
        "        return out\n",
        "\n",
        "    coerced = pd.DataFrame(index=sub.index, columns=label_cols, dtype=float)\n",
        "    for c in label_cols:\n",
        "        coerced[c] = to01(sub[c], c)\n",
        "    return coerced\n",
        "\n",
        "def extract_labels(df, label_cols, class_order=None,\n",
        "                   all_zero_policy=\"drop\", nan_policy=\"drop\", prefer_target=True):\n",
        "    df = df.copy()\n",
        "\n",
        "    # Single label column mode\n",
        "    if len(label_cols) == 1:\n",
        "        col = label_cols[0]\n",
        "        if prefer_target and 'target' in df.columns:\n",
        "            vals = df['target']\n",
        "            if vals.notna().all() and np.equal(vals, np.floor(vals)).all():\n",
        "                vals = vals.astype(int)\n",
        "                if class_order is None or (0 <= vals.min() and vals.max() < len(class_order)):\n",
        "                    return vals.values, df, {\"used\": \"target_single\"}\n",
        "        lab = df[col]\n",
        "        if nan_policy == \"drop\" and lab.isna().any():\n",
        "            before = len(df); df = df[lab.notna()].copy()\n",
        "            print(f\"[INFO] Dropped {before-len(df)} rows with NaN in '{col}'.\")\n",
        "            lab = df[col]\n",
        "        elif lab.isna().any():\n",
        "            raise ValueError(f\"NaN found in '{col}'. Set NAN_POLICY='drop' to drop them.\")\n",
        "        if lab.dtype == object or isinstance(lab.iloc[0], str):\n",
        "            assert class_order is not None, \"Provide class_order to map string labels to ids.\"\n",
        "            name2idx = {n: i for i, n in enumerate(class_order)}\n",
        "            y = lab.astype(str).str.strip().map(name2idx)\n",
        "            if y.isna().any():\n",
        "                unknown = df.loc[y.isna(), col].unique()\n",
        "                raise ValueError(f\"Unknown label names: {unknown}. Update class_order or clean data.\")\n",
        "            return y.values.astype(int), df, {\"used\": \"single_str\"}\n",
        "        else:\n",
        "            return lab.astype(int).values, df, {\"used\": \"single_int\"}\n",
        "\n",
        "    # Multi-column one-hot mode\n",
        "    for c in label_cols:\n",
        "        if c not in df.columns:\n",
        "            raise ValueError(f\"Missing label column '{c}'.\")\n",
        "\n",
        "    if prefer_target and 'target' in df.columns:\n",
        "        col = df['target']\n",
        "        if col.notna().all() and np.equal(col, np.floor(col)).all():\n",
        "            vals = col.astype(int)\n",
        "            if 0 <= vals.min() and vals.max() < len(label_cols):\n",
        "                return vals.values, df, {\"used\": \"target_onehot\"}\n",
        "\n",
        "    sub = coerce_one_hot_numeric(df, label_cols)\n",
        "\n",
        "    # Handle NaNs in label block\n",
        "    if sub.isna().any(axis=1).any():\n",
        "        if nan_policy == \"drop\":\n",
        "            before = len(df)\n",
        "            mask = ~sub.isna().any(axis=1)\n",
        "            df  = df.loc[mask].copy()\n",
        "            sub = sub.loc[mask].copy()\n",
        "            print(f\"[INFO] Dropped {before-len(df)} rows with NaN in label block after coercion.\")\n",
        "        else:\n",
        "            raise ValueError(\"NaN in label columns after coercion. Set NAN_POLICY='drop'.\")\n",
        "\n",
        "    # One-hot sanity\n",
        "    bad_all_zero, bad_multi_hot, bad_nans, dist = _one_hot_sanity(df.assign(**sub), label_cols)\n",
        "    if bad_multi_hot > 0:\n",
        "        raise ValueError(\"Found multi-hot rows; labels must be strictly one-hot.\")\n",
        "\n",
        "    if bad_all_zero > 0:\n",
        "        if all_zero_policy == \"drop\":\n",
        "            before = len(df)\n",
        "            row_sums = sub.sum(axis=1).values\n",
        "            keep = row_sums > 0\n",
        "            df  = df.loc[keep].copy()\n",
        "            sub = sub.loc[keep].copy()\n",
        "            print(f\"[INFO] Dropped {before-len(df)} rows with all-zero labels.\")\n",
        "        elif all_zero_policy == \"map_to_ok\":\n",
        "            if 'OK' not in label_cols:\n",
        "                raise ValueError(\"'map_to_ok' chosen but 'OK' not in label_cols.\")\n",
        "            row_sums = sub.sum(axis=1).values\n",
        "            mask0 = (row_sums == 0)\n",
        "            sub.loc[mask0, 'OK'] = 1.0\n",
        "            print(f\"[INFO] Mapped {int(mask0.sum())} all-zero rows to OK=1.\")\n",
        "        else:\n",
        "            raise ValueError(\"All-zero labels; set ALL_ZERO_POLICY='drop' or 'map_to_ok'.\")\n",
        "\n",
        "    y = sub.values.argmax(axis=1)\n",
        "    return y, df, {\"used\": \"one_hot_coerced\"}\n",
        "\n",
        "def ensure_feature_alignment(df, feature_names):\n",
        "    missing = [c for c in feature_names if c not in df.columns]\n",
        "    for c in missing:\n",
        "        df[c] = 0.0\n",
        "    return df[feature_names].astype(float)\n",
        "\n",
        "# ======================= MODEL =======================\n",
        "class CowHealthMLP(nn.Module):\n",
        "    def __init__(self, input_dim, hidden_dims, num_classes,\n",
        "                 dropout_rates=None, activation='relu', use_batchnorm=True):\n",
        "        super().__init__()\n",
        "        if dropout_rates is None: dropout_rates = [0.4] * len(hidden_dims)\n",
        "        act_map = {\n",
        "            'relu': nn.ReLU, 'leakyrelu': lambda: nn.LeakyReLU(0.1),\n",
        "            'gelu': nn.GELU, 'elu': nn.ELU\n",
        "        }\n",
        "        Act = act_map.get(activation.lower(), nn.ReLU)\n",
        "\n",
        "        layers = []\n",
        "        prev = input_dim\n",
        "        for h, dr in zip(hidden_dims, dropout_rates):\n",
        "            layers.append(nn.Linear(prev, h))\n",
        "            if use_batchnorm: layers.append(nn.BatchNorm1d(h))\n",
        "            layers.append(Act())\n",
        "            if dr and dr > 0: layers.append(nn.Dropout(dr))\n",
        "            prev = h\n",
        "        layers.append(nn.Linear(prev, num_classes))\n",
        "        self.net = nn.Sequential(*layers)\n",
        "\n",
        "        for m in self.modules():\n",
        "            if isinstance(m, nn.Linear):\n",
        "                nn.init.xavier_uniform_(m.weight)\n",
        "                if m.bias is not None: nn.init.zeros_(m.bias)\n",
        "\n",
        "    def forward(self, x): return self.net(x)\n",
        "\n",
        "class FocalLoss(nn.Module):\n",
        "    def __init__(self, weight=None, gamma=FOCAL_GAMMA, reduction='mean'):\n",
        "        super().__init__()\n",
        "        self.weight = weight; self.gamma = gamma; self.reduction = reduction\n",
        "    def forward(self, logits, target):\n",
        "        ce = nn.functional.cross_entropy(logits, target, weight=self.weight, reduction='none')\n",
        "        pt = torch.softmax(logits, dim=1).gather(1, target.view(-1,1)).squeeze(1).clamp(1e-6, 1-1e-6)\n",
        "        loss = ((1 - pt) ** self.gamma) * ce\n",
        "        return loss.mean() if self.reduction == 'mean' else loss.sum()\n",
        "\n",
        "class _TempScaler(nn.Module):\n",
        "    def __init__(self, init_T=1.0):\n",
        "        super().__init__()\n",
        "        self.logT = nn.Parameter(torch.tensor([math.log(init_T)], dtype=torch.float32))\n",
        "    def forward(self, logits): return logits / torch.exp(self.logT)\n",
        "    @property\n",
        "    def T(self): return float(torch.exp(self.logT).item())\n",
        "\n",
        "def learn_temperature(model, val_loader, init_T=1.0, max_iter=100, lr=0.01, weight=None):\n",
        "    model.eval()\n",
        "    temp = _TempScaler(init_T)\n",
        "    opt = optim.LBFGS(temp.parameters(), lr=lr, max_iter=max_iter)\n",
        "    loss_fn = nn.CrossEntropyLoss(weight=weight)\n",
        "    with torch.no_grad():\n",
        "        logits_list, labels_list = [], []\n",
        "        for xb, yb in val_loader:\n",
        "            logits_list.append(model(xb))\n",
        "            labels_list.append(yb)\n",
        "        logits = torch.cat(logits_list, 0)\n",
        "        labels = torch.cat(labels_list, 0)\n",
        "    def closure():\n",
        "        opt.zero_grad()\n",
        "        loss = loss_fn(temp(logits), labels)\n",
        "        loss.backward()\n",
        "        return loss\n",
        "    opt.step(closure)\n",
        "    return temp.T\n",
        "\n",
        "# ======================= DATA & TRAIN =======================\n",
        "def split_fit_scaler(df, label_cols, drop_cols=None, val_size=0.15, random_state=42):\n",
        "    \"\"\"Impute (median) + scale features; return imputer, scaler, and kept feature_names.\"\"\"\n",
        "    df = df.copy()\n",
        "    y, df_clean, _ = extract_labels(\n",
        "        df, label_cols,\n",
        "        all_zero_policy=ALL_ZERO_POLICY,\n",
        "        nan_policy=NAN_POLICY,\n",
        "        prefer_target=PREFER_TARGET_COLUMN\n",
        "    )\n",
        "\n",
        "    # Build raw features and replace infinities\n",
        "    feature_df = df_clean.drop(columns=(drop_cols or []) + label_cols + (['target'] if 'target' in df_clean.columns else []))\n",
        "    feature_df = feature_df.replace([np.inf, -np.inf], np.nan)\n",
        "\n",
        "    # Train/val split on raw features (keep columns consistent)\n",
        "    X_train_raw, X_val_raw, y_train, y_val = train_test_split(\n",
        "        feature_df.values, y, test_size=val_size, random_state=random_state, stratify=y\n",
        "    )\n",
        "\n",
        "    # Impute missing values (fit on train)\n",
        "    imputer = SimpleImputer(strategy=\"median\")\n",
        "    X_train_imp = imputer.fit_transform(X_train_raw)\n",
        "    X_val_imp   = imputer.transform(X_val_raw)\n",
        "\n",
        "    # Optionally drop constant features after imputation (based on TRAIN)\n",
        "    if DROP_CONSTANT_FEATURES:\n",
        "        std = X_train_imp.std(axis=0, ddof=0)\n",
        "        keep_mask = std > 0\n",
        "        dropped = int((~keep_mask).sum())\n",
        "        if dropped:\n",
        "            print(f\"[INFO] Dropped {dropped} constant feature(s) after imputation.\")\n",
        "        X_train_imp = X_train_imp[:, keep_mask]\n",
        "        X_val_imp   = X_val_imp[:, keep_mask]\n",
        "        orig_cols = feature_df.columns.tolist()\n",
        "        feature_names = [c for c, k in zip(orig_cols, keep_mask) if k]\n",
        "    else:\n",
        "        feature_names = feature_df.columns.tolist()\n",
        "\n",
        "    # Scale (fit on train)\n",
        "    scaler = StandardScaler().fit(X_train_imp)\n",
        "    X_train = scaler.transform(X_train_imp)\n",
        "    X_val   = scaler.transform(X_val_imp)\n",
        "\n",
        "    # Final sanity checks\n",
        "    if np.isnan(X_train).any() or np.isinf(X_train).any():\n",
        "        raise ValueError(\"NaNs/Infs remain in X_train after imputation+scaling.\")\n",
        "    if np.isnan(X_val).any() or np.isinf(X_val).any():\n",
        "        raise ValueError(\"NaNs/Infs remain in X_val after imputation+scaling.\")\n",
        "\n",
        "    return X_train, y_train, X_val, y_val, imputer, scaler, feature_names\n",
        "\n",
        "def transform_with_scaler(df, label_cols, drop_cols, imputer, scaler, feature_names):\n",
        "    \"\"\"Apply the SAME imputer+scaler to new data; align features to training columns.\"\"\"\n",
        "    df = df.copy()\n",
        "    y, df_clean, _ = extract_labels(\n",
        "        df, label_cols,\n",
        "        all_zero_policy=ALL_ZERO_POLICY,\n",
        "        nan_policy=NAN_POLICY,\n",
        "        prefer_target=PREFER_TARGET_COLUMN\n",
        "    )\n",
        "    feat_df = df_clean.drop(columns=(drop_cols or []) + label_cols + (['target'] if 'target' in df_clean.columns else []))\n",
        "\n",
        "    # Align columns to feature_names (add missing as zeros)\n",
        "    missing = [c for c in feature_names if c not in feat_df.columns]\n",
        "    for c in missing:\n",
        "        feat_df[c] = 0.0\n",
        "    feat_df = feat_df[feature_names]\n",
        "\n",
        "    # Replace infinities, then impute+scale with the SAME transformers\n",
        "    feat_df = feat_df.replace([np.inf, -np.inf], np.nan)\n",
        "    X_imp = imputer.transform(feat_df.values)\n",
        "    X     = scaler.transform(X_imp)\n",
        "\n",
        "    if np.isnan(X).any() or np.isinf(X).any():\n",
        "        raise ValueError(\"NaNs/Infs remain in transformed features after imputation+scaling.\")\n",
        "\n",
        "    return X, y\n",
        "\n",
        "def make_loaders_from_arrays(X_train, y_train, X_val, y_val, batch_size=128):\n",
        "    xtr = torch.tensor(X_train, dtype=torch.float32)\n",
        "    ytr = torch.tensor(y_train, dtype=torch.long)\n",
        "    xva = torch.tensor(X_val, dtype=torch.float32)\n",
        "    yva = torch.tensor(y_val, dtype=torch.long)\n",
        "\n",
        "    # Balanced, clipped sampler\n",
        "    counts = np.bincount(y_train, minlength=len(np.unique(y_train)))\n",
        "    inv = 1.0 / np.clip(counts, 1, None)\n",
        "    inv = inv / inv.min()\n",
        "    inv = np.minimum(inv, SAMPLER_MAX_RATIO)  # clip ratio\n",
        "    weights = inv[y_train]\n",
        "    sampler = WeightedRandomSampler(weights, num_samples=len(weights), replacement=True)\n",
        "\n",
        "    train_ds = TensorDataset(xtr, ytr)\n",
        "    val_ds   = TensorDataset(xva, yva)\n",
        "    train_loader = DataLoader(train_ds, batch_size=batch_size, sampler=sampler)\n",
        "    val_loader   = DataLoader(val_ds,   batch_size=batch_size, shuffle=False)\n",
        "    return train_loader, val_loader\n",
        "\n",
        "def class_weights_from_train(y_train, n_classes):\n",
        "    w = compute_class_weight('balanced', classes=np.arange(n_classes), y=y_train)\n",
        "    return torch.tensor(w, dtype=torch.float32)\n",
        "\n",
        "def init_final_bias_with_priors(model: nn.Module, y_train: np.ndarray, n_classes: int):\n",
        "    priors = np.bincount(y_train, minlength=n_classes).astype(np.float32)\n",
        "    priors = np.clip(priors / priors.sum(), 1e-6, 1.0)\n",
        "    last = None\n",
        "    for m in model.modules():\n",
        "        if isinstance(m, nn.Linear):\n",
        "            last = m\n",
        "    if last is not None and last.bias is not None:\n",
        "        with torch.no_grad():\n",
        "            last.bias.copy_(torch.tensor(np.log(priors), dtype=torch.float32))\n",
        "\n",
        "def train_on_trainval(\n",
        "    df_trainval, label_cols, drop_cols=None,\n",
        "    hidden_dims=HIDDEN_DIMS, dropout_rates=DROPOUTS,\n",
        "    activation=ACTIVATION, use_batchnorm=USE_BN,\n",
        "    batch_size=BATCH_SIZE, lr=LR, weight_decay=WEIGHT_DECAY,\n",
        "    epochs=EPOCHS, patience=PATIENCE, min_delta=MIN_DELTA,\n",
        "    use_focal_loss=USE_FOCAL, learn_temp=LEARN_TEMP\n",
        "):\n",
        "    set_seed(SEED)\n",
        "    X_tr, y_tr, X_val, y_val, imputer, scaler, feature_names = split_fit_scaler(\n",
        "        df_trainval, label_cols, drop_cols, val_size=VAL_SIZE, random_state=SEED\n",
        "    )\n",
        "\n",
        "    # Debug: label distributions & feature sanity\n",
        "    import collections\n",
        "    print(\"[DEBUG] y_tr distribution:\", collections.Counter(y_tr))\n",
        "    print(\"[DEBUG] y_val distribution:\", collections.Counter(y_val))\n",
        "    print(\"[DEBUG] n_features:\", len(feature_names))\n",
        "    print(\"[DEBUG] any NaNs in X_tr/X_val:\", np.isnan(X_tr).any(), np.isnan(X_val).any())\n",
        "\n",
        "    n_classes = len(label_cols)\n",
        "    train_loader, val_loader = make_loaders_from_arrays(X_tr, y_tr, X_val, y_val, batch_size=batch_size)\n",
        "    class_w = class_weights_from_train(y_tr, n_classes)\n",
        "\n",
        "    model = CowHealthMLP(\n",
        "        input_dim=len(feature_names), hidden_dims=hidden_dims, num_classes=n_classes,\n",
        "        dropout_rates=dropout_rates, activation=activation, use_batchnorm=use_batchnorm\n",
        "    )\n",
        "\n",
        "    # Init final bias to log-priors to avoid early argmax ties -> class 0\n",
        "    init_final_bias_with_priors(model, y_tr, n_classes)\n",
        "\n",
        "    criterion = FocalLoss(weight=class_w) if use_focal_loss else nn.CrossEntropyLoss(weight=class_w)\n",
        "    optimizer = optim.AdamW(model.parameters(), lr=lr, weight_decay=weight_decay)\n",
        "    scheduler = optim.lr_scheduler.ReduceLROnPlateau(optimizer, 'min', patience=30, factor=0.5)\n",
        "\n",
        "    best_f1, best_state = -1.0, None\n",
        "    train_loss_hist, val_loss_hist, val_f1_hist = [], [], []\n",
        "    epochs_no_improve = 0\n",
        "\n",
        "    for epoch in tqdm(range(epochs), desc=\"Training\"):\n",
        "        model.train()\n",
        "        run_loss = 0.0\n",
        "        for xb, yb in train_loader:\n",
        "            optimizer.zero_grad(set_to_none=True)\n",
        "            out = model(xb)\n",
        "            loss = criterion(out, yb)\n",
        "            loss.backward()\n",
        "            optimizer.step()\n",
        "            run_loss += loss.item() * xb.size(0)\n",
        "        run_loss /= len(train_loader.dataset)\n",
        "        train_loss_hist.append(run_loss)\n",
        "\n",
        "        # ===== Validation =====\n",
        "        model.eval()\n",
        "        vloss, vpreds, vlabels = 0.0, [], []\n",
        "        with torch.no_grad():\n",
        "            for i, (xb, yb) in enumerate(val_loader):\n",
        "                out = model(xb)\n",
        "                # one-batch logits debug\n",
        "                if epoch == 0 and i == 0:\n",
        "                    z = out.cpu().numpy()\n",
        "                    print(\"[DEBUG] val logits mean/std per class (first batch):\",\n",
        "                          np.round(z.mean(0), 3), np.round(z.std(0), 3))\n",
        "                loss = criterion(out, yb)\n",
        "                vloss += loss.item() * xb.size(0)\n",
        "                vpreds.extend(out.argmax(1).cpu().numpy())\n",
        "                vlabels.extend(yb.cpu().numpy())\n",
        "        vloss /= len(val_loader.dataset)\n",
        "        val_loss_hist.append(vloss)\n",
        "        val_f1 = f1_score(vlabels, vpreds, average='macro')\n",
        "        val_f1_hist.append(val_f1)\n",
        "        scheduler.step(vloss)  # keep scheduler keyed to loss; ES on F1\n",
        "\n",
        "        uniq = np.unique(vpreds)\n",
        "        if uniq.size == 1:\n",
        "            print(f\"[epoch {epoch+1}] WARNING: only predicted class {uniq[0]} on VAL — check imbalance / logits.\")\n",
        "\n",
        "        print(f\"[epoch {epoch+1:03d}] train_loss={run_loss:.4f} | val_loss={vloss:.4f} | val_f1={val_f1:.4f}\")\n",
        "\n",
        "        # ===== Early stopping on macro-F1 =====\n",
        "        if val_f1 > best_f1 + 1e-4:\n",
        "            best_f1, best_state = val_f1, model.state_dict()\n",
        "            epochs_no_improve = 0\n",
        "        else:\n",
        "            epochs_no_improve += 1\n",
        "            if epochs_no_improve >= patience:\n",
        "                print(f\"\\nEarly stopping at epoch {epoch+1} (no F1 improvement for {patience} epochs)\")\n",
        "                break\n",
        "\n",
        "    if best_state is not None:\n",
        "        model.load_state_dict(best_state)\n",
        "\n",
        "    # plots\n",
        "    plt.figure(figsize=(12,5))\n",
        "    plt.subplot(1,2,1); plt.plot(train_loss_hist,label='Train'); plt.plot(val_loss_hist,label='Val')\n",
        "    plt.title('Loss'); plt.grid(); plt.legend()\n",
        "    plt.subplot(1,2,2); plt.plot(val_f1_hist,label='Val F1 (macro)')\n",
        "    plt.title('Val F1 (macro)'); plt.grid(); plt.legend()\n",
        "    plt.tight_layout(); plt.show()\n",
        "\n",
        "    T = 1.0\n",
        "    if LEARN_TEMP:\n",
        "        T = learn_temperature(model, val_loader, init_T=1.0, lr=0.01, max_iter=100, weight=class_w)\n",
        "        print(f\"✓ Learned temperature on validation: T = {T:.3f}\")\n",
        "\n",
        "    return model, (imputer, scaler), T, feature_names\n",
        "\n",
        "# ======================= EVAL =======================\n",
        "def plot_per_class_metrics(y_true, y_pred, class_names):\n",
        "    pr, rc, f1, _ = precision_recall_fscore_support(y_true, y_pred, labels=np.arange(len(class_names)))\n",
        "    fig, ax = plt.subplots(1, 1, figsize=(8, 3.5))\n",
        "    table = pd.DataFrame({'precision': pr, 'recall': rc, 'f1': f1}, index=class_names)\n",
        "    ax.axis('off'); ax.table(cellText=np.round(table.values, 4), colLabels=table.columns,\n",
        "                             rowLabels=table.index, loc='center')\n",
        "    ax.set_title(\"Per-class metrics\"); plt.tight_layout(); plt.show()\n",
        "\n",
        "    cm = confusion_matrix(y_true, y_pred, labels=np.arange(len(class_names)))\n",
        "    fig, ax = plt.subplots(figsize=(6, 5))\n",
        "    im = ax.imshow(cm, interpolation='nearest', aspect='auto')\n",
        "    ax.figure.colorbar(im, ax=ax)\n",
        "    ax.set(xticks=np.arange(cm.shape[1]), yticks=np.arange(cm.shape[0]),\n",
        "           xticklabels=class_names, yticklabels=class_names,\n",
        "           ylabel='True label', xlabel='Predicted label', title='Confusion Matrix')\n",
        "    plt.setp(ax.get_xticklabels(), rotation=45, ha=\"right\", rotation_mode=\"anchor\")\n",
        "    for i in range(cm.shape[0]):\n",
        "        for j in range(cm.shape[1]):\n",
        "            ax.text(j, i, cm[i, j],\n",
        "                    ha=\"center\", va=\"center\",\n",
        "                    color=\"white\" if cm[i,j] > cm.max()/2 else \"black\")\n",
        "    plt.tight_layout(); plt.show()\n",
        "\n",
        "def print_f1_summary(y_true, y_pred):\n",
        "    print(\"\\nSummary:\")\n",
        "    print(f\"  Accuracy      : {accuracy_score(y_true, y_pred):.4f}\")\n",
        "    print(f\"  F1 (macro)    : {f1_score(y_true, y_pred, average='macro'):.4f}\")\n",
        "    print(f\"  F1 (weighted) : {f1_score(y_true, y_pred, average='weighted'):.4f}\")\n",
        "\n",
        "def evaluate_on_holdout(model, imputer, scaler, df_holdout, label_cols, drop_cols=None,\n",
        "                        feature_names=None, temperature=1.0, batch_size=128):\n",
        "    model.eval()\n",
        "    # Rebuild features from holdout using the SAME imputer+scaler and training feature order\n",
        "    # We need the same label extraction and drop logic used for train\n",
        "    y, df_clean, _ = extract_labels(\n",
        "        df_holdout.copy(), label_cols,\n",
        "        all_zero_policy=ALL_ZERO_POLICY,\n",
        "        nan_policy=NAN_POLICY,\n",
        "        prefer_target=PREFER_TARGET_COLUMN\n",
        "    )\n",
        "    feat_df = df_clean.drop(columns=(drop_cols or []) + label_cols + (['target'] if 'target' in df_clean.columns else []))\n",
        "    missing = [c for c in feature_names if c not in feat_df.columns]\n",
        "    for c in missing:\n",
        "        feat_df[c] = 0.0\n",
        "    feat_df = feat_df[feature_names]\n",
        "    feat_df = feat_df.replace([np.inf, -np.inf], np.nan)\n",
        "    X_imp = imputer.transform(feat_df.values)\n",
        "    X_test = scaler.transform(X_imp)\n",
        "\n",
        "    ds = TensorDataset(torch.tensor(X_test, dtype=torch.float32), torch.tensor(y, dtype=torch.long))\n",
        "    loader = DataLoader(ds, batch_size=batch_size, shuffle=False)\n",
        "\n",
        "    all_preds, all_probs, all_labels = [], [], []\n",
        "    with torch.no_grad():\n",
        "        for xb, yb in loader:\n",
        "            logits = model(xb) / temperature\n",
        "            probs = torch.softmax(logits, dim=1)\n",
        "            preds = probs.argmax(1)\n",
        "            all_probs.extend(probs.cpu().numpy())\n",
        "            all_preds.extend(preds.cpu().numpy())\n",
        "            all_labels.extend(yb.cpu().numpy())\n",
        "\n",
        "    print(\"\\n📊 Holdout Classification Report\")\n",
        "    print(classification_report(all_labels, all_preds, target_names=label_cols))\n",
        "    plot_per_class_metrics(all_labels, all_preds, label_cols)\n",
        "    print_f1_summary(all_labels, all_preds)\n",
        "    print(\"Unique predicted classes on HOLDOUT:\", np.unique(all_preds))\n",
        "\n",
        "    return {\n",
        "        'predictions': np.array(all_preds),\n",
        "        'labels': np.array(all_labels),\n",
        "        'probabilities': np.array(all_probs),\n",
        "        'confusion_matrix': confusion_matrix(all_labels, all_preds)\n",
        "    }\n",
        "\n",
        "# ======================= MAIN =======================\n",
        "if __name__ == \"__main__\":\n",
        "    set_seed(SEED)\n",
        "\n",
        "    FULL_LABELS, IDX2NAME, NAME2IDX = freeze_label_order(include_calving=INCLUDE_CALVING)\n",
        "\n",
        "    df_trainval = pd.read_csv(TRAINVAL_PATH)\n",
        "    df_holdout  = pd.read_csv(HOLDOUT_PATH)\n",
        "\n",
        "    df_trainval = optionally_drop_calving(df_trainval, INCLUDE_CALVING)\n",
        "    df_holdout  = optionally_drop_calving(df_holdout,  INCLUDE_CALVING)\n",
        "\n",
        "    drop_cols = ['cow','start_time','end_time']\n",
        "    # Keep 'calving' in drop_cols to avoid leakage when INCLUDE_CALVING=True?\n",
        "    if 'calving' in df_trainval.columns and 'calving' not in drop_cols:\n",
        "        drop_cols.append('calving')\n",
        "\n",
        "    model, (imputer, scaler), T, feature_names = train_on_trainval(\n",
        "        df_trainval,\n",
        "        label_cols=FULL_LABELS,\n",
        "        drop_cols=drop_cols,\n",
        "        hidden_dims=HIDDEN_DIMS,\n",
        "        dropout_rates=DROPOUTS,\n",
        "        activation=ACTIVATION,\n",
        "        use_batchnorm=USE_BN,\n",
        "        batch_size=BATCH_SIZE,\n",
        "        lr=LR,\n",
        "        weight_decay=WEIGHT_DECAY,\n",
        "        epochs=EPOCHS,\n",
        "        patience=PATIENCE,\n",
        "        min_delta=MIN_DELTA,\n",
        "        use_focal_loss=USE_FOCAL,\n",
        "        learn_temp=LEARN_TEMP\n",
        "    )\n",
        "\n",
        "    _ = evaluate_on_holdout(\n",
        "        model, imputer, scaler, df_holdout,\n",
        "        label_cols=FULL_LABELS,\n",
        "        drop_cols=drop_cols,\n",
        "        feature_names=feature_names,\n",
        "        temperature=T,\n",
        "        batch_size=BATCH_SIZE\n",
        "    )\n"
      ]
    }
  ],
  "metadata": {
    "colab": {
      "provenance": []
    },
    "kernelspec": {
      "display_name": "base",
      "language": "python",
      "name": "python3"
    },
    "language_info": {
      "codemirror_mode": {
        "name": "ipython",
        "version": 3
      },
      "file_extension": ".py",
      "mimetype": "text/x-python",
      "name": "python",
      "nbconvert_exporter": "python",
      "pygments_lexer": "ipython3",
      "version": "3.11.5"
    }
  },
  "nbformat": 4,
  "nbformat_minor": 5
}