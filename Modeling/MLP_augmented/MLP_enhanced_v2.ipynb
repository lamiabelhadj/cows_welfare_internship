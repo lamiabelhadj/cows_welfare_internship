{
 "cells": [
  {
   "cell_type": "code",
   "execution_count": 10,
   "id": "5557252c",
   "metadata": {},
   "outputs": [],
   "source": [
    "import torch\n",
    "import torch.nn as nn\n",
    "import torch.optim as optim\n",
    "from torch.utils.data import DataLoader, TensorDataset\n",
    "from sklearn.model_selection import train_test_split\n",
    "from sklearn.preprocessing import StandardScaler\n",
    "from sklearn.utils.class_weight import compute_class_weight\n",
    "from sklearn.metrics import classification_report, confusion_matrix, f1_score\n",
    "import pandas as pd\n",
    "import numpy as np\n",
    "import seaborn as sns\n",
    "import matplotlib.pyplot as plt\n",
    "from tqdm import tqdm\n",
    "import warnings\n",
    "warnings.filterwarnings('ignore')\n"
   ]
  },
  {
   "cell_type": "code",
   "execution_count": 11,
   "id": "2ec2624f",
   "metadata": {},
   "outputs": [],
   "source": [
    "def preprocess_dataset(df, label_cols, drop_cols=None):\n",
    "    df = df.copy()\n",
    "    y = df[label_cols].values.argmax(axis=1)\n",
    "    \n",
    "    if drop_cols is None:\n",
    "        drop_cols = []\n",
    "    X = df.drop(columns=label_cols + drop_cols)\n",
    "    \n",
    "    scaler = StandardScaler()\n",
    "    X_scaled = scaler.fit_transform(X)\n",
    "    \n",
    "    return X_scaled, y, scaler\n"
   ]
  },
  {
   "cell_type": "code",
   "execution_count": 12,
   "id": "9e4bf597",
   "metadata": {},
   "outputs": [],
   "source": [
    "def compute_class_weights(y, num_classes, method='balanced'):\n",
    "    if method == 'balanced':\n",
    "        weights = compute_class_weight('balanced', classes=np.arange(num_classes), y=y)\n",
    "    elif method == 'inverse':\n",
    "        class_counts = np.bincount(y)\n",
    "        weights = 1. / (class_counts + 1e-5)\n",
    "    else:\n",
    "        weights = np.ones(num_classes)\n",
    "    return torch.tensor(weights, dtype=torch.float32)\n"
   ]
  },
  {
   "cell_type": "code",
   "execution_count": 13,
   "id": "ec8a2c82",
   "metadata": {},
   "outputs": [],
   "source": [
    "def create_dataloaders(X, y, test_size=0.2, val_size=0.1, batch_size=128):\n",
    "    X_train_val, X_test, y_train_val, y_test = train_test_split(X, y, test_size=test_size, stratify=y)\n",
    "    X_train, X_val, y_train, y_val = train_test_split(X_train_val, y_train_val, test_size=val_size/(1-test_size), stratify=y_train_val)\n",
    "\n",
    "    train_loader = DataLoader(TensorDataset(torch.tensor(X_train, dtype=torch.float32), torch.tensor(y_train, dtype=torch.long)), batch_size=batch_size, shuffle=True)\n",
    "    val_loader = DataLoader(TensorDataset(torch.tensor(X_val, dtype=torch.float32), torch.tensor(y_val, dtype=torch.long)), batch_size=batch_size)\n",
    "    test_loader = DataLoader(TensorDataset(torch.tensor(X_test, dtype=torch.float32), torch.tensor(y_test, dtype=torch.long)), batch_size=batch_size)\n",
    "    return train_loader, val_loader, test_loader\n"
   ]
  },
  {
   "cell_type": "code",
   "execution_count": 14,
   "id": "451ac1d8",
   "metadata": {},
   "outputs": [],
   "source": [
    "class CowHealthMLP(nn.Module):\n",
    "    def __init__(self, input_dim, hidden_dims=[512, 256, 128], dropout_rates=[0.5, 0.4, 0.3], activation='leakyrelu', num_classes=6, use_batchnorm=True):\n",
    "        super().__init__()\n",
    "        layers = []\n",
    "        prev_dim = input_dim\n",
    "        for h, d in zip(hidden_dims, dropout_rates):\n",
    "            layers.append(nn.Linear(prev_dim, h))\n",
    "            if use_batchnorm: layers.append(nn.BatchNorm1d(h))\n",
    "            if activation == 'relu':\n",
    "                layers.append(nn.ReLU())\n",
    "            elif activation == 'leakyrelu':\n",
    "                layers.append(nn.LeakyReLU(0.1))\n",
    "            elif activation == 'gelu':\n",
    "                layers.append(nn.GELU())\n",
    "            layers.append(nn.Dropout(d))\n",
    "            prev_dim = h\n",
    "        layers.append(nn.Linear(prev_dim, num_classes))\n",
    "        self.model = nn.Sequential(*layers)\n",
    "\n",
    "    def forward(self, x):\n",
    "        return self.model(x)\n"
   ]
  },
  {
   "cell_type": "code",
   "execution_count": 15,
   "id": "2642e2ad",
   "metadata": {},
   "outputs": [],
   "source": [
    "class FocalLoss(nn.Module):\n",
    "    def __init__(self, alpha=None, gamma=2):\n",
    "        super().__init__()\n",
    "        self.alpha = alpha\n",
    "        self.gamma = gamma\n",
    "\n",
    "    def forward(self, inputs, targets):\n",
    "        ce = nn.functional.cross_entropy(inputs, targets, weight=self.alpha, reduction='none')\n",
    "        pt = torch.exp(-ce)\n",
    "        return ((1 - pt) ** self.gamma * ce).mean()\n"
   ]
  },
  {
   "cell_type": "code",
   "execution_count": 16,
   "id": "c971f83f",
   "metadata": {},
   "outputs": [],
   "source": [
    "def train_mlp_model(train_loader, val_loader, input_dim, num_classes, hidden_dims, dropout_rates, activation, use_batchnorm, lr, weight_decay, epochs=150):\n",
    "    model = CowHealthMLP(input_dim, hidden_dims, dropout_rates, activation, num_classes, use_batchnorm)\n",
    "    all_labels = [label.item() for _, labels in train_loader for label in labels]\n",
    "    class_weights = compute_class_weights(np.array(all_labels), num_classes)\n",
    "    criterion = FocalLoss(alpha=class_weights)\n",
    "    optimizer = optim.AdamW(model.parameters(), lr=lr, weight_decay=weight_decay)\n",
    "    scheduler = optim.lr_scheduler.ReduceLROnPlateau(optimizer, 'min', patience=5, factor=0.5)\n",
    "\n",
    "    best_model = None\n",
    "    best_val_loss = float('inf')\n",
    "    train_loss_hist, val_loss_hist, val_f1_hist = [], [], []\n",
    "    no_improve = 0\n",
    "\n",
    "    for epoch in tqdm(range(epochs)):\n",
    "        model.train()\n",
    "        epoch_loss = 0\n",
    "        for x, y in train_loader:\n",
    "            optimizer.zero_grad()\n",
    "            out = model(x)\n",
    "            loss = criterion(out, y)\n",
    "            loss.backward()\n",
    "            optimizer.step()\n",
    "            epoch_loss += loss.item() * x.size(0)\n",
    "        train_loss_hist.append(epoch_loss / len(train_loader.dataset))\n",
    "\n",
    "        model.eval()\n",
    "        preds, true = [], []\n",
    "        val_loss = 0\n",
    "        with torch.no_grad():\n",
    "            for x, y in val_loader:\n",
    "                out = model(x) / 2.0  # 🔥 temperature scaling\n",
    "                loss = criterion(out, y)\n",
    "                val_loss += loss.item() * x.size(0)\n",
    "                preds += out.argmax(1).cpu().tolist()\n",
    "                true += y.cpu().tolist()\n",
    "        val_loss /= len(val_loader.dataset)\n",
    "        val_f1 = f1_score(true, preds, average='weighted')\n",
    "        val_loss_hist.append(val_loss)\n",
    "        val_f1_hist.append(val_f1)\n",
    "        scheduler.step(val_loss)\n",
    "\n",
    "        if val_loss < best_val_loss - 0.001:\n",
    "            best_val_loss = val_loss\n",
    "            best_model = model.state_dict()\n",
    "            no_improve = 0\n",
    "        else:\n",
    "            no_improve += 1\n",
    "            if no_improve >= 10:\n",
    "                print(f\"Early stopping at epoch {epoch+1}\")\n",
    "                break\n",
    "\n",
    "    model.load_state_dict(best_model)\n",
    "    return model, train_loss_hist, val_loss_hist, val_f1_hist\n"
   ]
  },
  {
   "cell_type": "code",
   "execution_count": 17,
   "id": "5caf86fa",
   "metadata": {},
   "outputs": [],
   "source": [
    "def evaluate_model(model, test_loader, label_names):\n",
    "    model.eval()\n",
    "    all_preds, all_labels = [], []\n",
    "    with torch.no_grad():\n",
    "        for x, y in test_loader:\n",
    "            out = model(x) / 2.0  # temperature scaling\n",
    "            all_preds += out.argmax(1).cpu().tolist()\n",
    "            all_labels += y.cpu().tolist()\n",
    "\n",
    "    print(classification_report(all_labels, all_preds, target_names=label_names))\n",
    "    cm = confusion_matrix(all_labels, all_preds)\n",
    "    sns.heatmap(cm.astype('float') / cm.sum(axis=1)[:, np.newaxis], annot=True, fmt='.2f', cmap='Blues')\n",
    "    plt.title(\"Normalized Confusion Matrix\")\n",
    "    plt.show()\n"
   ]
  },
  {
   "cell_type": "code",
   "execution_count": 18,
   "id": "7f059999",
   "metadata": {},
   "outputs": [
    {
     "name": "stderr",
     "output_type": "stream",
     "text": [
      " 63%|██████▎   | 94/150 [39:36<23:35, 25.28s/it]   "
     ]
    },
    {
     "name": "stdout",
     "output_type": "stream",
     "text": [
      "Early stopping at epoch 95\n"
     ]
    },
    {
     "name": "stderr",
     "output_type": "stream",
     "text": [
      "\n"
     ]
    },
    {
     "name": "stdout",
     "output_type": "stream",
     "text": [
      "               precision    recall  f1-score   support\n",
      "\n",
      "      oestrus       0.83      0.89      0.86      3599\n",
      "      calving       0.99      1.00      0.99      3731\n",
      "     lameness       0.97      1.00      0.98      3729\n",
      "     mastitis       0.97      1.00      0.99      3727\n",
      "other_disease       0.96      1.00      0.98      3713\n",
      "           OK       0.87      0.68      0.76      3208\n",
      "\n",
      "     accuracy                           0.94     21707\n",
      "    macro avg       0.93      0.93      0.93     21707\n",
      " weighted avg       0.93      0.94      0.93     21707\n",
      "\n"
     ]
    },
    {
     "data": {
      "image/png": "[encoded data removed]",
      "text/plain": [
       "<Figure size 640x480 with 2 Axes>"
      ]
     },
     "metadata": {},
     "output_type": "display_data"
    }
   ],
   "source": [
    "df = pd.read_csv(\"C:/Users/lamia/Downloads/augmented_dataset1_trainval.csv\")\n",
    "label_cols = ['oestrus', 'calving', 'lameness', 'mastitis', 'other_disease', 'OK']\n",
    "drop_cols = ['cow', 'duration_hours']\n",
    "X, y, scaler = preprocess_dataset(df, label_cols, drop_cols)\n",
    "train_loader, val_loader, test_loader = create_dataloaders(X, y)\n",
    "\n",
    "model, _, _, _ = train_mlp_model(\n",
    "    train_loader, val_loader,\n",
    "    input_dim=X.shape[1],\n",
    "    num_classes=len(label_cols),\n",
    "    hidden_dims=[512, 256, 128],\n",
    "    dropout_rates=[0.5, 0.4, 0.3],\n",
    "    activation='leakyrelu',\n",
    "    use_batchnorm=True,\n",
    "    lr=0.0005,\n",
    "    weight_decay=1e-4,\n",
    "    epochs=150\n",
    ")\n",
    "\n",
    "evaluate_model(model, test_loader, label_names=label_cols)\n"
   ]
  }
 ],
 "metadata": {
  "kernelspec": {
   "display_name": "base",
   "language": "python",
   "name": "python3"
  },
  "language_info": {
   "codemirror_mode": {
    "name": "ipython",
    "version": 3
   },
   "file_extension": ".py",
   "mimetype": "text/x-python",
   "name": "python",
   "nbconvert_exporter": "python",
   "pygments_lexer": "ipython3",
   "version": "3.11.5"
  }
 },
 "nbformat": 4,
 "nbformat_minor": 5
}
