{
  "cells": [
    {
      "cell_type": "code",
      "execution_count": 11,
      "id": "fc5ac6e4",
      "metadata": {
        "id": "fc5ac6e4"
      },
      "outputs": [],
      "source": [
        "import numpy as np\n",
        "import pandas as pd\n",
        "import seaborn as sns\n",
        "import missingno as msno\n",
        "import matplotlib.pyplot as plt\n",
        "from scipy import stats\n",
        "from scipy.stats import pointbiserialr\n",
        "from datetime import timedelta\n",
        "\n",
        "# Function to dynamically identify health-related columns\n",
        "def identify_health_labels(df, exclude_cols=['cow', 'duration_hours', 'IN_ALLEYS', 'REST', 'EAT', 'ACTIVITY_LEVEL']):\n",
        "    # Identify columns that are likely binary health indicators\n",
        "    potential_health_cols = [col for col in df.columns if col not in exclude_cols]\n",
        "    health_labels = [col for col in potential_health_cols \n",
        "                    if df[col].dropna().isin([0, 1]).all()]\n",
        "    return health_labels"
      ]
    },
    {
      "cell_type": "markdown",
      "id": "302b4bcf",
      "metadata": {
        "id": "302b4bcf"
      },
      "source": [
        "**Load the dataset**"
      ]
    },
    {
      "cell_type": "code",
      "execution_count": 12,
      "id": "39b68353",
      "metadata": {
        "id": "39b68353"
      },
      "outputs": [],
      "source": [
        "def load_dataset(file_path):\n",
        "    df = pd.read_csv(file_path)\n",
        "    # df['date'] = pd.to_datetime(df['date'])\n",
        "    return df"
      ]
    },
    {
      "cell_type": "markdown",
      "id": "ee553137",
      "metadata": {
        "id": "ee553137"
      },
      "source": [
        "### **Dataset First View**"
      ]
    },
    {
      "cell_type": "code",
      "execution_count": 13,
      "id": "f072d091",
      "metadata": {
        "id": "f072d091"
      },
      "outputs": [],
      "source": [
        "def display_dataset_head(df):\n",
        "    return df.head()"
      ]
    },
    {
      "cell_type": "markdown",
      "id": "e39cbae7",
      "metadata": {
        "id": "e39cbae7"
      },
      "source": [
        "### **Dataset Rows & Columns count**"
      ]
    },
    {
      "cell_type": "code",
      "execution_count": 14,
      "id": "6196ac65",
      "metadata": {
        "id": "6196ac65"
      },
      "outputs": [],
      "source": [
        "def print_dataset_shape(df):\n",
        "    print(\"Number of rows are: \",df.shape[0])\n",
        "    print(\"Number of columns are: \",df.shape[1])"
      ]
    },
    {
      "cell_type": "markdown",
      "id": "38b34af3",
      "metadata": {
        "id": "38b34af3"
      },
      "source": [
        "**Displaying Column Names**"
      ]
    },
    {
      "cell_type": "code",
      "execution_count": 15,
      "id": "8328f9df",
      "metadata": {
        "id": "8328f9df"
      },
      "outputs": [],
      "source": [
        "def display_column_names(df):\n",
        "    print(df.columns)"
      ]
    },
    {
      "cell_type": "markdown",
      "id": "7c0d8c98",
      "metadata": {
        "id": "7c0d8c98"
      },
      "source": [
        "**Define behavioral and health-related features**"
      ]
    },
    {
      "cell_type": "code",
      "execution_count": 16,
      "id": "25337284",
      "metadata": {
        "id": "25337284"
      },
      "outputs": [],
      "source": [
        "def define_features(df):\n",
        "    behavioral_features = ['IN_ALLEYS', 'REST', 'EAT', 'ACTIVITY_LEVEL']\n",
        "    health_indicators = identify_health_labels(df)\n",
        "    return behavioral_features, health_indicators"
      ]
    },
    {
      "cell_type": "markdown",
      "id": "6c0b856a",
      "metadata": {
        "id": "6c0b856a"
      },
      "source": [
        "**Distribution of health states**"
      ]
    },
    {
      "cell_type": "code",
      "execution_count": 17,
      "id": "ea2e4756",
      "metadata": {
        "id": "ea2e4756"
      },
      "outputs": [],
      "source": [
        "def plot_health_states_distribution(df):\n",
        "    health_states = identify_health_labels(df)\n",
        "    if not health_states:\n",
        "        print(\"No health states identified in the dataset.\")\n",
        "        return\n",
        "    df_health = df[health_states]\n",
        "    health_counts = df_health.sum().sort_values(ascending=False)\n",
        "    total = len(df)\n",
        "    health_percent = (health_counts / total) * 100\n",
        "\n",
        "    safe_health_percent = health_percent.copy()\n",
        "    safe_health_percent[safe_health_percent == 0] = 0.01\n",
        "\n",
        "    plt.figure(figsize=(12, 6))\n",
        "    bars = plt.bar(safe_health_percent.index, safe_health_percent.values, color='lightcoral')\n",
        "\n",
        "    for i, bar in enumerate(bars):\n",
        "        original = health_percent.values[i]\n",
        "        plt.text(bar.get_x() + bar.get_width()/2., bar.get_height(),\n",
        "                 f'{original:.2f}%', ha='center', va='bottom')\n",
        "\n",
        "    plt.yscale('log')\n",
        "    plt.title('Proportion of Health States (Log Scale)', fontweight='bold')\n",
        "    plt.xlabel('Health States', fontweight='bold')\n",
        "    plt.ylabel('Percentage (log scale)', fontweight='bold')\n",
        "    plt.xticks(rotation=45)\n",
        "    plt.grid(axis='y', linestyle='--', alpha=0.7, which='both')\n",
        "    plt.tight_layout()\n",
        "    plt.show()"
      ]
    },
    {
      "cell_type": "markdown",
      "id": "5445fd46",
      "metadata": {
        "id": "5445fd46"
      },
      "source": [
        "**Visualization of Health States Proportions**"
      ]
    },
    {
      "cell_type": "code",
      "execution_count": 18,
      "id": "cc5d9a79",
      "metadata": {
        "id": "cc5d9a79"
      },
      "outputs": [],
      "source": [
        "def plot_health_states_proportions(file_path):\n",
        "    df = pd.read_csv(file_path)\n",
        "    health_states = identify_health_labels(df)\n",
        "    if not health_states:\n",
        "        print(\"No health states identified in the dataset.\")\n",
        "        return\n",
        "\n",
        "    df_health = df[health_states]\n",
        "    health_counts = df_health.sum().sort_values(ascending=False)\n",
        "    total = len(df)\n",
        "    health_percent = (health_counts / total) * 100\n",
        "\n",
        "    plt.figure(figsize=(12, 6))\n",
        "    bars = plt.bar(health_percent.index, health_percent.values, color='lightcoral')\n",
        "\n",
        "    # Formatting: 2 decimal places\n",
        "    for bar in bars:\n",
        "        height = bar.get_height()\n",
        "        plt.text(bar.get_x() + bar.get_width()/2., height,\n",
        "                 f'{height:.2f}%',  # .2f = 2 decimal places\n",
        "                 ha='center', va='bottom')\n",
        "\n",
        "    plt.title('Proportion of Health States (in %)', fontweight='bold')\n",
        "    plt.xlabel('Health States', fontweight='bold')\n",
        "    plt.ylabel('Percentage', fontweight='bold')\n",
        "    plt.xticks(rotation=45)\n",
        "    plt.grid(axis='y', linestyle='--', alpha=0.7)\n",
        "    plt.tight_layout()\n",
        "    plt.show()"
      ]
    },
    {
      "cell_type": "code",
      "execution_count": 19,
      "id": "142ef422",
      "metadata": {
        "id": "142ef422"
      },
      "outputs": [],
      "source": [
        "def analyze_multiple_diseases(df):\n",
        "    maladie_cols = [col for col in identify_health_labels(df) if col != 'OK']\n",
        "    if not maladie_cols:\n",
        "        print(\"No disease columns identified in the dataset.\")\n",
        "        return\n",
        "\n",
        "    df_non_ok = df[df['OK'] == 0].copy()\n",
        "\n",
        "    df_non_ok['nb_maladies'] = df_non_ok[maladie_cols].sum(axis=1)\n",
        "\n",
        "    # Keep only rows with more than one disease\n",
        "    multi_maladie = df_non_ok[df_non_ok['nb_maladies'] > 1].copy()\n",
        "\n",
        "    # Extract the names of the diseases present\n",
        "    def get_maladies_presentes(row):\n",
        "        return [col for col in maladie_cols if row[col] == 1]\n",
        "\n",
        "    multi_maladie['maladies_presentes'] = multi_maladie.apply(get_maladies_presentes, axis=1)\n",
        "\n",
        "    # Display results\n",
        "    print(f\"Number of cases with multiple diseases: {len(multi_maladie)}\")\n",
        "    print(multi_maladie[['cow', 'date', 'hour', 'maladies_presentes']])"
      ]
    },
    {
      "cell_type": "code",
      "execution_count": 20,
      "id": "example_usage",
      "metadata": {},
      "outputs": [
        {
          "name": "stdout",
          "output_type": "stream",
          "text": [
            "\n",
            "Analyzing C:/Users/lamia/Downloads/augmented_dataset11.csv\n",
            "\n",
            "Dataset First View:\n",
            "\n",
            "Dataset Rows & Columns count:\n",
            "Number of rows are:  120591\n",
            "Number of columns are:  30\n",
            "\n",
            "Column Names:\n",
            "Index(['cow', 'duration_hours', 'Minimum', 'Maximum', 'RMS', 'STD', 'Mode',\n",
            "       'Q10', 'Q90', 'Q25', 'Q50', 'Q75', 'Skewness', 'Kurtosis', 'Autocorr1',\n",
            "       'Autocorr2', 'Autocorr3', 'Autocorr4', 'Autocorr5', 'Autocorr11', 'h1',\n",
            "       'h2', 'h3', 'h4', 'oestrus', 'calving', 'lameness', 'mastitis',\n",
            "       'other_disease', 'OK'],\n",
            "      dtype='object')\n",
            "\n",
            "Distribution of Health States:\n"
          ]
        },
        {
          "data": {
            "image/png": "[encoded data removed]",
            "text/plain": [
              "<Figure size 1200x600 with 1 Axes>"
            ]
          },
          "metadata": {},
          "output_type": "display_data"
        },
        {
          "name": "stdout",
          "output_type": "stream",
          "text": [
            "\n",
            "Data Distribution Histograms:\n"
          ]
        },
        {
          "ename": "NameError",
          "evalue": "name 'plot_histograms' is not defined",
          "output_type": "error",
          "traceback": [
            "\u001b[1;31m---------------------------------------------------------------------------\u001b[0m",
            "\u001b[1;31mNameError\u001b[0m                                 Traceback (most recent call last)",
            "Cell \u001b[1;32mIn[20], line 18\u001b[0m\n\u001b[0;32m     15\u001b[0m plot_health_states_distribution(df)\n\u001b[0;32m     17\u001b[0m \u001b[38;5;28mprint\u001b[39m(\u001b[38;5;124m\"\u001b[39m\u001b[38;5;130;01m\\n\u001b[39;00m\u001b[38;5;124mData Distribution Histograms:\u001b[39m\u001b[38;5;124m\"\u001b[39m)\n\u001b[1;32m---> 18\u001b[0m plot_histograms(df)\n\u001b[0;32m     19\u001b[0m \u001b[38;5;28mprint\u001b[39m(\u001b[38;5;124m\"\u001b[39m\u001b[38;5;130;01m\\n\u001b[39;00m\u001b[38;5;124mHealth States Proportions:\u001b[39m\u001b[38;5;124m\"\u001b[39m)\n\u001b[0;32m     20\u001b[0m plot_health_states_proportions(file_path)\n",
            "\u001b[1;31mNameError\u001b[0m: name 'plot_histograms' is not defined"
          ]
        }
      ],
      "source": [
        "\n",
        "datasets = [r\"C:/Users/lamia/Downloads/augmented_dataset11.csv\"]  \n",
        "# datasets = [r\"C:/Users/lamia/Desktop/datasets/dataset1.csv\"]  \n",
        "\n",
        "for file_path in datasets:\n",
        "    print(f\"\\nAnalyzing {file_path}\")\n",
        "    df = load_dataset(file_path)\n",
        "    print(\"\\nDataset First View:\")\n",
        "    display_dataset_head(df)\n",
        "    print(\"\\nDataset Rows & Columns count:\")\n",
        "    print_dataset_shape(df)\n",
        "    print(\"\\nColumn Names:\")\n",
        "    display_column_names(df)\n",
        "    behavioral_features, health_indicators = define_features(df)\n",
        "    print(\"\\nDistribution of Health States:\")\n",
        "    plot_health_states_distribution(df)\n",
        "    \n",
        "    print(\"\\nData Distribution Histograms:\")\n",
        "    plot_histograms(df)\n",
        "    print(\"\\nHealth States Proportions:\")\n",
        "    plot_health_states_proportions(file_path)\n",
        "    \n",
        "    print(\"\\nAnalysis of Cows with Multiple Diseases:\")\n",
        "    analyze_multiple_diseases(df)\n",
        "    "
      ]
    },
    {
      "cell_type": "code",
      "execution_count": null,
      "id": "740b46b3",
      "metadata": {},
      "outputs": [],
      "source": []
    }
  ],
  "metadata": {
    "colab": {
      "provenance": []
    },
    "kernelspec": {
      "display_name": "base",
      "language": "python",
      "name": "python3"
    },
    "language_info": {
      "codemirror_mode": {
        "name": "ipython",
        "version": 3
      },
      "file_extension": ".py",
      "mimetype": "text/x-python",
      "name": "python",
      "nbconvert_exporter": "python",
      "pygments_lexer": "ipython3",
      "version": "3.11.5"
    }
  },
  "nbformat": 4,
  "nbformat_minor": 5
}
