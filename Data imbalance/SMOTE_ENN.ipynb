{
  "cells": [
    {
      "cell_type": "markdown",
      "id": "149b072c",
      "metadata": {
        "id": "149b072c"
      },
      "source": [
        "# Data augmentation with SMOTE ENN"
      ]
    },
    {
      "cell_type": "code",
      "execution_count": null,
      "id": "89dbc0c3",
      "metadata": {
        "id": "89dbc0c3"
      },
      "outputs": [],
      "source": [
        "import pandas as pd\n",
        "\n",
        "df = pd.read_csv(\"32features_1hour_shift_222222222.csv\")\n"
      ]
    },
    {
      "cell_type": "code",
      "execution_count": null,
      "id": "38367ba0",
      "metadata": {
        "id": "38367ba0",
        "outputId": "66d96607-1dd2-4045-a4aa-56698072469b"
      },
      "outputs": [
        {
          "name": "stdout",
          "output_type": "stream",
          "text": [
            "Nombre de valeurs manquantes par colonne :\n",
            "cow                0\n",
            "start_time         0\n",
            "end_time           0\n",
            "duration_hours     0\n",
            "Minimum            0\n",
            "Maximum            0\n",
            "Mean               0\n",
            "RMS                0\n",
            "STD                0\n",
            "MeanSTD6h         60\n",
            "STDMean6h         60\n",
            "STDSD              0\n",
            "RMSSD              0\n",
            "Mode               0\n",
            "Q10                0\n",
            "Q90                0\n",
            "Q25                0\n",
            "Q50                0\n",
            "Q75                0\n",
            "Skewness           0\n",
            "Kurtosis           0\n",
            "Autocorr1          0\n",
            "Autocorr2          0\n",
            "Autocorr3          0\n",
            "Autocorr4          0\n",
            "Autocorr5          0\n",
            "Autocorr6          0\n",
            "Autocorr7          0\n",
            "Autocorr8          0\n",
            "Autocorr9          0\n",
            "Autocorr10         0\n",
            "Autocorr11         0\n",
            "h1                 0\n",
            "h2                 0\n",
            "h3                 0\n",
            "h4                 0\n",
            "oestrus            0\n",
            "calving            0\n",
            "lameness           0\n",
            "mastitis           0\n",
            "other_disease      0\n",
            "OK                 0\n",
            "dtype: int64\n"
          ]
        }
      ],
      "source": [
        "print(\"Nombre de valeurs manquantes par colonne :\")\n",
        "print(df.isna().sum())\n"
      ]
    },
    {
      "cell_type": "code",
      "execution_count": null,
      "id": "e39406cb",
      "metadata": {
        "id": "e39406cb",
        "outputId": "a0ccdc62-9a1c-4939-bc5d-c5ad15bc9b85"
      },
      "outputs": [
        {
          "name": "stdout",
          "output_type": "stream",
          "text": [
            "Nombre de valeurs manquantes par colonne :\n",
            "cow                0\n",
            "start_time         0\n",
            "end_time           0\n",
            "duration_hours     0\n",
            "Minimum            0\n",
            "Maximum            0\n",
            "Mean               0\n",
            "RMS                0\n",
            "STD                0\n",
            "MeanSTD6h         60\n",
            "STDMean6h         60\n",
            "STDSD              0\n",
            "RMSSD              0\n",
            "Mode               0\n",
            "Q10                0\n",
            "Q90                0\n",
            "Q25                0\n",
            "Q50                0\n",
            "Q75                0\n",
            "Skewness           0\n",
            "Kurtosis           0\n",
            "Autocorr1          0\n",
            "Autocorr2          0\n",
            "Autocorr3          0\n",
            "Autocorr4          0\n",
            "Autocorr5          0\n",
            "Autocorr6          0\n",
            "Autocorr7          0\n",
            "Autocorr8          0\n",
            "Autocorr9          0\n",
            "Autocorr10         0\n",
            "Autocorr11         0\n",
            "h1                 0\n",
            "h2                 0\n",
            "h3                 0\n",
            "h4                 0\n",
            "oestrus            0\n",
            "calving            0\n",
            "lameness           0\n",
            "mastitis           0\n",
            "other_disease      0\n",
            "OK                 0\n",
            "dtype: int64\n",
            "✅ Nombre de lignes : 36971\n",
            "✅ Nombre de colonnes : 42\n"
          ]
        }
      ],
      "source": [
        "print(\"Nombre de valeurs manquantes par colonne :\")\n",
        "print(df.isna().sum())\n",
        "\n",
        "# Afficher nombre de lignes et de colonnes\n",
        "print(f\"✅ Nombre de lignes : {df.shape[0]}\")\n",
        "print(f\"✅ Nombre de colonnes : {df.shape[1]}\")\n"
      ]
    },
    {
      "cell_type": "markdown",
      "id": "f54fc7a9",
      "metadata": {
        "id": "f54fc7a9"
      },
      "source": [
        "There are missing values. SMOTE cannot work in the presence of such values, so we have two options: either we drop them or we impute them, for example, using the mean value.\n"
      ]
    },
    {
      "cell_type": "markdown",
      "id": "2a8cdd7e",
      "metadata": {
        "id": "2a8cdd7e"
      },
      "source": [
        "code with imputing"
      ]
    },
    {
      "cell_type": "code",
      "execution_count": null,
      "id": "f2c2005e",
      "metadata": {
        "id": "f2c2005e"
      },
      "outputs": [],
      "source": [
        "# import pandas as pd\n",
        "# from imblearn.combine import SMOTEENN\n",
        "# from sklearn.impute import SimpleImputer\n",
        "# from collections import Counter\n",
        "\n",
        "# # Liste des colonnes cibles à traiter\n",
        "# target_columns = ['OK', 'oestrus', 'lameness', 'mastitis', 'other_disease']\n",
        "\n",
        "# # Sélection des features numériques\n",
        "# X_full = df.drop(columns=target_columns)\n",
        "# X_full = X_full.select_dtypes(include=['int64', 'float64'])\n",
        "\n",
        "# # Imputation des NaNs\n",
        "# imputer = SimpleImputer(strategy='mean')\n",
        "# X_full_imputed = pd.DataFrame(imputer.fit_transform(X_full), columns=X_full.columns)\n",
        "\n",
        "# # Initialiser une liste pour stocker tous les échantillons équilibrés\n",
        "# all_balanced_samples = []\n",
        "\n",
        "# for target in target_columns:\n",
        "#     print(f\"\\nTraitement de la cible : {target}\")\n",
        "#     y = df[target]\n",
        "#     y = y.loc[X_full_imputed.index]\n",
        "\n",
        "#     print(\"Avant SMOTE-ENN :\", Counter(y))\n",
        "\n",
        "#     smote_enn = SMOTEENN(random_state=42)\n",
        "#     X_res, y_res = smote_enn.fit_resample(X_full_imputed, y)\n",
        "\n",
        "#     print(\"Après SMOTE-ENN :\", Counter(y_res))\n",
        "\n",
        "#     # Construire le DataFrame avec une colonne indiquant la cible traitée\n",
        "#     X_res_df = pd.DataFrame(X_res, columns=X_full.columns)\n",
        "#     y_res_df = pd.Series(y_res, name=target)\n",
        "\n",
        "#     # Ajouter la cible en colonne + les autres cibles à 0\n",
        "#     other_targets = {col: 0 for col in target_columns if col != target}\n",
        "#     for col, val in other_targets.items():\n",
        "#         X_res_df[col] = val\n",
        "\n",
        "#     # Ajouter la cible actuelle\n",
        "#     X_res_df[target] = y_res_df\n",
        "\n",
        "#     # Ajouter à la liste globale\n",
        "#     all_balanced_samples.append(X_res_df)\n",
        "\n",
        "# # Concaténer tous les échantillons équilibrés\n",
        "# final_df = pd.concat(all_balanced_samples, ignore_index=True)\n",
        "\n",
        "# # Sauvegarder dans un seul fichier CSV\n",
        "# final_df.to_csv(\"balanced_dataset_all.csv\", index=False)\n",
        "# print(\" Tous les échantillons synthétiques sauvegardés dans 'balanced_dataset_all.csv'\")\n"
      ]
    },
    {
      "cell_type": "markdown",
      "id": "096a057d",
      "metadata": {
        "id": "096a057d"
      },
      "source": [
        "code with dropping"
      ]
    },
    {
      "cell_type": "code",
      "execution_count": null,
      "id": "4230a73d",
      "metadata": {
        "id": "4230a73d",
        "outputId": "c7f84e05-1366-4082-d52e-09365d6fca8a"
      },
      "outputs": [
        {
          "name": "stdout",
          "output_type": "stream",
          "text": [
            "Avant SMOTE-ENN : Counter({'lameness': 26536, 'OK': 8558, 'oestrus': 1803, 'mastitis': 14})\n",
            "Après SMOTE-ENN : Counter({'OK': 26536, 'mastitis': 26536, 'oestrus': 26211, 'lameness': 21195})\n",
            "✅ Dataset multiclasse équilibré sauvegardé dans 'balanced_dataset_multiclass.csv'\n"
          ]
        }
      ],
      "source": [
        "import pandas as pd\n",
        "from imblearn.combine import SMOTEENN\n",
        "from imblearn.over_sampling import SMOTE\n",
        "from imblearn.under_sampling import EditedNearestNeighbours\n",
        "from collections import Counter\n",
        "\n",
        "# Fusionner les colonnes cibles en une seule variable multiclasse\n",
        "def get_label(row):\n",
        "    for col in target_columns:\n",
        "        if row[col] == 1:\n",
        "            return col\n",
        "    return 'unknown'\n",
        "\n",
        "target_columns = ['OK', 'oestrus', 'lameness', 'mastitis', 'other_disease']\n",
        "df_cleaned = df.dropna(subset=target_columns).copy()\n",
        "\n",
        "# Extraire X et y\n",
        "X_full = df_cleaned.drop(columns=target_columns)\n",
        "X_full = X_full.select_dtypes(include=['int64', 'float64'])\n",
        "df_cleaned = df_cleaned[X_full.columns.tolist() + target_columns]\n",
        "df_cleaned = df_cleaned.dropna()\n",
        "\n",
        "df_cleaned['label'] = df_cleaned[target_columns].idxmax(axis=1)\n",
        "\n",
        "X = df_cleaned.drop(columns=target_columns + ['label'])\n",
        "y = df_cleaned['label']\n",
        "\n",
        "print(\"Avant SMOTE-ENN :\", Counter(y))\n",
        "\n",
        "# Appliquer SMOTE-ENN sur la vraie variable multiclasse\n",
        "smote_enn = SMOTEENN(\n",
        "    sampling_strategy='minority',  # essayez 'minority' au lieu de 'auto'\n",
        "    random_state=42,\n",
        "    smote=SMOTE(k_neighbors=2),\n",
        "    enn=EditedNearestNeighbours(n_neighbors=3),\n",
        "    n_jobs=1\n",
        ")\n",
        "\n",
        "\n",
        "X_res, y_res = smote_enn.fit_resample(X, y)\n",
        "\n",
        "print(\"Après SMOTE-ENN :\", Counter(y_res))\n",
        "\n",
        "# Reconvertir en one-hot encoding si nécessaire\n",
        "final_df = pd.DataFrame(X_res, columns=X.columns)\n",
        "for col in target_columns:\n",
        "    final_df[col] = (y_res == col).astype(int)\n",
        "\n",
        "# Sauvegarder\n",
        "final_df.to_csv(\"balanced_dataset_multiclass.csv\", index=False)\n",
        "print(\"✅ Dataset multiclasse équilibré sauvegardé dans 'balanced_dataset_multiclass.csv'\")\n"
      ]
    },
    {
      "cell_type": "code",
      "execution_count": null,
      "id": "9f0092b6",
      "metadata": {
        "id": "9f0092b6",
        "outputId": "2f858d04-347d-4647-9f6d-d2a19a730242"
      },
      "outputs": [
        {
          "name": "stdout",
          "output_type": "stream",
          "text": [
            "\n",
            "Distribution des 0 et 1 par classe AVANT SMOTE-ENN :\n",
            "OK: {0: 28353, 1: 8558}\n",
            "oestrus: {0: 35108, 1: 1803}\n",
            "lameness: {1: 26536, 0: 10375}\n",
            "mastitis: {0: 36897, 1: 14}\n",
            "other_disease: {0: 36911}\n"
          ]
        }
      ],
      "source": [
        "print(\"\\nDistribution des 0 et 1 par classe AVANT SMOTE-ENN :\")\n",
        "for col in target_columns:\n",
        "    counts = df_cleaned[col].value_counts().to_dict()\n",
        "    print(f\"{col}: {counts}\")\n"
      ]
    },
    {
      "cell_type": "code",
      "execution_count": null,
      "id": "fb5a6f02",
      "metadata": {
        "id": "fb5a6f02",
        "outputId": "88975c80-3357-40e5-aced-340a0aafdd7d"
      },
      "outputs": [
        {
          "name": "stdout",
          "output_type": "stream",
          "text": [
            "\n",
            "Distribution des 0 et 1 par classe APRÈS SMOTE-ENN :\n",
            "OK: {0: 73942, 1: 26536}\n",
            "oestrus: {0: 74267, 1: 26211}\n",
            "lameness: {0: 79283, 1: 21195}\n",
            "mastitis: {0: 73942, 1: 26536}\n",
            "other_disease: {0: 100478}\n"
          ]
        }
      ],
      "source": [
        "print(\"\\nDistribution des 0 et 1 par classe APRÈS SMOTE-ENN :\")\n",
        "for col in target_columns:\n",
        "    counts = final_df[col].value_counts().to_dict()\n",
        "    print(f\"{col}: {counts}\")\n"
      ]
    },
    {
      "cell_type": "code",
      "execution_count": null,
      "id": "558bb37b",
      "metadata": {
        "id": "558bb37b",
        "outputId": "2d1ca7c1-9fd6-4997-c8c2-2af3a7000e59"
      },
      "outputs": [
        {
          "name": "stdout",
          "output_type": "stream",
          "text": [
            "🔍 Lignes où toutes les cibles sont à 0 :\n",
            "Empty DataFrame\n",
            "Columns: [cow, duration_hours, Minimum, Maximum, Mean, RMS, STD, MeanSTD6h, STDMean6h, STDSD, RMSSD, Mode, Q10, Q90, Q25, Q50, Q75, Skewness, Kurtosis, Autocorr1, Autocorr2, Autocorr3, Autocorr4, Autocorr5, Autocorr6, Autocorr7, Autocorr8, Autocorr9, Autocorr10, Autocorr11, h1, h2, h3, h4, calving, OK, oestrus, lameness, mastitis, other_disease]\n",
            "Index: []\n",
            "\n",
            "[0 rows x 40 columns]\n",
            "Nombre de lignes concernées : 0\n"
          ]
        }
      ],
      "source": [
        "# Afficher les lignes où toutes les cibles sont égales à 0\n",
        "all_zero_targets = final_df[(final_df[target_columns] == 0).all(axis=1)]\n",
        "print(\"🔍 Lignes où toutes les cibles sont à 0 :\")\n",
        "print(all_zero_targets)\n",
        "print(f\"Nombre de lignes concernées : {len(all_zero_targets)}\")\n"
      ]
    },
    {
      "cell_type": "code",
      "execution_count": null,
      "id": "867be7f9",
      "metadata": {
        "id": "867be7f9",
        "outputId": "e31f3764-bb55-4b2c-e3ed-a26e881cf58f"
      },
      "outputs": [
        {
          "data": {
            "image/png": "[encoded data removed]",
            "text/plain": [
              "<Figure size 1000x800 with 5 Axes>"
            ]
          },
          "metadata": {},
          "output_type": "display_data"
        }
      ],
      "source": [
        "import matplotlib.pyplot as plt\n",
        "\n",
        "# Définir les colonnes cibles\n",
        "target_columns = ['OK','oestrus', 'lameness', 'mastitis', 'other_disease']\n",
        "\n",
        "# Calcul des distributions des 0 et 1 avant SMOTE-ENN\n",
        "before_counts = {col: df_cleaned[col].value_counts().to_dict() for col in target_columns}\n",
        "\n",
        "# Calcul des distributions des 0 et 1 après SMOTE-ENN\n",
        "after_counts = {col: final_df[col].value_counts().to_dict() for col in target_columns}\n",
        "\n",
        "# Affichage des distributions sous forme d'histogrammes\n",
        "fig, axes = plt.subplots(len(target_columns), 1, figsize=(10, 8))\n",
        "\n",
        "for i, col in enumerate(target_columns):\n",
        "    # Récupérer les comptes avant et après\n",
        "    before_vals = before_counts[col]\n",
        "    after_vals = after_counts[col]\n",
        "\n",
        "    # Tracer les histogrammes\n",
        "    axes[i].bar([0, 1], [before_vals.get(0, 0), before_vals.get(1, 0)], width=0.4, label=\"Avant SMOTE-ENN\", align='center')\n",
        "    axes[i].bar([0, 1], [after_vals.get(0, 0), after_vals.get(1, 0)], width=0.4, label=\"Après SMOTE-ENN\", align='edge')\n",
        "\n",
        "    # Définir les propriétés du graphique\n",
        "    axes[i].set_title(f'Distribution des 0 et 1 pour {col}')\n",
        "    axes[i].set_xticks([0, 1])\n",
        "    axes[i].set_xticklabels(['0', '1'])\n",
        "    axes[i].legend()\n",
        "\n",
        "plt.tight_layout()\n",
        "plt.show()\n"
      ]
    },
    {
      "cell_type": "code",
      "execution_count": null,
      "id": "da706f00",
      "metadata": {
        "id": "da706f00",
        "outputId": "da2afc78-5b4a-4d57-e191-25693771899f"
      },
      "outputs": [
        {
          "name": "stdout",
          "output_type": "stream",
          "text": [
            "✅ AVANT SMOTE-ENN :\n",
            "Nombre de lignes : 36911\n",
            "Nombre de colonnes : 41\n",
            "\n",
            "✅ APRÈS SMOTE-ENN :\n",
            "Nombre de lignes : 100478\n",
            "Nombre de colonnes : 40\n"
          ]
        }
      ],
      "source": [
        "# Afficher la forme du dataset avant SMOTE-ENN\n",
        "print(\"✅ AVANT SMOTE-ENN :\")\n",
        "print(\"Nombre de lignes :\", df_cleaned.shape[0])\n",
        "print(\"Nombre de colonnes :\", df_cleaned.shape[1])\n",
        "\n",
        "# Afficher la forme du dataset après SMOTE-ENN\n",
        "print(\"\\n✅ APRÈS SMOTE-ENN :\")\n",
        "print(\"Nombre de lignes :\", final_df.shape[0])\n",
        "print(\"Nombre de colonnes :\", final_df.shape[1])\n"
      ]
    }
  ],
  "metadata": {
    "colab": {
      "provenance": []
    },
    "kernelspec": {
      "display_name": "Python 3",
      "language": "python",
      "name": "python3"
    },
    "language_info": {
      "codemirror_mode": {
        "name": "ipython",
        "version": 3
      },
      "file_extension": ".py",
      "mimetype": "text/x-python",
      "name": "python",
      "nbconvert_exporter": "python",
      "pygments_lexer": "ipython3",
      "version": "3.12.4"
    }
  },
  "nbformat": 4,
  "nbformat_minor": 5
}
