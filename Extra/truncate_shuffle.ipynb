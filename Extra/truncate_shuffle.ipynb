{
 "cells": [
  {
   "cell_type": "code",
   "execution_count": 1,
   "id": "ec74649c",
   "metadata": {},
   "outputs": [
    {
     "name": "stderr",
     "output_type": "stream",
     "text": [
      "c:\\Users\\lamia\\anaconda3\\Lib\\site-packages\\pandas\\core\\arrays\\masked.py:60: UserWarning: Pandas requires version '1.3.6' or newer of 'bottleneck' (version '1.3.5' currently installed).\n",
      "  from pandas.core import (\n"
     ]
    }
   ],
   "source": [
    "import pandas as pd\n",
    "\n",
    "def truncate_and_shuffle(file_path, output_path=None, n=200000, seed=42):\n",
    "    \"\"\"\n",
    "    Load a dataset, shuffle it, and truncate to n rows.\n",
    "\n",
    "    Parameters:\n",
    "    - file_path (str): Path to the input CSV file.\n",
    "    - output_path (str): Optional. Path to save the truncated dataset.\n",
    "    - n (int): Number of rows to keep.\n",
    "    - seed (int): Random seed for reproducibility.\n",
    "\n",
    "    Returns:\n",
    "    - pd.DataFrame: Truncated and shuffled DataFrame.\n",
    "    \"\"\"\n",
    "    df = pd.read_csv(file_path)\n",
    "    df_shuffled = df.sample(frac=1, random_state=seed).reset_index(drop=True)\n",
    "    df_truncated = df_shuffled.head(n)\n",
    "\n",
    "    if output_path:\n",
    "        df_truncated.to_csv(output_path, index=False)\n",
    "\n",
    "    return df_truncated\n"
   ]
  },
  {
   "cell_type": "code",
   "execution_count": 5,
   "id": "b122822d",
   "metadata": {},
   "outputs": [],
   "source": [
    "df_new = truncate_and_shuffle(r\"C:/Users/lamia/Downloads/dataset4-1.csv\", \"C:/Users/lamia/Downloads/truncated_dataset4.csv\")\n"
   ]
  },
  {
   "cell_type": "code",
   "execution_count": 6,
   "id": "322a8d2d",
   "metadata": {},
   "outputs": [
    {
     "name": "stdout",
     "output_type": "stream",
     "text": [
      "(200000, 19)\n"
     ]
    }
   ],
   "source": [
    "df = pd.read_csv(r\"C:/Users/lamia/Downloads/truncated_dataset4.csv\")\n",
    "print(df.shape)"
   ]
  },
  {
   "cell_type": "code",
   "execution_count": null,
   "id": "f50d1ba7",
   "metadata": {},
   "outputs": [],
   "source": []
  }
 ],
 "metadata": {
  "kernelspec": {
   "display_name": "base",
   "language": "python",
   "name": "python3"
  },
  "language_info": {
   "codemirror_mode": {
    "name": "ipython",
    "version": 3
   },
   "file_extension": ".py",
   "mimetype": "text/x-python",
   "name": "python",
   "nbconvert_exporter": "python",
   "pygments_lexer": "ipython3",
   "version": "3.11.5"
  }
 },
 "nbformat": 4,
 "nbformat_minor": 5
}
