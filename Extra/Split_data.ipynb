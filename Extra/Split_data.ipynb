{
 "cells": [
  {
   "cell_type": "code",
   "execution_count": 1,
   "id": "7a0a408d",
   "metadata": {},
   "outputs": [
    {
     "name": "stderr",
     "output_type": "stream",
     "text": [
      "c:\\Users\\lamia\\anaconda3\\Lib\\site-packages\\pandas\\core\\arrays\\masked.py:60: UserWarning: Pandas requires version '1.3.6' or newer of 'bottleneck' (version '1.3.5' currently installed).\n",
      "  from pandas.core import (\n"
     ]
    }
   ],
   "source": [
    "import pandas as pd\n",
    "from sklearn.model_selection import train_test_split\n",
    "\n",
    "def split_holdout_set(input_csv, output_trainval_csv, output_holdout_csv, label_cols, test_size=0.1, random_state=42):\n",
    "    \"\"\"\n",
    "    Splits dataset into training/validation and holdout, then saves them to CSV files.\n",
    "    \n",
    "    Parameters:\n",
    "        input_csv (str): Path to the full input dataset CSV.\n",
    "        output_trainval_csv (str): Path to save the 90% train/validation CSV.\n",
    "        output_holdout_csv (str): Path to save the 10% holdout CSV.\n",
    "        label_cols (list): List of one-hot label column names.\n",
    "        test_size (float): Proportion to hold out (default 0.1).\n",
    "        random_state (int): Seed for reproducibility.\n",
    "    \"\"\"\n",
    "    df = pd.read_csv(input_csv)\n",
    "    y = df[label_cols].values.argmax(axis=1)  # Stratify on class index\n",
    "\n",
    "    train_val_df, holdout_df = train_test_split(\n",
    "        df, test_size=test_size, stratify=y, random_state=random_state\n",
    "    )\n",
    "\n",
    "    train_val_df.to_csv(output_trainval_csv, index=False)\n",
    "    holdout_df.to_csv(output_holdout_csv, index=False)\n",
    "    \n",
    "    print(f\"✅ Split complete: {len(train_val_df)} train_val | {len(holdout_df)} holdout\")\n",
    "    print(f\"📁 Saved: {output_trainval_csv}\")\n",
    "    print(f\"📁 Saved: {output_holdout_csv}\")\n",
    "\n"
   ]
  },
  {
   "cell_type": "code",
   "execution_count": 2,
   "id": "3b5589ef",
   "metadata": {},
   "outputs": [
    {
     "name": "stdout",
     "output_type": "stream",
     "text": [
      "✅ Split complete: 94356 train_val | 10485 holdout\n",
      "📁 Saved: C:/Users/lamia/Downloads/final_selected_dataset1_trainval.csv\n",
      "📁 Saved: C:/Users/lamia/Downloads/final_selected_dataset1_holdout.csv\n"
     ]
    }
   ],
   "source": [
    "\n",
    "if __name__ == \"__main__\":\n",
    "    label_columns = ['oestrus', 'calving', 'lameness', 'mastitis', 'other_disease', 'OK']\n",
    "    split_holdout_set(\n",
    "        input_csv=r\"C:/Users/lamia/Downloads/final_selected_dataset1.csv\",\n",
    "        output_trainval_csv=r\"C:/Users/lamia/Downloads/final_selected_dataset1_trainval.csv\",\n",
    "        output_holdout_csv=r\"C:/Users/lamia/Downloads/final_selected_dataset1_holdout.csv\",\n",
    "        label_cols=label_columns\n",
    "    )\n"
   ]
  },
  {
   "cell_type": "code",
   "execution_count": 2,
   "id": "dda32740",
   "metadata": {},
   "outputs": [
    {
     "name": "stdout",
     "output_type": "stream",
     "text": [
      "✅ Split complete: 108531 train_val | 12060 holdout\n",
      "📁 Saved: C:/Users/lamia/Downloads/augmented_dataset1_trainval.csv\n",
      "📁 Saved: C:/Users/lamia/Downloads/augmented_dataset1_holdout.csv\n"
     ]
    }
   ],
   "source": [
    "\n",
    "if __name__ == \"__main__\":\n",
    "    label_columns = ['oestrus', 'calving', 'lameness', 'mastitis', 'other_disease', 'OK']\n",
    "    split_holdout_set(\n",
    "        input_csv=r\"C:/Users/lamia/Downloads/augmented_dataset11.csv\",\n",
    "        output_trainval_csv=r\"C:/Users/lamia/Downloads/augmented_dataset1_trainval.csv\",\n",
    "        output_holdout_csv=r\"C:/Users/lamia/Downloads/augmented_dataset1_holdout.csv\",\n",
    "        label_cols=label_columns\n",
    "    )"
   ]
  },
  {
   "cell_type": "code",
   "execution_count": null,
   "id": "f8121926",
   "metadata": {},
   "outputs": [],
   "source": []
  }
 ],
 "metadata": {
  "kernelspec": {
   "display_name": "base",
   "language": "python",
   "name": "python3"
  },
  "language_info": {
   "codemirror_mode": {
    "name": "ipython",
    "version": 3
   },
   "file_extension": ".py",
   "mimetype": "text/x-python",
   "name": "python",
   "nbconvert_exporter": "python",
   "pygments_lexer": "ipython3",
   "version": "3.11.5"
  }
 },
 "nbformat": 4,
 "nbformat_minor": 5
}
