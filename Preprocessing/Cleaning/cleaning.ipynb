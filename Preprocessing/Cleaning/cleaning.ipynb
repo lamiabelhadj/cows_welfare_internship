{
  "cells": [
    {
      "cell_type": "code",
      "execution_count": null,
      "metadata": {
        "id": "A2wQ6XTCpCFO",
        "outputId": "5fc26827-219c-4a8f-e31a-a3300e785f47"
      },
      "outputs": [
        {
          "name": "stderr",
          "output_type": "stream",
          "text": [
            "C:\\Users\\lamia\\anaconda3\\Lib\\site-packages\\pandas\\core\\arrays\\masked.py:60: UserWarning: Pandas requires version '1.3.6' or newer of 'bottleneck' (version '1.3.5' currently installed).\n",
            "  from pandas.core import (\n"
          ]
        }
      ],
      "source": [
        "import numpy as np\n",
        "import pandas as pd\n",
        "import seaborn as sns\n",
        "import missingno as msno\n",
        "import matplotlib.pyplot as plt"
      ]
    },
    {
      "cell_type": "code",
      "execution_count": null,
      "metadata": {
        "id": "T_a09ySZpCFP"
      },
      "outputs": [],
      "source": [
        "path = r\"C:\\Users\\lamia\\Downloads\\dataset3-1 (1).csv\"\n",
        "df = pd.read_csv(path)"
      ]
    },
    {
      "cell_type": "markdown",
      "metadata": {
        "id": "7tY0MSO3pCFY"
      },
      "source": [
        "### Check Completeness per Cow"
      ]
    },
    {
      "cell_type": "code",
      "execution_count": null,
      "metadata": {
        "id": "JQ-BOty_pCFY",
        "outputId": "3fe40b01-31fd-4f1f-cbd5-d2b268c13f95"
      },
      "outputs": [
        {
          "name": "stdout",
          "output_type": "stream",
          "text": [
            "\n",
            "Missing days per cow:\n",
            "cow\n",
            "1565     20\n",
            "1797      1\n",
            "2284     32\n",
            "2399     27\n",
            "2581      2\n",
            "4372      2\n",
            "5098      1\n",
            "5394      8\n",
            "5896     29\n",
            "9994     27\n",
            "10127     2\n",
            "10567    13\n",
            "Name: date, dtype: int64\n"
          ]
        }
      ],
      "source": [
        "# Group by cow and count unique dates\n",
        "cow_date_counts = df.groupby('cow')['date'].nunique()\n",
        "\n",
        "# Compare against expected number of days\n",
        "expected_days = len(all_dates)\n",
        "missing_days_per_cow = expected_days - cow_date_counts\n",
        "\n",
        "print(\"\\nMissing days per cow:\")\n",
        "print(missing_days_per_cow[missing_days_per_cow > 0])"
      ]
    },
    {
      "cell_type": "markdown",
      "metadata": {
        "id": "84a6SGRgpCFY"
      },
      "source": [
        "### The number of hourly entries per cow per day"
      ]
    },
    {
      "cell_type": "code",
      "execution_count": null,
      "metadata": {
        "id": "6iNtQPNCpCFZ",
        "outputId": "b00dbca3-c93d-473b-930f-1eec7c088bee"
      },
      "outputs": [
        {
          "name": "stdout",
          "output_type": "stream",
          "text": [
            "        cow       date  hourly_records\n",
            "0      1565 2013-10-01              24\n",
            "1      1565 2013-10-02              24\n",
            "2      1565 2013-10-03              24\n",
            "3      1565 2013-10-04              24\n",
            "4      1565 2013-10-05              24\n",
            "...     ...        ...             ...\n",
            "1091  10567 2013-10-27              24\n",
            "1092  10567 2013-10-28              24\n",
            "1093  10567 2013-10-29              24\n",
            "1094  10567 2013-10-30              24\n",
            "1095  10567 2013-10-31              13\n",
            "\n",
            "[1096 rows x 3 columns]\n"
          ]
        }
      ],
      "source": [
        "hourly_counts = df.groupby(['cow', 'date']).size().reset_index(name='hourly_records')\n",
        "print(hourly_counts)"
      ]
    },
    {
      "cell_type": "markdown",
      "metadata": {
        "id": "VpLihe3HpCFZ"
      },
      "source": [
        "### Filter for days with exactly 24 hours records"
      ]
    },
    {
      "cell_type": "code",
      "execution_count": null,
      "metadata": {
        "id": "JqRCgwxapCFZ",
        "outputId": "05daadcb-c459-49ab-de2e-f831b96e87c1"
      },
      "outputs": [
        {
          "name": "stdout",
          "output_type": "stream",
          "text": [
            "\n",
            "Days with full days of records: 1078\n"
          ]
        }
      ],
      "source": [
        "full_days = hourly_counts[hourly_counts['hourly_records'] == 24]\n",
        "print(f\"\\nDays with full days of records: {len(full_days)}\")"
      ]
    },
    {
      "cell_type": "markdown",
      "metadata": {
        "id": "km4veqaHpCFa"
      },
      "source": [
        "### The number of full 24-hour days per cow"
      ]
    },
    {
      "cell_type": "code",
      "execution_count": null,
      "metadata": {
        "id": "Hb8BPH96pCFa",
        "outputId": "9c1fe693-4404-4bf1-ecac-1d245ce6ce5e"
      },
      "outputs": [
        {
          "name": "stdout",
          "output_type": "stream",
          "text": [
            "\n",
            "Full 24h days per cow:       cow  full_24h_days\n",
            "0    1565             21\n",
            "1    1797             41\n",
            "2    1919             40\n",
            "3    2284             10\n",
            "4    2340             42\n",
            "5    2395             42\n",
            "6    2399             15\n",
            "7    2576             42\n",
            "8    2581             40\n",
            "9    2699             42\n",
            "10   4102             40\n",
            "11   4262             40\n",
            "12   4279             41\n",
            "13   4372             38\n",
            "14   4495             42\n",
            "15   4716             42\n",
            "16   5098             40\n",
            "17   5104             41\n",
            "18   5128             40\n",
            "19   5394             32\n",
            "20   5541             42\n",
            "21   5810             42\n",
            "22   5896             12\n",
            "23   8595             42\n",
            "24   9481             42\n",
            "25   9502             42\n",
            "26   9601             42\n",
            "27   9994             15\n",
            "28  10127             40\n",
            "29  10567             28\n"
          ]
        }
      ],
      "source": [
        "full_days_per_cow = full_days.groupby('cow').size().reset_index(name='full_24h_days')\n",
        "print(\"\\nFull 24h days per cow:\", full_days_per_cow)"
      ]
    },
    {
      "cell_type": "code",
      "execution_count": null,
      "metadata": {
        "id": "wXJc5zVppCFa",
        "outputId": "c2c5fcf3-1cd4-4cda-f736-4d814f1aaeb7"
      },
      "outputs": [
        {
          "name": "stdout",
          "output_type": "stream",
          "text": [
            "Percentage of complete days: 98.36%\n"
          ]
        }
      ],
      "source": [
        "print(f\"Percentage of complete days: {len(full_days)/len(hourly_counts)*100:.2f}%\")"
      ]
    },
    {
      "cell_type": "markdown",
      "metadata": {
        "id": "oQwQTzNOpCFa"
      },
      "source": [
        "### Count how many 24h samples have less than 12 observations"
      ]
    },
    {
      "cell_type": "code",
      "execution_count": null,
      "metadata": {
        "id": "Jgot85XvpCFa",
        "outputId": "b712154a-5cd2-423d-a0fc-a40348f41ff8"
      },
      "outputs": [
        {
          "name": "stdout",
          "output_type": "stream",
          "text": [
            "Number of cow-day combinations with less than 12 hourly records: 1\n",
            "      cow       date  hourly_records\n",
            "843  5896 2013-10-13               2\n"
          ]
        }
      ],
      "source": [
        "less_than_12_obs = hourly_counts[hourly_counts['hourly_records'] < 12]\n",
        "print(f\"Number of cow-day combinations with less than 12 hourly records: {len(less_than_12_obs)}\")\n",
        "\n",
        "if len(less_than_12_obs) > 0:\n",
        "    print(less_than_12_obs)\n",
        "\n"
      ]
    },
    {
      "cell_type": "markdown",
      "metadata": {
        "id": "y3GybLQDpCFb"
      },
      "source": [
        "# We will execute this code on the dataset that has 24h with less than 12 observations"
      ]
    },
    {
      "cell_type": "code",
      "execution_count": null,
      "metadata": {
        "id": "sDDz-4v8pCFb",
        "outputId": "218a7240-eee6-428b-9032-8c2d1b5de3c7"
      },
      "outputs": [
        {
          "name": "stdout",
          "output_type": "stream",
          "text": [
            "         cow       date  hour  IN_ALLEYS      REST      EAT  ACTIVITY_LEVEL  \\\n",
            "0      10127 2013-10-01     1      0.000  3600.000    0.000      -828.00000   \n",
            "1      10127 2013-10-01     2   2931.783   444.528  223.689       460.79322   \n",
            "2      10127 2013-10-01     3    257.740  2930.966  411.294      -460.14030   \n",
            "3      10127 2013-10-01     4     63.220  3536.780    0.000      -803.34420   \n",
            "4      10127 2013-10-01     5      0.000  3600.000    0.000      -828.00000   \n",
            "...      ...        ...   ...        ...       ...      ...             ...   \n",
            "26218   9994 2013-11-11    20   2439.672   617.248  543.079       476.47366   \n",
            "26219   9994 2013-11-11    21   1920.242  1432.293  247.464        81.74621   \n",
            "26220   9994 2013-11-11    22   2084.508  1213.487  302.004       181.26095   \n",
            "26221   9994 2013-11-11    23    643.668  2746.255  210.076      -440.41985   \n",
            "26222   9994 2013-11-11    24    553.511  3046.488    0.000      -612.13048   \n",
            "\n",
            "       oestrus  calving  lameness  mastitis  LPS  acidosis  other_disease  \\\n",
            "0            0        0         0         0  NaN       NaN              0   \n",
            "1            0        0         0         0  NaN       NaN              0   \n",
            "2            0        0         0         0  NaN       NaN              0   \n",
            "3            0        0         0         0  NaN       NaN              0   \n",
            "4            0        0         0         0  NaN       NaN              0   \n",
            "...        ...      ...       ...       ...  ...       ...            ...   \n",
            "26218        0        0         0         0  NaN       NaN              0   \n",
            "26219        0        0         0         0  NaN       NaN              0   \n",
            "26220        0        0         0         0  NaN       NaN              0   \n",
            "26221        0        0         0         0  NaN       NaN              0   \n",
            "26222        0        0         0         0  NaN       NaN              0   \n",
            "\n",
            "       accidents  disturbance  mixing  management_changes  OK  \n",
            "0              0            0       0                   0   1  \n",
            "1              0            0       0                   0   1  \n",
            "2              0            0       0                   0   1  \n",
            "3              0            0       0                   0   1  \n",
            "4              0            0       0                   0   1  \n",
            "...          ...          ...     ...                 ...  ..  \n",
            "26218          0            0       0                   0   1  \n",
            "26219          0            0       0                   0   1  \n",
            "26220          0            0       0                   0   1  \n",
            "26221          0            0       0                   0   1  \n",
            "26222          0            0       0                   0   1  \n",
            "\n",
            "[26223 rows x 19 columns]\n"
          ]
        }
      ],
      "source": [
        "df_filtered = df.copy()\n",
        "if len(less_than_12_obs) > 0:\n",
        "    #Filter for valid cow-date combinations (at least 12 hourly records)\n",
        "    valid_days = hourly_counts[hourly_counts['hourly_records'] >= 12]\n",
        "\n",
        "    #Merge back to original data to keep only valid records\n",
        "    df_filtered = pd.merge(df, valid_days[['cow', 'date']], on=['cow', 'date'], how='inner')\n",
        "\n",
        "    # df_filtered now excludes cow-date combos with <12 hours\n",
        "    print(df_filtered)"
      ]
    },
    {
      "cell_type": "markdown",
      "metadata": {},
      "source": [
        "**Perform cleaning by keeping only records with more that 18 samples**\n"
      ]
    },
    {
      "cell_type": "code",
      "execution_count": null,
      "metadata": {},
      "outputs": [],
      "source": [
        "df_cleaned =df.copy()\n",
        "df_cleaned['date'] = pd.to_datetime(df_cleaned['date'])\n",
        "\n",
        "hourly_counts = df_cleaned.groupby(['cow', 'date']).size().reset_index(name='hour_count')\n"
      ]
    },
    {
      "cell_type": "code",
      "execution_count": null,
      "metadata": {},
      "outputs": [],
      "source": [
        "# Identify 24h records by observation count\n",
        "\n",
        "records_more_than_18_obs = hourly_counts[hourly_counts['hour_count'] > 18]\n",
        "records_12_to_18_obs = hourly_counts[(hourly_counts['hour_count'] >= 12) & (hourly_counts['hour_count'] < 18)]\n",
        "records_less_than_12_obs = hourly_counts[hourly_counts['hour_count'] < 12]\n",
        "\n",
        "# Merge to filter full rows from original dataframe\n",
        "df_more_than_18_obs = df_cleaned.merge(records_more_than_18_obs[['cow', 'date']], on=['cow', 'date'])\n",
        "df_12_to_18_obs = df_cleaned.merge(records_12_to_18_obs[['cow', 'date']], on=['cow', 'date'])\n",
        "df_less_than_12_obs = df_cleaned.merge(records_less_than_12_obs[['cow', 'date']], on=['cow', 'date'])\n",
        "\n",
        "# Drop the records with less than 12 observations from the main dataset\n",
        "df_filtered = df_cleaned[~df_cleaned.set_index(['cow', 'date']).index.isin(df_less_than_12_obs.set_index(['cow', 'date']).index)]\n",
        "\n",
        "# Print dataset shapes\n",
        "print(\"Original dataset shape:\", df.shape)\n",
        "print(\"After filtering (<12 obs removed):\", df_filtered.shape)\n",
        "print(\"Deleted rows (<12 obs):\", df_less_than_12_obs.shape)\n",
        "print(\"Filtered dataset (>18 obs):\", df_more_than_18_obs.shape)\n",
        "print(\"Filtered dataset (12–18 obs):\", df_12_to_18_obs.shape)"
      ]
    },
    {
      "cell_type": "code",
      "execution_count": null,
      "metadata": {},
      "outputs": [],
      "source": [
        "# Save datasets\n",
        "df_more_than_18_obs.to_csv(r\"filtered_dataset_more_than_18_obs.csv\", index=False)"
      ]
    },
    {
      "cell_type": "markdown",
      "metadata": {},
      "source": [
        "**Perform another cleaning by keeping only physiological classes**\n",
        "\n",
        "\n",
        "Retain: mastitis, lameness, oestrus, calving, other_diseases, OK.\n",
        "\n",
        "\n",
        "Remove: management changes, mixing, disturbance, accidents, LPS, acidosis."
      ]
    },
    {
      "cell_type": "code",
      "execution_count": null,
      "metadata": {},
      "outputs": [],
      "source": [
        "import pandas as pd\n",
        "\n",
        "# Step 0: Load the dataset\n",
        "file_path = r\"C:\\Users\\lamia\\Downloads\\labelled&aligned_dataset3.csv\"\n",
        "df = pd.read_csv(file_path)\n",
        "df.columns = df.columns.str.strip().str.lower()\n",
        "\n",
        "# Step 1: Define useful and unwanted classes\n",
        "useful_classes = ['mastitis', 'lameness', 'oestrus', 'calving', 'other_disease', 'ok']\n",
        "unwanted_classes = ['management_changes', 'mixing', 'disturbance', 'accidents', 'lps', 'acidosis']\n",
        "\n",
        "# Step 2: Drop unwanted classes\n",
        "df_cleaned = df.drop(columns=unwanted_classes, errors='ignore')\n",
        "\n",
        "# Step 3: Save the cleaned dataset\n",
        "df_cleaned.to_csv('c:/users/lamia/Downloads/dataset3_aligned_cleaned_keep_physiological.csv', index=False)\n",
        "\n",
        "# Optional: Show a sample\n",
        "print(df_cleaned.head())\n"
      ]
    }
  ],
  "metadata": {
    "colab": {
      "provenance": []
    },
    "kernelspec": {
      "display_name": "Python 3 (ipykernel)",
      "language": "python",
      "name": "python3"
    },
    "language_info": {
      "codemirror_mode": {
        "name": "ipython",
        "version": 3
      },
      "file_extension": ".py",
      "mimetype": "text/x-python",
      "name": "python",
      "nbconvert_exporter": "python",
      "pygments_lexer": "ipython3",
      "version": "3.11.5"
    }
  },
  "nbformat": 4,
  "nbformat_minor": 0
}
