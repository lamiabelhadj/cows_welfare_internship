{
  "cells": [
    {
      "cell_type": "code",
      "execution_count": null,
      "metadata": {
        "id": "A2wQ6XTCpCFO",
        "outputId": "5fc26827-219c-4a8f-e31a-a3300e785f47"
      },
      "outputs": [
        {
          "name": "stderr",
          "output_type": "stream",
          "text": [
            "C:\\Users\\lamia\\anaconda3\\Lib\\site-packages\\pandas\\core\\arrays\\masked.py:60: UserWarning: Pandas requires version '1.3.6' or newer of 'bottleneck' (version '1.3.5' currently installed).\n",
            "  from pandas.core import (\n"
          ]
        }
      ],
      "source": [
        "import numpy as np\n",
        "import pandas as pd\n",
        "import seaborn as sns\n",
        "import missingno as msno\n",
        "import matplotlib.pyplot as plt"
      ]
    },
    {
      "cell_type": "code",
      "execution_count": null,
      "metadata": {
        "id": "T_a09ySZpCFP"
      },
      "outputs": [],
      "source": [
        "path = r\"C:\\Users\\lamia\\Downloads\\dataset3-1 (1).csv\"\n",
        "df = pd.read_csv(path)"
      ]
    },
    {
      "cell_type": "markdown",
      "metadata": {
        "id": "XYxyPdsFpCFQ"
      },
      "source": [
        "### Count the number of cows in the dataset"
      ]
    },
    {
      "cell_type": "code",
      "execution_count": null,
      "metadata": {
        "id": "gLP0MzM0pCFS",
        "outputId": "55947c4b-3e3f-4618-ef2b-c925415fbf10"
      },
      "outputs": [
        {
          "name": "stdout",
          "output_type": "stream",
          "text": [
            "Total number of unique cows: 30\n"
          ]
        }
      ],
      "source": [
        "num_cows = df['cow'].nunique()\n",
        "print(f\"Total number of unique cows: {num_cows}\")"
      ]
    },
    {
      "cell_type": "markdown",
      "metadata": {
        "id": "LWuONjL6pCFT"
      },
      "source": [
        "### Display the ids of cows"
      ]
    },
    {
      "cell_type": "code",
      "execution_count": null,
      "metadata": {
        "id": "07zsVvarpCFT",
        "outputId": "0ca87f09-97d2-41e2-960a-6eb8ca76e0ae"
      },
      "outputs": [
        {
          "name": "stdout",
          "output_type": "stream",
          "text": [
            "List of unique cow IDs:\n",
            "[10127 10567  1565  1797  1919  2284  2340  2395  2399  2576  2581  2699\n",
            "  4102  4262  4279  4372  4495  4716  5098  5104  5128  5394  5541  5810\n",
            "  5896  8595  9481  9502  9601  9994]\n",
            "\n",
            "Sorted list of cow IDs:\n",
            "[1565, 1797, 1919, 2284, 2340, 2395, 2399, 2576, 2581, 2699, 4102, 4262, 4279, 4372, 4495, 4716, 5098, 5104, 5128, 5394, 5541, 5810, 5896, 8595, 9481, 9502, 9601, 9994, 10127, 10567]\n"
          ]
        }
      ],
      "source": [
        "unique_cow_ids = df['cow'].unique()\n",
        "print(\"List of unique cow IDs:\")\n",
        "print(unique_cow_ids)  # Prints all IDs as an array\n",
        "\n",
        "sorted_cow_ids = sorted(df['cow'].unique())\n",
        "print(\"\\nSorted list of cow IDs:\")\n",
        "print(sorted_cow_ids)"
      ]
    },
    {
      "cell_type": "markdown",
      "metadata": {
        "id": "3vC3zbBepCFU"
      },
      "source": [
        "### Detect outliers of features"
      ]
    },
    {
      "cell_type": "code",
      "execution_count": null,
      "metadata": {
        "id": "uhkvBrd7pCFU",
        "outputId": "7239c518-5a6f-4db1-f00f-3ec9ecea811f"
      },
      "outputs": [
        {
          "data": {
            "image/png": "[encoded data removed]",
            "text/plain": [
              "<Figure size 1200x600 with 1 Axes>"
            ]
          },
          "metadata": {},
          "output_type": "display_data"
        }
      ],
      "source": [
        "import matplotlib.pyplot as plt\n",
        "import seaborn as sns\n",
        "\n",
        "# Select numerical columns for outlier analysis\n",
        "numerical_cols = ['IN_ALLEYS', 'REST', 'EAT', 'ACTIVITY_LEVEL']\n",
        "\n",
        "# Plot boxplots\n",
        "plt.figure(figsize=(12, 6))\n",
        "sns.boxplot(data=df[numerical_cols])\n",
        "plt.title('Boxplots of Numerical Features')\n",
        "plt.xticks(rotation=45)\n",
        "plt.show()"
      ]
    },
    {
      "cell_type": "code",
      "execution_count": null,
      "metadata": {
        "id": "iSlgNgAvpCFV",
        "outputId": "5c3a069d-67be-4ba1-da03-7aea28adc52c"
      },
      "outputs": [
        {
          "name": "stdout",
          "output_type": "stream",
          "text": [
            "\n",
            "Outliers in IN_ALLEYS: 2003\n",
            "      cow        date  hour  IN_ALLEYS\n",
            "1   10127  2013-10-01     2   2931.783\n",
            "36  10127  2013-10-02    13   3072.363\n",
            "49  10127  2013-10-03     2   3017.512\n",
            "73  10127  2013-10-04     2   3415.661\n",
            "97  10127  2013-10-05     2   3163.810\n",
            "\n",
            "Outliers in REST: 0\n",
            "Empty DataFrame\n",
            "Columns: [cow, date, hour, REST]\n",
            "Index: []\n",
            "\n",
            "Outliers in EAT: 918\n",
            "      cow        date  hour       EAT\n",
            "13  10127  2013-10-01    14  3411.150\n",
            "26  10127  2013-10-02     3  3342.433\n",
            "40  10127  2013-10-02    17  3155.483\n",
            "62  10127  2013-10-03    15  3145.483\n",
            "67  10127  2013-10-03    20  3226.188\n",
            "\n",
            "Outliers in ACTIVITY_LEVEL: 0\n",
            "Empty DataFrame\n",
            "Columns: [cow, date, hour, ACTIVITY_LEVEL]\n",
            "Index: []\n"
          ]
        }
      ],
      "source": [
        "# Calculate IQR for each numerical column\n",
        "for col in numerical_cols:\n",
        "    Q1 = df[col].quantile(0.25)\n",
        "    Q3 = df[col].quantile(0.75)\n",
        "    IQR = Q3 - Q1\n",
        "\n",
        "    # Define bounds\n",
        "    lower_bound = Q1 - 1.5 * IQR\n",
        "    upper_bound = Q3 + 1.5 * IQR\n",
        "\n",
        "    # Find outliers\n",
        "    outliers = df[(df[col] < lower_bound) | (df[col] > upper_bound)]\n",
        "    print(f\"\\nOutliers in {col}: {len(outliers)}\")\n",
        "    print(outliers[['cow', 'date', 'hour', col]].head())  # Show sample outliers"
      ]
    },
    {
      "cell_type": "code",
      "execution_count": null,
      "metadata": {
        "id": "YYTtamCUpCFW",
        "outputId": "966a73fc-af61-4556-da59-669d0c6b3b31"
      },
      "outputs": [
        {
          "data": {
            "image/png": "[encoded data removed]",
            "text/plain": [
              "<Figure size 1400x600 with 1 Axes>"
            ]
          },
          "metadata": {},
          "output_type": "display_data"
        }
      ],
      "source": [
        "plt.figure(figsize=(14, 6))\n",
        "sns.boxplot(x='cow', y='IN_ALLEYS', data=df)\n",
        "plt.title('Activity Level Outliers by Cow ID')\n",
        "plt.xticks(rotation=90)\n",
        "plt.show()"
      ]
    },
    {
      "cell_type": "markdown",
      "metadata": {
        "id": "LbYT4JBNpCFX"
      },
      "source": [
        "## Check missing days"
      ]
    },
    {
      "cell_type": "markdown",
      "metadata": {
        "id": "TcTfhIKlpCFX"
      },
      "source": [
        "### Check Date Range and Missing Dates"
      ]
    },
    {
      "cell_type": "code",
      "execution_count": null,
      "metadata": {
        "id": "XrB-UA3xpCFX",
        "outputId": "f6e05ef7-df8c-40cd-ff65-4ca7a7fc8540"
      },
      "outputs": [
        {
          "name": "stdout",
          "output_type": "stream",
          "text": [
            "Date range: 2013-10-01 00:00:00 to 2013-11-11 00:00:00\n",
            "Total expected days: 42\n",
            "\n",
            "Missing dates 0: \n"
          ]
        }
      ],
      "source": [
        "# Convert 'date' to datetime\n",
        "df['date'] = pd.to_datetime(df['date'])\n",
        "\n",
        "# Get min/max dates\n",
        "min_date = df['date'].min()\n",
        "max_date = df['date'].max()\n",
        "print(f\"Date range: {min_date} to {max_date}\")\n",
        "\n",
        "# Generate all expected dates in the range\n",
        "all_dates = pd.date_range(start=min_date, end=max_date, freq='D')\n",
        "print(f\"Total expected days: {len(all_dates)}\")\n",
        "\n",
        "# Check missing dates\n",
        "missing_dates = all_dates.difference(df['date'].unique())\n",
        "print(f\"\\nMissing dates {len(missing_dates)}:\", ', '.join(missing_dates.strftime('%Y-%m-%d')))\n"
      ]
    },
    {
      "cell_type": "markdown",
      "metadata": {
        "id": "7tY0MSO3pCFY"
      },
      "source": [
        "### Check Completeness per Cow"
      ]
    },
    {
      "cell_type": "code",
      "execution_count": null,
      "metadata": {
        "id": "JQ-BOty_pCFY",
        "outputId": "3fe40b01-31fd-4f1f-cbd5-d2b268c13f95"
      },
      "outputs": [
        {
          "name": "stdout",
          "output_type": "stream",
          "text": [
            "\n",
            "Missing days per cow:\n",
            "cow\n",
            "1565     20\n",
            "1797      1\n",
            "2284     32\n",
            "2399     27\n",
            "2581      2\n",
            "4372      2\n",
            "5098      1\n",
            "5394      8\n",
            "5896     29\n",
            "9994     27\n",
            "10127     2\n",
            "10567    13\n",
            "Name: date, dtype: int64\n"
          ]
        }
      ],
      "source": [
        "# Group by cow and count unique dates\n",
        "cow_date_counts = df.groupby('cow')['date'].nunique()\n",
        "\n",
        "# Compare against expected number of days\n",
        "expected_days = len(all_dates)\n",
        "missing_days_per_cow = expected_days - cow_date_counts\n",
        "\n",
        "print(\"\\nMissing days per cow:\")\n",
        "print(missing_days_per_cow[missing_days_per_cow > 0])"
      ]
    },
    {
      "cell_type": "markdown",
      "metadata": {
        "id": "84a6SGRgpCFY"
      },
      "source": [
        "### The number of hourly entries per cow per day"
      ]
    },
    {
      "cell_type": "code",
      "execution_count": null,
      "metadata": {
        "id": "6iNtQPNCpCFZ",
        "outputId": "b00dbca3-c93d-473b-930f-1eec7c088bee"
      },
      "outputs": [
        {
          "name": "stdout",
          "output_type": "stream",
          "text": [
            "        cow       date  hourly_records\n",
            "0      1565 2013-10-01              24\n",
            "1      1565 2013-10-02              24\n",
            "2      1565 2013-10-03              24\n",
            "3      1565 2013-10-04              24\n",
            "4      1565 2013-10-05              24\n",
            "...     ...        ...             ...\n",
            "1091  10567 2013-10-27              24\n",
            "1092  10567 2013-10-28              24\n",
            "1093  10567 2013-10-29              24\n",
            "1094  10567 2013-10-30              24\n",
            "1095  10567 2013-10-31              13\n",
            "\n",
            "[1096 rows x 3 columns]\n"
          ]
        }
      ],
      "source": [
        "hourly_counts = df.groupby(['cow', 'date']).size().reset_index(name='hourly_records')\n",
        "print(hourly_counts)"
      ]
    },
    {
      "cell_type": "markdown",
      "metadata": {
        "id": "VpLihe3HpCFZ"
      },
      "source": [
        "### Filter for days with exactly 24 hours records"
      ]
    },
    {
      "cell_type": "code",
      "execution_count": null,
      "metadata": {
        "id": "JqRCgwxapCFZ",
        "outputId": "05daadcb-c459-49ab-de2e-f831b96e87c1"
      },
      "outputs": [
        {
          "name": "stdout",
          "output_type": "stream",
          "text": [
            "\n",
            "Days with full days of records: 1078\n"
          ]
        }
      ],
      "source": [
        "full_days = hourly_counts[hourly_counts['hourly_records'] == 24]\n",
        "print(f\"\\nDays with full days of records: {len(full_days)}\")"
      ]
    },
    {
      "cell_type": "markdown",
      "metadata": {
        "id": "km4veqaHpCFa"
      },
      "source": [
        "### The number of full 24-hour days per cow"
      ]
    },
    {
      "cell_type": "code",
      "execution_count": null,
      "metadata": {
        "id": "Hb8BPH96pCFa",
        "outputId": "9c1fe693-4404-4bf1-ecac-1d245ce6ce5e"
      },
      "outputs": [
        {
          "name": "stdout",
          "output_type": "stream",
          "text": [
            "\n",
            "Full 24h days per cow:       cow  full_24h_days\n",
            "0    1565             21\n",
            "1    1797             41\n",
            "2    1919             40\n",
            "3    2284             10\n",
            "4    2340             42\n",
            "5    2395             42\n",
            "6    2399             15\n",
            "7    2576             42\n",
            "8    2581             40\n",
            "9    2699             42\n",
            "10   4102             40\n",
            "11   4262             40\n",
            "12   4279             41\n",
            "13   4372             38\n",
            "14   4495             42\n",
            "15   4716             42\n",
            "16   5098             40\n",
            "17   5104             41\n",
            "18   5128             40\n",
            "19   5394             32\n",
            "20   5541             42\n",
            "21   5810             42\n",
            "22   5896             12\n",
            "23   8595             42\n",
            "24   9481             42\n",
            "25   9502             42\n",
            "26   9601             42\n",
            "27   9994             15\n",
            "28  10127             40\n",
            "29  10567             28\n"
          ]
        }
      ],
      "source": [
        "full_days_per_cow = full_days.groupby('cow').size().reset_index(name='full_24h_days')\n",
        "print(\"\\nFull 24h days per cow:\", full_days_per_cow)"
      ]
    },
    {
      "cell_type": "code",
      "execution_count": null,
      "metadata": {
        "id": "wXJc5zVppCFa",
        "outputId": "c2c5fcf3-1cd4-4cda-f736-4d814f1aaeb7"
      },
      "outputs": [
        {
          "name": "stdout",
          "output_type": "stream",
          "text": [
            "Percentage of complete days: 98.36%\n"
          ]
        }
      ],
      "source": [
        "print(f\"Percentage of complete days: {len(full_days)/len(hourly_counts)*100:.2f}%\")"
      ]
    },
    {
      "cell_type": "markdown",
      "metadata": {
        "id": "oQwQTzNOpCFa"
      },
      "source": [
        "### Count how many 24h samples have less than 12 observations"
      ]
    },
    {
      "cell_type": "code",
      "execution_count": null,
      "metadata": {
        "id": "Jgot85XvpCFa",
        "outputId": "b712154a-5cd2-423d-a0fc-a40348f41ff8"
      },
      "outputs": [
        {
          "name": "stdout",
          "output_type": "stream",
          "text": [
            "Number of cow-day combinations with less than 12 hourly records: 1\n",
            "      cow       date  hourly_records\n",
            "843  5896 2013-10-13               2\n"
          ]
        }
      ],
      "source": [
        "less_than_12_obs = hourly_counts[hourly_counts['hourly_records'] < 12]\n",
        "print(f\"Number of cow-day combinations with less than 12 hourly records: {len(less_than_12_obs)}\")\n",
        "\n",
        "if len(less_than_12_obs) > 0:\n",
        "    print(less_than_12_obs)\n",
        "\n"
      ]
    },
    {
      "cell_type": "markdown",
      "metadata": {
        "id": "y3GybLQDpCFb"
      },
      "source": [
        "# We will execute this code on the dataset that has 24h with less than 12 observations"
      ]
    },
    {
      "cell_type": "code",
      "execution_count": null,
      "metadata": {
        "id": "sDDz-4v8pCFb",
        "outputId": "218a7240-eee6-428b-9032-8c2d1b5de3c7"
      },
      "outputs": [
        {
          "name": "stdout",
          "output_type": "stream",
          "text": [
            "         cow       date  hour  IN_ALLEYS      REST      EAT  ACTIVITY_LEVEL  \\\n",
            "0      10127 2013-10-01     1      0.000  3600.000    0.000      -828.00000   \n",
            "1      10127 2013-10-01     2   2931.783   444.528  223.689       460.79322   \n",
            "2      10127 2013-10-01     3    257.740  2930.966  411.294      -460.14030   \n",
            "3      10127 2013-10-01     4     63.220  3536.780    0.000      -803.34420   \n",
            "4      10127 2013-10-01     5      0.000  3600.000    0.000      -828.00000   \n",
            "...      ...        ...   ...        ...       ...      ...             ...   \n",
            "26218   9994 2013-11-11    20   2439.672   617.248  543.079       476.47366   \n",
            "26219   9994 2013-11-11    21   1920.242  1432.293  247.464        81.74621   \n",
            "26220   9994 2013-11-11    22   2084.508  1213.487  302.004       181.26095   \n",
            "26221   9994 2013-11-11    23    643.668  2746.255  210.076      -440.41985   \n",
            "26222   9994 2013-11-11    24    553.511  3046.488    0.000      -612.13048   \n",
            "\n",
            "       oestrus  calving  lameness  mastitis  LPS  acidosis  other_disease  \\\n",
            "0            0        0         0         0  NaN       NaN              0   \n",
            "1            0        0         0         0  NaN       NaN              0   \n",
            "2            0        0         0         0  NaN       NaN              0   \n",
            "3            0        0         0         0  NaN       NaN              0   \n",
            "4            0        0         0         0  NaN       NaN              0   \n",
            "...        ...      ...       ...       ...  ...       ...            ...   \n",
            "26218        0        0         0         0  NaN       NaN              0   \n",
            "26219        0        0         0         0  NaN       NaN              0   \n",
            "26220        0        0         0         0  NaN       NaN              0   \n",
            "26221        0        0         0         0  NaN       NaN              0   \n",
            "26222        0        0         0         0  NaN       NaN              0   \n",
            "\n",
            "       accidents  disturbance  mixing  management_changes  OK  \n",
            "0              0            0       0                   0   1  \n",
            "1              0            0       0                   0   1  \n",
            "2              0            0       0                   0   1  \n",
            "3              0            0       0                   0   1  \n",
            "4              0            0       0                   0   1  \n",
            "...          ...          ...     ...                 ...  ..  \n",
            "26218          0            0       0                   0   1  \n",
            "26219          0            0       0                   0   1  \n",
            "26220          0            0       0                   0   1  \n",
            "26221          0            0       0                   0   1  \n",
            "26222          0            0       0                   0   1  \n",
            "\n",
            "[26223 rows x 19 columns]\n"
          ]
        }
      ],
      "source": [
        "df_filtered = df.copy()\n",
        "if len(less_than_12_obs) > 0:\n",
        "    #Filter for valid cow-date combinations (at least 12 hourly records)\n",
        "    valid_days = hourly_counts[hourly_counts['hourly_records'] >= 12]\n",
        "\n",
        "    #Merge back to original data to keep only valid records\n",
        "    df_filtered = pd.merge(df, valid_days[['cow', 'date']], on=['cow', 'date'], how='inner')\n",
        "\n",
        "    # df_filtered now excludes cow-date combos with <12 hours\n",
        "    print(df_filtered)"
      ]
    },
    {
      "cell_type": "markdown",
      "metadata": {
        "id": "smvOoEnqpCFb"
      },
      "source": [
        "## Make One Hour Shift"
      ]
    },
    {
      "cell_type": "code",
      "execution_count": null,
      "metadata": {
        "id": "2e3nYmuVpCFb",
        "outputId": "10410ec4-7405-4d1a-c497-717f4493055e"
      },
      "outputs": [
        {
          "name": "stdout",
          "output_type": "stream",
          "text": [
            "\n",
            "DataFrame info:\n",
            "Total windows created: 25535\n",
            "\n",
            "First 3 windows:\n"
          ]
        },
        {
          "data": {
            "text/html": [
              "<div>\n",
              "<style scoped>\n",
              "    .dataframe tbody tr th:only-of-type {\n",
              "        vertical-align: middle;\n",
              "    }\n",
              "\n",
              "    .dataframe tbody tr th {\n",
              "        vertical-align: top;\n",
              "    }\n",
              "\n",
              "    .dataframe thead th {\n",
              "        text-align: right;\n",
              "    }\n",
              "</style>\n",
              "<table border=\"1\" class=\"dataframe\">\n",
              "  <thead>\n",
              "    <tr style=\"text-align: right;\">\n",
              "      <th></th>\n",
              "      <th>cow</th>\n",
              "      <th>date</th>\n",
              "      <th>start_hour</th>\n",
              "      <th>activity_window</th>\n",
              "      <th>oestrus</th>\n",
              "      <th>calving</th>\n",
              "      <th>lameness</th>\n",
              "      <th>mastitis</th>\n",
              "      <th>LPS</th>\n",
              "      <th>acidosis</th>\n",
              "      <th>other_disease</th>\n",
              "      <th>accidents</th>\n",
              "      <th>disturbance</th>\n",
              "      <th>mixing</th>\n",
              "    </tr>\n",
              "  </thead>\n",
              "  <tbody>\n",
              "    <tr>\n",
              "      <th>0</th>\n",
              "      <td>1565</td>\n",
              "      <td>2013-10-01</td>\n",
              "      <td>1</td>\n",
              "      <td>[-387.22668, -828.0, -620.04849, 453.38179, 57...</td>\n",
              "      <td>0</td>\n",
              "      <td>0</td>\n",
              "      <td>0</td>\n",
              "      <td>0</td>\n",
              "      <td>NaN</td>\n",
              "      <td>NaN</td>\n",
              "      <td>0</td>\n",
              "      <td>0</td>\n",
              "      <td>0</td>\n",
              "      <td>0</td>\n",
              "    </tr>\n",
              "    <tr>\n",
              "      <th>1</th>\n",
              "      <td>1565</td>\n",
              "      <td>2013-10-01</td>\n",
              "      <td>2</td>\n",
              "      <td>[-828.0, -620.04849, 453.38179, 576.0, 951.942...</td>\n",
              "      <td>0</td>\n",
              "      <td>0</td>\n",
              "      <td>0</td>\n",
              "      <td>0</td>\n",
              "      <td>NaN</td>\n",
              "      <td>NaN</td>\n",
              "      <td>0</td>\n",
              "      <td>0</td>\n",
              "      <td>0</td>\n",
              "      <td>0</td>\n",
              "    </tr>\n",
              "    <tr>\n",
              "      <th>2</th>\n",
              "      <td>1565</td>\n",
              "      <td>2013-10-01</td>\n",
              "      <td>3</td>\n",
              "      <td>[-620.04849, 453.38179, 576.0, 951.9422, -659....</td>\n",
              "      <td>0</td>\n",
              "      <td>0</td>\n",
              "      <td>0</td>\n",
              "      <td>0</td>\n",
              "      <td>NaN</td>\n",
              "      <td>NaN</td>\n",
              "      <td>0</td>\n",
              "      <td>0</td>\n",
              "      <td>0</td>\n",
              "      <td>0</td>\n",
              "    </tr>\n",
              "  </tbody>\n",
              "</table>\n",
              "</div>"
            ],
            "text/plain": [
              "    cow       date  start_hour  \\\n",
              "0  1565 2013-10-01           1   \n",
              "1  1565 2013-10-01           2   \n",
              "2  1565 2013-10-01           3   \n",
              "\n",
              "                                     activity_window  oestrus  calving  \\\n",
              "0  [-387.22668, -828.0, -620.04849, 453.38179, 57...        0        0   \n",
              "1  [-828.0, -620.04849, 453.38179, 576.0, 951.942...        0        0   \n",
              "2  [-620.04849, 453.38179, 576.0, 951.9422, -659....        0        0   \n",
              "\n",
              "   lameness  mastitis  LPS  acidosis  other_disease  accidents  disturbance  \\\n",
              "0         0         0  NaN       NaN              0          0            0   \n",
              "1         0         0  NaN       NaN              0          0            0   \n",
              "2         0         0  NaN       NaN              0          0            0   \n",
              "\n",
              "   mixing  \n",
              "0       0  \n",
              "1       0  \n",
              "2       0  "
            ]
          },
          "metadata": {},
          "output_type": "display_data"
        },
        {
          "name": "stdout",
          "output_type": "stream",
          "text": [
            "\n",
            "Column details:\n",
            "<class 'pandas.core.frame.DataFrame'>\n",
            "RangeIndex: 25535 entries, 0 to 25534\n",
            "Data columns (total 14 columns):\n",
            " #   Column           Non-Null Count  Dtype         \n",
            "---  ------           --------------  -----         \n",
            " 0   cow              25535 non-null  int64         \n",
            " 1   date             25535 non-null  datetime64[ns]\n",
            " 2   start_hour       25535 non-null  int64         \n",
            " 3   activity_window  25535 non-null  object        \n",
            " 4   oestrus          25535 non-null  int64         \n",
            " 5   calving          25535 non-null  int64         \n",
            " 6   lameness         25535 non-null  int64         \n",
            " 7   mastitis         25535 non-null  int64         \n",
            " 8   LPS              0 non-null      float64       \n",
            " 9   acidosis         0 non-null      float64       \n",
            " 10  other_disease    25535 non-null  int64         \n",
            " 11  accidents        25535 non-null  int64         \n",
            " 12  disturbance      25535 non-null  int64         \n",
            " 13  mixing           25535 non-null  int64         \n",
            "dtypes: datetime64[ns](1), float64(2), int64(10), object(1)\n",
            "memory usage: 2.7+ MB\n"
          ]
        },
        {
          "data": {
            "text/plain": [
              "None"
            ]
          },
          "metadata": {},
          "output_type": "display_data"
        }
      ],
      "source": [
        "condition_columns = ['oestrus', 'calving', 'lameness', 'mastitis', 'LPS',\n",
        "                    'acidosis', 'other_disease', 'accidents', 'disturbance',\n",
        "                    'mixing']\n",
        "\n",
        "window_size = 24\n",
        "shift = 1\n",
        "\n",
        "grouped = df.sort_values(['cow', 'date', 'hour']).groupby('cow')\n",
        "shifted_windows = []\n",
        "\n",
        "for cow_id, group in grouped:\n",
        "    activity = group['ACTIVITY_LEVEL'].values\n",
        "    for i in range(0, len(activity) - window_size + 1, shift):\n",
        "        window = activity[i:i + window_size]\n",
        "        last_hour_index = i + window_size - 1\n",
        "        if last_hour_index < len(group):\n",
        "            conditions = group.iloc[last_hour_index][condition_columns].to_dict()\n",
        "            shifted_windows.append({\n",
        "                'cow': cow_id,\n",
        "                'date': group.iloc[i]['date'],\n",
        "                'start_hour': group.iloc[i]['hour'],\n",
        "                'activity_window': window.tolist(),\n",
        "                **conditions\n",
        "            })\n",
        "\n",
        "shifted_df = pd.DataFrame(shifted_windows)\n",
        "\n",
        "print(\"\\nDataFrame info:\")\n",
        "print(f\"Total windows created: {len(shifted_df)}\")\n",
        "print(\"\\nFirst 3 windows:\")\n",
        "display(shifted_df.head(3))\n",
        "print(\"\\nColumn details:\")\n",
        "display(shifted_df.info())\n"
      ]
    },
    {
      "cell_type": "markdown",
      "metadata": {
        "id": "_R9iLWcQpCFb"
      },
      "source": [
        "### Calculate the 32 features"
      ]
    },
    {
      "cell_type": "code",
      "execution_count": null,
      "metadata": {
        "id": "rE0nIW8zpCFc",
        "outputId": "e84045fd-95e3-4983-d080-0440bdbd21d0"
      },
      "outputs": [
        {
          "name": "stdout",
          "output_type": "stream",
          "text": [
            "Feature calculation complete. Shape: (25535, 45)\n"
          ]
        },
        {
          "data": {
            "text/html": [
              "<div>\n",
              "<style scoped>\n",
              "    .dataframe tbody tr th:only-of-type {\n",
              "        vertical-align: middle;\n",
              "    }\n",
              "\n",
              "    .dataframe tbody tr th {\n",
              "        vertical-align: top;\n",
              "    }\n",
              "\n",
              "    .dataframe thead th {\n",
              "        text-align: right;\n",
              "    }\n",
              "</style>\n",
              "<table border=\"1\" class=\"dataframe\">\n",
              "  <thead>\n",
              "    <tr style=\"text-align: right;\">\n",
              "      <th></th>\n",
              "      <th>Minimum</th>\n",
              "      <th>Maximum</th>\n",
              "      <th>Mean</th>\n",
              "      <th>RMS</th>\n",
              "      <th>STD</th>\n",
              "      <th>MeanSTD6h</th>\n",
              "      <th>STDMean6h</th>\n",
              "      <th>RMSSD</th>\n",
              "      <th>Mode</th>\n",
              "      <th>Q10</th>\n",
              "      <th>...</th>\n",
              "      <th>Autocorr6</th>\n",
              "      <th>Autocorr7</th>\n",
              "      <th>Autocorr8</th>\n",
              "      <th>Autocorr9</th>\n",
              "      <th>Autocorr10</th>\n",
              "      <th>Autocorr11</th>\n",
              "      <th>h1</th>\n",
              "      <th>h2</th>\n",
              "      <th>h3</th>\n",
              "      <th>h4</th>\n",
              "    </tr>\n",
              "  </thead>\n",
              "  <tbody>\n",
              "    <tr>\n",
              "      <th>0</th>\n",
              "      <td>-828.0</td>\n",
              "      <td>1412.17404</td>\n",
              "      <td>-193.869860</td>\n",
              "      <td>734.876162</td>\n",
              "      <td>708.842332</td>\n",
              "      <td>598.714610</td>\n",
              "      <td>275.706005</td>\n",
              "      <td>899.339147</td>\n",
              "      <td>-828.0</td>\n",
              "      <td>-824.881750</td>\n",
              "      <td>...</td>\n",
              "      <td>0.151619</td>\n",
              "      <td>0.190692</td>\n",
              "      <td>-0.008341</td>\n",
              "      <td>0.156770</td>\n",
              "      <td>0.056961</td>\n",
              "      <td>-0.192075</td>\n",
              "      <td>2226.686343</td>\n",
              "      <td>4369.358019</td>\n",
              "      <td>6621.015109</td>\n",
              "      <td>1946.468836</td>\n",
              "    </tr>\n",
              "    <tr>\n",
              "      <th>1</th>\n",
              "      <td>-828.0</td>\n",
              "      <td>1412.17404</td>\n",
              "      <td>-207.241797</td>\n",
              "      <td>744.775351</td>\n",
              "      <td>715.360861</td>\n",
              "      <td>683.752773</td>\n",
              "      <td>198.718268</td>\n",
              "      <td>894.966251</td>\n",
              "      <td>-828.0</td>\n",
              "      <td>-824.881750</td>\n",
              "      <td>...</td>\n",
              "      <td>0.072481</td>\n",
              "      <td>0.206264</td>\n",
              "      <td>0.009336</td>\n",
              "      <td>0.281243</td>\n",
              "      <td>0.085952</td>\n",
              "      <td>-0.101545</td>\n",
              "      <td>2341.385745</td>\n",
              "      <td>4677.507679</td>\n",
              "      <td>6809.627392</td>\n",
              "      <td>1984.248211</td>\n",
              "    </tr>\n",
              "    <tr>\n",
              "      <th>2</th>\n",
              "      <td>-828.0</td>\n",
              "      <td>1412.17404</td>\n",
              "      <td>-203.343851</td>\n",
              "      <td>740.675355</td>\n",
              "      <td>712.215739</td>\n",
              "      <td>622.535687</td>\n",
              "      <td>265.130740</td>\n",
              "      <td>893.932038</td>\n",
              "      <td>-828.0</td>\n",
              "      <td>-817.160115</td>\n",
              "      <td>...</td>\n",
              "      <td>-0.014553</td>\n",
              "      <td>0.130539</td>\n",
              "      <td>0.207801</td>\n",
              "      <td>0.282496</td>\n",
              "      <td>0.248442</td>\n",
              "      <td>-0.060675</td>\n",
              "      <td>2327.521030</td>\n",
              "      <td>4586.928892</td>\n",
              "      <td>6823.122923</td>\n",
              "      <td>1895.824696</td>\n",
              "    </tr>\n",
              "  </tbody>\n",
              "</table>\n",
              "<p>3 rows × 31 columns</p>\n",
              "</div>"
            ],
            "text/plain": [
              "   Minimum     Maximum        Mean         RMS         STD   MeanSTD6h  \\\n",
              "0   -828.0  1412.17404 -193.869860  734.876162  708.842332  598.714610   \n",
              "1   -828.0  1412.17404 -207.241797  744.775351  715.360861  683.752773   \n",
              "2   -828.0  1412.17404 -203.343851  740.675355  712.215739  622.535687   \n",
              "\n",
              "    STDMean6h       RMSSD   Mode         Q10  ...  Autocorr6  Autocorr7  \\\n",
              "0  275.706005  899.339147 -828.0 -824.881750  ...   0.151619   0.190692   \n",
              "1  198.718268  894.966251 -828.0 -824.881750  ...   0.072481   0.206264   \n",
              "2  265.130740  893.932038 -828.0 -817.160115  ...  -0.014553   0.130539   \n",
              "\n",
              "   Autocorr8  Autocorr9  Autocorr10  Autocorr11           h1           h2  \\\n",
              "0  -0.008341   0.156770    0.056961   -0.192075  2226.686343  4369.358019   \n",
              "1   0.009336   0.281243    0.085952   -0.101545  2341.385745  4677.507679   \n",
              "2   0.207801   0.282496    0.248442   -0.060675  2327.521030  4586.928892   \n",
              "\n",
              "            h3           h4  \n",
              "0  6621.015109  1946.468836  \n",
              "1  6809.627392  1984.248211  \n",
              "2  6823.122923  1895.824696  \n",
              "\n",
              "[3 rows x 31 columns]"
            ]
          },
          "metadata": {},
          "output_type": "display_data"
        }
      ],
      "source": [
        "import numpy as np\n",
        "from scipy import stats, fft\n",
        "import pandas as pd\n",
        "\n",
        "def calculate_all_features(activity_windows):\n",
        "    \"\"\"\n",
        "    Calculate all 32 features for each 24-hour activity window.\n",
        "    Returns a DataFrame with one row per window and 32 feature columns.\n",
        "    as in the doc paragraph 2.2 considering table 3\n",
        "    \"\"\"\n",
        "    features = []\n",
        "\n",
        "    for window in activity_windows:\n",
        "        try:\n",
        "            window = np.array(window)\n",
        "            if len(window) != 24:\n",
        "                raise ValueError(\"Window must contain exactly 24 hours of data\")\n",
        "\n",
        "            feature_dict = {}\n",
        "\n",
        "            # =============================================\n",
        "            # Time-Domain Features (1-17)\n",
        "            # =============================================\n",
        "\n",
        "            # Basic statistics (1-5)\n",
        "            feature_dict['Minimum'] = np.min(window)\n",
        "            feature_dict['Maximum'] = np.max(window)\n",
        "            feature_dict['Mean'] = np.mean(window)\n",
        "            feature_dict['RMS'] = np.sqrt(np.mean(np.square(window)))\n",
        "            feature_dict['STD'] = np.std(window)\n",
        "\n",
        "            # 6-hour window statistics (6-7)\n",
        "            six_h_windows = [window[i*6:(i+1)*6] for i in range(4)]\n",
        "            stds_6h = [np.std(w) for w in six_h_windows]\n",
        "            means_6h = [np.mean(w) for w in six_h_windows]\n",
        "            feature_dict['MeanSTD6h'] = np.mean(stds_6h)\n",
        "            feature_dict['STDMean6h'] = np.std(means_6h)\n",
        "\n",
        "            # Successive differences (9)\n",
        "            diffs = np.diff(window)\n",
        "            feature_dict['RMSSD'] = np.sqrt(np.mean(np.square(diffs)))\n",
        "\n",
        "            # Distribution characteristics (10-17)\n",
        "            feature_dict['Mode'] = stats.mode(window, keepdims=True)[0][0] if len(window) > 0 else np.nan\n",
        "            feature_dict['Q10'] = np.percentile(window, 10)\n",
        "            feature_dict['Q90'] = np.percentile(window, 90)\n",
        "            feature_dict['Q25'] = np.percentile(window, 25)\n",
        "            feature_dict['Q50'] = np.percentile(window, 50)\n",
        "            feature_dict['Q75'] = np.percentile(window, 75)\n",
        "            feature_dict['Skewness'] = stats.skew(window)\n",
        "            feature_dict['Kurtosis'] = stats.kurtosis(window)\n",
        "\n",
        "            # =============================================\n",
        "            # Autocorrelation Features (18-28)\n",
        "            # =============================================\n",
        "            for lag in range(1, 12):\n",
        "                if len(window) > lag:\n",
        "                    corr = np.corrcoef(window[:-lag], window[lag:])[0,1]\n",
        "                else:\n",
        "                    corr = np.nan\n",
        "                feature_dict[f'Autocorr{lag}'] = corr\n",
        "\n",
        "            # =============================================\n",
        "            # Frequency-Domain Features (29-32)\n",
        "            # =============================================\n",
        "            fft_result = np.abs(fft.fft(window))\n",
        "            harmonics = fft_result[1:5]  # Skip 0-frequency, take harmonics 1-4\n",
        "            for i, h in enumerate(harmonics, 1):\n",
        "                feature_dict[f'h{i}'] = h\n",
        "\n",
        "            features.append(feature_dict)\n",
        "\n",
        "        except Exception as e:\n",
        "            print(f\"Error processing window: {e}\")\n",
        "            # Return NaN for all features if error occurs\n",
        "            features.append({f: np.nan for f in FEATURE_NAMES})\n",
        "\n",
        "    return pd.DataFrame(features)\n",
        "\n",
        "FEATURE_NAMES = [\n",
        "    # Time-Domain (1-17)\n",
        "    'Minimum', 'Maximum', 'Mean', 'RMS', 'STD',\n",
        "    'MeanSTD6h', 'STDMean6h', 'RMSSD', 'Mode',\n",
        "    'Q10', 'Q90', 'Q25', 'Q50', 'Q75',\n",
        "    'Skewness', 'Kurtosis',\n",
        "    # Autocorrelation (18-28)\n",
        "    *[f'Autocorr{i}' for i in range(1,12)],\n",
        "    # Frequency-Domain (29-32)\n",
        "    *[f'h{i}' for i in range(1,5)]\n",
        "]\n",
        "\n",
        "features_df = calculate_all_features(shifted_df['activity_window'])\n",
        "\n",
        "# Combine with original df\n",
        "final_df = pd.concat([shifted_df.reset_index(drop=True),\n",
        "                     features_df[FEATURE_NAMES]], axis=1)\n",
        "\n",
        "print(\"Feature calculation complete. Shape:\", final_df.shape)\n",
        "display(final_df[FEATURE_NAMES].head(3))"
      ]
    },
    {
      "cell_type": "markdown",
      "metadata": {
        "id": "IKwRxKSqpCFc"
      },
      "source": [
        "### New dataset with one hour shift and the new 32 features"
      ]
    },
    {
      "cell_type": "code",
      "execution_count": null,
      "metadata": {
        "id": "JFvJccnspCFc",
        "outputId": "5ade053a-7529-4b67-ba36-4aeb45125490"
      },
      "outputs": [
        {
          "name": "stdout",
          "output_type": "stream",
          "text": [
            "Creating 1-hour shifted windows (excluding management_changes and OK)...\n",
            "Calculating features for each window...\n",
            "\n",
            "Processing complete! Results saved to cow_activity_features_1hour_shift_clean.csv\n",
            "Final dataset shape: (25535, 44)\n",
            "\n",
            "First 3 rows of the final dataset:\n"
          ]
        },
        {
          "data": {
            "text/html": [
              "<div>\n",
              "<style scoped>\n",
              "    .dataframe tbody tr th:only-of-type {\n",
              "        vertical-align: middle;\n",
              "    }\n",
              "\n",
              "    .dataframe tbody tr th {\n",
              "        vertical-align: top;\n",
              "    }\n",
              "\n",
              "    .dataframe thead th {\n",
              "        text-align: right;\n",
              "    }\n",
              "</style>\n",
              "<table border=\"1\" class=\"dataframe\">\n",
              "  <thead>\n",
              "    <tr style=\"text-align: right;\">\n",
              "      <th></th>\n",
              "      <th>cow</th>\n",
              "      <th>start_date</th>\n",
              "      <th>start_hour</th>\n",
              "      <th>oestrus</th>\n",
              "      <th>calving</th>\n",
              "      <th>lameness</th>\n",
              "      <th>mastitis</th>\n",
              "      <th>LPS</th>\n",
              "      <th>acidosis</th>\n",
              "      <th>other_disease</th>\n",
              "      <th>...</th>\n",
              "      <th>Autocorr6</th>\n",
              "      <th>Autocorr7</th>\n",
              "      <th>Autocorr8</th>\n",
              "      <th>Autocorr9</th>\n",
              "      <th>Autocorr10</th>\n",
              "      <th>Autocorr11</th>\n",
              "      <th>h1</th>\n",
              "      <th>h2</th>\n",
              "      <th>h3</th>\n",
              "      <th>h4</th>\n",
              "    </tr>\n",
              "  </thead>\n",
              "  <tbody>\n",
              "    <tr>\n",
              "      <th>0</th>\n",
              "      <td>1565</td>\n",
              "      <td>2013-10-01</td>\n",
              "      <td>1</td>\n",
              "      <td>0</td>\n",
              "      <td>0</td>\n",
              "      <td>0</td>\n",
              "      <td>0</td>\n",
              "      <td>NaN</td>\n",
              "      <td>NaN</td>\n",
              "      <td>0</td>\n",
              "      <td>...</td>\n",
              "      <td>0.151619</td>\n",
              "      <td>0.190692</td>\n",
              "      <td>-0.008341</td>\n",
              "      <td>0.156770</td>\n",
              "      <td>0.056961</td>\n",
              "      <td>-0.192075</td>\n",
              "      <td>2226.686343</td>\n",
              "      <td>4369.358019</td>\n",
              "      <td>6621.015109</td>\n",
              "      <td>1946.468836</td>\n",
              "    </tr>\n",
              "    <tr>\n",
              "      <th>1</th>\n",
              "      <td>1565</td>\n",
              "      <td>2013-10-01</td>\n",
              "      <td>2</td>\n",
              "      <td>0</td>\n",
              "      <td>0</td>\n",
              "      <td>0</td>\n",
              "      <td>0</td>\n",
              "      <td>NaN</td>\n",
              "      <td>NaN</td>\n",
              "      <td>0</td>\n",
              "      <td>...</td>\n",
              "      <td>0.072481</td>\n",
              "      <td>0.206264</td>\n",
              "      <td>0.009336</td>\n",
              "      <td>0.281243</td>\n",
              "      <td>0.085952</td>\n",
              "      <td>-0.101545</td>\n",
              "      <td>2341.385745</td>\n",
              "      <td>4677.507679</td>\n",
              "      <td>6809.627392</td>\n",
              "      <td>1984.248211</td>\n",
              "    </tr>\n",
              "    <tr>\n",
              "      <th>2</th>\n",
              "      <td>1565</td>\n",
              "      <td>2013-10-01</td>\n",
              "      <td>3</td>\n",
              "      <td>0</td>\n",
              "      <td>0</td>\n",
              "      <td>0</td>\n",
              "      <td>0</td>\n",
              "      <td>NaN</td>\n",
              "      <td>NaN</td>\n",
              "      <td>0</td>\n",
              "      <td>...</td>\n",
              "      <td>-0.014553</td>\n",
              "      <td>0.130539</td>\n",
              "      <td>0.207801</td>\n",
              "      <td>0.282496</td>\n",
              "      <td>0.248442</td>\n",
              "      <td>-0.060675</td>\n",
              "      <td>2327.521030</td>\n",
              "      <td>4586.928892</td>\n",
              "      <td>6823.122923</td>\n",
              "      <td>1895.824696</td>\n",
              "    </tr>\n",
              "  </tbody>\n",
              "</table>\n",
              "<p>3 rows × 44 columns</p>\n",
              "</div>"
            ],
            "text/plain": [
              "    cow start_date  start_hour  oestrus  calving  lameness  mastitis  LPS  \\\n",
              "0  1565 2013-10-01           1        0        0         0         0  NaN   \n",
              "1  1565 2013-10-01           2        0        0         0         0  NaN   \n",
              "2  1565 2013-10-01           3        0        0         0         0  NaN   \n",
              "\n",
              "   acidosis  other_disease  ...  Autocorr6  Autocorr7  Autocorr8  Autocorr9  \\\n",
              "0       NaN              0  ...   0.151619   0.190692  -0.008341   0.156770   \n",
              "1       NaN              0  ...   0.072481   0.206264   0.009336   0.281243   \n",
              "2       NaN              0  ...  -0.014553   0.130539   0.207801   0.282496   \n",
              "\n",
              "   Autocorr10  Autocorr11           h1           h2           h3           h4  \n",
              "0    0.056961   -0.192075  2226.686343  4369.358019  6621.015109  1946.468836  \n",
              "1    0.085952   -0.101545  2341.385745  4677.507679  6809.627392  1984.248211  \n",
              "2    0.248442   -0.060675  2327.521030  4586.928892  6823.122923  1895.824696  \n",
              "\n",
              "[3 rows x 44 columns]"
            ]
          },
          "metadata": {},
          "output_type": "display_data"
        }
      ],
      "source": [
        "from scipy import stats, fft\n",
        "\n",
        "# 1. Define the feature calculation function (unchanged)\n",
        "def calculate_features(window):\n",
        "    \"\"\"Calculate all 32 features for a 24-hour window\"\"\"\n",
        "    features = {}\n",
        "    window = np.array(window)\n",
        "\n",
        "    # Time-Domain Features (1-17)\n",
        "    features['Minimum'] = np.min(window)\n",
        "    features['Maximum'] = np.max(window)\n",
        "    features['Mean'] = np.mean(window)\n",
        "    features['RMS'] = np.sqrt(np.mean(np.square(window)))\n",
        "    features['STD'] = np.std(window)\n",
        "\n",
        "    # 6-hour window statistics\n",
        "    six_h_windows = [window[i*6:(i+1)*6] for i in range(4)]\n",
        "    stds_6h = [np.std(w) for w in six_h_windows]\n",
        "    means_6h = [np.mean(w) for w in six_h_windows]\n",
        "    features['MeanSTD6h'] = np.mean(stds_6h)\n",
        "    features['STDMean6h'] = np.std(means_6h)\n",
        "\n",
        "    # Successive differences\n",
        "    diffs = np.diff(window)\n",
        "    features['RMSSD'] = np.sqrt(np.mean(np.square(diffs)))\n",
        "\n",
        "    # Quantiles and distribution shape\n",
        "    try:\n",
        "        features['Mode'] = stats.mode(window, keepdims=True)[0][0]\n",
        "    except:\n",
        "        features['Mode'] = window[0]\n",
        "\n",
        "    for p in [10, 25, 50, 75, 90]:\n",
        "        features[f'Q{p}'] = np.percentile(window, p)\n",
        "    features['Skewness'] = stats.skew(window)\n",
        "    features['Kurtosis'] = stats.kurtosis(window)\n",
        "\n",
        "    # Autocorrelations (18-28)\n",
        "    for lag in range(1, 12):\n",
        "        if len(window) > lag:\n",
        "            corr = np.corrcoef(window[:-lag], window[lag:])[0,1]\n",
        "        else:\n",
        "            corr = np.nan\n",
        "        features[f'Autocorr{lag}'] = corr\n",
        "\n",
        "    # Frequency-Domain Features (29-32)\n",
        "    fft_values = np.abs(fft.fft(window))[1:5]  # Harmonics 1-4\n",
        "    for i, h in enumerate(fft_values, 1):\n",
        "        features[f'h{i}'] = h\n",
        "\n",
        "    return features\n",
        "\n",
        "# 2. Create 1-hour shifted windows (updated to exclude unwanted columns)\n",
        "def create_shifted_windows(df, window_size=24, shift=1):\n",
        "    \"\"\"Generate overlapping 24-hour windows with 1-hour shift\"\"\"\n",
        "    shifted_data = []\n",
        "\n",
        "    # Define condition columns (excluding management_changes and OK)\n",
        "    condition_columns = ['oestrus', 'calving', 'lameness', 'mastitis', 'LPS',\n",
        "                        'acidosis', 'other_disease', 'accidents', 'disturbance',\n",
        "                        'mixing']\n",
        "\n",
        "    # Group by cow only (not date) for continuous windows\n",
        "    for cow_id, group in df.sort_values(['cow', 'date', 'hour']).groupby('cow'):\n",
        "        activity = group['ACTIVITY_LEVEL'].values\n",
        "        dates = group['date'].values\n",
        "        hours = group['hour'].values\n",
        "\n",
        "        # Generate all possible windows\n",
        "        for i in range(0, len(activity) - window_size + 1, shift):\n",
        "            window = activity[i:i + window_size]\n",
        "            conditions = group.iloc[i + window_size - 1][condition_columns].to_dict()\n",
        "\n",
        "            shifted_data.append({\n",
        "                'cow': cow_id,\n",
        "                'start_date': dates[i],\n",
        "                'start_hour': hours[i],\n",
        "                'activity_window': window.tolist(),\n",
        "                **conditions\n",
        "            })\n",
        "\n",
        "    return pd.DataFrame(shifted_data)\n",
        "\n",
        "# 3. Process your data\n",
        "print(\"Creating 1-hour shifted windows (excluding management_changes and OK)...\")\n",
        "shifted_df = create_shifted_windows(df)\n",
        "\n",
        "print(\"Calculating features for each window...\")\n",
        "feature_data = [calculate_features(w) for w in shifted_df['activity_window']]\n",
        "features_df = pd.DataFrame(feature_data)\n",
        "\n",
        "# 4. Combine into final dataset\n",
        "final_df = pd.concat([\n",
        "    shifted_df.drop(columns=['activity_window']),  # Keep only metadata and conditions\n",
        "    features_df\n",
        "], axis=1)\n",
        "\n",
        "# 5. Save the results\n",
        "output_path = \"cow_activity_features_1hour_shift_clean.csv\"\n",
        "final_df.to_csv(output_path, index=False)\n",
        "\n",
        "print(f\"\\nProcessing complete! Results saved to {output_path}\")\n",
        "print(f\"Final dataset shape: {final_df.shape}\")\n",
        "print(\"\\nFirst 3 rows of the final dataset:\")\n",
        "display(final_df.head(3))"
      ]
    },
    {
      "cell_type": "markdown",
      "metadata": {
        "id": "nhviJaY0pCFd"
      },
      "source": [
        "### Compute additional statistical metrics"
      ]
    },
    {
      "cell_type": "code",
      "execution_count": null,
      "metadata": {
        "id": "4GIBJPAJpCFd",
        "outputId": "24d901d1-2bca-4b6d-e47b-7ffeb2754bb5"
      },
      "outputs": [
        {
          "name": "stdout",
          "output_type": "stream",
          "text": [
            "      cow  min_IN_ALLEYS  std_IN_ALLEYS  quantile25_IN_ALLEYS  \\\n",
            "0    1565      10891.079    3509.863551           16201.37700   \n",
            "1    1797       5840.269    4792.309095            9011.90700   \n",
            "2    1919      12851.792    4373.463702           17913.80350   \n",
            "3    2284      13250.940    5818.705454           17024.34475   \n",
            "4    2340       8970.482    4853.660022           15485.72100   \n",
            "5    2395      10432.839   10507.209206           17934.64750   \n",
            "6    2399      14567.283    6168.327661           18111.58000   \n",
            "7    2576      15196.208    8175.486927           21227.16225   \n",
            "8    2581      13817.151    6804.886673           17441.57300   \n",
            "9    2699      11294.179    4874.658852           15787.16525   \n",
            "10   4102      16233.750    4418.806424           20480.20350   \n",
            "11   4262      16215.110    2816.757500           18621.72175   \n",
            "12   4279      12699.910    3431.487792           14271.16725   \n",
            "13   4372      13193.189    2613.830946           15699.07600   \n",
            "14   4495      10325.397    4805.660297           16745.31225   \n",
            "15   4716      10324.752   10825.183383           14881.86350   \n",
            "16   5098      13893.100    3937.611903           16320.86700   \n",
            "17   5104       9270.309    4111.749348           12897.47825   \n",
            "18   5128      13422.148    3270.397130           18166.62700   \n",
            "19   5394       9200.697    4316.803732           15368.86025   \n",
            "20   5541       9373.294    6596.237423           15792.32700   \n",
            "21   5810      15662.468   12561.500526           19106.45875   \n",
            "22   5896      22692.743    4813.209523           25143.35350   \n",
            "23   8595      10389.014    3401.212654           12794.99900   \n",
            "24   9481      15963.798    5665.998435           20839.93875   \n",
            "25   9502      14830.205    3788.049747           21055.86100   \n",
            "26   9601      21109.741    6029.894882           25522.42225   \n",
            "27   9994      20287.703    4815.983731           26002.22800   \n",
            "28  10127       8361.487    5406.286850           17870.67625   \n",
            "29  10567      11722.135    6996.650698           13782.17500   \n",
            "\n",
            "    quantile50_IN_ALLEYS  quantile75_IN_ALLEYS  rmse_IN_ALLEYS   min_REST  \\\n",
            "0             18031.5835           19400.53325    18285.061342  31898.290   \n",
            "1             11309.8680           13974.64100    13158.610140  40379.095   \n",
            "2             19836.0475           23279.82700    21105.515862  39945.658   \n",
            "3             18415.3885           23169.58650    21027.824032  39945.828   \n",
            "4             19223.2030           22290.88350    19666.796079  43031.320   \n",
            "5             22852.4835           27273.08925    26491.855855  18878.420   \n",
            "6             23237.7480           27603.57000    23748.240826  34655.769   \n",
            "7             24152.4435           26844.23325    26307.433366  11128.676   \n",
            "8             20241.9360           25370.09750    23073.960453  24126.496   \n",
            "9             20023.4610           23392.19450    20305.052024  33773.821   \n",
            "10            22994.8335           25109.77725    23683.942369  27505.784   \n",
            "11            20539.1415           21833.61600    20767.215142  37006.845   \n",
            "12            15671.1155           18484.40100    17106.728153  45519.747   \n",
            "13            17695.7480           18632.87850    17630.500925  35732.229   \n",
            "14            19212.6805           21864.33650    20298.896046  29998.398   \n",
            "15            18880.6090           21673.15275    23422.114244   4887.602   \n",
            "16            18353.0540           19885.08200    19359.818217  35748.178   \n",
            "17            14876.9105           16990.62375    15896.005434  35645.048   \n",
            "18            20457.6585           22334.95075    20836.017391  35612.155   \n",
            "19            16356.9270           18572.63775    18277.612567  24838.418   \n",
            "20            20651.1685           23187.57150    21529.316921  29939.575   \n",
            "21            24843.7550           37264.16800    31835.544190  18793.101   \n",
            "22            27939.5175           32242.32450    29339.529764  39152.320   \n",
            "23            14960.3890           17243.97600    15747.307177  43640.831   \n",
            "24            23221.0595           25841.87100    24871.083684  28083.372   \n",
            "25            22770.9725           25581.10925    23510.723947  36336.531   \n",
            "26            26822.4605           30669.33925    29184.590371  16783.612   \n",
            "27            28384.3210           32029.51800    28842.732243  37357.109   \n",
            "28            21841.8635           24266.37225    21762.272969  37937.883   \n",
            "29            17825.5190           22227.31200    20868.591945  20026.729   \n",
            "\n",
            "        std_REST  quantile25_REST  ...  quantile25_EAT  quantile50_EAT  \\\n",
            "0    6093.042962      53520.44775  ...     10824.60300      11952.7325   \n",
            "1    5617.344835      55474.79200  ...     15022.77100      16302.2130   \n",
            "2    4556.929955      51683.48800  ...     10187.32725      10780.9195   \n",
            "3    7192.992203      52003.82275  ...     10463.97075      14511.0455   \n",
            "4    5739.254795      50370.34400  ...     11302.01900      12194.7365   \n",
            "5    9434.366672      47065.88975  ...      9974.73025      11390.4005   \n",
            "6    7940.822688      44300.22250  ...     11594.60100      16044.8200   \n",
            "7    6837.502615      39371.35525  ...     18097.70625      20543.7525   \n",
            "8    6166.901981      44143.73000  ...     16475.41250      18382.5195   \n",
            "9    5627.291074      39836.85400  ...     20476.87575      21795.9865   \n",
            "10   5002.026756      43815.87625  ...     15946.44700      16847.0990   \n",
            "11   4260.320017      43742.32275  ...     16691.82100      18176.3055   \n",
            "12   4307.995786      51463.69975  ...     12424.80950      14754.2570   \n",
            "13   3474.696336      43496.39100  ...     21088.93350      22529.8225   \n",
            "14   5594.875795      44446.25475  ...     18598.83500      19497.5870   \n",
            "15  10968.067165      50522.71575  ...     11361.85600      13225.8425   \n",
            "16   3788.040483      43020.43700  ...     19621.43500      21362.1170   \n",
            "17   5124.717577      53449.56950  ...     12308.47075      13807.0480   \n",
            "18   4276.637039      42817.52125  ...     17607.90550      18790.1110   \n",
            "19   6488.478740      49414.33675  ...     15306.57425      16487.8510   \n",
            "20   6940.699996      49695.59225  ...     10845.83300      12833.6615   \n",
            "21   9382.211554      39664.68325  ...      9793.05350      11817.9935   \n",
            "22   3619.137464      41245.57900  ...     11538.00300      12547.6380   \n",
            "23   3480.374621      53298.39175  ...     14068.71700      15932.8585   \n",
            "24   6288.087726      46599.39550  ...     12785.11525      13725.8005   \n",
            "25   5880.166235      47939.90600  ...      9090.48500      11768.2860   \n",
            "26   5422.020731      38212.96225  ...     15372.05700      16614.7815   \n",
            "27   3987.568929      41443.83250  ...     12497.26100      14174.5690   \n",
            "28   5656.925099      42980.75300  ...     16252.67550      18110.4705   \n",
            "29   7665.610762      41821.57100  ...     17083.08200      20558.1630   \n",
            "\n",
            "    quantile75_EAT      rmse_EAT  min_ACTIVITY  std_ACTIVITY  \\\n",
            "0      12265.16650  11841.152744   -7770.91359   1541.932608   \n",
            "1      18333.43800  17053.179428   -7837.05143   2641.832589   \n",
            "2      12492.19900  11740.120035   -7449.25983   1985.915210   \n",
            "3      15363.63450  13324.549181   -8176.62963   3468.972827   \n",
            "4      14450.72150  13553.716584   -9841.05883   2777.620596   \n",
            "5      12536.32350  11560.291698   -8519.29897   3573.645927   \n",
            "6      18893.73100  15864.987862  -10396.27706   4024.465731   \n",
            "7      22726.60975  20407.456123   -3794.69259   2737.481948   \n",
            "8      19672.12900  18386.020397   -3574.13368   2480.106219   \n",
            "9      23882.33950  22601.481393   -3083.53344   2728.408350   \n",
            "10     18044.49175  17161.016926   -4003.51751   2071.407092   \n",
            "11     20264.13575  18953.104204   -4955.00245   2214.171335   \n",
            "12     16115.12000  14484.196696   -9967.98233   2067.972311   \n",
            "13     24762.27800  23247.637665   -1332.31931   1835.780561   \n",
            "14     22117.65225  20743.397472   -3937.13957   2703.792448   \n",
            "15     15658.59925  13664.361213  -11609.48919   4522.558838   \n",
            "16     23233.92800  21695.718092   -1810.67317   1609.610415   \n",
            "17     15669.21475  14414.787894   -8068.75926   2322.336742   \n",
            "18     20335.74050  19357.927370   -4909.21088   2123.006154   \n",
            "19     17508.93975  16659.683693   -4016.55151   2139.779772   \n",
            "20     14383.88100  12831.045301  -13438.60297   3020.824252   \n",
            "21     15565.98025  13212.406795   -5586.03851   3054.745243   \n",
            "22     14990.04475  13113.172690   -2414.61220   1332.545722   \n",
            "23     17077.05275  16116.728649   -6215.02076   1720.079002   \n",
            "24     14692.64650  14141.752821   -7647.21724   2894.665616   \n",
            "25     14151.68275  12722.712394   -8459.66797   3173.606282   \n",
            "26     18050.50250  17416.644274   -1773.55789   2291.369043   \n",
            "27     16268.86400  14852.694340   -3036.57185   1708.436465   \n",
            "28     19834.98675  18480.750736   -6619.23490   2573.322361   \n",
            "29     24343.95000  21171.157964   -4000.40108   2706.335713   \n",
            "\n",
            "    quantile25_ACTIVITY  quantile50_ACTIVITY  quantile75_ACTIVITY  \\\n",
            "0          -5451.402735         -4934.565685         -3958.742900   \n",
            "1          -6290.682190         -4558.317660         -3356.500030   \n",
            "2          -5314.934202         -4245.313510         -3237.574535   \n",
            "3          -5066.349015         -3786.508895         -2268.295023   \n",
            "4          -5833.314695         -4258.635680         -2501.528998   \n",
            "5          -5091.210865         -4053.620805         -1726.718077   \n",
            "6          -2341.526395          -648.793470           782.622090   \n",
            "7           1513.547100          3028.233650          3958.789282   \n",
            "8           -958.873435           275.601235          2015.587697   \n",
            "9             21.164228          2286.531585          4517.949475   \n",
            "10          -619.942195           184.149255          1055.078887   \n",
            "11         -1027.576640           554.288165          1416.695820   \n",
            "12         -5027.601092         -3729.332635         -2629.644873   \n",
            "13           893.365202          1675.879250          3125.642630   \n",
            "14          -316.740353           661.574095          1961.955222   \n",
            "15         -5311.625443         -3131.677640         -2069.561845   \n",
            "16           775.277610          1395.932480          2776.775210   \n",
            "17         -6090.391088         -4759.502565         -2960.327678   \n",
            "18          -395.437315           234.546525          2064.703488   \n",
            "19         -3255.583293         -2012.193795         -1117.995815   \n",
            "20         -5233.906730         -4201.041520         -2136.713085   \n",
            "21         -2638.719297          -397.313215          1461.809797   \n",
            "22          -767.344468            42.567005           986.359238   \n",
            "23         -4416.071205         -3484.642025         -2719.521968   \n",
            "24         -2966.664708         -1715.121655          -683.848782   \n",
            "25         -4576.287885         -3590.339870         -1438.016938   \n",
            "26          1089.315955          2106.491400          3725.349160   \n",
            "27           113.162465          1127.465820          2320.013345   \n",
            "28         -1174.965610           579.929740          2048.750210   \n",
            "29           175.829940          1337.926070          2817.227530   \n",
            "\n",
            "    rmse_ACTIVITY  \n",
            "0     5066.534155  \n",
            "1     4892.283516  \n",
            "2     4633.628861  \n",
            "3     4804.089239  \n",
            "4     4742.851546  \n",
            "5     4681.737082  \n",
            "6     4031.158414  \n",
            "7     3989.272069  \n",
            "8     2513.217342  \n",
            "9     3584.919012  \n",
            "10    2091.681265  \n",
            "11    2230.561730  \n",
            "12    4455.303606  \n",
            "13    2736.894513  \n",
            "14    2909.503002  \n",
            "15    5449.239812  \n",
            "16    2308.008945  \n",
            "17    5033.191559  \n",
            "18    2217.397462  \n",
            "19    2723.695283  \n",
            "20    4775.248054  \n",
            "21    3033.906234  \n",
            "22    1284.949281  \n",
            "23    3900.421805  \n",
            "24    3204.362721  \n",
            "25    4328.896792  \n",
            "26    3323.933292  \n",
            "27    1830.527654  \n",
            "28    2550.962792  \n",
            "29    3072.915860  \n",
            "\n",
            "[30 rows x 25 columns]\n"
          ]
        }
      ],
      "source": [
        "daily_df = df_filtered.groupby(['cow', 'date']).agg({\n",
        "    'IN_ALLEYS': 'sum',\n",
        "    'REST': 'sum',\n",
        "    'EAT': 'sum',\n",
        "    'ACTIVITY_LEVEL': 'sum'\n",
        "}).reset_index()\n",
        "\n",
        "\n",
        "def rmse(x):\n",
        "    return np.sqrt(np.mean(x**2))\n",
        "\n",
        "#Compute statistical metrics per cow\n",
        "stats_df = daily_df.groupby('cow').agg(\n",
        "    min_IN_ALLEYS=('IN_ALLEYS', 'min'),\n",
        "    std_IN_ALLEYS=('IN_ALLEYS', 'std'),\n",
        "    quantile25_IN_ALLEYS=('IN_ALLEYS', lambda x: x.quantile(0.25)),\n",
        "    quantile50_IN_ALLEYS=('IN_ALLEYS', lambda x: x.quantile(0.5)),\n",
        "    quantile75_IN_ALLEYS=('IN_ALLEYS', lambda x: x.quantile(0.75)),\n",
        "    rmse_IN_ALLEYS=('IN_ALLEYS', rmse),\n",
        "\n",
        "    min_REST=('REST', 'min'),\n",
        "    std_REST=('REST', 'std'),\n",
        "    quantile25_REST=('REST', lambda x: x.quantile(0.25)),\n",
        "    quantile50_REST=('REST', lambda x: x.quantile(0.5)),\n",
        "    quantile75_REST=('REST', lambda x: x.quantile(0.75)),\n",
        "    rmse_REST=('REST', rmse),\n",
        "\n",
        "    min_EAT=('EAT', 'min'),\n",
        "    std_EAT=('EAT', 'std'),\n",
        "    quantile25_EAT=('EAT', lambda x: x.quantile(0.25)),\n",
        "    quantile50_EAT=('EAT', lambda x: x.quantile(0.5)),\n",
        "    quantile75_EAT=('EAT', lambda x: x.quantile(0.75)),\n",
        "    rmse_EAT=('EAT', rmse),\n",
        "\n",
        "    min_ACTIVITY=('ACTIVITY_LEVEL', 'min'),\n",
        "    std_ACTIVITY=('ACTIVITY_LEVEL', 'std'),\n",
        "    quantile25_ACTIVITY=('ACTIVITY_LEVEL', lambda x: x.quantile(0.25)),\n",
        "    quantile50_ACTIVITY=('ACTIVITY_LEVEL', lambda x: x.quantile(0.5)),\n",
        "    quantile75_ACTIVITY=('ACTIVITY_LEVEL', lambda x: x.quantile(0.75)),\n",
        "    rmse_ACTIVITY=('ACTIVITY_LEVEL', rmse)\n",
        ").reset_index()\n",
        "\n",
        "\n",
        "print(stats_df)"
      ]
    },
    {
      "cell_type": "code",
      "execution_count": null,
      "metadata": {
        "id": "DaObY_9mpCFd"
      },
      "outputs": [],
      "source": []
    }
  ],
  "metadata": {
    "colab": {
      "provenance": []
    },
    "kernelspec": {
      "display_name": "Python 3 (ipykernel)",
      "language": "python",
      "name": "python3"
    },
    "language_info": {
      "codemirror_mode": {
        "name": "ipython",
        "version": 3
      },
      "file_extension": ".py",
      "mimetype": "text/x-python",
      "name": "python",
      "nbconvert_exporter": "python",
      "pygments_lexer": "ipython3",
      "version": "3.11.5"
    }
  },
  "nbformat": 4,
  "nbformat_minor": 0
}