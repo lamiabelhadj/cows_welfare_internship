{
  "cells": [
    {
      "cell_type": "code",
      "execution_count": null,
      "id": "fc5ac6e4",
      "metadata": {
        "id": "fc5ac6e4"
      },
      "outputs": [],
      "source": [
        "import numpy as np\n",
        "import pandas as pd\n",
        "import seaborn as sns\n",
        "import missingno as msno\n",
        "import matplotlib.pyplot as plt\n",
        "from scipy import stats\n",
        "from scipy.stats import pointbiserialr\n",
        "from datetime import timedelta\n",
        "\n",
        "# Function to dynamically identify health-related columns\n",
        "def identify_health_labels(df, exclude_cols=['cow', 'date', 'IN_ALLEYS', 'REST', 'EAT', 'ACTIVITY_LEVEL', 'hour']):\n",
        "    # Identify columns that are likely binary health indicators\n",
        "    potential_health_cols = [col for col in df.columns if col not in exclude_cols]\n",
        "    health_labels = [col for col in potential_health_cols \n",
        "                    if df[col].dropna().isin([0, 1]).all()]\n",
        "    return health_labels"
      ]
    },
    {
      "cell_type": "markdown",
      "id": "302b4bcf",
      "metadata": {
        "id": "302b4bcf"
      },
      "source": [
        "**Load the dataset**"
      ]
    },
    {
      "cell_type": "code",
      "execution_count": null,
      "id": "39b68353",
      "metadata": {
        "id": "39b68353"
      },
      "outputs": [],
      "source": [
        "def load_dataset(file_path):\n",
        "    df = pd.read_csv(file_path)\n",
        "    df['date'] = pd.to_datetime(df['date'])\n",
        "    return df"
      ]
    },
    {
      "cell_type": "markdown",
      "id": "ee553137",
      "metadata": {
        "id": "ee553137"
      },
      "source": [
        "### **Dataset First View**"
      ]
    },
    {
      "cell_type": "code",
      "execution_count": null,
      "id": "f072d091",
      "metadata": {
        "id": "f072d091"
      },
      "outputs": [],
      "source": [
        "def display_dataset_head(df):\n",
        "    return df.head()"
      ]
    },
    {
      "cell_type": "markdown",
      "id": "e39cbae7",
      "metadata": {
        "id": "e39cbae7"
      },
      "source": [
        "### **Dataset Rows & Columns count**"
      ]
    },
    {
      "cell_type": "code",
      "execution_count": null,
      "id": "6196ac65",
      "metadata": {
        "id": "6196ac65"
      },
      "outputs": [],
      "source": [
        "def print_dataset_shape(df):\n",
        "    print(\"Number of rows are: \",df.shape[0])\n",
        "    print(\"Number of columns are: \",df.shape[1])"
      ]
    },
    {
      "cell_type": "markdown",
      "id": "38b34af3",
      "metadata": {
        "id": "38b34af3"
      },
      "source": [
        "**Displaying Column Names**"
      ]
    },
    {
      "cell_type": "code",
      "execution_count": null,
      "id": "8328f9df",
      "metadata": {
        "id": "8328f9df"
      },
      "outputs": [],
      "source": [
        "def display_column_names(df):\n",
        "    print(df.columns)"
      ]
    },
    {
      "cell_type": "markdown",
      "id": "7c0d8c98",
      "metadata": {
        "id": "7c0d8c98"
      },
      "source": [
        "**Define behavioral and health-related features**"
      ]
    },
    {
      "cell_type": "code",
      "execution_count": null,
      "id": "25337284",
      "metadata": {
        "id": "25337284"
      },
      "outputs": [],
      "source": [
        "def define_features(df):\n",
        "    behavioral_features = ['IN_ALLEYS', 'REST', 'EAT', 'ACTIVITY_LEVEL']\n",
        "    health_indicators = identify_health_labels(df)\n",
        "    return behavioral_features, health_indicators"
      ]
    },
    {
      "cell_type": "markdown",
      "id": "6c0b856a",
      "metadata": {
        "id": "6c0b856a"
      },
      "source": [
        "**Distribution of health states**"
      ]
    },
    {
      "cell_type": "code",
      "execution_count": null,
      "id": "ea2e4756",
      "metadata": {
        "id": "ea2e4756"
      },
      "outputs": [],
      "source": [
        "def plot_health_states_distribution(df):\n",
        "    health_states = identify_health_labels(df)\n",
        "    if not health_states:\n",
        "        print(\"No health states identified in the dataset.\")\n",
        "        return\n",
        "    df_health = df[health_states]\n",
        "    health_counts = df_health.sum().sort_values(ascending=False)\n",
        "    total = len(df)\n",
        "    health_percent = (health_counts / total) * 100\n",
        "\n",
        "    safe_health_percent = health_percent.copy()\n",
        "    perspective\n",
        "safe_health_percent[safe_health_percent == 0] = 0.01\n",
        "\n",
        "    plt.figure(figsize=(12, 6))\n",
        "    bars = plt.bar(safe_health_percent.index, safe_health_percent.values, color='lightcoral')\n",
        "\n",
        "    for i, bar in enumerate(bars):\n",
        "        original = health_percent.values[i]\n",
        "        plt.text(bar.get_x() + bar.get_width()/2., bar.get_height(),\n",
        "                 f'{original:.2f}%', ha='center', va='bottom')\n",
        "\n",
        "    plt.yscale('log')\n",
        "    plt.title('Proportion of Health States (Log Scale)', fontweight='bold')\n",
        "    plt.xlabel('Health States', fontweight='bold')\n",
        "    plt.ylabel('Percentage (log scale)', fontweight='bold')\n",
        "    plt.xticks(rotation=45)\n",
        "    plt.grid(axis='y', linestyle='--', alpha=0.7, which='both')\n",
        "    plt.tight_layout()\n",
        "    plt.show()"
      ]
    },
    {
      "cell_type": "markdown",
      "id": "73af7140",
      "metadata": {
        "id": "73af7140"
      },
      "source": [
        "**Unique Value Counts per Event**"
      ]
    },
    {
      "cell_type": "code",
      "execution_count": null,
      "id": "155014a4",
      "metadata": {
        "id": "155014a4"
      },
      "outputs": [],
      "source": [
        "def print_unique_value_counts(df):\n",
        "    target_columns = identify_health_labels(df)\n",
        "    print(\"Unique Value Counts per Event:\")\n",
        "    for col in target_columns:\n",
        "        value_counts = df[col].value_counts()\n",
        "        print(f\"{col}:\")\n",
        "        print(value_counts)\n",
        "        print(\"---------------------------------\")"
      ]
    },
    {
      "cell_type": "markdown",
      "id": "921ff697",
      "metadata": {
        "id": "921ff697"
      },
      "source": [
        "**Count the number of cows in the dataset**"
      ]
    },
    {
      "cell_type": "code",
      "execution_count": null,
      "id": "022668f7",
      "metadata": {
        "id": "022668f7"
      },
      "outputs": [],
      "source": [
        "def count_unique_cows(df):\n",
        "    num_cows = df['cow'].nunique()\n",
        "    print(f\"Total number of unique cows: {num_cows}\")"
      ]
    },
    {
      "cell_type": "markdown",
      "id": "0a0e3a96",
      "metadata": {
        "id": "0a0e3a96"
      },
      "source": [
        "**Display the ids of cows**"
      ]
    },
    {
      "cell_type": "code",
      "execution_count": null,
      "id": "686c511d",
      "metadata": {
        "id": "686c511d"
      },
      "outputs": [],
      "source": [
        "def display_cow_ids(df):\n",
        "    unique_cow_ids = df['cow'].unique()\n",
        "    print(\"List of unique cow IDs:\")\n",
        "    print(unique_cow_ids)  # Prints all IDs as an array\n",
        "\n",
        "    sorted_cow_ids = sorted(df['cow'].unique())\n",
        "    print(\"\\nSorted list of cow IDs:\")\n",
        "    print(sorted_cow_ids)"
      ]
    },
    {
      "cell_type": "markdown",
      "id": "654f255b",
      "metadata": {
        "id": "654f255b"
      },
      "source": [
        "**Duplicate Values**"
      ]
    },
    {
      "cell_type": "code",
      "execution_count": null,
      "id": "60fcad88",
      "metadata": {
        "id": "60fcad88"
      },
      "outputs": [],
      "source": [
        "def check_duplicates(df):\n",
        "    # Dataset Duplicate Value Count\n",
        "    dup = df.duplicated().sum()\n",
        "    print(f'number of duplicated rows are {dup}')"
      ]
    },
    {
      "cell_type": "markdown",
      "id": "c3191ed8",
      "metadata": {
        "id": "c3191ed8"
      },
      "source": [
        "**Missing Values**"
      ]
    },
    {
      "cell_type": "code",
      "execution_count": null,
      "id": "2947d370",
      "metadata": {
        "id": "2947d370"
      },
      "outputs": [],
      "source": [
        "def check_missing_values(df):\n",
        "    # Missing Values/Null Values Count\n",
        "    return df.isnull().sum()"
      ]
    },
    {
      "cell_type": "markdown",
      "id": "9e07682d",
      "metadata": {
        "id": "9e07682d"
      },
      "source": [
        "**Matrix of missing values**"
      ]
    },
    {
      "cell_type": "code",
      "execution_count": null,
      "id": "d2337874",
      "metadata": {
        "id": "d2337874"
      },
      "outputs": [],
      "source": [
        "def plot_missing_values_matrix(file_path):\n",
        "    data = pd.read_csv(file_path)\n",
        "\n",
        "    plt.figure(figsize=(15, 8))\n",
        "    msno.matrix(data, color=(0, 0.5, 0.5))  # Affichage des valeurs manquantes en matrice\n",
        "    plt.title(\"Matrice des valeurs manquantes\", fontsize=18, fontweight='bold')\n",
        "    plt.show()"
      ]
    },
    {
      "cell_type": "markdown",
      "id": "998a2b06",
      "metadata": {
        "id": "998a2b06"
      },
      "source": [
        "**Outliers detection**"
      ]
    },
    {
      "cell_type": "markdown",
      "id": "e26e4acf",
      "metadata": {
        "id": "e26e4acf"
      },
      "source": [
        "Détails du calcul théorique :\n",
        "\n",
        "1. Plage minimale ( -828 ) :\n",
        "\n",
        "Si une vache passe 1 heure entière (3600 secondes) au repos : -0.23 * 3600 + 0.16 * 0 + 0.42 * 0 = -828\n",
        "\n",
        "2. Plage maximale ( 1512 ) :\n",
        "\n",
        "Si une vache passe 1 heure entière (3600 secondes) à manger : -0.23 * 0 + 0.16 * 0 + 0.42 * 3600 = 1512"
      ]
    },
    {
      "cell_type": "code",
      "execution_count": null,
      "id": "176d3050",
      "metadata": {
        "id": "176d3050"
      },
      "outputs": [],
      "source": [
        "def detect_and_plot_outliers(df):\n",
        "    min_theorique = -828\n",
        "    max_theorique = 1512\n",
        "\n",
        "    # Calculer les min/max observés\n",
        "    min_obs = df['ACTIVITY_LEVEL'].min()\n",
        "    max_obs = df['ACTIVITY_LEVEL'].max()\n",
        "\n",
        "    print(f\"Plage théorique : [{min_theorique}, {max_theorique}]\")\n",
        "    print(f\"Plage observée  : [{min_obs:.2f}, {max_obs:.2f}]\")\n",
        "\n",
        "    # Identifier les valeurs hors plage\n",
        "    outliers = df[(df['ACTIVITY_LEVEL'] < min_theorique) | (df['ACTIVITY_LEVEL'] > max_theorique)]\n",
        "    num_outliers = len(outliers)\n",
        "\n",
        "    plt.figure(figsize=(10, 6))\n",
        "    plt.hist(df['ACTIVITY_LEVEL'], bins=50, color='skyblue', edgecolor='black')\n",
        "    plt.axvline(x=min_theorique, color='red', linestyle='--', label='Borne min théorique')\n",
        "    plt.axvline(x=max_theorique, color='green', linestyle='--', label='Borne max théorique')\n",
        "    plt.xlabel('Niveau d\\'activité')\n",
        "    plt.ylabel('Fréquence')\n",
        "    plt.title('Distribution des niveaux d\\'activité')\n",
        "    plt.legend()\n",
        "    plt.xlim(-1000, 1600)  # Pour mieux visualiser les éventuels outliers\n",
        "    plt.show()\n",
        "\n",
        "    print(\"\\n[ Rapport d'anomalies ]\")\n",
        "    print(f\"- Valeurs hors plage théorique : {num_outliers} ({num_outliers/len(df)*100:.2f}% du dataset)\")\n",
        "\n",
        "    if num_outliers > 0:\n",
        "        print(\"- Exemples de lignes problématiques :\")\n",
        "        print(outliers[['date', 'ACTIVITY_LEVEL']].head())\n",
        "    else:\n",
        "        print(\"- Aucune valeur hors plage détectée.\")"
      ]
    },
    {
      "cell_type": "code",
      "execution_count": null,
      "id": "9f231d66",
      "metadata": {
        "id": "9f231d66"
      },
      "outputs": [],
      "source": [
        "def plot_histograms(df):\n",
        "    # Plot histograms for the selected columns to understand their distributions\n",
        "    cols = ['IN_ALLEYS', 'REST', 'EAT', 'ACTIVITY_LEVEL']\n",
        "    df[cols].hist(bins=20, figsize=(12, 10))\n",
        "    plt.suptitle(\"Data Distribution\")\n",
        "    plt.show()"
      ]
    },
    {
      "cell_type": "markdown",
      "id": "5445fd46",
      "metadata": {
        "id": "5445fd46"
      },
      "source": [
        "**Visualization of Health States Proportions**"
      ]
    },
    {
      "cell_type": "code",
      "execution_count": null,
      "id": "cc5d9a79",
      "metadata": {
        "id": "cc5d9a79"
      },
      "outputs": [],
      "source": [
        "def plot_health_states_proportions(file_path):\n",
        "    df = pd.read_csv(file_path)\n",
        "    health_states = identify_health_labels(df)\n",
        "    if not health_states:\n",
        "        print(\"No health states identified in the dataset.\")\n",
        "        return\n",
        "\n",
        "    df_health = df[health_states]\n",
        "    health_counts = df_health.sum().sort_values(ascending=False)\n",
        "    total = len(df)\n",
        "    health_percent = (health_counts / total) * 100\n",
        "\n",
        "    plt.figure(figsize=(12, 6))\n",
        "    bars = plt.bar(health_percent.index, health_percent.values, color='lightcoral')\n",
        "\n",
        "    # Formatting: 2 decimal places\n",
        "    for bar in bars:\n",
        "        height = bar.get_height()\n",
        "        plt.text(bar.get_x() + bar.get_width()/2., height,\n",
        "                 f'{height:.2f}%',  # .2f = 2 decimal places\n",
        "                 ha='center', va='bottom')\n",
        "\n",
        "    plt.title('Proportion of Health States (in %)', fontweight='bold')\n",
        "    plt.xlabel('Health States', fontweight='bold')\n",
        "    plt.ylabel('Percentage', fontweight='bold')\n",
        "    plt.xticks(rotation=45)\n",
        "    plt.grid(axis='y', linestyle='--', alpha=0.7)\n",
        "    plt.tight_layout()\n",
        "    plt.show()"
      ]
    },
    {
      "cell_type": "markdown",
      "id": "90e62eb0",
      "metadata": {
        "id": "90e62eb0"
      },
      "source": [
        "**Missing hours**"
      ]
    },
    {
      "cell_type": "code",
      "execution_count": null,
      "id": "ef95eb61",
      "metadata": {
        "id": "ef95eb61"
      },
      "outputs": [],
      "source": [
        "def plot_missing_hours(file_path):\n",
        "    # Load the dataset\n",
        "    df = pd.read_csv(file_path)\n",
        "\n",
        "    # Ensure the datetime column is in datetime format\n",
        "    df['date'] = pd.to_datetime(df['date'])\n",
        "\n",
        "    # Count the number of observations (rows) per cow per day\n",
        "    obs_counts = df.groupby(['cow', 'date']).size().reset_index(name='hour_count')\n",
        "\n",
        "    # Identify rows with missing hours (less than 24)\n",
        "    missing_obs = obs_counts[obs_counts['hour_count'] < 24]\n",
        "\n",
        "    # Create a plot showing missing hour count per cow\n",
        "    plt.figure(figsize=(12, 6))\n",
        "    missing_obs.groupby('cow')['hour_count'].apply(lambda x: (24 - x).sum()).sort_values(ascending=False).plot(kind='bar')\n",
        "    plt.title(\"Total Missing Hours per Cow (only cows with missing 24h records)\")\n",
        "    plt.xlabel(\"Cow ID\")\n",
        "    plt.ylabel(\"Total Missing Hours\")\n",
        "    plt.tight_layout()\n",
        "    plt.show()"
      ]
    },
    {
      "cell_type": "markdown",
      "id": "aff976e0",
      "metadata": {
        "id": "aff976e0"
      },
      "source": [
        "**Check Date Range and Missing Dates**"
      ]
    },
    {
      "cell_type": "code",
      "execution_count": null,
      "id": "6e264337",
      "metadata": {
        "id": "6e264337"
      },
      "outputs": [],
      "source": [
        "def check_date_range(df):\n",
        "    # Convert 'date' to datetime\n",
        "    df['date'] = pd.to_datetime(df['date'])\n",
        "\n",
        "    # Get min/max dates\n",
        "    min_date = df['date'].min()\n",
        "    max_date = df['date'].max()\n",
        "    print(f\"Date range: {min_date} to {max_date}\")\n",
        "\n",
        "    # Generate all expected dates in the range\n",
        "    all_dates = pd.date_range(start=min_date, end=max_date, freq='D')\n",
        "    print(f\"Total expected days: {len(all_dates)}\")\n",
        "\n",
        "    # Check missing dates\n",
        "    missing_dates = all_dates.difference(df['date'].unique())\n",
        "    print(f\"\\nMissing dates {len(missing_dates)}:\", ', '.join(missing_dates.strftime('%Y-%m-%d')))"
      ]
    },
    {
      "cell_type": "markdown",
      "id": "8d887e21",
      "metadata": {
        "id": "8d887e21"
      },
      "source": [
        "**Analysis of Cows with Multiple Diseases**"
      ]
    },
    {
      "cell_type": "code",
      "execution_count": null,
      "id": "142ef422",
      "metadata": {
        "id": "142ef422"
      },
      "outputs": [],
      "source": [
        "def analyze_multiple_diseases(df):\n",
        "    maladie_cols = [col for col in identify_health_labels(df) if col != 'OK']\n",
        "    if not maladie_cols:\n",
        "        print(\"No disease columns identified in the dataset.\")\n",
        "        return\n",
        "\n",
        "    df_non_ok = df[df['OK'] == 0].copy()\n",
        "\n",
        "    df_non_ok['nb_maladies'] = df_non_ok[maladie_cols].sum(axis=1)\n",
        "\n",
        "    # Keep only rows with more than one disease\n",
        "    multi_maladie = df_non_ok[df_non_ok['nb_maladies'] > 1].copy()\n",
        "\n",
        "    # Extract the names of the diseases present\n",
        "    def get_maladies_presentes(row):\n",
        "        return [col for col in maladie_cols if row[col] == 1]\n",
        "\n",
        "    multi_maladie['maladies_presentes'] = multi_maladie.apply(get_maladies_presentes, axis=1)\n",
        "\n",
        "    # Display results\n",
        "    print(f\"Number of cases with multiple diseases: {len(multi_maladie)}\")\n",
        "    print(multi_maladie[['cow', 'date', 'hour', 'maladies_presentes']])"
      ]
    },
    {
      "cell_type": "markdown",
      "id": "cfea3c65",
      "metadata": {
        "id": "cfea3c65"
      },
      "source": [
        "**Investigate the correlation between the \"OK\" label and other health states**"
      ]
    },
    {
      "cell_type": "code",
      "execution_count": null,
      "id": "8f0a7e7f",
      "metadata": {
        "id": "8f0a7e7f"
      },
      "outputs": [],
      "source": [
        "def check_ok_label_consistency(df):\n",
        "    health_labels = [col for col in identify_health_labels(df) if col != 'OK']\n",
        "    if not health_labels:\n",
        "        print(\"No health labels (excluding OK) identified in the dataset.\")\n",
        "        return\n",
        "\n",
        "    violations = df[(df['OK'] == 1) & (df[health_labels].sum(axis=1) > 0)]\n",
        "\n",
        "    if violations.empty:\n",
        "        print(\"✅ Aucun cas trouvé où OK == 1 et un état de santé est aussi à 1. Tout est cohérent.\")\n",
        "    else:\n",
        "        print(\"⚠️ Des cas incohérents ont été trouvés ! Voici les lignes concernées :\")\n",
        "        print(violations)"
      ]
    },
    {
      "cell_type": "markdown",
      "id": "da4dab5f",
      "metadata": {
        "id": "da4dab5f"
      },
      "source": [
        "**Correlation Analysis**"
      ]
    },
    {
      "cell_type": "code",
      "execution_count": null,
      "id": "ea91384f",
      "metadata": {
        "id": "ea91384f"
      },
      "outputs": [],
      "source": [
        "def perform_correlation_analysis(df):\n",
        "    df = df.drop(columns=[col for col in ['cow', 'date', 'LPS', 'acidosis', 'ACTIVITY_LEVEL', 'hour'] if col in df.columns])\n",
        "\n",
        "    # Define columns\n",
        "    behavioral_features = ['IN_ALLEYS', 'REST', 'EAT']\n",
        "    health_features = identify_health_labels(df)\n",
        "    if not health_features:\n",
        "        print(\"No health features identified in the dataset.\")\n",
        "        return\n",
        "\n",
        "    # --- 1. Spearman Correlation between Behavioral Features ---\n",
        "    behavior_corr = df[behavioral_features].corr(method='spearman')\n",
        "\n",
        "    plt.figure(figsize=(6, 4))\n",
        "    sns.heatmap(behavior_corr, annot=True, cmap=\"coolwarm\", fmt=\".2f\")\n",
        "    plt.title(\"Spearman Correlation - Behavioral Features\")\n",
        "    plt.show()\n",
        "\n",
        "    # --- 2. Pearson Correlation (Phi) between Health Features ---\n",
        "    health_corr = df[health_features].corr(method='pearson')\n",
        "\n",
        "    plt.figure(figsize=(10, 8))\n",
        "    sns.heatmap(health_corr, annot=True, cmap=\"coolwarm\", fmt=\".2f\")\n",
        "    plt.title(\"Phi Correlation (Pearson) - Health Features\")\n",
        "    plt.show()\n",
        "\n",
        "    # --- 3. Point-Biserial Correlation: Behavioral vs Health States ---\n",
        "    point_biserial_matrix = pd.DataFrame(index=health_features, columns=behavioral_features)\n",
        "\n",
        "    for h in health_features:\n",
        "        for b in behavioral_features:\n",
        "            valid_data = df[[b, h]].dropna()\n",
        "            if valid_data[h].nunique() > 1:  # Ensure variable is not constant\n",
        "                corr, _ = pointbiserialr(valid_data[h], valid_data[b])\n",
        "                point_biserial_matrix.loc[h, b] = corr\n",
        "            else:\n",
        "                point_biserial_matrix.loc[h, b] = np.nan\n",
        "\n",
        "    point_biserial_matrix = point_biserial_matrix.astype(float)\n",
        "\n",
        "    plt.figure(figsize=(8, 6))\n",
        "    sns.heatmap(point_biserial_matrix, annot=True, cmap=\"coolwarm\", fmt=\".2f\")\n",
        "    plt.title(\"Point-Biserial Correlation - Behavioral vs Health Features\")\n",
        "    plt.xlabel(\"Behavioral Features\")\n",
        "    plt.ylabel(\"Health Features\")\n",
        "    plt.show()"
      ]
    },
    {
      "cell_type": "code",
      "execution_count": null,
      "id": "504bc26f",
      "metadata": {
        "id": "504bc26f"
      },
      "outputs": [],
      "source": [
        "def plot_point_biserial_correlation(df):\n",
        "    # Define columns\n",
        "    behavioral_features = ['IN_ALLEYS', 'REST', 'EAT']\n",
        "    health_features = identify_health_labels(df)\n",
        "    if not health_features:\n",
        "        print(\"No health features identified in the dataset.\")\n",
        "        return\n",
        "\n",
        "    # Collect correlations\n",
        "    correlation_data = []\n",
        "\n",
        "    for h in health_features:\n",
        "        for b in behavioral_features:\n",
        "            valid_data = df[[b, h]].dropna()\n",
        "            if valid_data[h].nunique() > 1:\n",
        "                corr, pval = pointbiserialr(valid_data[h], valid_data[b])\n",
        "                correlation_data.append({\n",
        "                    'Health State': h,\n",
        "                    'Behavioral Feature': b,\n",
        "                    'Correlation': corr,\n",
        "                    'p-value': pval\n",
        "                })\n",
        "\n",
        "    # Convert to DataFrame\n",
        "    corr_df = pd.DataFrame(correlation_data)\n",
        "\n",
        "    # Plot\n",
        "    plt.figure(figsize=(8, 5))\n",
        "    for health_state in corr_df[\"Health State\"].unique():\n",
        "        subset = corr_df[corr_df[\"Health State\"] == health_state]\n",
        "        plt.bar(subset[\"Behavioral Feature\"] + f\" ({health_state})\", subset[\"Correlation\"], label=health_state)\n",
        "\n",
        "    plt.axhline(0, color='gray', linestyle='--')\n",
        "    plt.title(\"Point-Biserial Correlation: Behavioral vs Health States\")\n",
        "    plt.ylabel(\"Correlation Coefficient\")\n",
        "    plt.xticks(rotation=45)\n",
        "    plt.tight_layout()\n",
        "    plt.legend()\n",
        "    plt.show()"
      ]
    },
    {
      "cell_type": "code",
      "execution_count": null,
      "id": "a52b8b6e",
      "metadata": {
        "id": "a52b8b6e"
      },
      "outputs": [],
      "source": [
        "def plot_phi_correlation(df):\n",
        "    if 'oestrus' in df.columns and 'OK' in df.columns:\n",
        "        phi_corr = df[[\"oestrus\", \"OK\"]].corr(method=\"pearson\").iloc[0, 1]\n",
        "\n",
        "        # Prepare plot\n",
        "        plt.figure(figsize=(6, 3))\n",
        "        x = [\"oestrus vs OK\"]\n",
        "        y = [phi_corr]\n",
        "\n",
        "        # Lollipop style plot\n",
        "        plt.plot(x, y, marker='o', linestyle='-', color='steelblue')\n",
        "        plt.axhline(0, color='gray', linestyle='--')\n",
        "        plt.ylim(-1, 1)\n",
        "        plt.title(\"Phi Correlation Between Binary Health Features\")\n",
        "        plt.ylabel(\"Correlation Coefficient\")\n",
        "        plt.grid(axis='y', linestyle=':')\n",
        "        plt.tight_layout()\n",
        "        plt.show()\n",
        "    else:\n",
        "        print(\"Columns 'oestrus' or 'OK' not found in the dataset.\")"
      ]
    },
    {
      "cell_type": "code",
      "execution_count": null,
      "id": "example_usage",
      "metadata": {},
      "outputs": [],
      "source": [
        "\n",
        "datasets = ['dataset1.csv', 'dataset2.csv', 'dataset3.csv', 'dataset4.csv']  \n",
        "for file_path in datasets:\n",
        "    print(f\"\\nAnalyzing {file_path}\")\n",
        "    df = load_dataset(file_path)\n",
        "    print(\"\\nDataset First View:\")\n",
        "    display_dataset_head(df)\n",
        "    print(\"\\nDataset Rows & Columns count:\")\n",
        "    print_dataset_shape(df)\n",
        "    print(\"\\nColumn Names:\")\n",
        "    display_column_names(df)\n",
        "    behavioral_features, health_indicators = define_features(df)\n",
        "    print(\"\\nDistribution of Health States:\")\n",
        "    plot_health_states_distribution(df)\n",
        "    print(\"\\nUnique Value Counts per Event:\")\n",
        "    print_unique_value_counts(df)\n",
        "    print(\"\\nNumber of Unique Cows:\")\n",
        "    count_unique_cows(df)\n",
        "    print(\"\\nCow IDs:\")\n",
        "    display_cow_ids(df)\n",
        "    print(\"\\nDuplicate Values:\")\n",
        "    check_duplicates(df)\n",
        "    print(\"\\nMissing Values:\")\n",
        "    print(check_missing_values(df))\n",
        "    print(\"\\nMatrix of Missing Values:\")\n",
        "    plot_missing_values_matrix(file_path)\n",
        "    print(\"\\nOutliers Detection:\")\n",
        "    detect_and_plot_outliers(df)\n",
        "    print(\"\\nData Distribution Histograms:\")\n",
        "    plot_histograms(df)\n",
        "    print(\"\\nHealth States Proportions:\")\n",
        "    plot_health_states_proportions(file_path)\n",
        "    print(\"\\nMissing Hours:\")\n",
        "    plot_missing_hours(file_path)\n",
        "    print(\"\\nDate Range and Missing Dates:\")\n",
        "    check_date_range(df)\n",
        "    print(\"\\nAnalysis of Cows with Multiple Diseases:\")\n",
        "    analyze_multiple_diseases(df)\n",
        "    print(\"\\nOK Label Consistency Check:\")\n",
        "    check_ok_label_consistency(df)\n",
        "    print(\"\\nCorrelation Analysis:\")\n",
        "    perform_correlation_analysis(df)\n",
        "    print(\"\\nPoint-Biserial Correlation Plot:\")\n",
        "    plot_point_biserial_correlation(df)\n",
        "    print(\"\\nPhi Correlation:\")\n",
        "    plot_phi_correlation(df)"
      ]
    }
  ],
  "metadata": {
    "colab": {
      "provenance": []
    },
    "language_info": {
      "name": "python"
    }
  },
  "nbformat": 4,
  "nbformat_minor": 5
}
