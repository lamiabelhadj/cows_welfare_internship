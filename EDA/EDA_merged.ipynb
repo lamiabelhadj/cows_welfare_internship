{
 "cells": [
  {
   "cell_type": "code",
   "execution_count": 4,
   "id": "fc5ac6e4",
   "metadata": {},
   "outputs": [
    {
     "name": "stderr",
     "output_type": "stream",
     "text": [
      "c:\\Users\\lamia\\anaconda3\\Lib\\site-packages\\pandas\\core\\arrays\\masked.py:60: UserWarning: Pandas requires version '1.3.6' or newer of 'bottleneck' (version '1.3.5' currently installed).\n",
      "  from pandas.core import (\n"
     ]
    }
   ],
   "source": [
    "import numpy as np\n",
    "import pandas as pd\n",
    "import seaborn as sns\n",
    "import missingno as msno\n",
    "import matplotlib.pyplot as plt\n",
    "from scipy import stats, fft\n",
    "from datetime import timedelta\n",
    "\n"
   ]
  },
  {
   "cell_type": "markdown",
   "id": "302b4bcf",
   "metadata": {},
   "source": [
    "**Load the dataset**"
   ]
  },
  {
   "cell_type": "code",
   "execution_count": 2,
   "id": "39b68353",
   "metadata": {},
   "outputs": [],
   "source": [
    "def load_dataset(file_path):\n",
    "    df = pd.read_csv(file_path)\n",
    "    df['date'] = pd.to_datetime(df['date'])\n",
    "    return df"
   ]
  },
  {
   "cell_type": "markdown",
   "id": "ee553137",
   "metadata": {},
   "source": [
    "### **Dataset First View**"
   ]
  },
  {
   "cell_type": "code",
   "execution_count": null,
   "id": "f072d091",
   "metadata": {},
   "outputs": [],
   "source": [
    "df.head()"
   ]
  },
  {
   "cell_type": "markdown",
   "id": "e39cbae7",
   "metadata": {},
   "source": [
    "### **Dataset Rows & Columns count**"
   ]
  },
  {
   "cell_type": "code",
   "execution_count": 7,
   "id": "6196ac65",
   "metadata": {},
   "outputs": [
    {
     "name": "stdout",
     "output_type": "stream",
     "text": [
      "Number of rows are:  179759\n",
      "Number of columns are:  19\n"
     ]
    }
   ],
   "source": [
    "df = load_dataset(r'C:/Users/lamia/Downloads/dataset4_truncated.csv')\n",
    "print(\"Number of rows are: \",df.shape[0])\n",
    "print(\"Number of columns are: \",df.shape[1])"
   ]
  },
  {
   "cell_type": "markdown",
   "id": "38b34af3",
   "metadata": {},
   "source": [
    "**Displaying Column Names**\n"
   ]
  },
  {
   "cell_type": "code",
   "execution_count": null,
   "id": "8328f9df",
   "metadata": {},
   "outputs": [],
   "source": [
    "print(df.columns)"
   ]
  },
  {
   "cell_type": "markdown",
   "id": "7c0d8c98",
   "metadata": {},
   "source": [
    "**Define behavioral and health-related features**"
   ]
  },
  {
   "cell_type": "code",
   "execution_count": null,
   "id": "25337284",
   "metadata": {},
   "outputs": [],
   "source": [
    "behavioral_features = ['IN_ALLEYS', 'REST', 'EAT', 'ACTIVITY_LEVEL']\n",
    "health_indicators = ['oestrus', 'calving', 'lameness', 'mastitis',\n",
    "                     'other_disease', 'accidents', 'disturbance',\n",
    "                     'mixing', 'management_changes', 'OK']"
   ]
  },
  {
   "cell_type": "markdown",
   "id": "6c0b856a",
   "metadata": {},
   "source": [
    "**Distribution of health states**"
   ]
  },
  {
   "cell_type": "code",
   "execution_count": null,
   "id": "ea2e4756",
   "metadata": {},
   "outputs": [],
   "source": [
    "health_states = ['oestrus', 'calving', 'lameness', 'mastitis', 'other_disease', 'OK']\n",
    "\n",
    "df_health = df[health_states]\n",
    "health_counts = df_health.sum().sort_values(ascending=False)\n",
    "total = len(df)\n",
    "health_percent = (health_counts / total) * 100\n",
    "\n",
    "safe_health_percent = health_percent.copy()\n",
    "safe_health_percent[safe_health_percent == 0] = 0.01\n",
    "\n",
    "plt.figure(figsize=(12, 6))\n",
    "bars = plt.bar(safe_health_percent.index, safe_health_percent.values, color='lightcoral')\n",
    "\n",
    "for i, bar in enumerate(bars):\n",
    "    original = health_percent.values[i]\n",
    "    plt.text(bar.get_x() + bar.get_width()/2., bar.get_height(),\n",
    "             f'{original:.2f}%', ha='center', va='bottom')\n",
    "\n",
    "plt.yscale('log')\n",
    "plt.title('Proportion of Health States (Log Scale)', fontweight='bold')\n",
    "plt.xlabel('Health States', fontweight='bold')\n",
    "plt.ylabel('Percentage (log scale)', fontweight='bold')\n",
    "plt.xticks(rotation=45)\n",
    "plt.grid(axis='y', linestyle='--', alpha=0.7, which='both')\n",
    "plt.tight_layout()\n",
    "plt.show()"
   ]
  },
  {
   "cell_type": "markdown",
   "id": "73af7140",
   "metadata": {},
   "source": [
    "**Unique Value Counts per Event**\n"
   ]
  },
  {
   "cell_type": "code",
   "execution_count": null,
   "id": "155014a4",
   "metadata": {},
   "outputs": [],
   "source": [
    "target_columns = ['oestrus', 'calving', 'lameness', 'mastitis', 'LPS', 'acidosis', 'other_disease', 'accidents', 'disturbance', 'mixing', 'management_changes', 'OK']\n",
    "\n",
    "\n",
    "print(\"Unique Value Counts per Event:\")\n",
    "for col in target_columns:\n",
    "    value_counts = df[col].value_counts()\n",
    "    print(f\"{col}:\")\n",
    "    print(value_counts)\n",
    "    print(\"---------------------------------\")"
   ]
  },
  {
   "cell_type": "markdown",
   "id": "921ff697",
   "metadata": {},
   "source": [
    "**Count the number of cows in the dataset**"
   ]
  },
  {
   "cell_type": "code",
   "execution_count": null,
   "id": "022668f7",
   "metadata": {},
   "outputs": [],
   "source": [
    "num_cows = df['cow'].nunique()\n",
    "print(f\"Total number of unique cows: {num_cows}\")"
   ]
  },
  {
   "cell_type": "markdown",
   "id": "0a0e3a96",
   "metadata": {},
   "source": [
    "**Display the ids of cows**"
   ]
  },
  {
   "cell_type": "code",
   "execution_count": null,
   "id": "686c511d",
   "metadata": {},
   "outputs": [],
   "source": [
    "unique_cow_ids = df['cow'].unique()\n",
    "print(\"List of unique cow IDs:\")\n",
    "print(unique_cow_ids)  # Prints all IDs as an array\n",
    "\n",
    "sorted_cow_ids = sorted(df['cow'].unique())\n",
    "print(\"\\nSorted list of cow IDs:\")\n",
    "print(sorted_cow_ids)"
   ]
  },
  {
   "cell_type": "markdown",
   "id": "654f255b",
   "metadata": {},
   "source": [
    "**Duplicate Values**\n"
   ]
  },
  {
   "cell_type": "code",
   "execution_count": null,
   "id": "60fcad88",
   "metadata": {},
   "outputs": [],
   "source": [
    "# Dataset Duplicate Value Count\n",
    "dup = df.duplicated().sum()\n",
    "print(f'number of duplicated rows are {dup}')"
   ]
  },
  {
   "cell_type": "markdown",
   "id": "c3191ed8",
   "metadata": {},
   "source": [
    "**Missing Values**"
   ]
  },
  {
   "cell_type": "code",
   "execution_count": null,
   "id": "2947d370",
   "metadata": {},
   "outputs": [],
   "source": [
    "# Missing Values/Null Values Count\n",
    "df.isnull().sum()"
   ]
  },
  {
   "cell_type": "markdown",
   "id": "9e07682d",
   "metadata": {},
   "source": [
    "**Matrix of missing values**"
   ]
  },
  {
   "cell_type": "code",
   "execution_count": null,
   "id": "d2337874",
   "metadata": {},
   "outputs": [],
   "source": [
    "import missingno as msno\n",
    "import matplotlib.pyplot as plt\n",
    "\n",
    "\n",
    "data = pd.read_csv(path)\n",
    "\n",
    "\n",
    "plt.figure(figsize=(15, 8))\n",
    "msno.matrix(data, color=(0, 0.5, 0.5))  # Affichage des valeurs manquantes en matrice\n",
    "plt.title(\"Matrice des valeurs manquantes\", fontsize=18, fontweight='bold')\n",
    "plt.show()"
   ]
  },
  {
   "cell_type": "markdown",
   "id": "998a2b06",
   "metadata": {},
   "source": [
    "**Outliers detection**"
   ]
  },
  {
   "cell_type": "markdown",
   "id": "e26e4acf",
   "metadata": {},
   "source": [
    "Détails du calcul théorique :\n",
    "\n",
    "1. Plage minimale ( -828 ) :\n",
    "\n",
    "Si une vache passe 1 heure entière (3600 secondes) au repos : -0.23 * 3600 + 0.16 * 0 + 0.42 * 0 = -828\n",
    "\n",
    "2. Plage maximale ( 1512 ) :\n",
    "\n",
    "Si une vache passe 1 heure entière (3600 secondes) à manger : -0.23 * 0 + 0.16 * 0 + 0.42 * 3600 = 1512"
   ]
  },
  {
   "cell_type": "code",
   "execution_count": null,
   "id": "176d3050",
   "metadata": {},
   "outputs": [],
   "source": [
    "\n",
    "min_theorique = -828\n",
    "max_theorique = 1512\n",
    "\n",
    "# Calculer les min/max observés\n",
    "min_obs = df['ACTIVITY_LEVEL'].min()\n",
    "max_obs = df['ACTIVITY_LEVEL'].max()\n",
    "\n",
    "print(f\"Plage théorique : [{min_theorique}, {max_theorique}]\")\n",
    "print(f\"Plage observée  : [{min_obs:.2f}, {max_obs:.2f}]\")\n",
    "\n",
    "# Identifier les valeurs hors plage\n",
    "outliers = df[(df['ACTIVITY_LEVEL'] < min_theorique) | (df['ACTIVITY_LEVEL'] > max_theorique)]\n",
    "num_outliers = len(outliers)\n",
    "\n",
    "\n",
    "plt.figure(figsize=(10, 6))\n",
    "plt.hist(df['ACTIVITY_LEVEL'], bins=50, color='skyblue', edgecolor='black')\n",
    "plt.axvline(x=min_theorique, color='red', linestyle='--', label='Borne min théorique')\n",
    "plt.axvline(x=max_theorique, color='green', linestyle='--', label='Borne max théorique')\n",
    "plt.xlabel('Niveau d\\'activité')\n",
    "plt.ylabel('Fréquence')\n",
    "plt.title('Distribution des niveaux d\\'activité')\n",
    "plt.legend()\n",
    "plt.xlim(-1000, 1600)  # Pour mieux visualiser les éventuels outliers\n",
    "plt.show()\n",
    "\n",
    "\n",
    "print(\"\\n[ Rapport d'anomalies ]\")\n",
    "print(f\"- Valeurs hors plage théorique : {num_outliers} ({num_outliers/len(df)*100:.2f}% du dataset)\")\n",
    "\n",
    "if num_outliers > 0:\n",
    "    print(\"- Exemples de lignes problématiques :\")\n",
    "    print(outliers[['DATETIME', 'ACTIVITY_LEVEL']].head())\n",
    "else:\n",
    "    print(\"- Aucune valeur hors plage détectée.\")"
   ]
  },
  {
   "cell_type": "code",
   "execution_count": null,
   "id": "9f231d66",
   "metadata": {},
   "outputs": [],
   "source": [
    "# Plot histograms for the selected columns to understand their distributions\n",
    "df[cols].hist(bins=20, figsize=(12, 10))\n",
    "plt.suptitle(\"Data Distribution\")\n",
    "plt.show()\n"
   ]
  },
  {
   "cell_type": "markdown",
   "id": "5445fd46",
   "metadata": {},
   "source": [
    "**Visualization of Health States Proportions**"
   ]
  },
  {
   "cell_type": "code",
   "execution_count": null,
   "id": "cc5d9a79",
   "metadata": {},
   "outputs": [],
   "source": [
    "import pandas as pd\n",
    "import matplotlib.pyplot as plt\n",
    "\n",
    "df = pd.read_csv(\"dataset3-1 (1).csv\")\n",
    "\n",
    "health_states = ['oestrus', 'calving', 'lameness', 'mastitis', 'LPS',\n",
    "                 'acidosis', 'other_disease', 'OK']\n",
    "\n",
    "df_health = df[health_states]\n",
    "\n",
    "health_counts = df_health.sum().sort_values(ascending=False)\n",
    "total = len(df)\n",
    "health_percent = (health_counts / total) * 100\n",
    "\n",
    "plt.figure(figsize=(12, 6))\n",
    "bars = plt.bar(health_percent.index, health_percent.values, color='lightcoral')\n",
    "\n",
    "# Formatting: 2 decimal places\n",
    "for bar in bars:\n",
    "    height = bar.get_height()\n",
    "    plt.text(bar.get_x() + bar.get_width()/2., height,\n",
    "             f'{height:.2f}%',  # .2f = 2 decimal places\n",
    "             ha='center', va='bottom')\n",
    "\n",
    "plt.title('Proportion of Health States (in %)', fontweight='bold')\n",
    "plt.xlabel('Health States', fontweight='bold')\n",
    "plt.ylabel('Percentage', fontweight='bold')\n",
    "plt.xticks(rotation=45)\n",
    "plt.grid(axis='y', linestyle='--', alpha=0.7)\n",
    "plt.tight_layout()\n",
    "plt.show()\n"
   ]
  },
  {
   "cell_type": "markdown",
   "id": "90e62eb0",
   "metadata": {},
   "source": [
    "**Missing hours**"
   ]
  },
  {
   "cell_type": "code",
   "execution_count": null,
   "id": "ef95eb61",
   "metadata": {},
   "outputs": [],
   "source": [
    "import pandas as pd\n",
    "import matplotlib.pyplot as plt\n",
    "\n",
    "# Load the dataset\n",
    "df = pd.read_csv(\"dataset3-1 (1).csv\")\n",
    "\n",
    "# Ensure the datetime column is in datetime format\n",
    "df['date'] = pd.to_datetime(df['date'])\n",
    "\n",
    "# Count the number of observations (rows) per cow per day\n",
    "obs_counts = df.groupby(['cow', 'date']).size().reset_index(name='hour_count')\n",
    "\n",
    "# Identify rows with missing hours (less than 24)\n",
    "missing_obs = obs_counts[obs_counts['hour_count'] < 24]\n",
    "\n",
    "# Create a plot showing missing hour count per cow\n",
    "plt.figure(figsize=(12, 6))\n",
    "missing_obs.groupby('cow')['hour_count'].apply(lambda x: (24 - x).sum()).sort_values(ascending=False).plot(kind='bar')\n",
    "plt.title(\"Total Missing Hours per Cow (only cows with missing 24h records)\")\n",
    "plt.xlabel(\"Cow ID\")\n",
    "plt.ylabel(\"Total Missing Hours\")\n",
    "plt.tight_layout()\n",
    "plt.show()\n"
   ]
  },
  {
   "cell_type": "markdown",
   "id": "aff976e0",
   "metadata": {},
   "source": [
    "**Check Date Range and Missing Dates**"
   ]
  },
  {
   "cell_type": "code",
   "execution_count": null,
   "id": "6e264337",
   "metadata": {},
   "outputs": [],
   "source": [
    "# Convert 'date' to datetime\n",
    "df['date'] = pd.to_datetime(df['date'])\n",
    "\n",
    "# Get min/max dates\n",
    "min_date = df['date'].min()\n",
    "max_date = df['date'].max()\n",
    "print(f\"Date range: {min_date} to {max_date}\")\n",
    "\n",
    "# Generate all expected dates in the range\n",
    "all_dates = pd.date_range(start=min_date, end=max_date, freq='D')\n",
    "print(f\"Total expected days: {len(all_dates)}\")\n",
    "\n",
    "# Check missing dates\n",
    "missing_dates = all_dates.difference(df['date'].unique())\n",
    "print(f\"\\nMissing dates {len(missing_dates)}:\", ', '.join(missing_dates.strftime('%Y-%m-%d')))\n"
   ]
  },
  {
   "cell_type": "markdown",
   "id": "8d887e21",
   "metadata": {},
   "source": [
    "**Analysis of Cows with Multiple Diseases**"
   ]
  },
  {
   "cell_type": "code",
   "execution_count": null,
   "id": "142ef422",
   "metadata": {},
   "outputs": [],
   "source": [
    "maladie_cols = ['oestrus', 'calving', 'lameness', 'mastitis', 'other_disease']\n",
    "\n",
    "df_non_ok = df[df['OK'] == 0].copy()\n",
    "\n",
    "df_non_ok['nb_maladies'] = df_non_ok[maladie_cols].sum(axis=1)\n",
    "\n",
    "# Keep only rows with more than one disease\n",
    "multi_maladie = df_non_ok[df_non_ok['nb_maladies'] > 1].copy()\n",
    "\n",
    "# Extract the names of the diseases present\n",
    "def get_maladies_presentes(row):\n",
    "    return [col for col in maladie_cols if row[col] == 1]\n",
    "\n",
    "multi_maladie['maladies_presentes'] = multi_maladie.apply(get_maladies_presentes, axis=1)\n",
    "\n",
    "# Display results\n",
    "print(f\"Number of cases with multiple diseases: {len(multi_maladie)}\")\n",
    "print(multi_maladie[['cow', 'date', 'hour', 'maladies_presentes']])\n"
   ]
  },
  {
   "cell_type": "markdown",
   "id": "cfea3c65",
   "metadata": {},
   "source": [
    "**Investigate the correlation between the \"OK\" label and other health states**\n",
    "\n"
   ]
  },
  {
   "cell_type": "code",
   "execution_count": null,
   "id": "8f0a7e7f",
   "metadata": {},
   "outputs": [],
   "source": [
    "health_labels = [\n",
    "    'oestrus', 'calving', 'lameness', 'mastitis', 'other_disease', 'accidents',\n",
    "]\n",
    "\n",
    "violations = df[(df['OK'] == 1) & (df[health_labels].sum(axis=1) > 0)]\n",
    "\n",
    "if violations.empty:\n",
    "    print(\"✅ Aucun cas trouvé où OK == 1 et un état de santé est aussi à 1. Tout est cohérent.\")\n",
    "else:\n",
    "    print(\"⚠️ Des cas incohérents ont été trouvés ! Voici les lignes concernées :\")\n",
    "    print(violations)\n"
   ]
  },
  {
   "cell_type": "markdown",
   "id": "da4dab5f",
   "metadata": {},
   "source": [
    "**Correlation Analysis**"
   ]
  },
  {
   "cell_type": "code",
   "execution_count": null,
   "id": "ea91384f",
   "metadata": {},
   "outputs": [],
   "source": [
    "df = df.drop(columns=[\"cow\", \"date\", \"LPS\", \"acidosis\", \"ACTIVITY_LEVEL\"])\n",
    "\n",
    "# Define columns\n",
    "behavioral_features = ['IN_ALLEYS', 'REST', 'EAT']\n",
    "health_features = ['oestrus', 'calving', 'lameness', 'mastitis', 'other_disease',\n",
    "                   'accidents', 'disturbance', 'mixing', 'management_changes', 'OK']\n",
    "\n",
    "# --- 1. Spearman Correlation between Behavioral Features ---\n",
    "behavior_corr = df[behavioral_features].corr(method='spearman')\n",
    "\n",
    "plt.figure(figsize=(6, 4))\n",
    "sns.heatmap(behavior_corr, annot=True, cmap=\"coolwarm\", fmt=\".2f\")\n",
    "plt.title(\"Spearman Correlation - Behavioral Features\")\n",
    "plt.show()\n",
    "\n",
    "# --- 2. Pearson Correlation (Phi) between Health Features ---\n",
    "health_corr = df[health_features].corr(method='pearson')\n",
    "\n",
    "plt.figure(figsize=(10, 8))\n",
    "sns.heatmap(health_corr, annot=True, cmap=\"coolwarm\", fmt=\".2f\")\n",
    "plt.title(\"Phi Correlation (Pearson) - Health Features\")\n",
    "plt.show()\n",
    "\n",
    "# --- 3. Point-Biserial Correlation: Behavioral vs Health States ---\n",
    "point_biserial_matrix = pd.DataFrame(index=health_features, columns=behavioral_features)\n",
    "\n",
    "for h in health_features:\n",
    "    for b in behavioral_features:\n",
    "        valid_data = df[[b, h]].dropna()\n",
    "        if valid_data[h].nunique() > 1:  # Ensure variable is not constant\n",
    "            corr, _ = pointbiserialr(valid_data[h], valid_data[b])\n",
    "            point_biserial_matrix.loc[h, b] = corr\n",
    "        else:\n",
    "            point_biserial_matrix.loc[h, b] = np.nan\n",
    "\n",
    "point_biserial_matrix = point_biserial_matrix.astype(float)\n",
    "\n",
    "plt.figure(figsize=(8, 6))\n",
    "sns.heatmap(point_biserial_matrix, annot=True, cmap=\"coolwarm\", fmt=\".2f\")\n",
    "plt.title(\"Point-Biserial Correlation - Behavioral vs Health Features\")\n",
    "plt.xlabel(\"Behavioral Features\")\n",
    "plt.ylabel(\"Health Features\")\n",
    "plt.show()"
   ]
  },
  {
   "cell_type": "code",
   "execution_count": null,
   "id": "504bc26f",
   "metadata": {},
   "outputs": [],
   "source": [
    "\n",
    "\n",
    "# Collect correlations\n",
    "correlation_data = []\n",
    "\n",
    "for h in health_features:\n",
    "    for b in behavioral_features:\n",
    "        valid_data = df[[b, h]].dropna()\n",
    "        if valid_data[h].nunique() > 1:\n",
    "            corr, pval = pointbiserialr(valid_data[h], valid_data[b])\n",
    "            correlation_data.append({\n",
    "                'Health State': h,\n",
    "                'Behavioral Feature': b,\n",
    "                'Correlation': corr,\n",
    "                'p-value': pval\n",
    "            })\n",
    "\n",
    "# Convert to DataFrame\n",
    "corr_df = pd.DataFrame(correlation_data)\n",
    "\n",
    "# Plot\n",
    "plt.figure(figsize=(8, 5))\n",
    "for health_state in corr_df[\"Health State\"].unique():\n",
    "    subset = corr_df[corr_df[\"Health State\"] == health_state]\n",
    "    plt.bar(subset[\"Behavioral Feature\"] + f\" ({health_state})\", subset[\"Correlation\"], label=health_state)\n",
    "\n",
    "plt.axhline(0, color='gray', linestyle='--')\n",
    "plt.title(\"Point-Biserial Correlation: Behavioral vs Health States\")\n",
    "plt.ylabel(\"Correlation Coefficient\")\n",
    "plt.xticks(rotation=45)\n",
    "plt.tight_layout()\n",
    "plt.legend()\n",
    "plt.show()\n"
   ]
  },
  {
   "cell_type": "code",
   "execution_count": null,
   "id": "a52b8b6e",
   "metadata": {},
   "outputs": [],
   "source": [
    "import pandas as pd\n",
    "import matplotlib.pyplot as plt\n",
    "\n",
    "phi_corr = df[[\"oestrus\", \"OK\"]].corr(method=\"pearson\").iloc[0, 1]\n",
    "\n",
    "# Prepare plot\n",
    "plt.figure(figsize=(6, 3))\n",
    "x = [\"oestrus vs OK\"]\n",
    "y = [phi_corr]\n",
    "\n",
    "# Lollipop style plot\n",
    "plt.plot(x, y, marker='o', linestyle='-', color='steelblue')\n",
    "plt.axhline(0, color='gray', linestyle='--')\n",
    "plt.ylim(-1, 1)\n",
    "plt.title(\"Phi Correlation Between Binary Health Features\")\n",
    "plt.ylabel(\"Correlation Coefficient\")\n",
    "plt.grid(axis='y', linestyle=':')\n",
    "plt.tight_layout()\n",
    "plt.show()\n"
   ]
  }
 ],
 "metadata": {
  "kernelspec": {
   "display_name": "base",
   "language": "python",
   "name": "python3"
  },
  "language_info": {
   "codemirror_mode": {
    "name": "ipython",
    "version": 3
   },
   "file_extension": ".py",
   "mimetype": "text/x-python",
   "name": "python",
   "nbconvert_exporter": "python",
   "pygments_lexer": "ipython3",
   "version": "3.11.5"
  }
 },
 "nbformat": 4,
 "nbformat_minor": 5
}
